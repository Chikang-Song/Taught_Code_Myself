{
 "cells": [
  {
   "cell_type": "markdown",
   "id": "b4a1d3e3",
   "metadata": {},
   "source": [
    "# Reading Files Python\n",
    "\n",
    "\n",
    "## Objectives\n",
    "\n",
    "After completing this lab you will be able to:\n",
    "\n",
    "*   Read text files using Python libraries"
   ]
  },
  {
   "cell_type": "markdown",
   "id": "de460ea2",
   "metadata": {},
   "source": [
    "<h2>Table of Contents</h2>\n",
    "<div class=\"alert alert-block alert-info\" style=\"margin-top: 20px\">\n",
    "    <ul>\n",
    "        <li><a href=\"#1\">Download Data</a></li>\n",
    "        <li><a href=\"#2\">Reading Text Files</a></li>\n",
    "        <li><a href=\"#3\">A Better Way to Open a File</a></li>\n",
    "    </ul>\n",
    "\n",
    "</div>\n",
    "\n",
    "<hr>"
   ]
  },
  {
   "cell_type": "markdown",
   "id": "b78da44d",
   "metadata": {},
   "source": [
    "<a id=1></a>\n",
    "## Download Data"
   ]
  },
  {
   "cell_type": "code",
   "execution_count": 10,
   "id": "a3761e68",
   "metadata": {},
   "outputs": [
    {
     "name": "stdout",
     "output_type": "stream",
     "text": [
      "File downloaded successfully: C:\\Users\\USER\\Downloads\\example1.txt\n"
     ]
    }
   ],
   "source": [
    "import os\n",
    "import requests\n",
    "\n",
    "url = \"https://cf-courses-data.s3.us.cloud-object-storage.appdomain.cloud/IBMDeveloperSkillsNetwork-PY0101EN-SkillsNetwork/labs/Module%204/data/example1.txt\"\n",
    "filename = os.path.join(os.path.expanduser('~'),'Downloads','example1.txt') \n",
    "\n",
    "response = requests.get(url)\n",
    "if response.status_code == 200:\n",
    "    with open(filename, 'wb') as file:\n",
    "        file.write(response.content)\n",
    "    print(f\"File downloaded successfully: {filename}\")\n",
    "else:\n",
    "    print(f\"Failed to download. HTTP Status Code: {response.status_code}\")\n",
    "          \n",
    "        "
   ]
  },
  {
   "cell_type": "markdown",
   "id": "65ba2371",
   "metadata": {},
   "source": [
    "<div class='alert alert-box alert-warning'>\n",
    "    <code>write()</code> 메서드에 <b>문자열(str)</b>이 아닌 <b>바이트(bytes)</b> 데이터를 전달하기 때문에 <code>open(filename, 'w')</code>로 하게 되면 <code>TypeError: write() argument must be str, not bytes</code> 에러가 발생합니다. 따라서 여기서는 <code>wb</code>로 데이터를 처리합니다.\n",
    "    <ul>\n",
    "        <li>`w`모드: 일반 텍스트 파일에 문자열 데이터를 쓰는데 사용. 바이트 데이터는 처리 못함.</li>\n",
    "        <li>`wb`모드: 바이너리 데이터를 처리하기 위한 모드로, 텍스트가 아닌 바이트 데이터를 저장할 수 있음.</li>\n",
    "    </ul>\n",
    "    \n",
    "</div>"
   ]
  },
  {
   "cell_type": "markdown",
   "id": "a0a2fdb5",
   "metadata": {},
   "source": [
    "<a id=2></a>\n",
    "## Reading Text Files"
   ]
  },
  {
   "cell_type": "code",
   "execution_count": 24,
   "id": "d9089e17",
   "metadata": {},
   "outputs": [],
   "source": [
    "file1 = open(filename, 'r')"
   ]
  },
  {
   "cell_type": "code",
   "execution_count": 25,
   "id": "573b1ea1",
   "metadata": {},
   "outputs": [
    {
     "data": {
      "text/plain": [
       "'C:\\\\Users\\\\USER\\\\Downloads\\\\example1.txt'"
      ]
     },
     "execution_count": 25,
     "metadata": {},
     "output_type": "execute_result"
    }
   ],
   "source": [
    "file1.name"
   ]
  },
  {
   "cell_type": "code",
   "execution_count": 26,
   "id": "108b9315",
   "metadata": {},
   "outputs": [
    {
     "data": {
      "text/plain": [
       "'r'"
      ]
     },
     "execution_count": 26,
     "metadata": {},
     "output_type": "execute_result"
    }
   ],
   "source": [
    "file1.mode"
   ]
  },
  {
   "cell_type": "code",
   "execution_count": 27,
   "id": "cf128871",
   "metadata": {},
   "outputs": [
    {
     "data": {
      "text/plain": [
       "'This is line 1 \\nThis is line 2\\nThis is line 3'"
      ]
     },
     "execution_count": 27,
     "metadata": {},
     "output_type": "execute_result"
    }
   ],
   "source": [
    "FileContent = file1.read()\n",
    "FileContent"
   ]
  },
  {
   "cell_type": "code",
   "execution_count": 28,
   "id": "2dbf7420",
   "metadata": {},
   "outputs": [
    {
     "name": "stdout",
     "output_type": "stream",
     "text": [
      "This is line 1 \n",
      "This is line 2\n",
      "This is line 3\n"
     ]
    }
   ],
   "source": [
    "print(FileContent)"
   ]
  },
  {
   "cell_type": "code",
   "execution_count": 29,
   "id": "aafb58a5",
   "metadata": {},
   "outputs": [],
   "source": [
    "file1.close()"
   ]
  },
  {
   "cell_type": "markdown",
   "id": "022f0eb0",
   "metadata": {},
   "source": [
    "<a id=3></a>\n",
    "## A Better Way to Open a File"
   ]
  },
  {
   "cell_type": "markdown",
   "id": "b883827e",
   "metadata": {},
   "source": [
    "<h3>어떻게 읽어와야 좋을까?!</h3>\n",
    "<div class='alert alert-box alert-success'>\n",
    "    <ul>\n",
    "        <li><b>파일 크기가 작음</b>:<code>f.read()</code> 또는 <code>f.readlines()</code>를 사용해도 무방.</li>\n",
    "        <li><b>파일 크기가 큼</b>:파일을 한줄씩 읽는 <code>for line in f</code>방식을 사용하는 것이 안전하고 효율적</li>\n",
    "    </ul>\n",
    "\n",
    "</div>"
   ]
  },
  {
   "cell_type": "code",
   "execution_count": 19,
   "id": "11eaec9a",
   "metadata": {},
   "outputs": [
    {
     "name": "stdout",
     "output_type": "stream",
     "text": [
      "This is line 1 \n",
      "This is line 2\n",
      "This is line 3"
     ]
    }
   ],
   "source": [
    "# 파일을 한줄 씩 읽으며 처리해 메모리 사용량을 최소화할 수 있음.\n",
    "with open(filename, 'r') as f:\n",
    "    for line in f:\n",
    "        print(line, end='')"
   ]
  },
  {
   "cell_type": "code",
   "execution_count": 32,
   "id": "adc86e2f",
   "metadata": {},
   "outputs": [
    {
     "name": "stdout",
     "output_type": "stream",
     "text": [
      "This is line 1 \n",
      "This is line 2\n",
      "This is line 3\n"
     ]
    }
   ],
   "source": [
    "# 파일이 작다면, read() 메서드를 사용해 전체 팡리을 한번에 읽고 출력. 파일이 클경우 메모리사용량 증가\n",
    "with open(filename, 'r') as f:\n",
    "    contents = f.read()\n",
    "    print(contents)"
   ]
  },
  {
   "cell_type": "code",
   "execution_count": 30,
   "id": "c5318a70",
   "metadata": {},
   "outputs": [
    {
     "name": "stdout",
     "output_type": "stream",
     "text": [
      "This is line 1 \n",
      "This is line 2\n",
      "This is line 3\n"
     ]
    }
   ],
   "source": [
    "# 또다른 방법\n",
    "with open(filename, 'r') as f:\n",
    "    print(f.read())"
   ]
  },
  {
   "cell_type": "markdown",
   "id": "9ddb34b8",
   "metadata": {},
   "source": [
    "<hr>"
   ]
  },
  {
   "cell_type": "code",
   "execution_count": 33,
   "id": "25f84b6a",
   "metadata": {},
   "outputs": [
    {
     "name": "stdout",
     "output_type": "stream",
     "text": [
      "This\n"
     ]
    }
   ],
   "source": [
    "with open(filename, 'r') as file1:\n",
    "    print(file1.read(4))"
   ]
  },
  {
   "cell_type": "code",
   "execution_count": 34,
   "id": "2e86bb94",
   "metadata": {},
   "outputs": [
    {
     "name": "stdout",
     "output_type": "stream",
     "text": [
      "This\n",
      " is \n",
      "line 1 \n",
      "\n",
      "This is line 2\n"
     ]
    }
   ],
   "source": [
    "with open(filename, 'r') as file1:\n",
    "    print(file1.read(4))\n",
    "    print(file1.read(4))\n",
    "    print(file1.read(7))\n",
    "    print(file1.read(15))"
   ]
  },
  {
   "cell_type": "markdown",
   "id": "c1a613ec",
   "metadata": {},
   "source": [
    "<img src=\"https://cf-courses-data.s3.us.cloud-object-storage.appdomain.cloud/IBMDeveloperSkillsNetwork-PY0101EN-SkillsNetwork/labs/Module%204/images/read.png\" width=\"500\">"
   ]
  },
  {
   "cell_type": "code",
   "execution_count": 36,
   "id": "b4c095c1",
   "metadata": {},
   "outputs": [
    {
     "name": "stdout",
     "output_type": "stream",
     "text": [
      "This is line 1 \n",
      "\n",
      "This \n",
      "is line 2\n"
     ]
    }
   ],
   "source": [
    "# Read certain amount of characters\n",
    "\n",
    "with open(filename, \"r\") as file1:\n",
    "    print(file1.read(16))\n",
    "    print(file1.read(5))\n",
    "    print(file1.read(9))"
   ]
  },
  {
   "cell_type": "code",
   "execution_count": 37,
   "id": "eef58b93",
   "metadata": {},
   "outputs": [
    {
     "name": "stdout",
     "output_type": "stream",
     "text": [
      "first line: This is line 1 \n",
      "\n"
     ]
    }
   ],
   "source": [
    "# Read one line\n",
    "\n",
    "with open(filename, \"r\") as file1:\n",
    "    print(\"first line: \" + file1.readline())"
   ]
  },
  {
   "cell_type": "code",
   "execution_count": 39,
   "id": "9a92edf8",
   "metadata": {},
   "outputs": [
    {
     "name": "stdout",
     "output_type": "stream",
     "text": [
      "This is line 1 \n",
      "\n",
      "This is line 2\n",
      "This \n"
     ]
    }
   ],
   "source": [
    "with open(filename, \"r\") as file1:\n",
    "    print(file1.readline(20)) # does not read past the end of line\n",
    "    print(file1.read(20)) # Returns the next 20 chars"
   ]
  },
  {
   "cell_type": "code",
   "execution_count": 41,
   "id": "ee8f8fa0",
   "metadata": {},
   "outputs": [],
   "source": [
    "# Read all lines and save as a list\n",
    "\n",
    "with open(filename, \"r\") as file1:\n",
    "    FileasList = file1.readlines()"
   ]
  },
  {
   "cell_type": "code",
   "execution_count": 42,
   "id": "53008c51",
   "metadata": {},
   "outputs": [
    {
     "data": {
      "text/plain": [
       "'This is line 1 \\n'"
      ]
     },
     "execution_count": 42,
     "metadata": {},
     "output_type": "execute_result"
    }
   ],
   "source": [
    "# Print the first line\n",
    "\n",
    "FileasList[0]"
   ]
  },
  {
   "cell_type": "code",
   "execution_count": 43,
   "id": "a50be025",
   "metadata": {},
   "outputs": [
    {
     "data": {
      "text/plain": [
       "'This is line 2\\n'"
      ]
     },
     "execution_count": 43,
     "metadata": {},
     "output_type": "execute_result"
    }
   ],
   "source": [
    "# Print the second line\n",
    "\n",
    "FileasList[1]"
   ]
  },
  {
   "cell_type": "code",
   "execution_count": 44,
   "id": "58eb28dc",
   "metadata": {},
   "outputs": [
    {
     "data": {
      "text/plain": [
       "'This is line 3'"
      ]
     },
     "execution_count": 44,
     "metadata": {},
     "output_type": "execute_result"
    }
   ],
   "source": [
    "# Print the third line\n",
    "\n",
    "FileasList[2]"
   ]
  }
 ],
 "metadata": {
  "kernelspec": {
   "display_name": "Python 3 (ipykernel)",
   "language": "python",
   "name": "python3"
  },
  "language_info": {
   "codemirror_mode": {
    "name": "ipython",
    "version": 3
   },
   "file_extension": ".py",
   "mimetype": "text/x-python",
   "name": "python",
   "nbconvert_exporter": "python",
   "pygments_lexer": "ipython3",
   "version": "3.9.12"
  }
 },
 "nbformat": 4,
 "nbformat_minor": 5
}
