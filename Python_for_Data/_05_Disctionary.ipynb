{
 "cells": [
  {
   "cell_type": "markdown",
   "id": "2c8a3bd5",
   "metadata": {},
   "source": [
    "# Dictionaries in Python\n",
    "\n",
    "## Objectives\n",
    "\n",
    "After completing this lab you will be able to:\n",
    "\n",
    "*  Create a Dictionary and perform operations on the Dictionar"
   ]
  },
  {
   "cell_type": "markdown",
   "id": "de80edf8",
   "metadata": {},
   "source": [
    "<h2>Table of Contents</h2>\n",
    "<div class=\"alert alert-block alert-info\" style=\"margin-top: 20px\">\n",
    "    <ul>\n",
    "        <li>\n",
    "            <a href=\"#dic\">Dictionaries</a>\n",
    "            <ul>\n",
    "                <li><a href=\"#content\">What are Dictionaries?</a></li>\n",
    "                <li><a href=\"#keys\">Keys</a></li>\n",
    "            </ul>\n",
    "        </li>\n",
    "        <li>\n",
    "            <a href=\"#quiz\">Quiz on Dictionaries</a>\n",
    "        </li>\n",
    "        <li> \n",
    "            <a href=\"#Scenario\">Scenario</a>\n",
    "        </li>\n",
    "    </ul>\n",
    "\n",
    "</div>\n",
    "\n",
    "<hr>\n"
   ]
  },
  {
   "cell_type": "markdown",
   "id": "03b45694",
   "metadata": {},
   "source": [
    "### Create a Dictionary and access the elements\n"
   ]
  },
  {
   "cell_type": "code",
   "execution_count": 1,
   "id": "208f3228",
   "metadata": {},
   "outputs": [
    {
     "data": {
      "text/plain": [
       "{'key1': 1,\n",
       " 'key2': '2',\n",
       " 'key3': [3, 3, 3],\n",
       " 'key4': (4, 4, 4),\n",
       " 'key5': 5,\n",
       " (0, 1): 6}"
      ]
     },
     "execution_count": 1,
     "metadata": {},
     "output_type": "execute_result"
    }
   ],
   "source": [
    "# Create the dictionary\n",
    "\n",
    "Dict = {\"key1\": 1, \"key2\": \"2\", \"key3\": [3, 3, 3], \"key4\": (4, 4, 4), ('key5'): 5, (0, 1): 6}\n",
    "Dict"
   ]
  },
  {
   "cell_type": "code",
   "execution_count": 2,
   "id": "32d345c4",
   "metadata": {},
   "outputs": [
    {
     "data": {
      "text/plain": [
       "1"
      ]
     },
     "execution_count": 2,
     "metadata": {},
     "output_type": "execute_result"
    }
   ],
   "source": [
    "# Access to the value by the key\n",
    "\n",
    "Dict[\"key1\"]"
   ]
  },
  {
   "cell_type": "code",
   "execution_count": 3,
   "id": "4e0828bd",
   "metadata": {},
   "outputs": [
    {
     "data": {
      "text/plain": [
       "6"
      ]
     },
     "execution_count": 3,
     "metadata": {},
     "output_type": "execute_result"
    }
   ],
   "source": [
    "# Access to the value by the key\n",
    "\n",
    "Dict[(0, 1)]"
   ]
  },
  {
   "cell_type": "code",
   "execution_count": 4,
   "id": "854e6b99",
   "metadata": {},
   "outputs": [
    {
     "data": {
      "text/plain": [
       "{'Thriller': '1982',\n",
       " 'Back in Black': '1980',\n",
       " 'The Dark Side of the Moon': '1973',\n",
       " 'The Bodyguard': '1992',\n",
       " 'Bat Out of Hell': '1977',\n",
       " 'Their Greatest Hits (1971-1975)': '1976',\n",
       " 'Saturday Night Fever': '1977',\n",
       " 'Rumours': '1977'}"
      ]
     },
     "execution_count": 4,
     "metadata": {},
     "output_type": "execute_result"
    }
   ],
   "source": [
    "# Create a sample dictionary\n",
    "\n",
    "release_year_dict = {\"Thriller\": \"1982\", \"Back in Black\": \"1980\", \\\n",
    "                    \"The Dark Side of the Moon\": \"1973\", \"The Bodyguard\": \"1992\", \\\n",
    "                    \"Bat Out of Hell\": \"1977\", \"Their Greatest Hits (1971-1975)\": \"1976\", \\\n",
    "                    \"Saturday Night Fever\": \"1977\", \"Rumours\": \"1977\"}\n",
    "release_year_dict"
   ]
  },
  {
   "cell_type": "code",
   "execution_count": 5,
   "id": "52d3a9a2",
   "metadata": {},
   "outputs": [
    {
     "data": {
      "text/plain": [
       "'1982'"
      ]
     },
     "execution_count": 5,
     "metadata": {},
     "output_type": "execute_result"
    }
   ],
   "source": [
    "# Get value by keys\n",
    "\n",
    "release_year_dict['Thriller'] "
   ]
  },
  {
   "cell_type": "code",
   "execution_count": 6,
   "id": "0ae28fcd",
   "metadata": {},
   "outputs": [
    {
     "data": {
      "text/plain": [
       "'1992'"
      ]
     },
     "execution_count": 6,
     "metadata": {},
     "output_type": "execute_result"
    }
   ],
   "source": [
    "# Get value by key\n",
    "\n",
    "release_year_dict['The Bodyguard'] "
   ]
  },
  {
   "cell_type": "code",
   "execution_count": 7,
   "id": "6aa1be45",
   "metadata": {},
   "outputs": [
    {
     "data": {
      "text/plain": [
       "dict_keys(['Thriller', 'Back in Black', 'The Dark Side of the Moon', 'The Bodyguard', 'Bat Out of Hell', 'Their Greatest Hits (1971-1975)', 'Saturday Night Fever', 'Rumours'])"
      ]
     },
     "execution_count": 7,
     "metadata": {},
     "output_type": "execute_result"
    }
   ],
   "source": [
    "# Get all the keys in dictionary\n",
    "\n",
    "release_year_dict.keys() "
   ]
  },
  {
   "cell_type": "code",
   "execution_count": 8,
   "id": "ef71f309",
   "metadata": {},
   "outputs": [
    {
     "data": {
      "text/plain": [
       "dict_values(['1982', '1980', '1973', '1992', '1977', '1976', '1977', '1977'])"
      ]
     },
     "execution_count": 8,
     "metadata": {},
     "output_type": "execute_result"
    }
   ],
   "source": [
    "# Get all the values in dictionary\n",
    "\n",
    "release_year_dict.values() "
   ]
  },
  {
   "cell_type": "code",
   "execution_count": 9,
   "id": "859b5d88",
   "metadata": {},
   "outputs": [
    {
     "data": {
      "text/plain": [
       "{'Thriller': '1982',\n",
       " 'Back in Black': '1980',\n",
       " 'The Dark Side of the Moon': '1973',\n",
       " 'The Bodyguard': '1992',\n",
       " 'Bat Out of Hell': '1977',\n",
       " 'Their Greatest Hits (1971-1975)': '1976',\n",
       " 'Saturday Night Fever': '1977',\n",
       " 'Rumours': '1977',\n",
       " 'Graduation': '2007'}"
      ]
     },
     "execution_count": 9,
     "metadata": {},
     "output_type": "execute_result"
    }
   ],
   "source": [
    "# Append value with key into dictionary\n",
    "\n",
    "release_year_dict['Graduation'] = '2007'\n",
    "release_year_dict"
   ]
  },
  {
   "cell_type": "code",
   "execution_count": 10,
   "id": "e4ab5bae",
   "metadata": {},
   "outputs": [
    {
     "data": {
      "text/plain": [
       "{'Back in Black': '1980',\n",
       " 'The Dark Side of the Moon': '1973',\n",
       " 'The Bodyguard': '1992',\n",
       " 'Bat Out of Hell': '1977',\n",
       " 'Their Greatest Hits (1971-1975)': '1976',\n",
       " 'Saturday Night Fever': '1977',\n",
       " 'Rumours': '1977'}"
      ]
     },
     "execution_count": 10,
     "metadata": {},
     "output_type": "execute_result"
    }
   ],
   "source": [
    "# Delete entries by key\n",
    "\n",
    "del(release_year_dict['Thriller'])\n",
    "del(release_year_dict['Graduation'])\n",
    "release_year_dict"
   ]
  },
  {
   "cell_type": "code",
   "execution_count": 11,
   "id": "433bb1c2",
   "metadata": {},
   "outputs": [
    {
     "data": {
      "text/plain": [
       "True"
      ]
     },
     "execution_count": 11,
     "metadata": {},
     "output_type": "execute_result"
    }
   ],
   "source": [
    "# Verify the key is in the dictionary\n",
    "\n",
    "'The Bodyguard' in release_year_dict"
   ]
  },
  {
   "cell_type": "markdown",
   "id": "b485ee84",
   "metadata": {},
   "source": [
    "<a id=\"quiz\"></a>\n",
    "## Quiz on Dictionaries\n"
   ]
  },
  {
   "cell_type": "code",
   "execution_count": 12,
   "id": "905e4602",
   "metadata": {},
   "outputs": [
    {
     "data": {
      "text/plain": [
       "{'The Bodyguard': '1992', 'Saturday Night Fever': '1977'}"
      ]
     },
     "execution_count": 12,
     "metadata": {},
     "output_type": "execute_result"
    }
   ],
   "source": [
    "# Question sample dictionary\n",
    "\n",
    "soundtrack_dic = {\"The Bodyguard\":\"1992\", \"Saturday Night Fever\":\"1977\"}\n",
    "soundtrack_dic "
   ]
  },
  {
   "cell_type": "markdown",
   "id": "e3cc6b0d",
   "metadata": {},
   "source": [
    "a) In the dictionary soundtrack_dic what are the keys ?"
   ]
  },
  {
   "cell_type": "code",
   "execution_count": 13,
   "id": "6864599b",
   "metadata": {},
   "outputs": [
    {
     "data": {
      "text/plain": [
       "dict_keys(['The Bodyguard', 'Saturday Night Fever'])"
      ]
     },
     "execution_count": 13,
     "metadata": {},
     "output_type": "execute_result"
    }
   ],
   "source": [
    "soundtrack_dic.keys()"
   ]
  },
  {
   "cell_type": "markdown",
   "id": "2613ed82",
   "metadata": {},
   "source": [
    "b) In the dictionary <code>soundtrack_dic</code> what are the values ?\n"
   ]
  },
  {
   "cell_type": "code",
   "execution_count": 14,
   "id": "9c61bacf",
   "metadata": {},
   "outputs": [
    {
     "data": {
      "text/plain": [
       "dict_values(['1992', '1977'])"
      ]
     },
     "execution_count": 14,
     "metadata": {},
     "output_type": "execute_result"
    }
   ],
   "source": [
    "soundtrack_dic.values()"
   ]
  },
  {
   "cell_type": "code",
   "execution_count": 15,
   "id": "779507e6",
   "metadata": {},
   "outputs": [],
   "source": [
    "album_sales_dict = {\"The Bodyguard\":50, \"Back in Black\":50, \"Thriller\":65}"
   ]
  },
  {
   "cell_type": "markdown",
   "id": "36bee823",
   "metadata": {},
   "source": [
    "Use the dictionary to find the total sales of Thriller:"
   ]
  },
  {
   "cell_type": "code",
   "execution_count": 16,
   "id": "1d3e5167",
   "metadata": {},
   "outputs": [
    {
     "data": {
      "text/plain": [
       "65"
      ]
     },
     "execution_count": 16,
     "metadata": {},
     "output_type": "execute_result"
    }
   ],
   "source": [
    "album_sales_dict['Thriller']"
   ]
  },
  {
   "cell_type": "markdown",
   "id": "1349c92c",
   "metadata": {},
   "source": [
    "Find the names of the albums from the dictionary using the method keys():"
   ]
  },
  {
   "cell_type": "code",
   "execution_count": 17,
   "id": "10fe2b56",
   "metadata": {},
   "outputs": [
    {
     "data": {
      "text/plain": [
       "dict_keys(['The Bodyguard', 'Back in Black', 'Thriller'])"
      ]
     },
     "execution_count": 17,
     "metadata": {},
     "output_type": "execute_result"
    }
   ],
   "source": [
    "album_sales_dict.keys()"
   ]
  },
  {
   "cell_type": "code",
   "execution_count": 18,
   "id": "50996dc2",
   "metadata": {},
   "outputs": [
    {
     "data": {
      "text/plain": [
       "dict_values([50, 50, 65])"
      ]
     },
     "execution_count": 18,
     "metadata": {},
     "output_type": "execute_result"
    }
   ],
   "source": [
    "album_sales_dict.values()"
   ]
  },
  {
   "cell_type": "markdown",
   "id": "e4b6b140",
   "metadata": {},
   "source": [
    "## Task-1 Create an empty dictionary "
   ]
  },
  {
   "cell_type": "code",
   "execution_count": 19,
   "id": "be907b1c",
   "metadata": {},
   "outputs": [],
   "source": [
    "inventory ={}"
   ]
  },
  {
   "cell_type": "markdown",
   "id": "a2b56255",
   "metadata": {},
   "source": [
    "## Task-2 Store the first product details in variable\n",
    "* Product Name= Mobile phone\n",
    "* Product Quantity= 5\n",
    "* Product price= 20000\n",
    "* Product Release Year= 2020"
   ]
  },
  {
   "cell_type": "code",
   "execution_count": 22,
   "id": "1d1dbb28",
   "metadata": {},
   "outputs": [],
   "source": [
    "ProductNo1 = \"Mobile Phone\"\n",
    "ProductNo1_quantity = 5\n",
    "ProductNo1_price = 20000\n",
    "ProductNo1_releaseYear= 2020"
   ]
  },
  {
   "cell_type": "markdown",
   "id": "ba4eb8cc",
   "metadata": {},
   "source": [
    "## Task-3 Add the details in inventory\n"
   ]
  },
  {
   "cell_type": "code",
   "execution_count": 23,
   "id": "5876c3fb",
   "metadata": {},
   "outputs": [],
   "source": [
    "inventory['ProductNo1'] = ProductNo1\n",
    "inventory['ProductNo1_quantity'] = ProductNo1_quantity\n",
    "inventory['ProductNo1_price'] = ProductNo1_price\n",
    "inventory['ProductNo1_releaseYear'] = ProductNo1_releaseYear"
   ]
  },
  {
   "cell_type": "markdown",
   "id": "a66174d0",
   "metadata": {},
   "source": [
    "## Task-4 Store the second product details in a variable.\n",
    "* Product Name= \"Laptop\"\n",
    "* Product Quantity= 10\n",
    "* Product price = 50000\n",
    "* Product Release Year= 2023"
   ]
  },
  {
   "cell_type": "code",
   "execution_count": 25,
   "id": "c6e30dd8",
   "metadata": {},
   "outputs": [],
   "source": [
    "ProductNo2 = \"Laptop\"\n",
    "ProductNo2_quantity = 10\n",
    "ProductNo2_price = 50000\n",
    "ProductNo2_releaseYear= 2023"
   ]
  },
  {
   "cell_type": "markdown",
   "id": "525c783d",
   "metadata": {},
   "source": [
    "## Task-5 Add the item detail into the inventory."
   ]
  },
  {
   "cell_type": "code",
   "execution_count": 26,
   "id": "edb16fbe",
   "metadata": {},
   "outputs": [],
   "source": [
    "inventory['ProductNo2'] = ProductNo2\n",
    "inventory['ProductNo2_quantity'] = ProductNo2_quantity\n",
    "inventory['ProductNo2_price'] = ProductNo2_price\n",
    "inventory['ProductNo2_releaseYear'] = ProductNo2_releaseYear"
   ]
  },
  {
   "cell_type": "markdown",
   "id": "bf118d1c",
   "metadata": {},
   "source": [
    "## Task-6 Display the Products present in the inventory"
   ]
  },
  {
   "cell_type": "code",
   "execution_count": 27,
   "id": "104ac1f4",
   "metadata": {},
   "outputs": [
    {
     "name": "stdout",
     "output_type": "stream",
     "text": [
      "{'Name': 'Mobile phone', 'Quantity': 5, 'price': 20000, 'Release Year': 2020, 'ProductNo1': 'Mobile Phone', 'ProductNo1_quantity': 5, 'ProductNo1_price': 20000, 'ProductNo1_releaseYear': 2020, 'ProductNo2': 'Laptop', 'ProductNo2_quantity': 10, 'ProductNo2_price': 50000, 'ProductNo2_releaseYear': 2023}\n"
     ]
    }
   ],
   "source": [
    "print(inventory)"
   ]
  },
  {
   "cell_type": "markdown",
   "id": "588e3282",
   "metadata": {},
   "source": [
    "## Task-7 Check if `ProductNo1_releaseYear` and `ProductNo2_releaseYear` is in the inventory"
   ]
  },
  {
   "cell_type": "code",
   "execution_count": 30,
   "id": "5e2242cf",
   "metadata": {},
   "outputs": [
    {
     "name": "stdout",
     "output_type": "stream",
     "text": [
      "True\n",
      "True\n"
     ]
    }
   ],
   "source": [
    "print('ProductNo1_releaseYear' in inventory)\n",
    "print('ProductNo2_releaseYear' in inventory)"
   ]
  },
  {
   "cell_type": "markdown",
   "id": "e60a2a31",
   "metadata": {},
   "source": [
    "## Task-8 Delete release year of both the products from the inventory"
   ]
  },
  {
   "cell_type": "code",
   "execution_count": 31,
   "id": "5b14c752",
   "metadata": {},
   "outputs": [],
   "source": [
    "del(inventory['ProductNo1_releaseYear'])\n",
    "del(inventory['ProductNo2_releaseYear'])"
   ]
  },
  {
   "cell_type": "code",
   "execution_count": 32,
   "id": "8c2fe880",
   "metadata": {},
   "outputs": [
    {
     "data": {
      "text/plain": [
       "{'Name': 'Mobile phone',\n",
       " 'Quantity': 5,\n",
       " 'price': 20000,\n",
       " 'Release Year': 2020,\n",
       " 'ProductNo1': 'Mobile Phone',\n",
       " 'ProductNo1_quantity': 5,\n",
       " 'ProductNo1_price': 20000,\n",
       " 'ProductNo2': 'Laptop',\n",
       " 'ProductNo2_quantity': 10,\n",
       " 'ProductNo2_price': 50000}"
      ]
     },
     "execution_count": 32,
     "metadata": {},
     "output_type": "execute_result"
    }
   ],
   "source": [
    "inventory"
   ]
  },
  {
   "cell_type": "code",
   "execution_count": null,
   "id": "8221139f",
   "metadata": {},
   "outputs": [],
   "source": []
  },
  {
   "cell_type": "code",
   "execution_count": 33,
   "id": "a480758d",
   "metadata": {},
   "outputs": [],
   "source": [
    "Dict={\"A\":1,\"B\":\"2\",\"C\":[3,3,3],\"D\":(4,4,4),'E':5,'F':6}"
   ]
  },
  {
   "cell_type": "code",
   "execution_count": 34,
   "id": "18c717ba",
   "metadata": {},
   "outputs": [
    {
     "data": {
      "text/plain": [
       "(4, 4, 4)"
      ]
     },
     "execution_count": 34,
     "metadata": {},
     "output_type": "execute_result"
    }
   ],
   "source": [
    "Dict[\"D\"]"
   ]
  },
  {
   "cell_type": "code",
   "execution_count": 35,
   "id": "03921bdf",
   "metadata": {},
   "outputs": [
    {
     "data": {
      "text/plain": [
       "['A', 'B', 'C', 'D', 'E', 'F']"
      ]
     },
     "execution_count": 35,
     "metadata": {},
     "output_type": "execute_result"
    }
   ],
   "source": [
    "list(Dict.keys())"
   ]
  },
  {
   "cell_type": "code",
   "execution_count": null,
   "id": "72f9c5f0",
   "metadata": {},
   "outputs": [],
   "source": []
  }
 ],
 "metadata": {
  "kernelspec": {
   "display_name": "Python 3 (ipykernel)",
   "language": "python",
   "name": "python3"
  },
  "language_info": {
   "codemirror_mode": {
    "name": "ipython",
    "version": 3
   },
   "file_extension": ".py",
   "mimetype": "text/x-python",
   "name": "python",
   "nbconvert_exporter": "python",
   "pygments_lexer": "ipython3",
   "version": "3.9.12"
  }
 },
 "nbformat": 4,
 "nbformat_minor": 5
}
