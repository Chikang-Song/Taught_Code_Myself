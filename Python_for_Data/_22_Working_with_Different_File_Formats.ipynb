{
 "cells": [
  {
   "cell_type": "markdown",
   "id": "0e7d89c0",
   "metadata": {},
   "source": [
    "이 강의는 다양한 파일 형식(csv, json, xml)을 정의하고, Python을 사용하여 데이터를 읽고 출력하는 방법을 설명합니다. 각 파일 형식에 대한 설명과 코드 스니펫은 다음과 같습니다.\n",
    "\n",
    "### 1. CSV 파일\n",
    "\n",
    "쉼표로 구분된 값을 저장하는 파일 형식입니다. Pandas 라이브러리를 사용하여 읽고 출력할 수 있습니다.\n",
    "\n",
    "**코드 스니펫:**\n",
    "\n",
    "```python\n",
    "import pandas as pd\n",
    "\n",
    "# CSV 파일을 변수에 할당합니다.\n",
    "file_path = 'FileExample.csv'\n",
    "\n",
    "# Pandas를 사용하여 파일을 읽습니다.\n",
    "df = pd.read_csv(file_path)\n",
    "\n",
    "# 데이터를 화면에 출력합니다.\n",
    "print(df)\n",
    "\n",
    "# 헤더를 지정하여 데이터를 정리합니다.\n",
    "df = pd.read_csv(file_path, names=['Column1', 'Column2', ...])\n",
    "print(df)\n",
    "```\n",
    "\n",
    "### 2. JSON 파일\n",
    "\n",
    "텍스트를 언어 독립적인 데이터 형식으로 작성하는 파일 형식입니다. Python 딕셔너리와 유사하며, json 라이브러리를 사용하여 읽고 출력할 수 있습니다.\n",
    "\n",
    "**코드 스니펫:**\n",
    "\n",
    "```python\n",
    "import json\n",
    "\n",
    "# JSON 파일을 엽니다.\n",
    "with open('FileExample.json', 'r') as f:\n",
    "    # json.load()를 사용하여 파일을 읽습니다.\n",
    "    data = json.load(f)\n",
    "\n",
    "# 파일을 출력합니다.\n",
    "print(data)\n",
    "```\n",
    "\n",
    "### 3. XML 파일\n",
    "\n",
    "Extensible Markup Language의 약자로, Pandas 라이브러리에서 직접 읽을 수는 없지만 xml 라이브러리를 사용하여 파싱할 수 있습니다.\n",
    "\n",
    "**코드 스니펫:**\n",
    "\n",
    "```python\n",
    "import xml.etree.ElementTree as ET\n",
    "\n",
    "# XML 파일을 파싱합니다.\n",
    "tree = ET.parse('FileExample.xml')\n",
    "root = tree.getroot()\n",
    "\n",
    "# 열 헤더를 추가하고 데이터프레임에 할당합니다.\n",
    "columns = ['Column1', 'Column2', ...]\n",
    "df = pd.DataFrame(columns=columns)\n",
    "\n",
    "# 문서를 반복하여 필요한 데이터를 수집하고 데이터프레임에 추가합니다.\n",
    "for element in root.findall('.//element'):\n",
    "    row = [element.find('Column1').text, element.find('Column2').text, ...]\n",
    "    df = df.append(pd.Series(row, index=columns), ignore_index=True)\n",
    "\n",
    "print(df)\n",
    "```\n"
   ]
  },
  {
   "cell_type": "markdown",
   "id": "95fb16b7",
   "metadata": {},
   "source": [
    "\n",
    "**예제**에서 사용했던 `.//element`  형태에 맞는 XML 예시입니다.\n",
    "\n",
    "```xml\n",
    "<data>\n",
    "  <element>\n",
    "    <Column1>값1</Column1>\n",
    "    <Column2>값2</Column2>\n",
    "    <Column3>값3</Column3>\n",
    "  </element>\n",
    "  <element>\n",
    "    <Column1>값4</Column1>\n",
    "    <Column2>값5</Column2>\n",
    "    <Column3>값6</Column3>\n",
    "  </element>\n",
    "</data>\n",
    "```\n",
    "\n",
    "이 XML 에서 `.//element`는 `<data>` 아래에 있는 모든 `<element>` 태그를 찾아서, 각 `<element>` 태그 아래에 있는 `<Column1>`, `<Column2>`, `<Column3>` 태그의 값을 추출하게 됩니다.\n",
    "\n",
    "반면,\n",
    "**코드 스니펫:**\n",
    "\n",
    "```python\n",
    "import xml.etree.ElementTree as ET\n",
    "\n",
    "# XML 파일을 파싱합니다.\n",
    "tree = ET.parse('FileExample.xml')\n",
    "root = tree.getroot()\n",
    "\n",
    "# 열 헤더를 추가하고 데이터프레임에 할당합니다.\n",
    "columns = ['Column1', 'Column2', ...]\n",
    "df = pd.DataFrame(columns=columns)\n",
    "\n",
    "# 문서를 반복하여 필요한 데이터를 수집하고 데이터프레임에 추가합니다.\n",
    "for node in root:\n",
    "    name = node.find(\"name\").text\n",
    "    phonenumber = node.find(\"phonenumber\").text\n",
    "    birthday = node.find(\"birthday\").text\n",
    "    df = df.append(pd.Series([name, phonenumber, birthday], index=columns), ignore_index = True)\n",
    "print(df)\n",
    "```\n",
    "\n",
    "**아래 예제**처럼 `root`에서 바로 `name`, `phonenumber`, `birthday`를 찾는 경우에 해당하는 XML 예시입니다.\n",
    "\n",
    "```xml\n",
    "<person>\n",
    "  <name>홍길동</name>\n",
    "  <phonenumber>010-1234-5678</phonenumber>\n",
    "  <birthday>1990-01-01</birthday>\n",
    "</person>\n",
    "```\n",
    "\n",
    "이 XML 에서는 `root`에 해당하는 `<person>` 태그 바로 아래에 `<name>`, `<phonenumber>`, `<birthday>` 태그가 위치하고 있습니다. 따라서 `root.find('name')`과 같이 바로 접근하여 값을 추출할 수 있습니다.\n",
    "\n",
    "이처럼 XML 구조가 어떻게 되어 있는지에 따라 데이터를 추출하는 방법이 달라진다는 것을 알 수 있죠? 😉\n"
   ]
  },
  {
   "cell_type": "markdown",
   "id": "b103d93f",
   "metadata": {},
   "source": [
    "# Table of Contents\n",
    "\n",
    "<div class=\"alert alert-block alert-info\" style=\"margin-top: 20px\">\n",
    "\n",
    "<font size = 3>\n",
    "\n",
    "1.  <a href=\"#Data-Engineering\">Data Engineering</a>\n",
    "2.  <a href=\"#Data-Engineering-Process\">Data Engineering Process</a>\n",
    "3.  <a href=\"#Working-with-different-file-formats\">Working with different file formats</a>\n",
    "    1. <a href=\"#csv\">CSV</a>\n",
    "    2. <a href=\"#json\">JSON</a>\n",
    "    3. <a href=\"#xlsx\">XLSX</a>\n",
    "    4. <a href=\"#xml\">XML</a>\n",
    "4.  <a href=\"#data\">Data Analysis</a><br>\n",
    "\n",
    "</font>\n",
    "</div>\n"
   ]
  },
  {
   "cell_type": "markdown",
   "id": "6555de4d",
   "metadata": {},
   "source": [
    "# Data Engineering\n",
    "\n",
    "**Data engineering** is one of the most critical and foundational skills in any data scientist’s toolkit.\n",
    "\n",
    "# Data Engineering Process\n",
    "**데이터 엔지니어링 프로세스에는 여러 단계가 있습니다.**\n",
    "\n",
    "1. **추출(Extract)** – 데이터 추출은 여러 소스로부터 데이터를 가져오는 과정입니다. 예를 들어, 웹 스크래핑을 통해 웹사이트에서 데이터를 추출하거나, JSON, CSV, XLSX와 같은 다양한 형식으로 저장된 정보를 수집하는 것을 의미합니다.\n",
    "\n",
    "2. **변환(Transform)** – 데이터를 변환하는 과정은 추가 분석에 필요하지 않은 데이터를 제거하고, 여러 소스에서 가져온 데이터를 동일한 형식으로 변환하는 것을 의미합니다.\n",
    "\n",
    "3. **적재(Load)** – 변환된 데이터를 데이터 웨어하우스에 적재하는 과정입니다. 데이터 웨어하우스는 대량의 데이터를 저장하는 공간으로, 이 데이터를 통해 다양한 인사이트를 얻을 수 있습니다.\n",
    "\n",
    "# Working with different file formats\n",
    "**현실 세계에서 사람들은 깔끔한 표 형식의 데이터를 거의 접하지 못합니다.**  \n",
    "따라서 데이터 과학자(또는 데이터 엔지니어)는 다양한 파일 형식에 대해 알고 있어야 하며, 이 파일들을 처리할 때 발생하는 일반적인 문제들과 이를 가장 효율적으로 처리하는 방법을 숙지하는 것이 필수적입니다. 이러한 내용의 일부는 다른 모듈에서 이미 다루었습니다.\n",
    "\n",
    "#### File Format\n",
    "**파일 형식(File Format)**은 정보를 파일에 저장하기 위해 인코딩하는 표준 방법을 의미합니다.  \n",
    "\n",
    "첫째, 파일 형식은 파일이 **바이너리(Binary)** 파일인지 **ASCII** 파일인지를 지정합니다.  \n",
    "둘째, 정보가 어떻게 구성되어 있는지를 보여줍니다. 예를 들어, **CSV(Comma-Separated Values)** 파일 형식은 표 형식 데이터를 **일반 텍스트(Plain Text)**로 저장합니다.  \n",
    "\n",
    "파일 형식을 식별하기 위해 일반적으로 **파일 확장자(File Extension)**를 확인할 수 있습니다. 예를 들어, **\"CSV\"** 형식으로 저장된 파일 이름이 **\"Data\"**라면 **Data.csv**로 나타납니다. **.csv** 확장자를 보면, 해당 파일이 **CSV 파일**이며 데이터가 표 형식으로 저장되어 있음을 쉽게 알 수 있습니다.\n",
    "\n",
    "데이터셋에는 다양한 형식이 있습니다. 예를 들어, **.csv**, **.json**, **.xlsx** 등이 그 예시입니다. 이러한 데이터셋은 **로컬 컴퓨터**에 저장될 수도 있고, 때로는 **온라인**에 저장될 수도 있습니다.\n",
    "\n",
    "**이 섹션에서는 Jupyter Notebook에 데이터셋을 불러오는 방법을 배울 것입니다.**"
   ]
  },
  {
   "cell_type": "markdown",
   "id": "b39672bb",
   "metadata": {},
   "source": [
    "# Comma-separated values (CSV) file format\n",
    "\n",
    "**CSV(Comma-Separated Values)** 파일 형식은 **스프레드시트(Spreadsheet)** 파일 형식에 속합니다.\n",
    "\n",
    "스프레드시트 파일 형식에서는 데이터가 **셀(Cell)**에 저장되며, 각 셀은 **행(Row)**과 **열(Column)**로 구성됩니다.  \n",
    "스프레드시트의 열은 **다양한 데이터 유형**을 가질 수 있습니다. 예를 들어, 열에는 **문자열(String)**, **날짜(Date)**, 또는 **정수(Integer)**와 같은 데이터 유형이 포함될 수 있습니다.\n",
    "\n",
    "CSV 파일에서는 **각 줄(Line)**이 하나의 **관측값(Observation)** 또는 흔히 **레코드(Record)**라고 불리는 데이터를 나타냅니다.  \n",
    "각 레코드는 **여러 필드(Field)**로 구성될 수 있으며, 이 필드들은 **쉼표(Comma)**로 구분됩니다."
   ]
  },
  {
   "cell_type": "markdown",
   "id": "ff5da213",
   "metadata": {},
   "source": [
    "<a id=csv></a>\n",
    "## Reading data from CSV in Python\n",
    "\n",
    "**Pandas** 라이브러리는 다양한 데이터셋을 **Pandas 데이터프레임(Data Frame)**으로 읽어올 수 있는 유용한 도구입니다.\n",
    "\n",
    "이제 Pandas 라이브러리를 사용하여 **CSV 파일을 읽는 방법**을 알아보겠습니다.\n",
    "\n",
    "Pandas에서는 **`pandas.read_csv()`** 함수를 사용하여 CSV 파일을 읽습니다.  \n",
    "괄호 안에 **파일 경로(file path)**를 **따옴표**로 묶어 인수로 넣으면, Pandas가 해당 경로에서 파일을 읽어와 데이터프레임으로 변환합니다.  \n",
    "\n",
    "파일 경로는 **URL**일 수도 있고, **로컬 파일 경로(Local File Address)**일 수도 있습니다.\n",
    "\n",
    "#### 📌 **예제 코드:**\n",
    "\n",
    "```python\n",
    "import pandas as pd\n",
    "\n",
    "# CSV 파일을 읽어서 데이터프레임으로 변환\n",
    "df = pd.read_csv(\"data.csv\")\n",
    "\n",
    "# 데이터프레임 출력\n",
    "print(df)\n",
    "```  \n",
    "\n",
    "✅ **URL로 파일 읽기 예시:**\n",
    "\n",
    "```python\n",
    "df = pd.read_csv(\"https://example.com/data.csv\")\n",
    "```  \n",
    "\n",
    "✅ **로컬 파일 읽기 예시:**\n",
    "\n",
    "```python\n",
    "df = pd.read_csv(\"C:/Users/YourName/Documents/data.csv\")\n",
    "```  \n",
    "\n",
    "이와 같이 Pandas를 사용하면 CSV 파일을 쉽게 데이터프레임으로 가져올 수 있습니다. 😊"
   ]
  },
  {
   "cell_type": "code",
   "execution_count": 3,
   "id": "10417f97",
   "metadata": {},
   "outputs": [
    {
     "data": {
      "text/html": [
       "<div>\n",
       "<style scoped>\n",
       "    .dataframe tbody tr th:only-of-type {\n",
       "        vertical-align: middle;\n",
       "    }\n",
       "\n",
       "    .dataframe tbody tr th {\n",
       "        vertical-align: top;\n",
       "    }\n",
       "\n",
       "    .dataframe thead th {\n",
       "        text-align: right;\n",
       "    }\n",
       "</style>\n",
       "<table border=\"1\" class=\"dataframe\">\n",
       "  <thead>\n",
       "    <tr style=\"text-align: right;\">\n",
       "      <th></th>\n",
       "      <th>0</th>\n",
       "      <th>1</th>\n",
       "      <th>2</th>\n",
       "      <th>3</th>\n",
       "      <th>4</th>\n",
       "      <th>5</th>\n",
       "    </tr>\n",
       "  </thead>\n",
       "  <tbody>\n",
       "    <tr>\n",
       "      <th>0</th>\n",
       "      <td>John</td>\n",
       "      <td>Doe</td>\n",
       "      <td>120 jefferson st.</td>\n",
       "      <td>Riverside</td>\n",
       "      <td>NJ</td>\n",
       "      <td>8075</td>\n",
       "    </tr>\n",
       "    <tr>\n",
       "      <th>1</th>\n",
       "      <td>Jack</td>\n",
       "      <td>McGinnis</td>\n",
       "      <td>220 hobo Av.</td>\n",
       "      <td>Phila</td>\n",
       "      <td>PA</td>\n",
       "      <td>9119</td>\n",
       "    </tr>\n",
       "    <tr>\n",
       "      <th>2</th>\n",
       "      <td>John \"Da Man\"</td>\n",
       "      <td>Repici</td>\n",
       "      <td>120 Jefferson St.</td>\n",
       "      <td>Riverside</td>\n",
       "      <td>NJ</td>\n",
       "      <td>8075</td>\n",
       "    </tr>\n",
       "    <tr>\n",
       "      <th>3</th>\n",
       "      <td>Stephen</td>\n",
       "      <td>Tyler</td>\n",
       "      <td>7452 Terrace \"At the Plaza\" road</td>\n",
       "      <td>SomeTown</td>\n",
       "      <td>SD</td>\n",
       "      <td>91234</td>\n",
       "    </tr>\n",
       "    <tr>\n",
       "      <th>4</th>\n",
       "      <td>NaN</td>\n",
       "      <td>Blankman</td>\n",
       "      <td>NaN</td>\n",
       "      <td>SomeTown</td>\n",
       "      <td>SD</td>\n",
       "      <td>298</td>\n",
       "    </tr>\n",
       "    <tr>\n",
       "      <th>5</th>\n",
       "      <td>Joan \"the bone\", Anne</td>\n",
       "      <td>Jet</td>\n",
       "      <td>9th, at Terrace plc</td>\n",
       "      <td>Desert City</td>\n",
       "      <td>CO</td>\n",
       "      <td>123</td>\n",
       "    </tr>\n",
       "  </tbody>\n",
       "</table>\n",
       "</div>"
      ],
      "text/plain": [
       "                       0         1                                 2  \\\n",
       "0                   John       Doe                 120 jefferson st.   \n",
       "1                   Jack  McGinnis                      220 hobo Av.   \n",
       "2          John \"Da Man\"    Repici                 120 Jefferson St.   \n",
       "3                Stephen     Tyler  7452 Terrace \"At the Plaza\" road   \n",
       "4                    NaN  Blankman                               NaN   \n",
       "5  Joan \"the bone\", Anne       Jet               9th, at Terrace plc   \n",
       "\n",
       "             3    4      5  \n",
       "0    Riverside   NJ   8075  \n",
       "1        Phila   PA   9119  \n",
       "2    Riverside   NJ   8075  \n",
       "3     SomeTown   SD  91234  \n",
       "4     SomeTown   SD    298  \n",
       "5  Desert City   CO    123  "
      ]
     },
     "execution_count": 3,
     "metadata": {},
     "output_type": "execute_result"
    }
   ],
   "source": [
    "import pandas as pd\n",
    "\n",
    "filename = 'https://cf-courses-data.s3.us.cloud-object-storage.appdomain.cloud/IBMDeveloperSkillsNetwork-PY0101EN-SkillsNetwork/labs/Module%205/data/addresses.csv'\n",
    "\n",
    "df = pd.read_csv(filename, header = None)\n",
    "df"
   ]
  },
  {
   "cell_type": "markdown",
   "id": "3b19db03",
   "metadata": {},
   "source": [
    "#### Adding column name to the DataFrame\n",
    "\n",
    "기존 데이터프레임(DataFrame)에 열(Column)을 추가하려면, 데이터프레임의 **columns 속성(attribute)**을 사용할 수 있습니다."
   ]
  },
  {
   "cell_type": "code",
   "execution_count": 4,
   "id": "38599801",
   "metadata": {},
   "outputs": [
    {
     "data": {
      "text/html": [
       "<div>\n",
       "<style scoped>\n",
       "    .dataframe tbody tr th:only-of-type {\n",
       "        vertical-align: middle;\n",
       "    }\n",
       "\n",
       "    .dataframe tbody tr th {\n",
       "        vertical-align: top;\n",
       "    }\n",
       "\n",
       "    .dataframe thead th {\n",
       "        text-align: right;\n",
       "    }\n",
       "</style>\n",
       "<table border=\"1\" class=\"dataframe\">\n",
       "  <thead>\n",
       "    <tr style=\"text-align: right;\">\n",
       "      <th></th>\n",
       "      <th>First Name</th>\n",
       "      <th>Last Name</th>\n",
       "      <th>Location</th>\n",
       "      <th>City</th>\n",
       "      <th>State</th>\n",
       "      <th>Area Code</th>\n",
       "    </tr>\n",
       "  </thead>\n",
       "  <tbody>\n",
       "    <tr>\n",
       "      <th>0</th>\n",
       "      <td>John</td>\n",
       "      <td>Doe</td>\n",
       "      <td>120 jefferson st.</td>\n",
       "      <td>Riverside</td>\n",
       "      <td>NJ</td>\n",
       "      <td>8075</td>\n",
       "    </tr>\n",
       "    <tr>\n",
       "      <th>1</th>\n",
       "      <td>Jack</td>\n",
       "      <td>McGinnis</td>\n",
       "      <td>220 hobo Av.</td>\n",
       "      <td>Phila</td>\n",
       "      <td>PA</td>\n",
       "      <td>9119</td>\n",
       "    </tr>\n",
       "    <tr>\n",
       "      <th>2</th>\n",
       "      <td>John \"Da Man\"</td>\n",
       "      <td>Repici</td>\n",
       "      <td>120 Jefferson St.</td>\n",
       "      <td>Riverside</td>\n",
       "      <td>NJ</td>\n",
       "      <td>8075</td>\n",
       "    </tr>\n",
       "    <tr>\n",
       "      <th>3</th>\n",
       "      <td>Stephen</td>\n",
       "      <td>Tyler</td>\n",
       "      <td>7452 Terrace \"At the Plaza\" road</td>\n",
       "      <td>SomeTown</td>\n",
       "      <td>SD</td>\n",
       "      <td>91234</td>\n",
       "    </tr>\n",
       "    <tr>\n",
       "      <th>4</th>\n",
       "      <td>NaN</td>\n",
       "      <td>Blankman</td>\n",
       "      <td>NaN</td>\n",
       "      <td>SomeTown</td>\n",
       "      <td>SD</td>\n",
       "      <td>298</td>\n",
       "    </tr>\n",
       "    <tr>\n",
       "      <th>5</th>\n",
       "      <td>Joan \"the bone\", Anne</td>\n",
       "      <td>Jet</td>\n",
       "      <td>9th, at Terrace plc</td>\n",
       "      <td>Desert City</td>\n",
       "      <td>CO</td>\n",
       "      <td>123</td>\n",
       "    </tr>\n",
       "  </tbody>\n",
       "</table>\n",
       "</div>"
      ],
      "text/plain": [
       "              First Name Last Name                         Location   \\\n",
       "0                   John       Doe                 120 jefferson st.   \n",
       "1                   Jack  McGinnis                      220 hobo Av.   \n",
       "2          John \"Da Man\"    Repici                 120 Jefferson St.   \n",
       "3                Stephen     Tyler  7452 Terrace \"At the Plaza\" road   \n",
       "4                    NaN  Blankman                               NaN   \n",
       "5  Joan \"the bone\", Anne       Jet               9th, at Terrace plc   \n",
       "\n",
       "          City State  Area Code  \n",
       "0    Riverside    NJ       8075  \n",
       "1        Phila    PA       9119  \n",
       "2    Riverside    NJ       8075  \n",
       "3     SomeTown    SD      91234  \n",
       "4     SomeTown    SD        298  \n",
       "5  Desert City    CO        123  "
      ]
     },
     "execution_count": 4,
     "metadata": {},
     "output_type": "execute_result"
    }
   ],
   "source": [
    "df.columns =['First Name', 'Last Name', 'Location ', 'City','State','Area Code']\n",
    "df"
   ]
  },
  {
   "cell_type": "markdown",
   "id": "ef1623ea",
   "metadata": {},
   "source": [
    "#### Selecting a single column\n",
    "첫 번째 열인 **'First Name'**을 선택하려면, 인덱싱 연산자에 **열 이름을 문자열로 전달**하면 됩니다."
   ]
  },
  {
   "cell_type": "code",
   "execution_count": 5,
   "id": "a81bdbe0",
   "metadata": {},
   "outputs": [
    {
     "data": {
      "text/plain": [
       "0                     John\n",
       "1                     Jack\n",
       "2            John \"Da Man\"\n",
       "3                  Stephen\n",
       "4                      NaN\n",
       "5    Joan \"the bone\", Anne\n",
       "Name: First Name, dtype: object"
      ]
     },
     "execution_count": 5,
     "metadata": {},
     "output_type": "execute_result"
    }
   ],
   "source": [
    "df['First Name']"
   ]
  },
  {
   "cell_type": "markdown",
   "id": "3b020392",
   "metadata": {},
   "source": [
    "#### Selecting multiple columns\n",
    "\n",
    "여러 열을 선택하려면 열 이름 리스트를 인덱싱 연산자에 전달하면 됩니다."
   ]
  },
  {
   "cell_type": "code",
   "execution_count": 6,
   "id": "ce2e5f08",
   "metadata": {},
   "outputs": [
    {
     "data": {
      "text/html": [
       "<div>\n",
       "<style scoped>\n",
       "    .dataframe tbody tr th:only-of-type {\n",
       "        vertical-align: middle;\n",
       "    }\n",
       "\n",
       "    .dataframe tbody tr th {\n",
       "        vertical-align: top;\n",
       "    }\n",
       "\n",
       "    .dataframe thead th {\n",
       "        text-align: right;\n",
       "    }\n",
       "</style>\n",
       "<table border=\"1\" class=\"dataframe\">\n",
       "  <thead>\n",
       "    <tr style=\"text-align: right;\">\n",
       "      <th></th>\n",
       "      <th>First Name</th>\n",
       "      <th>Last Name</th>\n",
       "      <th>Location</th>\n",
       "      <th>City</th>\n",
       "      <th>State</th>\n",
       "      <th>Area Code</th>\n",
       "    </tr>\n",
       "  </thead>\n",
       "  <tbody>\n",
       "    <tr>\n",
       "      <th>0</th>\n",
       "      <td>John</td>\n",
       "      <td>Doe</td>\n",
       "      <td>120 jefferson st.</td>\n",
       "      <td>Riverside</td>\n",
       "      <td>NJ</td>\n",
       "      <td>8075</td>\n",
       "    </tr>\n",
       "    <tr>\n",
       "      <th>1</th>\n",
       "      <td>Jack</td>\n",
       "      <td>McGinnis</td>\n",
       "      <td>220 hobo Av.</td>\n",
       "      <td>Phila</td>\n",
       "      <td>PA</td>\n",
       "      <td>9119</td>\n",
       "    </tr>\n",
       "    <tr>\n",
       "      <th>2</th>\n",
       "      <td>John \"Da Man\"</td>\n",
       "      <td>Repici</td>\n",
       "      <td>120 Jefferson St.</td>\n",
       "      <td>Riverside</td>\n",
       "      <td>NJ</td>\n",
       "      <td>8075</td>\n",
       "    </tr>\n",
       "    <tr>\n",
       "      <th>3</th>\n",
       "      <td>Stephen</td>\n",
       "      <td>Tyler</td>\n",
       "      <td>7452 Terrace \"At the Plaza\" road</td>\n",
       "      <td>SomeTown</td>\n",
       "      <td>SD</td>\n",
       "      <td>91234</td>\n",
       "    </tr>\n",
       "    <tr>\n",
       "      <th>4</th>\n",
       "      <td>NaN</td>\n",
       "      <td>Blankman</td>\n",
       "      <td>NaN</td>\n",
       "      <td>SomeTown</td>\n",
       "      <td>SD</td>\n",
       "      <td>298</td>\n",
       "    </tr>\n",
       "    <tr>\n",
       "      <th>5</th>\n",
       "      <td>Joan \"the bone\", Anne</td>\n",
       "      <td>Jet</td>\n",
       "      <td>9th, at Terrace plc</td>\n",
       "      <td>Desert City</td>\n",
       "      <td>CO</td>\n",
       "      <td>123</td>\n",
       "    </tr>\n",
       "  </tbody>\n",
       "</table>\n",
       "</div>"
      ],
      "text/plain": [
       "              First Name Last Name                         Location   \\\n",
       "0                   John       Doe                 120 jefferson st.   \n",
       "1                   Jack  McGinnis                      220 hobo Av.   \n",
       "2          John \"Da Man\"    Repici                 120 Jefferson St.   \n",
       "3                Stephen     Tyler  7452 Terrace \"At the Plaza\" road   \n",
       "4                    NaN  Blankman                               NaN   \n",
       "5  Joan \"the bone\", Anne       Jet               9th, at Terrace plc   \n",
       "\n",
       "          City State  Area Code  \n",
       "0    Riverside    NJ       8075  \n",
       "1        Phila    PA       9119  \n",
       "2    Riverside    NJ       8075  \n",
       "3     SomeTown    SD      91234  \n",
       "4     SomeTown    SD        298  \n",
       "5  Desert City    CO        123  "
      ]
     },
     "execution_count": 6,
     "metadata": {},
     "output_type": "execute_result"
    }
   ],
   "source": [
    "df[['First Name', 'Last Name', 'Location ', 'City','State','Area Code']]"
   ]
  },
  {
   "cell_type": "markdown",
   "id": "d0f6654a",
   "metadata": {},
   "source": [
    "#### **.iloc 및 .loc를 사용하여 행 선택하기**\n",
    "\n",
    "이제 **`.loc`**를 사용하여 데이터프레임에서 행을 선택하는 방법을 알아보겠습니다.\n",
    "\n",
    "**`loc()`**: **`loc()`는 레이블(Label) 기반의 데이터 선택 메서드**로, 선택하고자 하는 **행 또는 열의 이름을 전달**해야 합니다."
   ]
  },
  {
   "cell_type": "code",
   "execution_count": 7,
   "id": "56b94405",
   "metadata": {},
   "outputs": [
    {
     "data": {
      "text/plain": [
       "First Name                 John\n",
       "Last Name                   Doe\n",
       "Location      120 jefferson st.\n",
       "City                  Riverside\n",
       "State                        NJ\n",
       "Area Code                  8075\n",
       "Name: 0, dtype: object"
      ]
     },
     "execution_count": 7,
     "metadata": {},
     "output_type": "execute_result"
    }
   ],
   "source": [
    "# To select the first row\n",
    "\n",
    "df.loc[0]"
   ]
  },
  {
   "cell_type": "code",
   "execution_count": 9,
   "id": "b07ffcc6",
   "metadata": {},
   "outputs": [
    {
     "data": {
      "text/plain": [
       "0             John\n",
       "1             Jack\n",
       "2    John \"Da Man\"\n",
       "Name: First Name, dtype: object"
      ]
     },
     "execution_count": 9,
     "metadata": {},
     "output_type": "execute_result"
    }
   ],
   "source": [
    "# To select the 0th,1st and 2nd row of \"First Name\" column only\n",
    "\n",
    "df.loc[[0,1,2], 'First Name']"
   ]
  },
  {
   "cell_type": "markdown",
   "id": "6d935564",
   "metadata": {},
   "source": [
    "이제 **`.iloc`**를 사용하여 데이터프레임에서 **행을 선택하는 방법**을 알아보겠습니다.\n",
    "\n",
    "**`iloc()`**: **`iloc()`는 인덱스 기반 데이터 선택 메서드**로, 특정 **행이나 열을 선택하기 위해 정수형 인덱스**를 메서드에 전달해야 합니다."
   ]
  },
  {
   "cell_type": "code",
   "execution_count": 10,
   "id": "ff4b93f0",
   "metadata": {},
   "outputs": [
    {
     "data": {
      "text/plain": [
       "0             John\n",
       "1             Jack\n",
       "2    John \"Da Man\"\n",
       "Name: First Name, dtype: object"
      ]
     },
     "execution_count": 10,
     "metadata": {},
     "output_type": "execute_result"
    }
   ],
   "source": [
    "# To select the 0th,1st and 2nd row of \"First Name\" column only\n",
    "df.iloc[[0,1,2], 0]"
   ]
  },
  {
   "cell_type": "markdown",
   "id": "ba80803a",
   "metadata": {},
   "source": [
    "더 많은 정보를 원하시면 [문서](https://pandas.pydata.org/pandas-docs/stable/user_guide/indexing.html?utm_medium=Exinfluencer&utm_source=Exinfluencer&utm_content=000026UJ&utm_term=10006555&utm_id=NA-SkillsNetwork-Channel-SkillsNetworkCoursesIBMDeveloperSkillsNetworkPY0101ENSkillsNetwork19487395-2021-01-01)를 참조하세요.\n",
    "\n",
    "이제 Pandas에서 **기본 변환 작업(Basic Transformation)**을 수행해 보겠습니다."
   ]
  },
  {
   "cell_type": "markdown",
   "id": "0a8c346e",
   "metadata": {},
   "source": [
    "### **Pandas의 Transform 함수**\n",
    "\n",
    "Python의 **`transform()` 함수**는 지정된 함수를 데이터프레임에 적용한 후, **변환된 값으로 구성된 데이터프레임**을 반환합니다.\n",
    "\n",
    "이제 **`transform()` 함수**가 어떻게 작동하는지 알아보겠습니다."
   ]
  },
  {
   "cell_type": "code",
   "execution_count": 11,
   "id": "100a72b8",
   "metadata": {},
   "outputs": [],
   "source": [
    "#import library\n",
    "import pandas as pd\n",
    "import numpy as np"
   ]
  },
  {
   "cell_type": "code",
   "execution_count": 12,
   "id": "069fbc50",
   "metadata": {},
   "outputs": [
    {
     "data": {
      "text/html": [
       "<div>\n",
       "<style scoped>\n",
       "    .dataframe tbody tr th:only-of-type {\n",
       "        vertical-align: middle;\n",
       "    }\n",
       "\n",
       "    .dataframe tbody tr th {\n",
       "        vertical-align: top;\n",
       "    }\n",
       "\n",
       "    .dataframe thead th {\n",
       "        text-align: right;\n",
       "    }\n",
       "</style>\n",
       "<table border=\"1\" class=\"dataframe\">\n",
       "  <thead>\n",
       "    <tr style=\"text-align: right;\">\n",
       "      <th></th>\n",
       "      <th>a</th>\n",
       "      <th>b</th>\n",
       "      <th>c</th>\n",
       "    </tr>\n",
       "  </thead>\n",
       "  <tbody>\n",
       "    <tr>\n",
       "      <th>0</th>\n",
       "      <td>1</td>\n",
       "      <td>2</td>\n",
       "      <td>3</td>\n",
       "    </tr>\n",
       "    <tr>\n",
       "      <th>1</th>\n",
       "      <td>4</td>\n",
       "      <td>5</td>\n",
       "      <td>6</td>\n",
       "    </tr>\n",
       "    <tr>\n",
       "      <th>2</th>\n",
       "      <td>7</td>\n",
       "      <td>8</td>\n",
       "      <td>9</td>\n",
       "    </tr>\n",
       "  </tbody>\n",
       "</table>\n",
       "</div>"
      ],
      "text/plain": [
       "   a  b  c\n",
       "0  1  2  3\n",
       "1  4  5  6\n",
       "2  7  8  9"
      ]
     },
     "execution_count": 12,
     "metadata": {},
     "output_type": "execute_result"
    }
   ],
   "source": [
    "#creating a dataframe\n",
    "df=pd.DataFrame(np.array([[1, 2, 3], [4, 5, 6], [7, 8, 9]]), columns=['a', 'b', 'c'])\n",
    "df"
   ]
  },
  {
   "cell_type": "markdown",
   "id": "6ca406ba",
   "metadata": {},
   "source": [
    "예를 들어, 데이터프레임의 **각 요소에 10을 더하고 싶다면** 다음과 같이 할 수 있습니다:"
   ]
  },
  {
   "cell_type": "code",
   "execution_count": 13,
   "id": "7ed81e82",
   "metadata": {},
   "outputs": [
    {
     "data": {
      "text/html": [
       "<div>\n",
       "<style scoped>\n",
       "    .dataframe tbody tr th:only-of-type {\n",
       "        vertical-align: middle;\n",
       "    }\n",
       "\n",
       "    .dataframe tbody tr th {\n",
       "        vertical-align: top;\n",
       "    }\n",
       "\n",
       "    .dataframe thead th {\n",
       "        text-align: right;\n",
       "    }\n",
       "</style>\n",
       "<table border=\"1\" class=\"dataframe\">\n",
       "  <thead>\n",
       "    <tr style=\"text-align: right;\">\n",
       "      <th></th>\n",
       "      <th>a</th>\n",
       "      <th>b</th>\n",
       "      <th>c</th>\n",
       "    </tr>\n",
       "  </thead>\n",
       "  <tbody>\n",
       "    <tr>\n",
       "      <th>0</th>\n",
       "      <td>11</td>\n",
       "      <td>12</td>\n",
       "      <td>13</td>\n",
       "    </tr>\n",
       "    <tr>\n",
       "      <th>1</th>\n",
       "      <td>14</td>\n",
       "      <td>15</td>\n",
       "      <td>16</td>\n",
       "    </tr>\n",
       "    <tr>\n",
       "      <th>2</th>\n",
       "      <td>17</td>\n",
       "      <td>18</td>\n",
       "      <td>19</td>\n",
       "    </tr>\n",
       "  </tbody>\n",
       "</table>\n",
       "</div>"
      ],
      "text/plain": [
       "    a   b   c\n",
       "0  11  12  13\n",
       "1  14  15  16\n",
       "2  17  18  19"
      ]
     },
     "execution_count": 13,
     "metadata": {},
     "output_type": "execute_result"
    }
   ],
   "source": [
    "#applying the transform function\n",
    "df = df.transform(func = lambda x : x + 10)\n",
    "df"
   ]
  },
  {
   "cell_type": "markdown",
   "id": "a7b96a1b",
   "metadata": {},
   "source": [
    "이제 **`DataFrame.transform()`** 함수를 사용하여 **데이터프레임의 각 요소에 대해 제곱근(square root)**을 구해보겠습니다."
   ]
  },
  {
   "cell_type": "code",
   "execution_count": 14,
   "id": "ff174cd6",
   "metadata": {},
   "outputs": [
    {
     "data": {
      "text/html": [
       "<div>\n",
       "<style scoped>\n",
       "    .dataframe tbody tr th:only-of-type {\n",
       "        vertical-align: middle;\n",
       "    }\n",
       "\n",
       "    .dataframe tbody tr th {\n",
       "        vertical-align: top;\n",
       "    }\n",
       "\n",
       "    .dataframe thead tr th {\n",
       "        text-align: left;\n",
       "    }\n",
       "</style>\n",
       "<table border=\"1\" class=\"dataframe\">\n",
       "  <thead>\n",
       "    <tr>\n",
       "      <th></th>\n",
       "      <th>a</th>\n",
       "      <th>b</th>\n",
       "      <th>c</th>\n",
       "    </tr>\n",
       "    <tr>\n",
       "      <th></th>\n",
       "      <th>sqrt</th>\n",
       "      <th>sqrt</th>\n",
       "      <th>sqrt</th>\n",
       "    </tr>\n",
       "  </thead>\n",
       "  <tbody>\n",
       "    <tr>\n",
       "      <th>0</th>\n",
       "      <td>3.316625</td>\n",
       "      <td>3.464102</td>\n",
       "      <td>3.605551</td>\n",
       "    </tr>\n",
       "    <tr>\n",
       "      <th>1</th>\n",
       "      <td>3.741657</td>\n",
       "      <td>3.872983</td>\n",
       "      <td>4.000000</td>\n",
       "    </tr>\n",
       "    <tr>\n",
       "      <th>2</th>\n",
       "      <td>4.123106</td>\n",
       "      <td>4.242641</td>\n",
       "      <td>4.358899</td>\n",
       "    </tr>\n",
       "  </tbody>\n",
       "</table>\n",
       "</div>"
      ],
      "text/plain": [
       "          a         b         c\n",
       "       sqrt      sqrt      sqrt\n",
       "0  3.316625  3.464102  3.605551\n",
       "1  3.741657  3.872983  4.000000\n",
       "2  4.123106  4.242641  4.358899"
      ]
     },
     "execution_count": 14,
     "metadata": {},
     "output_type": "execute_result"
    }
   ],
   "source": [
    "result = df.transform(func = ['sqrt'])\n",
    "result"
   ]
  },
  {
   "cell_type": "code",
   "execution_count": 23,
   "id": "dc50503d",
   "metadata": {},
   "outputs": [
    {
     "data": {
      "text/plain": [
       "RangeIndex(start=0, stop=3, step=1)"
      ]
     },
     "execution_count": 23,
     "metadata": {},
     "output_type": "execute_result"
    }
   ],
   "source": [
    "result.index"
   ]
  },
  {
   "cell_type": "code",
   "execution_count": 21,
   "id": "2a75aa38",
   "metadata": {},
   "outputs": [
    {
     "data": {
      "text/html": [
       "<div>\n",
       "<style scoped>\n",
       "    .dataframe tbody tr th:only-of-type {\n",
       "        vertical-align: middle;\n",
       "    }\n",
       "\n",
       "    .dataframe tbody tr th {\n",
       "        vertical-align: top;\n",
       "    }\n",
       "\n",
       "    .dataframe thead th {\n",
       "        text-align: right;\n",
       "    }\n",
       "</style>\n",
       "<table border=\"1\" class=\"dataframe\">\n",
       "  <thead>\n",
       "    <tr style=\"text-align: right;\">\n",
       "      <th></th>\n",
       "      <th></th>\n",
       "      <th>a</th>\n",
       "      <th>b</th>\n",
       "      <th>c</th>\n",
       "    </tr>\n",
       "  </thead>\n",
       "  <tbody>\n",
       "    <tr>\n",
       "      <th>0</th>\n",
       "      <th>sqrt</th>\n",
       "      <td>3.316625</td>\n",
       "      <td>3.464102</td>\n",
       "      <td>3.605551</td>\n",
       "    </tr>\n",
       "    <tr>\n",
       "      <th>1</th>\n",
       "      <th>sqrt</th>\n",
       "      <td>3.741657</td>\n",
       "      <td>3.872983</td>\n",
       "      <td>4.000000</td>\n",
       "    </tr>\n",
       "    <tr>\n",
       "      <th>2</th>\n",
       "      <th>sqrt</th>\n",
       "      <td>4.123106</td>\n",
       "      <td>4.242641</td>\n",
       "      <td>4.358899</td>\n",
       "    </tr>\n",
       "  </tbody>\n",
       "</table>\n",
       "</div>"
      ],
      "text/plain": [
       "               a         b         c\n",
       "0 sqrt  3.316625  3.464102  3.605551\n",
       "1 sqrt  3.741657  3.872983  4.000000\n",
       "2 sqrt  4.123106  4.242641  4.358899"
      ]
     },
     "execution_count": 21,
     "metadata": {},
     "output_type": "execute_result"
    }
   ],
   "source": [
    "result_2 = df.transform(func = ['sqrt'], axis = 1)\n",
    "result_2"
   ]
  },
  {
   "cell_type": "code",
   "execution_count": 22,
   "id": "de9a92c6",
   "metadata": {},
   "outputs": [
    {
     "data": {
      "text/plain": [
       "MultiIndex([(0, 'sqrt'),\n",
       "            (1, 'sqrt'),\n",
       "            (2, 'sqrt')],\n",
       "           )"
      ]
     },
     "execution_count": 22,
     "metadata": {},
     "output_type": "execute_result"
    }
   ],
   "source": [
    "result_2.index"
   ]
  },
  {
   "cell_type": "markdown",
   "id": "d5e95123",
   "metadata": {},
   "source": [
    "**`transform()` 함수**에 대한 더 자세한 정보는 [공식 문서](https://pandas.pydata.org/pandas-docs/stable/reference/api/pandas.DataFrame.transform.html?utm_medium=Exinfluencer&utm_source=Exinfluencer&utm_content=000026UJ&utm_term=10006555&utm_id=NA-SkillsNetwork-Channel-SkillsNetworkCoursesIBMDeveloperSkillsNetworkPY0101ENSkillsNetwork19487395-2021-01-01)를 참조하세요."
   ]
  },
  {
   "cell_type": "markdown",
   "id": "58d27d6b",
   "metadata": {},
   "source": [
    "<a id = json></a>\n",
    "# JSON file Format\n",
    "\n",
    "**JSON(JavaScript Object Notation)**은 가볍고 효율적인 **데이터 교환 형식**입니다. 사람이 쉽게 읽고 쓸 수 있는 형식으로 설계되었습니다.\n",
    "\n",
    "JSON은 두 가지 구조로 구성됩니다:\n",
    "\n",
    "1. **이름/값(name/value) 쌍의 집합**  \n",
    "   여러 프로그래밍 언어에서 이를 **객체(object)**, **레코드(record)**, **구조체(struct)**, **딕셔너리(dictionary)**, **해시 테이블(hash table)**, **키 목록(keyed list)**, 또는 **연관 배열(associative array)**로 구현합니다.\n",
    "\n",
    "2. **값들의 순서가 있는 리스트(ordered list of values)**  \n",
    "   대부분의 언어에서는 이를 **배열(array)**, **벡터(vector)**, **리스트(list)** 또는 **시퀀스(sequence)**로 구현합니다.\n",
    "\n",
    "JSON은 **언어에 독립적인 데이터 형식**입니다.  \n",
    "JavaScript에서 파생되었지만, 많은 현대 프로그래밍 언어에서 **JSON 데이터를 생성하고 구문 분석(parse)**하는 기능을 제공합니다.  \n",
    "JSON은 다양한 용도로 사용되는 **매우 일반적인 데이터 형식**입니다.\n",
    "\n",
    "JSON에서 **텍스트는 따옴표로 묶인 문자열(quoted string)**을 통해 작성되며, **중괄호 `{}` 안에 키-값 쌍(key-value pair)**으로 매핑됩니다.  \n",
    "이는 Python의 **딕셔너리(dictionary)**와 비슷한 구조입니다.\n",
    "\n",
    "Python은 **`json`**이라는 내장 패키지를 통해 **JSON**을 지원합니다.  \n",
    "이 기능을 사용하려면 Python 스크립트에서 **`json` 패키지를 import**해야 합니다."
   ]
  },
  {
   "cell_type": "code",
   "execution_count": 31,
   "id": "e1fcf187",
   "metadata": {},
   "outputs": [],
   "source": [
    "import json"
   ]
  },
  {
   "cell_type": "markdown",
   "id": "bbbe62ed",
   "metadata": {},
   "source": [
    "# **JSON 파일에 쓰기**\n",
    "\n",
    "이 과정을 일반적으로 **직렬화(Serialization)**라고 합니다.  \n",
    "**직렬화**는 **객체(Object)를 네트워크로 전송하거나 파일 또는 데이터베이스에 저장하기 적합한 형식으로 변환**하는 과정입니다.\n",
    "\n",
    "Python의 **JSON 라이브러리**는 파일 내 데이터 흐름을 처리하기 위해 **`dump()`** 또는 **`dumps()`** 함수를 사용합니다.  \n",
    "이 함수들은 **Python 객체를 JSON 객체로 변환**하여 데이터를 **파일에 쉽게 기록**할 수 있도록 도와줍니다."
   ]
  },
  {
   "cell_type": "code",
   "execution_count": 41,
   "id": "83d1aae7",
   "metadata": {},
   "outputs": [],
   "source": [
    "import json\n",
    "person = {\n",
    "    'first_name' : 'Mark',\n",
    "    'last_name' : 'abc',\n",
    "    'age' : 27,\n",
    "    'address': {\n",
    "        \"streetAddress\": \"21 2nd Street\",\n",
    "        \"city\": \"New York\",\n",
    "        \"state\": \"NY\",\n",
    "        \"postalCode\": \"10021-3100\"\n",
    "    }\n",
    "}"
   ]
  },
  {
   "cell_type": "code",
   "execution_count": 42,
   "id": "7363f98c",
   "metadata": {},
   "outputs": [
    {
     "data": {
      "text/plain": [
       "dict"
      ]
     },
     "execution_count": 42,
     "metadata": {},
     "output_type": "execute_result"
    }
   ],
   "source": [
    "type(person)"
   ]
  },
  {
   "cell_type": "code",
   "execution_count": 33,
   "id": "d005ff7c",
   "metadata": {},
   "outputs": [
    {
     "data": {
      "text/plain": [
       "{'first_name': 'Mark',\n",
       " 'last_name': 'abc',\n",
       " 'age': 27,\n",
       " 'address': {'streetAddress': '21 2nd Street',\n",
       "  'city': 'New York',\n",
       "  'state': 'NY',\n",
       "  'postalCode': '10021-3100'}}"
      ]
     },
     "execution_count": 33,
     "metadata": {},
     "output_type": "execute_result"
    }
   ],
   "source": [
    "person"
   ]
  },
  {
   "cell_type": "markdown",
   "id": "ea732072",
   "metadata": {},
   "source": [
    "### **dump() 함수를 사용한 직렬화(Serialization)**\n",
    "\n",
    "**`json.dump()`** 메서드는 **파이썬 객체를 JSON 형식으로 변환하여 파일에 저장하는 함수**할 때 사용됩니다.\n",
    "\n",
    "##### **구문(Syntax):**  \n",
    "```python\n",
    "json.dump(dictionary, file_pointer)\n",
    "```\n",
    "\n",
    "##### **매개변수(Parameters):**  \n",
    "1. **dictionary** – JSON 객체로 변환할 **딕셔너리 이름**  \n",
    "2. **file_pointer** – **쓰기 모드(write)** 또는 **추가 모드(append)**로 열려 있는 파일의 **포인터**"
   ]
  },
  {
   "cell_type": "code",
   "execution_count": 34,
   "id": "d3533604",
   "metadata": {},
   "outputs": [],
   "source": [
    "with open('person.json', 'w') as f:  # writing JSON object\n",
    "    json.dump(person, f)"
   ]
  },
  {
   "cell_type": "markdown",
   "id": "9b5bce22",
   "metadata": {},
   "source": [
    "### **dumps() 함수를 사용한 직렬화(Serialization)**\n",
    "\n",
    "**`json.dumps()`** 함수는 **딕셔너리를 JSON 형식의 문자열로 변환**하는 데 사용됩니다. 파이썬에서 사용할 수 있는 문자열 객체이기 때문에, 변수에 저장하거나 다른 함수의 입력으로 사용할 수 있습니다.\n",
    "\n",
    "##### **이 함수는 두 개의 매개변수를 받습니다:**\n",
    "\n",
    "1. **dictionary** – **JSON 객체로 변환할 딕셔너리 이름**  \n",
    "2. **indent** – **들여쓰기(indentation)** 단위를 정의합니다.  \n",
    "   (가독성을 높이기 위해 JSON 출력 시 들여쓰기 단계를 설정할 수 있습니다.)\n",
    "\n",
    "<div class='alert alert-block alert-warning'> <code>dump()</code>는 JSON 데이터를 파일에 저장할 때, <code>dumps()</code>는 JSON 문자열을 생성하여 네트워크 통신 등 다양한 용도로 활용할 때 사용합니다. 다른 시스템과 통신할 때는 <code>dumps()</code>를 사용하는 것이 더 적합합니다.</div>"
   ]
  },
  {
   "cell_type": "code",
   "execution_count": 40,
   "id": "28ca2966",
   "metadata": {},
   "outputs": [],
   "source": [
    "# Seralizing json\n",
    "json_object = json.dumps(person, indent = 4)"
   ]
  },
  {
   "cell_type": "markdown",
   "id": "d5795a9e",
   "metadata": {},
   "source": [
    "위 코드에서 json.dumps(person, indent=4)는 person 딕셔너리를 JSON 형식의 문자열로 변환하고, indent=4 옵션을 통해 들여쓰기를 추가하여 가독성을 높입니다."
   ]
  },
  {
   "cell_type": "code",
   "execution_count": 44,
   "id": "9226b561",
   "metadata": {},
   "outputs": [
    {
     "data": {
      "text/plain": [
       "str"
      ]
     },
     "execution_count": 44,
     "metadata": {},
     "output_type": "execute_result"
    }
   ],
   "source": [
    "type(json_object)"
   ]
  },
  {
   "cell_type": "markdown",
   "id": "0cdc499c",
   "metadata": {},
   "source": [
    "이렇게 생성된 문자열은 json_object 변수에 저장되고, 이후 f.write(json_object)를 통해 'sample.json' 파일에 쓰여집니다."
   ]
  },
  {
   "cell_type": "code",
   "execution_count": 37,
   "id": "39b28d3c",
   "metadata": {},
   "outputs": [],
   "source": [
    "# writing to sample.json\n",
    "with open(\"sample.json\", \"w\") as f:\n",
    "    f.write(json_object)"
   ]
  },
  {
   "cell_type": "code",
   "execution_count": 38,
   "id": "a9dbe007",
   "metadata": {},
   "outputs": [
    {
     "name": "stdout",
     "output_type": "stream",
     "text": [
      "{\n",
      "    \"first_name\": \"Mark\",\n",
      "    \"last_name\": \"abc\",\n",
      "    \"age\": 27,\n",
      "    \"address\": {\n",
      "        \"streetAddress\": \"21 2nd Street\",\n",
      "        \"city\": \"New York\",\n",
      "        \"state\": \"NY\",\n",
      "        \"postalCode\": \"10021-3100\"\n",
      "    }\n",
      "}\n"
     ]
    }
   ],
   "source": [
    "print(json_object)"
   ]
  },
  {
   "cell_type": "markdown",
   "id": "55afe28c",
   "metadata": {},
   "source": [
    "이제 Python 객체가 파일에 **직렬화(Serialized)**되었습니다.  \n",
    "이를 다시 **Python 객체로 역직렬화(Deserialize)**하기 위해 **`load()`** 함수를 사용합니다."
   ]
  },
  {
   "cell_type": "markdown",
   "id": "f9afb844",
   "metadata": {},
   "source": [
    "# **JSON 파일 읽기**\n",
    "\n",
    "이 과정은 일반적으로 **역직렬화(Deserialization)**라고 합니다.  \n",
    "역직렬화는 **직렬화된 특수 형식을 다시 사용 가능한 객체로 변환**하는 과정입니다.\n",
    "\n",
    "---\n",
    "\n",
    "### **`json.load()` 사용하기**\n",
    "\n",
    "Python의 **JSON 패키지**에는 **`json.load()`** 함수가 있으며,  \n",
    "이 함수는 **JSON 파일의 내용을 읽어와 딕셔너리로 변환**합니다.\n",
    "\n",
    "### **매개변수:**\n",
    "\n",
    "- **File pointer** – **JSON 파일을 가리키는 파일 포인터**.  \n",
    "   이 파일 포인터를 통해 JSON 파일의 내용을 읽어옵니다."
   ]
  },
  {
   "cell_type": "code",
   "execution_count": 45,
   "id": "b21bf26c",
   "metadata": {},
   "outputs": [
    {
     "name": "stdout",
     "output_type": "stream",
     "text": [
      "{'first_name': 'Mark', 'last_name': 'abc', 'age': 27, 'address': {'streetAddress': '21 2nd Street', 'city': 'New York', 'state': 'NY', 'postalCode': '10021-3100'}}\n",
      "<class 'dict'>\n"
     ]
    }
   ],
   "source": [
    "import json\n",
    "\n",
    "# Opening JSON file\n",
    "with open('sample.json', 'r') as openfile:\n",
    "    # Reading from json file\n",
    "    json_object = json.load(openfile)\n",
    "    \n",
    "print(json_object)\n",
    "print(type(json_object))"
   ]
  },
  {
   "cell_type": "markdown",
   "id": "155eefbf",
   "metadata": {},
   "source": [
    "<a id=xlsx></a>\n",
    "# XLSX file format\n",
    "\n",
    "**XLSX**는 **Microsoft Excel Open XML** 파일 형식으로, 또 다른 유형의 **스프레드시트(Spreadsheet) 파일 형식**입니다.\n",
    "\n",
    "**XLSX 파일**에서는 데이터가 **시트(sheet)** 내에서 **셀(cell)**과 **열(column)**로 구성되어 있습니다."
   ]
  },
  {
   "cell_type": "markdown",
   "id": "90e5d053",
   "metadata": {},
   "source": [
    "## **XLSX 파일에서 데이터 읽기**\n",
    "\n",
    "이제 **XLSX 파일에서 데이터를 불러오고 시트 이름(sheet name)**을 지정해 보겠습니다.  \n",
    "데이터를 로드할 때는 Python의 **Pandas 라이브러리**를 사용할 수 있습니다."
   ]
  },
  {
   "cell_type": "code",
   "execution_count": 47,
   "id": "1bc43d2e",
   "metadata": {},
   "outputs": [],
   "source": [
    "import pandas as pd"
   ]
  },
  {
   "cell_type": "code",
   "execution_count": 49,
   "id": "5d41306d",
   "metadata": {},
   "outputs": [
    {
     "data": {
      "text/plain": [
       "('sample.xlsx', <http.client.HTTPMessage at 0x17b4c52d340>)"
      ]
     },
     "execution_count": 49,
     "metadata": {},
     "output_type": "execute_result"
    }
   ],
   "source": [
    "import urllib.request\n",
    "urllib.request.urlretrieve(\"https://cf-courses-data.s3.us.cloud-object-storage.appdomain.cloud/IBMDeveloperSkillsNetwork-PY0101EN-SkillsNetwork/labs/Module%205/data/file_example_XLSX_10.xlsx\", \"sample.xlsx\")"
   ]
  },
  {
   "cell_type": "markdown",
   "id": "a5ad90ae",
   "metadata": {},
   "source": [
    "<div class=\"alert alert-block alert-warning\">\n",
    "    [Tip]주석 처리된 코드는 로컬 환경에서 코드를 실행할 때 필요한 부분입니다. \n",
    "\n",
    "코드를 한 줄씩 살펴보겠습니다.\n",
    "\n",
    "* `import urllib.request`: `urllib.request` 모듈을 가져옵니다. 이 모듈은 URL을 열고 데이터를 가져오는 데 사용됩니다. 즉, 인터넷에서 파일을 다운로드하는 기능을 제공합니다.\n",
    "\n",
    "* `urllib.request.urlretrieve(\"https://cf-courses-data.s3.us.cloud-object-storage.appdomain.cloud/IBMDeveloperSkillsNetwork-PY0101EN-SkillsNetwork/labs/Module%205/data/file_example_XLSX_10.xlsx\", \"sample.xlsx\")`: `urllib.request` 모듈의 `urlretrieve` 함수를 사용하여 지정된 URL에서 파일을 다운로드합니다.\n",
    "\n",
    "    * 첫 번째 인자(`\"https://cf-courses-data.s3.us.cloud-object-storage.appdomain.cloud/IBMDeveloperSkillsNetwork-PY0101EN-SkillsNetwork/labs/Module%205/data/file_example_XLSX_10.xlsx\"`)는 다운로드할 파일의 URL입니다.\n",
    "    * 두 번째 인자(`\"sample.xlsx\"`)는 다운로드한 파일을 저장할 로컬 파일의 이름입니다.\n",
    "\n",
    "즉, 이 코드는 Excel 파일을 다운로드하여 \"sample.xlsx\"라는 이름으로 로컬 컴퓨터에 저장하는 역할을 합니다.\n",
    "\n",
    "이 코드가 주석 처리된 이유는 해당 코드가 실행되는 환경에 이미 \"sample.xlsx\" 파일이 존재하거나, 파일을 다운로드할 필요가 없는 경우를 가정하기 때문입니다. 예를 들어, 클라우드 환경에서 코드를 실행하는 경우, 필요한 파일이 이미 환경에 포함되어 있을 수 있습니다.\n",
    "\n",
    "만약 로컬 환경에서 이 코드를 실행하고 \"sample.xlsx\" 파일이 없다면 주석을 제거하고 코드를 실행해야 합니다. 그러면 코드가 실행되면서 필요한 파일을 다운로드합니다.\n",
    "\n",
    "</div>"
   ]
  },
  {
   "cell_type": "code",
   "execution_count": 50,
   "id": "33805ea5",
   "metadata": {},
   "outputs": [],
   "source": [
    "filename = 'sample.xlsx'\n",
    "df = pd.read_excel(filename)"
   ]
  },
  {
   "cell_type": "code",
   "execution_count": 51,
   "id": "7c37aa1f",
   "metadata": {},
   "outputs": [
    {
     "data": {
      "text/html": [
       "<div>\n",
       "<style scoped>\n",
       "    .dataframe tbody tr th:only-of-type {\n",
       "        vertical-align: middle;\n",
       "    }\n",
       "\n",
       "    .dataframe tbody tr th {\n",
       "        vertical-align: top;\n",
       "    }\n",
       "\n",
       "    .dataframe thead th {\n",
       "        text-align: right;\n",
       "    }\n",
       "</style>\n",
       "<table border=\"1\" class=\"dataframe\">\n",
       "  <thead>\n",
       "    <tr style=\"text-align: right;\">\n",
       "      <th></th>\n",
       "      <th>0</th>\n",
       "      <th>First Name</th>\n",
       "      <th>Last Name</th>\n",
       "      <th>Gender</th>\n",
       "      <th>Country</th>\n",
       "      <th>Age</th>\n",
       "      <th>Date</th>\n",
       "      <th>Id</th>\n",
       "    </tr>\n",
       "  </thead>\n",
       "  <tbody>\n",
       "    <tr>\n",
       "      <th>0</th>\n",
       "      <td>1</td>\n",
       "      <td>Dulce</td>\n",
       "      <td>Abril</td>\n",
       "      <td>Female</td>\n",
       "      <td>United States</td>\n",
       "      <td>32</td>\n",
       "      <td>15/10/2017</td>\n",
       "      <td>1562</td>\n",
       "    </tr>\n",
       "    <tr>\n",
       "      <th>1</th>\n",
       "      <td>2</td>\n",
       "      <td>Mara</td>\n",
       "      <td>Hashimoto</td>\n",
       "      <td>Female</td>\n",
       "      <td>Great Britain</td>\n",
       "      <td>25</td>\n",
       "      <td>16/08/2016</td>\n",
       "      <td>1582</td>\n",
       "    </tr>\n",
       "    <tr>\n",
       "      <th>2</th>\n",
       "      <td>3</td>\n",
       "      <td>Philip</td>\n",
       "      <td>Gent</td>\n",
       "      <td>Male</td>\n",
       "      <td>France</td>\n",
       "      <td>36</td>\n",
       "      <td>21/05/2015</td>\n",
       "      <td>2587</td>\n",
       "    </tr>\n",
       "    <tr>\n",
       "      <th>3</th>\n",
       "      <td>4</td>\n",
       "      <td>Kathleen</td>\n",
       "      <td>Hanner</td>\n",
       "      <td>Female</td>\n",
       "      <td>United States</td>\n",
       "      <td>25</td>\n",
       "      <td>15/10/2017</td>\n",
       "      <td>3549</td>\n",
       "    </tr>\n",
       "    <tr>\n",
       "      <th>4</th>\n",
       "      <td>5</td>\n",
       "      <td>Nereida</td>\n",
       "      <td>Magwood</td>\n",
       "      <td>Female</td>\n",
       "      <td>United States</td>\n",
       "      <td>58</td>\n",
       "      <td>16/08/2016</td>\n",
       "      <td>2468</td>\n",
       "    </tr>\n",
       "    <tr>\n",
       "      <th>5</th>\n",
       "      <td>6</td>\n",
       "      <td>Gaston</td>\n",
       "      <td>Brumm</td>\n",
       "      <td>Male</td>\n",
       "      <td>United States</td>\n",
       "      <td>24</td>\n",
       "      <td>21/05/2015</td>\n",
       "      <td>2554</td>\n",
       "    </tr>\n",
       "    <tr>\n",
       "      <th>6</th>\n",
       "      <td>7</td>\n",
       "      <td>Etta</td>\n",
       "      <td>Hurn</td>\n",
       "      <td>Female</td>\n",
       "      <td>Great Britain</td>\n",
       "      <td>56</td>\n",
       "      <td>15/10/2017</td>\n",
       "      <td>3598</td>\n",
       "    </tr>\n",
       "    <tr>\n",
       "      <th>7</th>\n",
       "      <td>8</td>\n",
       "      <td>Earlean</td>\n",
       "      <td>Melgar</td>\n",
       "      <td>Female</td>\n",
       "      <td>United States</td>\n",
       "      <td>27</td>\n",
       "      <td>16/08/2016</td>\n",
       "      <td>2456</td>\n",
       "    </tr>\n",
       "    <tr>\n",
       "      <th>8</th>\n",
       "      <td>9</td>\n",
       "      <td>Vincenza</td>\n",
       "      <td>Weiland</td>\n",
       "      <td>Female</td>\n",
       "      <td>United States</td>\n",
       "      <td>40</td>\n",
       "      <td>21/05/2015</td>\n",
       "      <td>6548</td>\n",
       "    </tr>\n",
       "  </tbody>\n",
       "</table>\n",
       "</div>"
      ],
      "text/plain": [
       "   0 First Name  Last Name  Gender        Country  Age        Date    Id\n",
       "0  1      Dulce      Abril  Female  United States   32  15/10/2017  1562\n",
       "1  2       Mara  Hashimoto  Female  Great Britain   25  16/08/2016  1582\n",
       "2  3     Philip       Gent    Male         France   36  21/05/2015  2587\n",
       "3  4   Kathleen     Hanner  Female  United States   25  15/10/2017  3549\n",
       "4  5    Nereida    Magwood  Female  United States   58  16/08/2016  2468\n",
       "5  6     Gaston      Brumm    Male  United States   24  21/05/2015  2554\n",
       "6  7       Etta       Hurn  Female  Great Britain   56  15/10/2017  3598\n",
       "7  8    Earlean     Melgar  Female  United States   27  16/08/2016  2456\n",
       "8  9   Vincenza    Weiland  Female  United States   40  21/05/2015  6548"
      ]
     },
     "execution_count": 51,
     "metadata": {},
     "output_type": "execute_result"
    }
   ],
   "source": [
    "df"
   ]
  },
  {
   "cell_type": "markdown",
   "id": "af7643ab",
   "metadata": {},
   "source": [
    "<a id=xml></a>\n",
    "# XML file format\n",
    "\n",
    "**XML은 Extensible Markup Language(확장 가능 마크업 언어)**라고도 불립니다.  \n",
    "이름에서 알 수 있듯이, **마크업 언어**이며 데이터를 인코딩하기 위한 특정 규칙을 가지고 있습니다.  \n",
    "**XML 파일 형식**은 **사람이 읽을 수 있고 기계도 읽을 수 있는 파일 형식**입니다.\n",
    "\n",
    "---\n",
    "\n",
    "Pandas는 **XML 파일을 읽거나 쓰는 메서드를 기본적으로 포함하고 있지 않습니다**.  \n",
    "따라서 **다른 모듈을 사용**하여 XML 파일에서 데이터를 읽고, **Pandas DataFrame**에 로드하는 방법을 알아보겠습니다."
   ]
  },
  {
   "cell_type": "markdown",
   "id": "49a745e9",
   "metadata": {},
   "source": [
    "<div class=\"alert alert-block alert-success\">\n",
    "\n",
    "### **xml.etree.ElementTree를 사용하여 XML 파일 작성하기**\n",
    "\n",
    "**`xml.etree.ElementTree`** 모듈은 **Python에 내장된 XML 처리 모듈**입니다.  \n",
    "이 모듈은 **XML 문서를 파싱(분석)하고 생성하는 기능**을 제공합니다.\n",
    "\n",
    "---\n",
    "\n",
    "### 📌 **ElementTree 개념**  \n",
    "- **ElementTree**는 **XML 문서**를 **트리(Tree) 구조**로 나타냅니다.  \n",
    "- **XML 문서의 각 노드(Node)**는 **요소(Element)** 또는 **하위 요소(Sub-element)**로 구성되며, 이를 통해 XML 파일 내에서 **이동 및 탐색**할 수 있습니다.\n",
    "\n",
    "---\n",
    "\n",
    "### 🔗 **더 많은 정보:**  \n",
    "[**xml.etree.ElementTree 공식 문서**](https://docs.python.org/3/library/xml.etree.elementtree.html?utm_medium=Exinfluencer&utm_source=Exinfluencer&utm_content=000026UJ&utm_term=10006555&utm_id=NA-SkillsNetwork-Channel-SkillsNetworkCoursesIBMDeveloperSkillsNetworkPY0101ENSkillsNetwork19487395-2021-01-01)\n",
    "</div>"
   ]
  },
  {
   "cell_type": "code",
   "execution_count": 52,
   "id": "ba77bb70",
   "metadata": {},
   "outputs": [],
   "source": [
    "import xml.etree.ElementTree as ET\n",
    "\n",
    "# create the file structure\n",
    "employee = ET.Element('employee')\n",
    "details = ET.SubElement(employee, 'details')\n",
    "first = ET.SubElement(details, 'firstname')\n",
    "second = ET.SubElement(details, 'lastname')\n",
    "third = ET.SubElement(details, 'age')\n",
    "first.text = 'Shiv'\n",
    "second.text = 'Mishra'\n",
    "third.text = '23'\n",
    "\n",
    "# create a new XML file with the results\n",
    "mydata1 = ET.ElementTree(employee)\n",
    "with open(\"new_sample.xml\", \"wb\") as f:\n",
    "    mydata1.write(f)"
   ]
  },
  {
   "cell_type": "markdown",
   "id": "3ccabef9",
   "metadata": {},
   "source": [
    "### **xml.etree.ElementTree를 사용하여 XML 데이터 읽기**\n",
    "\n",
    "이제 **XML 데이터를 읽고 Pandas DataFrame에 넣는 방법 중 하나**를 살펴보겠습니다.  \n",
    "로컬 컴퓨터의 **메모장(Notepad)**에서 XML 파일을 열어 확인할 수 있습니다."
   ]
  },
  {
   "cell_type": "code",
   "execution_count": 57,
   "id": "b9f7f02b",
   "metadata": {},
   "outputs": [
    {
     "data": {
      "text/plain": [
       "('Sample-employee-XML-file.xml', <http.client.HTTPMessage at 0x17b4cb85f40>)"
      ]
     },
     "execution_count": 57,
     "metadata": {},
     "output_type": "execute_result"
    }
   ],
   "source": [
    "import urllib.request\n",
    "URL = \"https://cf-courses-data.s3.us.cloud-object-storage.appdomain.cloud/IBMDeveloperSkillsNetwork-PY0101EN-SkillsNetwork/labs/Module%205/data/Sample-employee-XML-file.xml\"\n",
    "save_file_name = \"Sample-employee-XML-file.xml\"\n",
    "urllib.request.urlretrieve(URL, save_file_name)"
   ]
  },
  {
   "cell_type": "markdown",
   "id": "d7b8ebc1",
   "metadata": {},
   "source": [
    "먼저 **XML 파일을 파싱(parse)**하여 **데이터프레임의 열(column) 리스트**를 생성해야 합니다.  \n",
    "그런 다음, **XML 파일에서 유용한 정보를 추출**하여 **Pandas 데이터프레임**에 추가할 수 있습니다.\n",
    "\n",
    "다음은 이를 위한 **샘플 코드**입니다:"
   ]
  },
  {
   "cell_type": "code",
   "execution_count": 71,
   "id": "513ac994",
   "metadata": {},
   "outputs": [
    {
     "name": "stdout",
     "output_type": "stream",
     "text": [
      "<?xml version=\"1.0\" encoding=\"UTF-8\"?>\n",
      "<?xml-stylesheet type='text/xsl'?> \n",
      "<employees>\n",
      "    <details>\n",
      "        <firstname>Shiv</firstname>\n",
      "        <lastname>Mishra</lastname>\n",
      "        <title>Engineer</title>\n",
      "        <division>Computer</division>\n",
      "        <building>301</building>\n",
      "        <room>11</room>\n",
      "    </details> \n",
      "    <details>\n",
      "        <firstname>Yuh</firstname>\n",
      "        <lastname>Datta</lastname>\n",
      "        <title>developer</title>\n",
      "        <division>Computer</division>\n",
      "        <building>303</building>\n",
      "        <room>02</room>\n",
      "    </details> \n",
      "    <details>\n",
      "        <firstname>Rahil</firstname>\n",
      "        <lastname>Khan</lastname>\n",
      "        <title>Tester</title>\n",
      "        <division>Computer</division>\n",
      "        <building>304</building>\n",
      "        <room>10</room>\n",
      "    </details> \n",
      "    <details>\n",
      "        <firstname>Deep</firstname>\n",
      "        <lastname>Parekh</lastname>\n",
      "        <title>Designer</title>\n",
      "        <division>Computer</division>\n",
      "        <building>305</building>\n",
      "        <room>14</room>\n",
      "    </details>\n",
      "    \n",
      "</employees>\n",
      "\n"
     ]
    }
   ],
   "source": [
    "with open(save_file_name, 'r') as f:\n",
    "    content = f.read()\n",
    "    print(content)"
   ]
  },
  {
   "cell_type": "code",
   "execution_count": 72,
   "id": "c5c47b4c",
   "metadata": {},
   "outputs": [],
   "source": [
    "import xml.etree.ElementTree as ET\n",
    "\n",
    "# Parse the XML file\n",
    "tree = ET.parse(save_file_name)\n",
    "\n",
    "# Get the root of the XML tree\n",
    "root = tree.getroot()"
   ]
  },
  {
   "cell_type": "code",
   "execution_count": 73,
   "id": "cab43e5a",
   "metadata": {},
   "outputs": [
    {
     "data": {
      "text/plain": [
       "'employees'"
      ]
     },
     "execution_count": 73,
     "metadata": {},
     "output_type": "execute_result"
    }
   ],
   "source": [
    "root.tag"
   ]
  },
  {
   "cell_type": "code",
   "execution_count": 74,
   "id": "adf22c73",
   "metadata": {},
   "outputs": [
    {
     "data": {
      "text/plain": [
       "{}"
      ]
     },
     "execution_count": 74,
     "metadata": {},
     "output_type": "execute_result"
    }
   ],
   "source": [
    "root.attrib"
   ]
  },
  {
   "cell_type": "code",
   "execution_count": 83,
   "id": "9db4cbed",
   "metadata": {},
   "outputs": [],
   "source": [
    "# Define the columns for the DataFrame\n",
    "columns = ['firstname','lastname','title','division','building','room']\n",
    "\n",
    "# Initialize an empty DataFrame\n",
    "dataframe = pd.DataFrame(columns = columns)"
   ]
  },
  {
   "cell_type": "code",
   "execution_count": 84,
   "id": "bc8cab7c",
   "metadata": {},
   "outputs": [
    {
     "data": {
      "text/html": [
       "<div>\n",
       "<style scoped>\n",
       "    .dataframe tbody tr th:only-of-type {\n",
       "        vertical-align: middle;\n",
       "    }\n",
       "\n",
       "    .dataframe tbody tr th {\n",
       "        vertical-align: top;\n",
       "    }\n",
       "\n",
       "    .dataframe thead th {\n",
       "        text-align: right;\n",
       "    }\n",
       "</style>\n",
       "<table border=\"1\" class=\"dataframe\">\n",
       "  <thead>\n",
       "    <tr style=\"text-align: right;\">\n",
       "      <th></th>\n",
       "      <th>firstname</th>\n",
       "      <th>lastname</th>\n",
       "      <th>title</th>\n",
       "      <th>division</th>\n",
       "      <th>building</th>\n",
       "      <th>room</th>\n",
       "    </tr>\n",
       "  </thead>\n",
       "  <tbody>\n",
       "  </tbody>\n",
       "</table>\n",
       "</div>"
      ],
      "text/plain": [
       "Empty DataFrame\n",
       "Columns: [firstname, lastname, title, division, building, room]\n",
       "Index: []"
      ]
     },
     "execution_count": 84,
     "metadata": {},
     "output_type": "execute_result"
    }
   ],
   "source": [
    "dataframe"
   ]
  },
  {
   "cell_type": "code",
   "execution_count": 87,
   "id": "a028331e",
   "metadata": {},
   "outputs": [],
   "source": [
    "# Iterate through each node in the XML root\n",
    "for node in root:\n",
    "    # Extract text from each element\n",
    "    firstname = node.find(\"firstname\").text\n",
    "    lastname = node.find(\"lastname\").text\n",
    "    title = node.find(\"title\").text\n",
    "    division = node.find('division').text\n",
    "    building = node.find(\"building\").text\n",
    "    room = node.find(\"room\").text\n",
    "    \n",
    "    # Create a DataFrame for the current row\n",
    "    row_df = pd.DataFrame([[firstname, lastname, title, division, building, room]], columns=columns)\n",
    "    \n",
    "    # Concatenate with the existing DataFrame\n",
    "    dataframe = pd.concat([dataframe, row_df], ignore_index=True)"
   ]
  },
  {
   "cell_type": "code",
   "execution_count": 88,
   "id": "843f5525",
   "metadata": {},
   "outputs": [
    {
     "data": {
      "text/html": [
       "<div>\n",
       "<style scoped>\n",
       "    .dataframe tbody tr th:only-of-type {\n",
       "        vertical-align: middle;\n",
       "    }\n",
       "\n",
       "    .dataframe tbody tr th {\n",
       "        vertical-align: top;\n",
       "    }\n",
       "\n",
       "    .dataframe thead th {\n",
       "        text-align: right;\n",
       "    }\n",
       "</style>\n",
       "<table border=\"1\" class=\"dataframe\">\n",
       "  <thead>\n",
       "    <tr style=\"text-align: right;\">\n",
       "      <th></th>\n",
       "      <th>firstname</th>\n",
       "      <th>lastname</th>\n",
       "      <th>title</th>\n",
       "      <th>division</th>\n",
       "      <th>building</th>\n",
       "      <th>room</th>\n",
       "    </tr>\n",
       "  </thead>\n",
       "  <tbody>\n",
       "    <tr>\n",
       "      <th>0</th>\n",
       "      <td>Shiv</td>\n",
       "      <td>Mishra</td>\n",
       "      <td>Engineer</td>\n",
       "      <td>Computer</td>\n",
       "      <td>301</td>\n",
       "      <td>11</td>\n",
       "    </tr>\n",
       "    <tr>\n",
       "      <th>1</th>\n",
       "      <td>Yuh</td>\n",
       "      <td>Datta</td>\n",
       "      <td>developer</td>\n",
       "      <td>Computer</td>\n",
       "      <td>303</td>\n",
       "      <td>02</td>\n",
       "    </tr>\n",
       "    <tr>\n",
       "      <th>2</th>\n",
       "      <td>Rahil</td>\n",
       "      <td>Khan</td>\n",
       "      <td>Tester</td>\n",
       "      <td>Computer</td>\n",
       "      <td>304</td>\n",
       "      <td>10</td>\n",
       "    </tr>\n",
       "    <tr>\n",
       "      <th>3</th>\n",
       "      <td>Deep</td>\n",
       "      <td>Parekh</td>\n",
       "      <td>Designer</td>\n",
       "      <td>Computer</td>\n",
       "      <td>305</td>\n",
       "      <td>14</td>\n",
       "    </tr>\n",
       "  </tbody>\n",
       "</table>\n",
       "</div>"
      ],
      "text/plain": [
       "  firstname lastname      title  division building room\n",
       "0      Shiv   Mishra   Engineer  Computer      301   11\n",
       "1       Yuh    Datta  developer  Computer      303   02\n",
       "2     Rahil     Khan     Tester  Computer      304   10\n",
       "3      Deep   Parekh   Designer  Computer      305   14"
      ]
     },
     "execution_count": 88,
     "metadata": {},
     "output_type": "execute_result"
    }
   ],
   "source": [
    "dataframe"
   ]
  },
  {
   "cell_type": "markdown",
   "id": "a91a506f",
   "metadata": {},
   "source": [
    "### **pandas.read_xml 함수로 XML 파일 읽기**\n",
    "\n",
    "**Pandas 라이브러리**의 **`read_xml` 함수**를 사용하여 **다운로드한 XML 파일**을 읽을 수 있습니다.  \n",
    "이 함수는 **DataFrame 객체**를 반환합니다.\n",
    "\n",
    "더 자세한 내용은 [**pandas.read_xml 문서**](https://pandas.pydata.org/pandas-docs/dev/reference/api/pandas.read_xml.html?utm_medium=Exinfluencer&utm_source=Exinfluencer&utm_content=000026UJ&utm_term=10006555&utm_id=NA-SkillsNetwork-Channel-SkillsNetworkCoursesIBMDeveloperSkillsNetworkPY0101ENSkillsNetwork19487395-2021-01-01#pandas-read-xml)를 참조하세요."
   ]
  },
  {
   "cell_type": "code",
   "execution_count": 92,
   "id": "f7a08e1a",
   "metadata": {},
   "outputs": [
    {
     "data": {
      "text/html": [
       "<div>\n",
       "<style scoped>\n",
       "    .dataframe tbody tr th:only-of-type {\n",
       "        vertical-align: middle;\n",
       "    }\n",
       "\n",
       "    .dataframe tbody tr th {\n",
       "        vertical-align: top;\n",
       "    }\n",
       "\n",
       "    .dataframe thead th {\n",
       "        text-align: right;\n",
       "    }\n",
       "</style>\n",
       "<table border=\"1\" class=\"dataframe\">\n",
       "  <thead>\n",
       "    <tr style=\"text-align: right;\">\n",
       "      <th></th>\n",
       "      <th>firstname</th>\n",
       "      <th>lastname</th>\n",
       "      <th>title</th>\n",
       "      <th>division</th>\n",
       "      <th>building</th>\n",
       "      <th>room</th>\n",
       "    </tr>\n",
       "  </thead>\n",
       "  <tbody>\n",
       "    <tr>\n",
       "      <th>0</th>\n",
       "      <td>Shiv</td>\n",
       "      <td>Mishra</td>\n",
       "      <td>Engineer</td>\n",
       "      <td>Computer</td>\n",
       "      <td>301</td>\n",
       "      <td>11</td>\n",
       "    </tr>\n",
       "    <tr>\n",
       "      <th>1</th>\n",
       "      <td>Yuh</td>\n",
       "      <td>Datta</td>\n",
       "      <td>developer</td>\n",
       "      <td>Computer</td>\n",
       "      <td>303</td>\n",
       "      <td>2</td>\n",
       "    </tr>\n",
       "    <tr>\n",
       "      <th>2</th>\n",
       "      <td>Rahil</td>\n",
       "      <td>Khan</td>\n",
       "      <td>Tester</td>\n",
       "      <td>Computer</td>\n",
       "      <td>304</td>\n",
       "      <td>10</td>\n",
       "    </tr>\n",
       "    <tr>\n",
       "      <th>3</th>\n",
       "      <td>Deep</td>\n",
       "      <td>Parekh</td>\n",
       "      <td>Designer</td>\n",
       "      <td>Computer</td>\n",
       "      <td>305</td>\n",
       "      <td>14</td>\n",
       "    </tr>\n",
       "  </tbody>\n",
       "</table>\n",
       "</div>"
      ],
      "text/plain": [
       "  firstname lastname      title  division  building  room\n",
       "0      Shiv   Mishra   Engineer  Computer       301    11\n",
       "1       Yuh    Datta  developer  Computer       303     2\n",
       "2     Rahil     Khan     Tester  Computer       304    10\n",
       "3      Deep   Parekh   Designer  Computer       305    14"
      ]
     },
     "execution_count": 92,
     "metadata": {},
     "output_type": "execute_result"
    }
   ],
   "source": [
    "df = pd.read_xml(save_file_name, xpath='/employees/details')\n",
    "df"
   ]
  },
  {
   "cell_type": "markdown",
   "id": "e9dc688e",
   "metadata": {},
   "source": [
    "### Save Data\n",
    "\n",
    "Pandas를 사용하면 **`dataframe.to_csv()`** 메서드를 통해 **데이터셋을 CSV 파일로 저장**할 수 있습니다.  \n",
    "이때, **파일 경로**와 **파일 이름**을 따옴표 안에 입력하여 메서드의 괄호 안에 전달하면 됩니다.\n",
    "\n",
    "예를 들어, **`df` 데이터프레임을 `employee.csv`**라는 이름으로 **로컬 컴퓨터에 저장**하려면 아래 구문을 사용할 수 있습니다:\n",
    "\n",
    "```python\n",
    "df.to_csv(\"employee.csv\")\n",
    "```"
   ]
  },
  {
   "cell_type": "code",
   "execution_count": 94,
   "id": "5d1f16c0",
   "metadata": {},
   "outputs": [],
   "source": [
    "dataframe.to_csv(\"employee.csv\", index=False)"
   ]
  },
  {
   "cell_type": "markdown",
   "id": "1e8f0185",
   "metadata": {},
   "source": [
    "우리는 **CSV** 외의 **다른 파일 형식**도 읽고 저장할 수 있습니다.  \n",
    "이를 위해 **`pd.read_csv()`** 및 **`df.to_csv()`**와 유사한 함수를 사용할 수 있으며, 각 데이터 형식에 맞는 함수는 다음 표와 같습니다.\n",
    "\n",
    "| **파일 형식**      | **읽기 함수**              | **저장 함수**               |\n",
    "|--------------------|---------------------------|-----------------------------|\n",
    "| CSV                | `pd.read_csv()`           | `df.to_csv()`               |\n",
    "| Excel (XLSX)       | `pd.read_excel()`         | `df.to_excel()`             |\n",
    "| JSON               | `pd.read_json()`          | `df.to_json()`              |\n",
    "| XML                | `pd.read_xml()`           | `df.to_xml()`               |\n",
    "| HTML               | `pd.read_html()`          | `df.to_html()`              |\n",
    "| SQL Database       | `pd.read_sql()`           | `df.to_sql()`               |\n",
    "| Parquet            | `pd.read_parquet()`       | `df.to_parquet()`           |\n",
    "\n",
    "### 🔎 **설명:**  \n",
    "- **읽기 함수**: 다양한 파일 형식의 데이터를 **데이터프레임으로 읽어오는 함수**  \n",
    "- **저장 함수**: **데이터프레임을 특정 파일 형식으로 저장**하는 함수  \n",
    "\n",
    "위 함수들을 사용하면 Pandas에서 **다양한 데이터 파일을 손쉽게 처리**할 수 있습니다. 😊"
   ]
  },
  {
   "cell_type": "markdown",
   "id": "696c6e02",
   "metadata": {},
   "source": [
    "# **바이너리 파일 형식 (Binary File Format)**\n",
    "\n",
    "**\"바이너리 파일\"**은 사람이 읽을 수 있는 **문자**로 구성되지 않은 파일을 의미합니다.  \n",
    "이 파일들은 특정 **애플리케이션**이나 **프로세서**만이 이해할 수 있는 **포맷 정보**를 포함하고 있습니다.  \n",
    "사람은 **텍스트 파일**을 직접 읽을 수 있지만, **바이너리 파일**은 **적절한 소프트웨어 또는 프로세서**를 통해 실행해야 내용을 볼 수 있습니다.\n",
    "\n",
    "---\n",
    "\n",
    "### **📂 바이너리 파일의 예시:**\n",
    "- **이미지 파일**: JPEG, GIF  \n",
    "- **오디오 파일**: MP3  \n",
    "- **문서 파일**: Word, PDF  \n",
    "\n",
    "---\n",
    "\n",
    "## **이미지 파일 읽기**\n",
    "\n",
    "Python은 **이미지 처리**에 있어 매우 강력한 도구를 제공합니다.  \n",
    "이제 Python에서 **이미지 파일을 처리하는 방법**을 살펴보겠습니다.\n",
    "\n",
    "---\n",
    "\n",
    "### **🔧 PIL(Python Imaging Library) 소개**\n",
    "\n",
    "**PIL**은 **Python Imaging Library**로, Python 인터프리터에 **이미지 편집 기능**을 제공합니다.  \n",
    "이를 사용하면 이미지 파일을 **읽고, 수정하고, 저장**할 수 있습니다.\n",
    "\n",
    "Pillow라는 라이브러리로도 확장되었으며,  \n",
    "다음과 같은 이미지 처리 기능을 제공합니다:\n",
    "\n",
    "- 이미지 **열기** 및 **저장**  \n",
    "- 이미지 **크기 조절**  \n",
    "- **필터** 적용  \n",
    "- **포맷 변환**  \n",
    "- 이미지 **회전 및 자르기**  \n",
    "\n",
    "Pillow를 사용하면 다양한 **이미지 포맷(JPEG, PNG, BMP, GIF 등)**을 처리할 수 있습니다. 😊"
   ]
  },
  {
   "cell_type": "code",
   "execution_count": 95,
   "id": "492f4800",
   "metadata": {},
   "outputs": [
    {
     "data": {
      "text/plain": [
       "('dog.jpg', <http.client.HTTPMessage at 0x17b4e3a58b0>)"
      ]
     },
     "execution_count": 95,
     "metadata": {},
     "output_type": "execute_result"
    }
   ],
   "source": [
    "import urllib.request\n",
    "\n",
    "URL = \"https://hips.hearstapps.com/hmg-prod.s3.amazonaws.com/images/dog-puppy-on-garden-royalty-free-image-1586966191.jpg\"\n",
    "\n",
    "urllib.request.urlretrieve(URL, 'dog.jpg')"
   ]
  },
  {
   "cell_type": "code",
   "execution_count": 97,
   "id": "449bb4fb",
   "metadata": {},
   "outputs": [
    {
     "data": {
      "image/png": "[encoded data removed]",
      "text/plain": [
       "<Figure size 432x288 with 1 Axes>"
      ]
     },
     "metadata": {
      "needs_background": "light"
     },
     "output_type": "display_data"
    }
   ],
   "source": [
    "# importing PIL \n",
    "from PIL import Image \n",
    "import matplotlib.pyplot as plt\n",
    "\n",
    "# Read Image\n",
    "img = Image.open(\"dog.jpg\", 'r')\n",
    "\n",
    "# Output Images\n",
    "plt.imshow(img)\n",
    "plt.show()"
   ]
  },
  {
   "cell_type": "markdown",
   "id": "50876628",
   "metadata": {},
   "source": [
    "<div class='alert alert-block alert-success'>\n",
    "    [Tip] \n",
    "    <p><code>plot.imshow()</code>함수를 사용해 주피터 노트북에 바로 이미지 출력시 나타나는 x축과 y축의 숫자는 <b>이미지의 픽셀 좌표</b>를 나타냅니다.</p>\n",
    "    <li>이미지 왼쪽 상단이 (0, 0) 시작점 입니다.</li>\n",
    "    <li>만약 640 x 480 크기의 이미지를 출력시, x축은 0~639, y축은 0~479까지의 숫자가 표시됩니다.</li>\n",
    "</div>"
   ]
  },
  {
   "cell_type": "markdown",
   "id": "0ce13b57",
   "metadata": {},
   "source": [
    "<a id=data></a>\n",
    "# Data Analysis\n",
    "\n",
    "이 섹션에서는 **데이터 수집(Data Acquisition)**을 다양한 방법으로 접근하고, **데이터셋에서 필요한 인사이트를 얻는 방법**을 배우게 됩니다.  \n",
    "이 실습이 끝날 때쯤이면, **Jupyter Notebook**에 데이터를 성공적으로 로드하고, **Pandas 라이브러리**를 사용해 **기본적인 인사이트**를 도출할 수 있을 것입니다.\n",
    "\n",
    "---\n",
    "\n",
    "### 📂 **데이터셋 예제: Diabetes Dataset**\n",
    "\n",
    "이번 실습에서는 **Diabetes Dataset**을 사용합니다.  \n",
    "이 데이터셋은 **온라인 소스**에서 제공되며, **CSV(Comma Separated Value)** 형식으로 되어 있습니다.  \n",
    "이제 이 데이터셋을 예시로 사용하여 **데이터 읽기** 연습을 해보겠습니다. 😊"
   ]
  },
  {
   "cell_type": "markdown",
   "id": "b73b93cd",
   "metadata": {},
   "source": [
    "## **About this Dataset**\n",
    "\n",
    "### 📚 **Context:**  \n",
    "이 데이터셋은 원래 **National Institute of Diabetes and Digestive and Kidney Diseases(미국 국립 당뇨병, 소화기 및 신장 질환 연구소)**에서 제공된 것입니다.  \n",
    "이 데이터셋의 목적은 **특정 진단 측정치**를 기반으로 **환자가 당뇨병을 가지고 있는지 예측**하는 것입니다.  \n",
    "데이터는 더 큰 데이터베이스에서 **여러 조건을 적용해 선택**되었으며,  \n",
    "특히 이 데이터셋에 포함된 모든 환자는 **21세 이상의 Pima Indian 혈통 여성**입니다.\n",
    "\n",
    "---\n",
    "\n",
    "### 📊 **Content:**  \n",
    "이 데이터셋은 여러 **의료 예측 변수(predictor variables)**와 **하나의 타겟 변수(target variable)**로 구성되어 있습니다.  \n",
    "- **타겟 변수(Target Variable):** **Outcome** (당뇨병 여부를 나타냄)  \n",
    "- **예측 변수(Predictor Variables):**  \n",
    "  - 환자의 **임신 횟수(Pregnancies)**  \n",
    "  - **BMI(체질량지수)**  \n",
    "  - **인슐린 수치(Insulin Level)**  \n",
    "  - **나이(Age)**  \n",
    "  - 그 외 여러 건강 관련 지표들이 포함되어 있습니다.\n",
    "\n",
    "---\n",
    "\n",
    "### ✏️ **목적:**  \n",
    "이 데이터셋을 활용해 **환자가 당뇨병을 앓고 있는지 여부**를 예측하고 분석하는 모델을 구축할 수 있습니다."
   ]
  },
  {
   "cell_type": "markdown",
   "id": "d7f95e23",
   "metadata": {},
   "source": [
    "이 데이터셋은 총 **768개의 행(rows)**과 **9개의 열(columns)**로 구성되어 있습니다.\n",
    "\n",
    "- **처음 8개의 열**은 **특징(features)**을 나타냅니다.  \n",
    "- **마지막 열**은 **타겟(target)** 또는 **레이블(label)**을 나타냅니다.  \n",
    "\n",
    "즉, 이 데이터셋은 **8개의 예측 변수**와 **1개의 결과 변수(Outcome)**로 이루어져 있습니다."
   ]
  },
  {
   "cell_type": "code",
   "execution_count": 98,
   "id": "aebeddb8",
   "metadata": {},
   "outputs": [],
   "source": [
    "# import pandas library\n",
    "\n",
    "import pandas as pd"
   ]
  },
  {
   "cell_type": "code",
   "execution_count": 99,
   "id": "e79ae2ad",
   "metadata": {},
   "outputs": [
    {
     "data": {
      "text/plain": [
       "('diabets.csv', <http.client.HTTPMessage at 0x17b4ed93130>)"
      ]
     },
     "execution_count": 99,
     "metadata": {},
     "output_type": "execute_result"
    }
   ],
   "source": [
    "URL = \"https://cf-courses-data.s3.us.cloud-object-storage.appdomain.cloud/IBMDeveloperSkillsNetwork-PY0101EN-SkillsNetwork/labs/Module%205/data/diabetes.csv\"\n",
    "\n",
    "import urllib.request\n",
    "urllib.request.urlretrieve(URL, \"diabets.csv\")"
   ]
  },
  {
   "cell_type": "markdown",
   "id": "c798fda6",
   "metadata": {},
   "source": [
    "데이터셋을 읽은 후, **`dataframe.head(n)`** 메서드를 사용하여 데이터프레임의 **상위 n개 행**을 확인할 수 있습니다. 여기서 **n**은 **정수(integer)**로 입력됩니다.\n",
    "\n",
    "반대로, **`dataframe.tail(n)`** 메서드는 **하위 n개 행**을 보여줍니다.  \n",
    "즉, **`head()`**는 데이터의 앞부분을, **`tail()`**은 데이터의 뒷부분을 확인할 때 사용됩니다."
   ]
  },
  {
   "cell_type": "code",
   "execution_count": 106,
   "id": "f80ab257",
   "metadata": {},
   "outputs": [
    {
     "data": {
      "text/html": [
       "<div>\n",
       "<style scoped>\n",
       "    .dataframe tbody tr th:only-of-type {\n",
       "        vertical-align: middle;\n",
       "    }\n",
       "\n",
       "    .dataframe tbody tr th {\n",
       "        vertical-align: top;\n",
       "    }\n",
       "\n",
       "    .dataframe thead th {\n",
       "        text-align: right;\n",
       "    }\n",
       "</style>\n",
       "<table border=\"1\" class=\"dataframe\">\n",
       "  <thead>\n",
       "    <tr style=\"text-align: right;\">\n",
       "      <th></th>\n",
       "      <th>Pregnancies</th>\n",
       "      <th>Glucose</th>\n",
       "      <th>BloodPressure</th>\n",
       "      <th>SkinThickness</th>\n",
       "      <th>Insulin</th>\n",
       "      <th>BMI</th>\n",
       "      <th>DiabetesPedigreeFunction</th>\n",
       "      <th>Age</th>\n",
       "      <th>Outcome</th>\n",
       "    </tr>\n",
       "  </thead>\n",
       "  <tbody>\n",
       "    <tr>\n",
       "      <th>0</th>\n",
       "      <td>6</td>\n",
       "      <td>148</td>\n",
       "      <td>72</td>\n",
       "      <td>35</td>\n",
       "      <td>0</td>\n",
       "      <td>33.6</td>\n",
       "      <td>0.627</td>\n",
       "      <td>50</td>\n",
       "      <td>1</td>\n",
       "    </tr>\n",
       "    <tr>\n",
       "      <th>1</th>\n",
       "      <td>1</td>\n",
       "      <td>85</td>\n",
       "      <td>66</td>\n",
       "      <td>29</td>\n",
       "      <td>0</td>\n",
       "      <td>26.6</td>\n",
       "      <td>0.351</td>\n",
       "      <td>31</td>\n",
       "      <td>0</td>\n",
       "    </tr>\n",
       "    <tr>\n",
       "      <th>2</th>\n",
       "      <td>8</td>\n",
       "      <td>183</td>\n",
       "      <td>64</td>\n",
       "      <td>0</td>\n",
       "      <td>0</td>\n",
       "      <td>23.3</td>\n",
       "      <td>0.672</td>\n",
       "      <td>32</td>\n",
       "      <td>1</td>\n",
       "    </tr>\n",
       "    <tr>\n",
       "      <th>3</th>\n",
       "      <td>1</td>\n",
       "      <td>89</td>\n",
       "      <td>66</td>\n",
       "      <td>23</td>\n",
       "      <td>94</td>\n",
       "      <td>28.1</td>\n",
       "      <td>0.167</td>\n",
       "      <td>21</td>\n",
       "      <td>0</td>\n",
       "    </tr>\n",
       "    <tr>\n",
       "      <th>4</th>\n",
       "      <td>0</td>\n",
       "      <td>137</td>\n",
       "      <td>40</td>\n",
       "      <td>35</td>\n",
       "      <td>168</td>\n",
       "      <td>43.1</td>\n",
       "      <td>2.288</td>\n",
       "      <td>33</td>\n",
       "      <td>1</td>\n",
       "    </tr>\n",
       "  </tbody>\n",
       "</table>\n",
       "</div>"
      ],
      "text/plain": [
       "   Pregnancies  Glucose  BloodPressure  SkinThickness  Insulin   BMI  \\\n",
       "0            6      148             72             35        0  33.6   \n",
       "1            1       85             66             29        0  26.6   \n",
       "2            8      183             64              0        0  23.3   \n",
       "3            1       89             66             23       94  28.1   \n",
       "4            0      137             40             35      168  43.1   \n",
       "\n",
       "   DiabetesPedigreeFunction  Age  Outcome  \n",
       "0                     0.627   50        1  \n",
       "1                     0.351   31        0  \n",
       "2                     0.672   32        1  \n",
       "3                     0.167   21        0  \n",
       "4                     2.288   33        1  "
      ]
     },
     "execution_count": 106,
     "metadata": {},
     "output_type": "execute_result"
    }
   ],
   "source": [
    "df = pd.read_csv(\"diabets.csv\")\n",
    "\n",
    "# show the first 5 rows using dataframe.head() method\n",
    "df.head(5)"
   ]
  },
  {
   "cell_type": "markdown",
   "id": "bb20e37b",
   "metadata": {},
   "source": [
    "데이터프레임의 **차원(행과 열의 개수)**을 확인하려면 **`.shape`** 속성을 사용합니다."
   ]
  },
  {
   "cell_type": "code",
   "execution_count": 101,
   "id": "ef24e704",
   "metadata": {},
   "outputs": [
    {
     "data": {
      "text/plain": [
       "(768, 9)"
      ]
     },
     "execution_count": 101,
     "metadata": {},
     "output_type": "execute_result"
    }
   ],
   "source": [
    "df.shape"
   ]
  },
  {
   "cell_type": "markdown",
   "id": "af9c84c4",
   "metadata": {},
   "source": [
    "# Statistical Overview of dataset"
   ]
  },
  {
   "cell_type": "code",
   "execution_count": 103,
   "id": "f39adfac",
   "metadata": {},
   "outputs": [
    {
     "name": "stdout",
     "output_type": "stream",
     "text": [
      "<class 'pandas.core.frame.DataFrame'>\n",
      "RangeIndex: 768 entries, 0 to 767\n",
      "Data columns (total 9 columns):\n",
      " #   Column                    Non-Null Count  Dtype  \n",
      "---  ------                    --------------  -----  \n",
      " 0   Pregnancies               768 non-null    int64  \n",
      " 1   Glucose                   768 non-null    int64  \n",
      " 2   BloodPressure             768 non-null    int64  \n",
      " 3   SkinThickness             768 non-null    int64  \n",
      " 4   Insulin                   768 non-null    int64  \n",
      " 5   BMI                       768 non-null    float64\n",
      " 6   DiabetesPedigreeFunction  768 non-null    float64\n",
      " 7   Age                       768 non-null    int64  \n",
      " 8   Outcome                   768 non-null    int64  \n",
      "dtypes: float64(2), int64(7)\n",
      "memory usage: 54.1 KB\n"
     ]
    }
   ],
   "source": [
    "df.info()"
   ]
  },
  {
   "cell_type": "markdown",
   "id": "3a596730",
   "metadata": {},
   "source": [
    "이 메서드는 데이터프레임에 대한 정보를 출력합니다. **인덱스의 데이터 유형(dtype)**, **열 이름**, **널이 아닌(non-null) 값의 개수**, 그리고 **메모리 사용량(memory usage)** 등을 포함합니다.\n",
    "\n",
    "> 🔎 해당 메서드는 **`dataframe.info()`**입니다.  \n",
    "이를 통해 데이터프레임의 **구조와 데이터 타입**을 빠르게 확인할 수 있습니다."
   ]
  },
  {
   "cell_type": "code",
   "execution_count": 104,
   "id": "3a893174",
   "metadata": {},
   "outputs": [
    {
     "data": {
      "text/html": [
       "<div>\n",
       "<style scoped>\n",
       "    .dataframe tbody tr th:only-of-type {\n",
       "        vertical-align: middle;\n",
       "    }\n",
       "\n",
       "    .dataframe tbody tr th {\n",
       "        vertical-align: top;\n",
       "    }\n",
       "\n",
       "    .dataframe thead th {\n",
       "        text-align: right;\n",
       "    }\n",
       "</style>\n",
       "<table border=\"1\" class=\"dataframe\">\n",
       "  <thead>\n",
       "    <tr style=\"text-align: right;\">\n",
       "      <th></th>\n",
       "      <th>Pregnancies</th>\n",
       "      <th>Glucose</th>\n",
       "      <th>BloodPressure</th>\n",
       "      <th>SkinThickness</th>\n",
       "      <th>Insulin</th>\n",
       "      <th>BMI</th>\n",
       "      <th>DiabetesPedigreeFunction</th>\n",
       "      <th>Age</th>\n",
       "      <th>Outcome</th>\n",
       "    </tr>\n",
       "  </thead>\n",
       "  <tbody>\n",
       "    <tr>\n",
       "      <th>count</th>\n",
       "      <td>768.000000</td>\n",
       "      <td>768.000000</td>\n",
       "      <td>768.000000</td>\n",
       "      <td>768.000000</td>\n",
       "      <td>768.000000</td>\n",
       "      <td>768.000000</td>\n",
       "      <td>768.000000</td>\n",
       "      <td>768.000000</td>\n",
       "      <td>768.000000</td>\n",
       "    </tr>\n",
       "    <tr>\n",
       "      <th>mean</th>\n",
       "      <td>3.845052</td>\n",
       "      <td>120.894531</td>\n",
       "      <td>69.105469</td>\n",
       "      <td>20.536458</td>\n",
       "      <td>79.799479</td>\n",
       "      <td>31.992578</td>\n",
       "      <td>0.471876</td>\n",
       "      <td>33.240885</td>\n",
       "      <td>0.348958</td>\n",
       "    </tr>\n",
       "    <tr>\n",
       "      <th>std</th>\n",
       "      <td>3.369578</td>\n",
       "      <td>31.972618</td>\n",
       "      <td>19.355807</td>\n",
       "      <td>15.952218</td>\n",
       "      <td>115.244002</td>\n",
       "      <td>7.884160</td>\n",
       "      <td>0.331329</td>\n",
       "      <td>11.760232</td>\n",
       "      <td>0.476951</td>\n",
       "    </tr>\n",
       "    <tr>\n",
       "      <th>min</th>\n",
       "      <td>0.000000</td>\n",
       "      <td>0.000000</td>\n",
       "      <td>0.000000</td>\n",
       "      <td>0.000000</td>\n",
       "      <td>0.000000</td>\n",
       "      <td>0.000000</td>\n",
       "      <td>0.078000</td>\n",
       "      <td>21.000000</td>\n",
       "      <td>0.000000</td>\n",
       "    </tr>\n",
       "    <tr>\n",
       "      <th>25%</th>\n",
       "      <td>1.000000</td>\n",
       "      <td>99.000000</td>\n",
       "      <td>62.000000</td>\n",
       "      <td>0.000000</td>\n",
       "      <td>0.000000</td>\n",
       "      <td>27.300000</td>\n",
       "      <td>0.243750</td>\n",
       "      <td>24.000000</td>\n",
       "      <td>0.000000</td>\n",
       "    </tr>\n",
       "    <tr>\n",
       "      <th>50%</th>\n",
       "      <td>3.000000</td>\n",
       "      <td>117.000000</td>\n",
       "      <td>72.000000</td>\n",
       "      <td>23.000000</td>\n",
       "      <td>30.500000</td>\n",
       "      <td>32.000000</td>\n",
       "      <td>0.372500</td>\n",
       "      <td>29.000000</td>\n",
       "      <td>0.000000</td>\n",
       "    </tr>\n",
       "    <tr>\n",
       "      <th>75%</th>\n",
       "      <td>6.000000</td>\n",
       "      <td>140.250000</td>\n",
       "      <td>80.000000</td>\n",
       "      <td>32.000000</td>\n",
       "      <td>127.250000</td>\n",
       "      <td>36.600000</td>\n",
       "      <td>0.626250</td>\n",
       "      <td>41.000000</td>\n",
       "      <td>1.000000</td>\n",
       "    </tr>\n",
       "    <tr>\n",
       "      <th>max</th>\n",
       "      <td>17.000000</td>\n",
       "      <td>199.000000</td>\n",
       "      <td>122.000000</td>\n",
       "      <td>99.000000</td>\n",
       "      <td>846.000000</td>\n",
       "      <td>67.100000</td>\n",
       "      <td>2.420000</td>\n",
       "      <td>81.000000</td>\n",
       "      <td>1.000000</td>\n",
       "    </tr>\n",
       "  </tbody>\n",
       "</table>\n",
       "</div>"
      ],
      "text/plain": [
       "       Pregnancies     Glucose  BloodPressure  SkinThickness     Insulin  \\\n",
       "count   768.000000  768.000000     768.000000     768.000000  768.000000   \n",
       "mean      3.845052  120.894531      69.105469      20.536458   79.799479   \n",
       "std       3.369578   31.972618      19.355807      15.952218  115.244002   \n",
       "min       0.000000    0.000000       0.000000       0.000000    0.000000   \n",
       "25%       1.000000   99.000000      62.000000       0.000000    0.000000   \n",
       "50%       3.000000  117.000000      72.000000      23.000000   30.500000   \n",
       "75%       6.000000  140.250000      80.000000      32.000000  127.250000   \n",
       "max      17.000000  199.000000     122.000000      99.000000  846.000000   \n",
       "\n",
       "              BMI  DiabetesPedigreeFunction         Age     Outcome  \n",
       "count  768.000000                768.000000  768.000000  768.000000  \n",
       "mean    31.992578                  0.471876   33.240885    0.348958  \n",
       "std      7.884160                  0.331329   11.760232    0.476951  \n",
       "min      0.000000                  0.078000   21.000000    0.000000  \n",
       "25%     27.300000                  0.243750   24.000000    0.000000  \n",
       "50%     32.000000                  0.372500   29.000000    0.000000  \n",
       "75%     36.600000                  0.626250   41.000000    1.000000  \n",
       "max     67.100000                  2.420000   81.000000    1.000000  "
      ]
     },
     "execution_count": 104,
     "metadata": {},
     "output_type": "execute_result"
    }
   ],
   "source": [
    "df.describe()"
   ]
  },
  {
   "cell_type": "markdown",
   "id": "8be97819",
   "metadata": {},
   "source": [
    "Pandas의 **`describe()`** 메서드는 데이터프레임이나 **숫자 값 시리즈**에 대해 기본적인 **통계 정보**를 확인할 때 사용됩니다.  \n",
    "출력되는 통계 정보에는 다음이 포함됩니다:  \n",
    "\n",
    "- **percentile(백분위수)**  \n",
    "- **mean(평균)**  \n",
    "- **standard deviation(표준 편차)**  \n",
    "- **최소값(min)**, **최대값(max)** 등\n",
    "\n",
    "숫자 데이터에 사용하면 **기본 통계 요약**을 제공하지만,  \n",
    "**문자열 시리즈**에 적용하면 **문자 데이터에 대한 다른 통계 정보**를 반환합니다.  \n",
    "예를 들어, **고유 값 개수**, **가장 빈번한 값** 등이 포함됩니다."
   ]
  },
  {
   "cell_type": "markdown",
   "id": "a8c11980",
   "metadata": {},
   "source": [
    "### **결측값 식별 및 처리 (Identify and Handle Missing Values)**\n",
    "\n",
    "Python에서는 **내장 함수**를 사용하여 **결측값(missing values)**을 식별할 수 있습니다.  \n",
    "결측값을 감지하는 방법은 두 가지가 있습니다:\n",
    "\n",
    "1️⃣ **`.isnull()`**  \n",
    "2️⃣ **`.notnull()`**  \n",
    "\n",
    "---\n",
    "\n",
    "### 🔎 **.isnull()**  \n",
    "- **`.isnull()`** 함수는 **데이터가 결측값인지 여부**를 확인합니다.  \n",
    "- **결과:** 결측값이면 **`True`**, 결측값이 아니면 **`False`**를 반환합니다.\n",
    "\n",
    "### 🔎 **.notnull()**  \n",
    "- **`.notnull()`** 함수는 **데이터가 결측값이 아닌지 여부**를 확인합니다.  \n",
    "- **결과:** 값이 존재하면 **`True`**, 결측값이면 **`False`**를 반환합니다.\n",
    "\n",
    "---\n",
    "\n",
    "### ✅ **출력 결과:**  \n",
    "이 두 함수의 출력은 **불리언 값(boolean value)**으로 반환되며,  \n",
    "전달된 값이 실제로 **결측값인지 여부**를 나타냅니다.\n",
    "\n",
    "예를 들어:  \n",
    "```python\n",
    "import pandas as pd\n",
    "\n",
    "df = pd.DataFrame({\"Age\": [25, None, 30], \"Name\": [\"Alice\", \"Bob\", None]})\n",
    "\n",
    "print(df.isnull())\n",
    "```\n",
    "\n",
    "**출력:**\n",
    "```\n",
    "     Age   Name\n",
    "0  False  False\n",
    "1   True  False\n",
    "2  False   True\n",
    "```"
   ]
  },
  {
   "cell_type": "code",
   "execution_count": 107,
   "id": "e27acc16",
   "metadata": {},
   "outputs": [],
   "source": [
    "missing_data = df.isnull()"
   ]
  },
  {
   "cell_type": "code",
   "execution_count": 108,
   "id": "0efed4d5",
   "metadata": {},
   "outputs": [
    {
     "data": {
      "text/html": [
       "<div>\n",
       "<style scoped>\n",
       "    .dataframe tbody tr th:only-of-type {\n",
       "        vertical-align: middle;\n",
       "    }\n",
       "\n",
       "    .dataframe tbody tr th {\n",
       "        vertical-align: top;\n",
       "    }\n",
       "\n",
       "    .dataframe thead th {\n",
       "        text-align: right;\n",
       "    }\n",
       "</style>\n",
       "<table border=\"1\" class=\"dataframe\">\n",
       "  <thead>\n",
       "    <tr style=\"text-align: right;\">\n",
       "      <th></th>\n",
       "      <th>Pregnancies</th>\n",
       "      <th>Glucose</th>\n",
       "      <th>BloodPressure</th>\n",
       "      <th>SkinThickness</th>\n",
       "      <th>Insulin</th>\n",
       "      <th>BMI</th>\n",
       "      <th>DiabetesPedigreeFunction</th>\n",
       "      <th>Age</th>\n",
       "      <th>Outcome</th>\n",
       "    </tr>\n",
       "  </thead>\n",
       "  <tbody>\n",
       "    <tr>\n",
       "      <th>0</th>\n",
       "      <td>False</td>\n",
       "      <td>False</td>\n",
       "      <td>False</td>\n",
       "      <td>False</td>\n",
       "      <td>False</td>\n",
       "      <td>False</td>\n",
       "      <td>False</td>\n",
       "      <td>False</td>\n",
       "      <td>False</td>\n",
       "    </tr>\n",
       "    <tr>\n",
       "      <th>1</th>\n",
       "      <td>False</td>\n",
       "      <td>False</td>\n",
       "      <td>False</td>\n",
       "      <td>False</td>\n",
       "      <td>False</td>\n",
       "      <td>False</td>\n",
       "      <td>False</td>\n",
       "      <td>False</td>\n",
       "      <td>False</td>\n",
       "    </tr>\n",
       "    <tr>\n",
       "      <th>2</th>\n",
       "      <td>False</td>\n",
       "      <td>False</td>\n",
       "      <td>False</td>\n",
       "      <td>False</td>\n",
       "      <td>False</td>\n",
       "      <td>False</td>\n",
       "      <td>False</td>\n",
       "      <td>False</td>\n",
       "      <td>False</td>\n",
       "    </tr>\n",
       "    <tr>\n",
       "      <th>3</th>\n",
       "      <td>False</td>\n",
       "      <td>False</td>\n",
       "      <td>False</td>\n",
       "      <td>False</td>\n",
       "      <td>False</td>\n",
       "      <td>False</td>\n",
       "      <td>False</td>\n",
       "      <td>False</td>\n",
       "      <td>False</td>\n",
       "    </tr>\n",
       "    <tr>\n",
       "      <th>4</th>\n",
       "      <td>False</td>\n",
       "      <td>False</td>\n",
       "      <td>False</td>\n",
       "      <td>False</td>\n",
       "      <td>False</td>\n",
       "      <td>False</td>\n",
       "      <td>False</td>\n",
       "      <td>False</td>\n",
       "      <td>False</td>\n",
       "    </tr>\n",
       "  </tbody>\n",
       "</table>\n",
       "</div>"
      ],
      "text/plain": [
       "   Pregnancies  Glucose  BloodPressure  SkinThickness  Insulin    BMI  \\\n",
       "0        False    False          False          False    False  False   \n",
       "1        False    False          False          False    False  False   \n",
       "2        False    False          False          False    False  False   \n",
       "3        False    False          False          False    False  False   \n",
       "4        False    False          False          False    False  False   \n",
       "\n",
       "   DiabetesPedigreeFunction    Age  Outcome  \n",
       "0                     False  False    False  \n",
       "1                     False  False    False  \n",
       "2                     False  False    False  \n",
       "3                     False  False    False  \n",
       "4                     False  False    False  "
      ]
     },
     "execution_count": 108,
     "metadata": {},
     "output_type": "execute_result"
    }
   ],
   "source": [
    "missing_data.head(5)"
   ]
  },
  {
   "cell_type": "markdown",
   "id": "d517ba9b",
   "metadata": {},
   "source": [
    "**\"True\"**는 **결측값(missing value)**을 의미하고,  \n",
    "**\"False\"**는 **결측값이 아닌 값(not missing value)**을 의미합니다."
   ]
  },
  {
   "cell_type": "markdown",
   "id": "c02980de",
   "metadata": {},
   "source": [
    "### **각 열의 결측값 개수 세기**\n",
    "\n",
    "Python의 **for 루프(for loop)**를 사용하여 **각 열에 있는 결측값의 개수**를 빠르게 확인할 수 있습니다.\n",
    "\n",
    "- 앞서 설명했듯이 **\"True\"**는 **결측값**을 나타내고, **\"False\"**는 **값이 존재하는 경우**를 의미합니다.  \n",
    "- for 루프의 본문에서는 **`.value_counts()`** 메서드를 사용하여 **\"True\" 값의 개수**를 세어, 각 열에서 결측값이 몇 개인지 확인합니다.\n",
    "\n",
    "---\n",
    "\n",
    "### ✅ **예시 설명:**  \n",
    "```python\n",
    "for column in df.columns:\n",
    "    print(f\"{column}:\", df[column].isnull().value_counts()[True])\n",
    "```\n",
    "\n",
    "이 코드는 **각 열의 결측값 개수**를 출력합니다.  \n",
    "예를 들어, `Age` 열에 결측값이 2개라면 다음과 같은 결과가 나옵니다:\n",
    "\n",
    "```\n",
    "Age: 2\n",
    "Name: 1\n",
    "```"
   ]
  },
  {
   "cell_type": "code",
   "execution_count": 111,
   "id": "70e6a539",
   "metadata": {},
   "outputs": [
    {
     "name": "stdout",
     "output_type": "stream",
     "text": [
      "Pregnancies\n",
      "False    768\n",
      "Name: Pregnancies, dtype: int64\n",
      "\n",
      "Glucose\n",
      "False    768\n",
      "Name: Glucose, dtype: int64\n",
      "\n",
      "BloodPressure\n",
      "False    768\n",
      "Name: BloodPressure, dtype: int64\n",
      "\n",
      "SkinThickness\n",
      "False    768\n",
      "Name: SkinThickness, dtype: int64\n",
      "\n",
      "Insulin\n",
      "False    768\n",
      "Name: Insulin, dtype: int64\n",
      "\n",
      "BMI\n",
      "False    768\n",
      "Name: BMI, dtype: int64\n",
      "\n",
      "DiabetesPedigreeFunction\n",
      "False    768\n",
      "Name: DiabetesPedigreeFunction, dtype: int64\n",
      "\n",
      "Age\n",
      "False    768\n",
      "Name: Age, dtype: int64\n",
      "\n",
      "Outcome\n",
      "False    768\n",
      "Name: Outcome, dtype: int64\n",
      "\n"
     ]
    }
   ],
   "source": [
    "for column in missing_data.columns.values.tolist():\n",
    "    print(column)\n",
    "    print (missing_data[column].value_counts())\n",
    "    print(\"\")    "
   ]
  },
  {
   "cell_type": "markdown",
   "id": "d26c624d",
   "metadata": {},
   "source": [
    "**`.isnull().sum()`**을 사용하는 것이 훨씬 **더 쉽고 직관적**입니다.  \n",
    "\n",
    "반복문을 사용하지 않고도, **각 열의 결측값 개수**를 바로 확인할 수 있습니다.\n",
    "\n",
    "---\n",
    "\n",
    "### ✅ **`.isnull().sum()` 사용 예시:**  \n",
    "```python\n",
    "df.isnull().sum()\n",
    "```\n",
    "\n",
    "**출력 예시:**\n",
    "```\n",
    "Age     2  \n",
    "Name    1  \n",
    "Salary  0  \n",
    "```\n",
    "\n",
    "---\n",
    "\n",
    "### 🔎 **왜 더 좋은 방법인가?**  \n",
    "\n",
    "1️⃣ **간결함** – for 루프 없이 한 줄로 해결할 수 있음.  \n",
    "2️⃣ **가독성** – 결과가 **Series** 형태로 반환되기 때문에, 각 열의 결측값 개수가 **명확하게 표시**됨.  \n",
    "3️⃣ **효율성** – 대규모 데이터셋에서도 **빠르고 효율적**으로 동작함.\n",
    "\n",
    "---\n",
    "\n",
    "### ✅ **정리:**  \n",
    "💡 **`.isnull().sum()`**을 사용하면 더 직관적이고 효율적으로 결측값을 확인할 수 있습니다. 😊"
   ]
  },
  {
   "cell_type": "code",
   "execution_count": 110,
   "id": "e7450455",
   "metadata": {},
   "outputs": [
    {
     "data": {
      "text/plain": [
       "Pregnancies                 0\n",
       "Glucose                     0\n",
       "BloodPressure               0\n",
       "SkinThickness               0\n",
       "Insulin                     0\n",
       "BMI                         0\n",
       "DiabetesPedigreeFunction    0\n",
       "Age                         0\n",
       "Outcome                     0\n",
       "dtype: int64"
      ]
     },
     "execution_count": 110,
     "metadata": {},
     "output_type": "execute_result"
    }
   ],
   "source": [
    "df.isnull().sum()"
   ]
  },
  {
   "cell_type": "markdown",
   "id": "91a08615",
   "metadata": {},
   "source": [
    "<hr>"
   ]
  },
  {
   "cell_type": "markdown",
   "id": "cdec80d4",
   "metadata": {},
   "source": [
    "### **데이터 형식 수정하기 (Correct Data Format)**\n",
    "\n",
    "데이터셋의 모든 값이 **올바른 데이터 형식(int, float, text 등)**으로 되어 있는지 확인하는 것이 중요합니다.\n",
    "\n",
    "---\n",
    "\n",
    "### ✅ **데이터 유형 확인**\n",
    "Pandas에서는 다음 메서드를 사용합니다:\n",
    "\n",
    "- **`.dtype`** – 각 열의 **데이터 유형**을 확인합니다.\n",
    "- **`.astype()`** – 열의 **데이터 유형을 변경**할 때 사용합니다.\n",
    "\n",
    "---\n",
    "\n",
    "### 📌 **예시: 데이터 유형 확인**\n",
    "\n",
    "```python\n",
    "# 데이터 유형 확인\n",
    "print(df.dtypes)\n",
    "```\n",
    "\n",
    "**출력:**\n",
    "```\n",
    "Age       int64  \n",
    "Salary    float64  \n",
    "Name      object  \n",
    "```\n",
    "\n",
    "---\n",
    "\n",
    "### 📌 **데이터 유형 변경**\n",
    "\n",
    "```python\n",
    "# 'Age' 열을 float 형식으로 변경\n",
    "df['Age'] = df['Age'].astype(float)\n",
    "```\n",
    "\n",
    "---\n",
    "\n",
    "### 🔎 **숫자형 변수 조건**  \n",
    "- **숫자형 변수(numerical variables)**는 반드시 **`float`** 또는 **`int`** 형식이어야 합니다.  \n",
    "예를 들어, 나이(Age), 급여(Salary)와 같은 값이 문자열로 저장되어 있다면 **`astype()`**을 사용하여 **숫자형**으로 변환해야 합니다.\n",
    "\n",
    "---\n",
    "\n",
    "### 💡 **요약:**  \n",
    "1️⃣ **`.dtype`**로 데이터 유형을 확인합니다.  \n",
    "2️⃣ 데이터 유형이 잘못된 경우 **`.astype()`**을 사용하여 올바른 형식으로 변환합니다.  \n",
    "👉 예를 들어, 나이가 **'25'**처럼 문자열로 저장되어 있다면 **숫자(float/int)**로 변환해야 합니다."
   ]
  },
  {
   "cell_type": "code",
   "execution_count": 113,
   "id": "4ad35e18",
   "metadata": {},
   "outputs": [
    {
     "data": {
      "text/plain": [
       "Pregnancies                   int64\n",
       "Glucose                       int64\n",
       "BloodPressure                 int64\n",
       "SkinThickness                 int64\n",
       "Insulin                       int64\n",
       "BMI                         float64\n",
       "DiabetesPedigreeFunction    float64\n",
       "Age                           int64\n",
       "Outcome                       int64\n",
       "dtype: object"
      ]
     },
     "execution_count": 113,
     "metadata": {},
     "output_type": "execute_result"
    }
   ],
   "source": [
    "df.dtypes"
   ]
  },
  {
   "cell_type": "markdown",
   "id": "5438d25a",
   "metadata": {},
   "source": [
    "위에서 볼 수 있듯이, **모든 열이 올바른 데이터 유형**을 가지고 있습니다."
   ]
  },
  {
   "cell_type": "markdown",
   "id": "b1a4b5e4",
   "metadata": {},
   "source": [
    "<hr>"
   ]
  },
  {
   "cell_type": "markdown",
   "id": "8780c5b4",
   "metadata": {},
   "source": [
    "# **Visualization (시각화)**  \n",
    "\n",
    "**시각화(Visualization)**는 **데이터셋에서 인사이트를 얻는 가장 효과적인 방법 중 하나**입니다.  \n",
    "Python에서는 **Seaborn**과 **Matplotlib**이 **가장 강력한 시각화 라이브러리**로 널리 사용됩니다.  \n",
    "\n",
    "- **Seaborn**: 고급 통계 시각화를 위한 라이브러리  \n",
    "- **Matplotlib**: 다양한 유형의 그래프와 차트를 그릴 수 있는 범용 시각화 도구  \n",
    "\n",
    "이 두 라이브러리를 활용하면 데이터를 보다 쉽게 분석하고 이해할 수 있습니다. 😊"
   ]
  },
  {
   "cell_type": "code",
   "execution_count": 114,
   "id": "9dfb7061",
   "metadata": {},
   "outputs": [],
   "source": [
    "# import Libraries\n",
    "import matplotlib.pyplot as plt\n",
    "import seaborn as sns"
   ]
  },
  {
   "cell_type": "code",
   "execution_count": 123,
   "id": "2e57864c",
   "metadata": {},
   "outputs": [
    {
     "data": {
      "image/png": "[encoded data removed]",
      "text/plain": [
       "<Figure size 432x288 with 1 Axes>"
      ]
     },
     "metadata": {},
     "output_type": "display_data"
    }
   ],
   "source": [
    "labels= 'Not Diabetic','Diabetic'\n",
    "plt.pie(df['Outcome'].value_counts(),labels=labels,autopct='%0.02f%%', shadow=True, startangle=90)\n",
    "plt.legend(loc='lower right')\n",
    "plt.show()"
   ]
  },
  {
   "cell_type": "markdown",
   "id": "e926df82",
   "metadata": {},
   "source": [
    "위에서 볼 수 있듯이, 65.10%의 여성은 당뇨병이 없고,\n",
    "34.90%의 여성은 당뇨병이 있습니다."
   ]
  },
  {
   "cell_type": "markdown",
   "id": "a1b8b8d4",
   "metadata": {},
   "source": [
    "<div class='alert alert-block alert-success'>\n",
    "    [Tip]\n",
    "\n",
    "**`plt.pie(...)`**:\n",
    "   - matplotlib 라이브러리의 `pie()` 함수를 사용하여 파이 차트를 그립니다.\n",
    "   - `df['Outcome'].value_counts()`를 첫 번째 인자로 전달하여 파이 차트의 각 조각의 크기를 결정합니다. 위 예시에서는 'Not Diabetic' 조각이 'Diabetic' 조각의 두 배 크기로 그려집니다.\n",
    "   - `labels=labels`: 파이 차트의 각 조각에 레이블을 지정합니다. `labels` 변수는 'Not Diabetic'과 'Diabetic' 두 개의 레이블을 가지고 있으므로, 각 조각에 해당 레이블이 표시됩니다.\n",
    "   - `autopct='%0.02f%%'`: 파이 차트의 각 조각에 해당 값의 백분율을 표시합니다. `%0.02f`는 소수점 둘째 자리까지 표시하는 형식 지정자입니다.\n",
    "\n",
    "\n",
    "\n",
    "**pie() 함수 상세 설명**\n",
    "\n",
    "`pie()` 함수는 원형 차트를 그리는 데 사용됩니다. 다양한 옵션을 통해 차트의 모양과 스타일을 조정할 수 있습니다. 몇 가지 주요 옵션은 다음과 같습니다.\n",
    "\n",
    "* **`explode`**: 파이 차트에서 특정 조각을 분리하여 강조할 수 있습니다.\n",
    "* **`colors`**: 각 조각의 색상을 지정할 수 있습니다.\n",
    "* **`startangle`**: 파이 차트의 시작 각도를 지정할 수 있습니다.\n",
    "* **`shadow`**: 파이 차트에 그림자 효과를 추가할 수 있습니다.\n",
    "\n",
    "\n",
    "</div>"
   ]
  },
  {
   "cell_type": "code",
   "execution_count": 137,
   "id": "2f93e28c",
   "metadata": {},
   "outputs": [],
   "source": [
    "class Rectangle:\n",
    "    def __init__(self, width=2, heigh=4, color = 'red'):\n",
    "        self.height = heigh\n",
    "        self.width = width\n",
    "        self.color = color\n",
    "    def drawRect(self):\n",
    "        import matplotlib.pyplot as plt\n",
    "        plt.gca().add_patch(plt.Rectangle((0,0), self.width, self.height, fc=self.color))\n",
    "        plt.axis('scaled')\n",
    "        plt.show()"
   ]
  },
  {
   "cell_type": "code",
   "execution_count": 138,
   "id": "88c836ad",
   "metadata": {},
   "outputs": [],
   "source": [
    "obj = Rectangle()"
   ]
  },
  {
   "cell_type": "code",
   "execution_count": 139,
   "id": "fe571d82",
   "metadata": {},
   "outputs": [
    {
     "data": {
      "image/png": "[encoded data removed]",
      "text/plain": [
       "<Figure size 432x288 with 1 Axes>"
      ]
     },
     "metadata": {
      "needs_background": "light"
     },
     "output_type": "display_data"
    }
   ],
   "source": [
    "obj.drawRect()"
   ]
  },
  {
   "cell_type": "code",
   "execution_count": 141,
   "id": "ab8ac613",
   "metadata": {},
   "outputs": [
    {
     "data": {
      "text/plain": [
       "array([11, 11, 11, 11, 11])"
      ]
     },
     "execution_count": 141,
     "metadata": {},
     "output_type": "execute_result"
    }
   ],
   "source": [
    "a=np.array([1,1,1,1,1]) \n",
    "\n",
    "a+10"
   ]
  },
  {
   "cell_type": "code",
   "execution_count": null,
   "id": "39a902a2",
   "metadata": {},
   "outputs": [],
   "source": []
  }
 ],
 "metadata": {
  "kernelspec": {
   "display_name": "Python 3 (ipykernel)",
   "language": "python",
   "name": "python3"
  },
  "language_info": {
   "codemirror_mode": {
    "name": "ipython",
    "version": 3
   },
   "file_extension": ".py",
   "mimetype": "text/x-python",
   "name": "python",
   "nbconvert_exporter": "python",
   "pygments_lexer": "ipython3",
   "version": "3.9.12"
  }
 },
 "nbformat": 4,
 "nbformat_minor": 5
}
