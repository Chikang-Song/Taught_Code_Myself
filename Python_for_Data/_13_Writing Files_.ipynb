{
 "cells": [
  {
   "cell_type": "markdown",
   "id": "10ad8619",
   "metadata": {},
   "source": [
    "# Write and Save Files\n",
    "\n",
    "## Objectives\n",
    "* Write to files using Python libraries"
   ]
  },
  {
   "cell_type": "markdown",
   "id": "84cff7d7",
   "metadata": {},
   "source": [
    "<h2>Table of Contents</h2>\n",
    "<div class='alert alert-block alert-info'>\n",
    "    <ul>\n",
    "        <li>Writing Files</li>\n",
    "        <li><a href=#2>Appending Files</a></li>\n",
    "        <li><a href=#3>Additional File modes</a></li>\n",
    "        <li><a href=#4>Copy a File</a></li>\n",
    "    </ul>\n",
    "</div>"
   ]
  },
  {
   "cell_type": "markdown",
   "id": "01fdeae2",
   "metadata": {},
   "source": [
    "## Writing Files"
   ]
  },
  {
   "cell_type": "code",
   "execution_count": 5,
   "id": "d79d5d85",
   "metadata": {},
   "outputs": [],
   "source": [
    "import os\n",
    "\n",
    "exmp2 = os.path.join(os.path.expanduser('~'),'Downloads','Example2.txt')\n",
    "with open(exmp2, 'w') as writefile:\n",
    "    writefile.write(\"This is line A\")"
   ]
  },
  {
   "cell_type": "code",
   "execution_count": 6,
   "id": "eb84734d",
   "metadata": {},
   "outputs": [
    {
     "name": "stdout",
     "output_type": "stream",
     "text": [
      "This is line A\n"
     ]
    }
   ],
   "source": [
    "# Read exmp2\n",
    "\n",
    "with open(exmp2, 'r') as file:\n",
    "    print(file.read())"
   ]
  },
  {
   "cell_type": "code",
   "execution_count": 7,
   "id": "261972ed",
   "metadata": {},
   "outputs": [],
   "source": [
    "# Write lines to file\n",
    "\n",
    "with open(exmp2, 'w') as wf:\n",
    "    wf.write('This is line A\\n')\n",
    "    wf.write('This is line B\\n')"
   ]
  },
  {
   "cell_type": "markdown",
   "id": "6e9b028d",
   "metadata": {},
   "source": [
    "<div class='alert alert-box alert-success'>\n",
    "    <b><code>.write()</code> 메서드는 <code>.readline()</code> 메서드와 비슷하게 작동하지만, 새로운 줄을 읽는 대신 새로운 줄을 작성합니다.</b>\n",
    "</div>"
   ]
  },
  {
   "cell_type": "code",
   "execution_count": 8,
   "id": "2b8dee37",
   "metadata": {},
   "outputs": [
    {
     "name": "stdout",
     "output_type": "stream",
     "text": [
      "This is line A\n",
      "This is line B\n",
      "\n"
     ]
    }
   ],
   "source": [
    "# Check whether write to file\n",
    "\n",
    "with open(exmp2, 'r') as testwf:\n",
    "    print(testwf.read())"
   ]
  },
  {
   "cell_type": "code",
   "execution_count": 9,
   "id": "ffffaca9",
   "metadata": {},
   "outputs": [
    {
     "data": {
      "text/plain": [
       "['This is line A\\n', 'This is line B\\n', 'This is line C\\n']"
      ]
     },
     "execution_count": 9,
     "metadata": {},
     "output_type": "execute_result"
    }
   ],
   "source": [
    "# Sample list of text\n",
    "\n",
    "Lines = [\"This is line A\\n\", \"This is line B\\n\", \"This is line C\\n\"]\n",
    "Lines"
   ]
  },
  {
   "cell_type": "code",
   "execution_count": 12,
   "id": "c95d7b47",
   "metadata": {},
   "outputs": [
    {
     "name": "stdout",
     "output_type": "stream",
     "text": [
      "This is line A\n",
      "\n",
      "This is line B\n",
      "\n",
      "This is line C\n",
      "\n"
     ]
    }
   ],
   "source": [
    "# Write the strings in the list to test file\n",
    "\n",
    "with open(exmp2, 'w') as wf:\n",
    "    for line in Lines:\n",
    "        print(line)\n",
    "        wf.write(line)"
   ]
  },
  {
   "cell_type": "code",
   "execution_count": 13,
   "id": "50e26e73",
   "metadata": {},
   "outputs": [
    {
     "name": "stdout",
     "output_type": "stream",
     "text": [
      "This is line A\n",
      "This is line B\n",
      "This is line C\n",
      "\n"
     ]
    }
   ],
   "source": [
    "# Verify if writing to file is successfully executed\n",
    "\n",
    "with open(exmp2, 'r') as rf:\n",
    "    print(rf.read())"
   ]
  },
  {
   "cell_type": "markdown",
   "id": "60eb9fe7",
   "metadata": {},
   "source": [
    "## Appending Files <a id =2></a>"
   ]
  },
  {
   "cell_type": "code",
   "execution_count": 14,
   "id": "e18e1b68",
   "metadata": {},
   "outputs": [],
   "source": [
    "# Write a new line to text file\n",
    "\n",
    "with open(exmp2, 'a') as testwf:\n",
    "    testwf.write('This is line C\\n')\n",
    "    testwf.write('This is line D\\n')\n",
    "    testwf.write('This is line E\\n')"
   ]
  },
  {
   "cell_type": "code",
   "execution_count": 15,
   "id": "7957877a",
   "metadata": {},
   "outputs": [
    {
     "name": "stdout",
     "output_type": "stream",
     "text": [
      "This is line A\n",
      "This is line B\n",
      "This is line C\n",
      "This is line C\n",
      "This is line D\n",
      "This is line E\n",
      "\n"
     ]
    }
   ],
   "source": [
    "# Verify if the new line is in the text file\n",
    "\n",
    "with open(exmp2, 'r') as rwf:\n",
    "    print(rwf.read())"
   ]
  },
  {
   "cell_type": "markdown",
   "id": "3de29697",
   "metadata": {},
   "source": [
    "## Addtional modes <a id=3></a>"
   ]
  },
  {
   "cell_type": "markdown",
   "id": "c43c996f",
   "metadata": {},
   "source": [
    "<div class='alert alert-block alert-warning'>\n",
    "    <li><code>r+</code>: 읽기 및 쓰기. 파일을 잘라내지 않음</li>\n",
    "    <li><code>w+</code>: 쓰기 및 읽기. 파일을 잘라냄.</li>\n",
    "    <li><code>a+</code>: 추가 및 읽기. 파일이 없으면 새 파일을 생성함.</li>\n",
    "</div>"
   ]
  },
  {
   "cell_type": "code",
   "execution_count": 16,
   "id": "17ceebb2",
   "metadata": {},
   "outputs": [
    {
     "name": "stdout",
     "output_type": "stream",
     "text": [
      "\n"
     ]
    }
   ],
   "source": [
    "with open(exmp2, 'a+') as testwf:\n",
    "    testwf.write('This is line E\\n')\n",
    "    print(testwf.read())"
   ]
  },
  {
   "cell_type": "markdown",
   "id": "e9be9d2f",
   "metadata": {},
   "source": [
    "<div class='alert alert-block alert-danger'>\n",
    "오류는 없었지만, `read()`도 아무것도 출력하지 않았습니다. 이는 파일 내에서 우리가 위치한 지점 때문입니다.  \n",
    "\n",
    "지금까지 살펴본 대부분의 파일 메서드는 파일 내 특정 위치에서 작동합니다.  \n",
    "- `.write()`는 파일 내 특정 위치에 작성합니다.  \n",
    "- `.read()`는 파일 내 특정 위치에서 읽습니다.  \n",
    "\n",
    "이것은 메모장에서 특정 위치를 선택하여 수정하는 것처럼, 포인터를 이동시켜 특정 위치에서 작업하는 것으로 생각할 수 있습니다.\n",
    "</div>\n",
    "파일을 **`w` 모드**로 여는 것은 `.txt` 파일을 열고 커서를 텍스트 파일의 시작으로 이동시킨 뒤 새로운 텍스트를 작성하고, 그 뒤에 있는 모든 내용을 삭제하는 것과 같습니다.  \n",
    "반면, 파일을 **`a` 모드**로 여는 것은 `.txt` 파일을 열고 커서를 맨 끝으로 이동시킨 뒤 새로운 텍스트를 추가하는 것과 유사합니다.  \n",
    "\n",
    "파일 내에서 '커서'가 어디에 위치해 있는지 알고 이를 제어할 수 있는 것은 매우 유용합니다. 이를 위해 다음 메서드들을 사용할 수 있습니다:  \n",
    "\n",
    "- **`.tell()`**: 현재 위치를 바이트 단위로 반환합니다.  \n",
    "- **`.seek(offset, from)`**: `'from'`을 기준으로 `'offset'`만큼 위치를 변경합니다.  \n",
    "  - **`from`**의 값은 다음과 같습니다:  \n",
    "    - **0**: 파일의 시작  \n",
    "    - **1**: 현재 위치 기준  \n",
    "    - **2**: 파일의 끝  "
   ]
  },
  {
   "cell_type": "code",
   "execution_count": 18,
   "id": "77575ad4",
   "metadata": {},
   "outputs": [
    {
     "name": "stdout",
     "output_type": "stream",
     "text": [
      "Initial location: 112\n",
      "Read nothing\n",
      "\n",
      "New Location : 0\n",
      "This is line A\n",
      "This is line B\n",
      "This is line C\n",
      "This is line C\n",
      "This is line D\n",
      "This is line E\n",
      "This is line E\n",
      "\n",
      "Location after read: 112\n"
     ]
    }
   ],
   "source": [
    "with open(exmp2, 'a+') as twf:\n",
    "    print(f'Initial location: {twf.tell()}')\n",
    "    \n",
    "    data = twf.read()\n",
    "    if (not data): # empty strings return false in python\n",
    "        print(\"Read nothing\")\n",
    "    else:\n",
    "        print(twf.read())\n",
    "        \n",
    "    twf.seek(0,0) # move 0 bytes from beginning.\n",
    "    \n",
    "    print(f\"\\nNew Location : {twf.tell()}\")\n",
    "    data = twf.read()\n",
    "    if (not data):\n",
    "        print('Read nothing')\n",
    "    else:\n",
    "        print(data)\n",
    "        \n",
    "    print(f\"Location after read: {twf.tell()}\")"
   ]
  },
  {
   "cell_type": "markdown",
   "id": "46cd0e5d",
   "metadata": {},
   "source": [
    "#### 코드의 실행 흐름 요약\n",
    "1. 파일을 열고(a+ 모드), 현재 파일 포인터 위치를 출력합니다. (초기 위치: 파일 끝)\n",
    "2. 파일을 읽으려고 시도하지만, 파일 포인터가 이미 끝에 있으므로 아무것도 읽지 못합니다.\n",
    "3. 파일 포인터를 파일 시작점으로 이동합니다.\n",
    "4. 파일 처음부터 내용을 읽고, 결과를 출력합니다.\n",
    "5. 파일 읽기가 끝난 후의 파일 포인터 위치를 출력합니다."
   ]
  },
  {
   "cell_type": "markdown",
   "id": "587b142a",
   "metadata": {},
   "source": [
    "<div class='alert alert-block alert-warning'>\n",
    "    마지막으로, <b><code>w+</code>와 <code>r+</code>의 차이</b>에 대해 알아보겠습니다.<br> \n",
    "    이 두 모드는 모두 읽기 및 쓰기 메서드에 접근할 수 있지만, w+ 모드로 파일을 열면 기존 데이터를 모두 삭제하고 파일을 덮어씁니다.\n",
    "    </div>"
   ]
  },
  {
   "cell_type": "code",
   "execution_count": 19,
   "id": "62e63e7e",
   "metadata": {},
   "outputs": [
    {
     "name": "stdout",
     "output_type": "stream",
     "text": [
      "Line 1\n",
      "Line 2\n",
      "Line 3\n",
      "Line 4\n",
      "finished\n",
      "ne C\n",
      "This is line C\n",
      "This is line D\n",
      "This is line E\n",
      "This is line E\n",
      "\n"
     ]
    }
   ],
   "source": [
    "with open(exmp2, 'r+') as twf:\n",
    "    twf.seek(0,0) #write at beginning of file\n",
    "    twf.write(\"Line 1\" + \"\\n\")\n",
    "    twf.write(\"Line 2\" + \"\\n\")\n",
    "    twf.write(\"Line 3\" + \"\\n\")\n",
    "    twf.write(\"Line 4\" + \"\\n\")\n",
    "    twf.write(\"finished\\n\")\n",
    "    twf.seek(0,0)\n",
    "    print(twf.read())"
   ]
  },
  {
   "cell_type": "code",
   "execution_count": 20,
   "id": "03707391",
   "metadata": {},
   "outputs": [
    {
     "name": "stdout",
     "output_type": "stream",
     "text": [
      "Line 1\n",
      "Line 2\n",
      "Line 3\n",
      "Line 4\n",
      "finished\n",
      "\n"
     ]
    }
   ],
   "source": [
    "with open(exmp2, 'r+') as twf:\n",
    "    twf.seek(0,0)\n",
    "    twf.write(\"Line 1\" + \"\\n\")\n",
    "    twf.write(\"Line 2\" + \"\\n\")\n",
    "    twf.write(\"Line 3\" + \"\\n\")\n",
    "    twf.write(\"Line 4\" + \"\\n\")\n",
    "    twf.write(\"finished\\n\")\n",
    "    # Uncomment the line below\n",
    "    twf.truncate()\n",
    "    twf.seek(0,0)\n",
    "    print(twf.read())"
   ]
  },
  {
   "cell_type": "markdown",
   "id": "877041a8",
   "metadata": {},
   "source": [
    "<hr>"
   ]
  },
  {
   "cell_type": "markdown",
   "id": "f3f43d4e",
   "metadata": {},
   "source": [
    "## Copy a file <a id=4></a>"
   ]
  },
  {
   "cell_type": "markdown",
   "id": "a3fde124",
   "metadata": {},
   "source": [
    "Let's copy the file **Example2.txt** to the file **Example3.txt**:"
   ]
  },
  {
   "cell_type": "code",
   "execution_count": 21,
   "id": "62d08490",
   "metadata": {},
   "outputs": [],
   "source": [
    "# Copy file to another\n",
    "exmp3 = os.path.join(os.path.expanduser('~'),'Downloads','Example3.txt')\n",
    "\n",
    "\n",
    "with open(exmp2, 'r') as rf:\n",
    "    with open(exmp3, 'w') as wf:\n",
    "        for line in rf:\n",
    "            wf.write(line)"
   ]
  },
  {
   "cell_type": "code",
   "execution_count": 23,
   "id": "0c0291f1",
   "metadata": {},
   "outputs": [
    {
     "name": "stdout",
     "output_type": "stream",
     "text": [
      "Line 1\n",
      "Line 2\n",
      "Line 3\n",
      "Line 4\n",
      "finished\n",
      "\n"
     ]
    }
   ],
   "source": [
    "# Verify if the copy is successfuly executed\n",
    "\n",
    "with open(exmp3, 'r') as vwf:\n",
    "    print(vwf.read())"
   ]
  },
  {
   "cell_type": "markdown",
   "id": "1c9ab6f8",
   "metadata": {},
   "source": [
    "<hr>"
   ]
  },
  {
   "cell_type": "markdown",
   "id": "7bbce5df",
   "metadata": {},
   "source": [
    "## Exercise\n",
    "\n",
    "당신의 지역 대학교 Raptors 팬클럽은 활성 회원 목록을 .txt 파일에 보관하고 있습니다. 매달 비활성 상태인 회원을 목록에서 제거하여 파일을 업데이트합니다. 이 작업을 Python 기술을 사용하여 자동화하라는 임무를 받았습니다. \n",
    "\n",
    "<br>\n",
    "\n",
    "**주어진 파일**: `currentMem`  \n",
    "- `currentMem` 파일에서 'Active' 열에 'no'가 있는 각 회원을 제거하세요.  \n",
    "- 제거된 회원을 추적하여 `exMem` 파일에 추가하세요.  \n",
    "- 원래 파일 형식이 유지되도록 해야 합니다.  \n",
    "\n",
    "(*힌트: 전체 줄을 읽고 쓰는 방식으로 처리하며, 헤더가 유지되도록 하세요.*)\n",
    "\n",
    "<br>\n",
    "\n",
    "아래 코드를 실행한 후 연습을 시작하세요. 골격 코드가 제공되어 있으니, **`cleanFiles` 함수만 수정**하면 됩니다."
   ]
  },
  {
   "cell_type": "code",
   "execution_count": 27,
   "id": "62f463df",
   "metadata": {},
   "outputs": [],
   "source": [
    "# Run this prior to starting the exercise\n",
    "\n",
    "from random import randint as rnd\n",
    "\n",
    "memReg = os.path.join(os.path.expanduser('~'),'Downloads','members.txt')\n",
    "exReg = os.path.join(os.path.expanduser('~'),'Downloads','inactive.txt')\n",
    "fee = ('yes','no')\n",
    "\n",
    "def genFiles(current, old):\n",
    "    with open(current, 'w+') as wf:\n",
    "        wf.write(\"Membership No  Date Joined  Active  \\n\")\n",
    "        data = \"{:^13}  {:<11}  {:<6}\\n\"\n",
    "        \n",
    "        for rowno in range(20):\n",
    "            date = str(rnd(2015,2020))+'-'+str(rnd(1,12))+'-'+str(rnd(1,25))\n",
    "            wf.write(data.format(rnd(10000,99999), date, fee[rnd(0,1)]))\n",
    "            \n",
    "    with open(old, 'w+') as wf:\n",
    "        wf.write(\"Membership No  Date Joined  Active  \\n\")\n",
    "        data = \"{:^13}  {:<11}  {:<6}\\n\"\n",
    "        for rowno in range(3):\n",
    "            date = str(rnd(2015,2020))+'-'+str(rnd(1,12))+'-'+str(rnd(1,25))\n",
    "            wf.write(data.format(rnd(10000,99999),date,fee[1]))\n",
    "            \n",
    "genFiles(memReg, exReg)"
   ]
  },
  {
   "cell_type": "markdown",
   "id": "3a0f018c",
   "metadata": {},
   "source": [
    "<div class='alert alert-block alert-warning'>\n",
    "    [Tip]\n",
    "    <ul>\n",
    "        <li>데이터 형식 지정:</li>\n",
    "        <code>data = \"{:^13}  {:<11}  {:<6}\\n\"</code>\n",
    "        <ul><li><code>{:<}</code> 외쪽정렬</li>\n",
    "            <li><code>{:^}</code> 가운데정렬</li>\n",
    "    </ul>\n",
    "    \n",
    "</div>"
   ]
  },
  {
   "cell_type": "markdown",
   "id": "a6da7027",
   "metadata": {},
   "source": [
    "#### **Exercise:** Implement the cleanFiles function in the code cell below."
   ]
  },
  {
   "cell_type": "code",
   "execution_count": 48,
   "id": "6d4e6db6",
   "metadata": {},
   "outputs": [],
   "source": [
    "'''\n",
    "The two arguments for this function are the files:\n",
    "    - currentMem: File containing list of current members\n",
    "    - exMem: File containing list of old members\n",
    "    \n",
    "    This function should remove all rows from currentMem containing 'no' \n",
    "    in the 'Active' column and appends them to exMem.\n",
    "    '''\n",
    "def cleanFiles(currentMem, exMem):\n",
    "    # TODO: Open the currentMem file as in r+ mode\n",
    "    with open(currentMem, 'r+') as wf:\n",
    "        #TODO: Open the exMem file in a+ mode\n",
    "        with open(exMem, 'a+') as af:\n",
    "\n",
    "        #TODO: Read each member in the currentMem (1 member per row) file into a list.\n",
    "        # Hint: Recall that the first line in the file is the header.\n",
    "            wf.seek(0,0)\n",
    "            members = wf.readlines()\n",
    "            header = members[0]\n",
    "            members.pop(0)   #헤더 삭제\n",
    "        #TODO: iterate through the members and create a new list of the innactive members\n",
    "            inactives = [mem for mem in members if 'no' in mem]\n",
    "        # Go to the beginning of the currentMem file\n",
    "        # TODO: Iterate through the members list. \n",
    "        # If a member is inactive, add them to exMem, otherwise write them into currentMem\n",
    "            wf.seek(0,0)\n",
    "            wf.write(header)\n",
    "            for mem in members:\n",
    "                if mem in inactives:\n",
    "                    af.write(mem)\n",
    "                else:\n",
    "                    wf.write(mem)\n",
    "            wf.truncate()\n"
   ]
  },
  {
   "cell_type": "code",
   "execution_count": 49,
   "id": "81efe979",
   "metadata": {},
   "outputs": [
    {
     "name": "stdout",
     "output_type": "stream",
     "text": [
      "Active Members: \n",
      "\n",
      "\n",
      "Membership No  Date Joined  Active  \n",
      "    49324      2019-5-3     yes   \n",
      "    45160      2020-4-14    yes   \n",
      "    94542      2018-9-7     yes   \n",
      "    35469      2020-11-12   yes   \n",
      "    56871      2015-12-17   yes   \n",
      "    37744      2017-7-11    yes   \n",
      "    49364      2016-3-18    yes   \n",
      "\n",
      "Inactive Members: \n",
      "\n",
      "\n",
      "Membership No  Date Joined  Active  \n",
      "    54218      2017-1-20    no    \n",
      "    75480      2016-7-11    no    \n",
      "    72278      2017-12-15   no    \n",
      "    87612      2017-4-11    no    \n",
      "    55389      2015-1-18    no    \n",
      "    89628      2019-9-15    no    \n",
      "    80428      2018-3-19    no    \n",
      "    71128      2016-6-6     no    \n",
      "    22216      2019-2-23    no    \n",
      "    24012      2019-3-22    no    \n",
      "    44144      2017-10-16   no    \n",
      "    50563      2016-11-6    no    \n",
      "    71985      2016-2-11    no    \n",
      "    66288      2019-12-14   no    \n",
      "    70139      2018-7-20    no    \n",
      "    88097      2017-8-22    no    \n",
      "\n"
     ]
    }
   ],
   "source": [
    "cleanFiles(memReg,exReg)\n",
    "\n",
    "\n",
    "headers = \"Membership No  Date Joined  Active  \\n\"\n",
    "with open(memReg,'r') as readFile:\n",
    "    print(\"Active Members: \\n\\n\")\n",
    "    print(readFile.read())\n",
    "    \n",
    "with open(exReg,'r') as readFile:\n",
    "    print(\"Inactive Members: \\n\\n\")\n",
    "    print(readFile.read())\n",
    "                "
   ]
  },
  {
   "cell_type": "code",
   "execution_count": null,
   "id": "72f49474",
   "metadata": {},
   "outputs": [],
   "source": []
  }
 ],
 "metadata": {
  "kernelspec": {
   "display_name": "Python 3 (ipykernel)",
   "language": "python",
   "name": "python3"
  },
  "language_info": {
   "codemirror_mode": {
    "name": "ipython",
    "version": 3
   },
   "file_extension": ".py",
   "mimetype": "text/x-python",
   "name": "python",
   "nbconvert_exporter": "python",
   "pygments_lexer": "ipython3",
   "version": "3.9.12"
  }
 },
 "nbformat": 4,
 "nbformat_minor": 5
}
