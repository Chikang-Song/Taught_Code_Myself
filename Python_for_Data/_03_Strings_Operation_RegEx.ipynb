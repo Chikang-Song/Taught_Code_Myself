{
 "cells": [
  {
   "cell_type": "markdown",
   "id": "ba05bfc0",
   "metadata": {},
   "source": [
    "\n",
    "# String Operations\n",
    "\n",
    "\n",
    "## Objectives\n",
    "\n",
    "After completing this lab you will be able to:\n",
    "\n",
    "*   Work with Strings\n",
    "*   Perform operations on String\n",
    "*   Manipulate Strings using indexing and escape sequences\n"
   ]
  },
  {
   "cell_type": "markdown",
   "id": "0d3021af",
   "metadata": {},
   "source": [
    "<h2>Table of Contents</h2>\n",
    "<div class=\"alert alert-block alert-info\" style=\"margin-top: 20px\">\n",
    "    <ul>\n",
    "        <li>\n",
    "            <a href=\"#What-are-Strings?\">What are Strings?</a>\n",
    "        </li>\n",
    "        <li>\n",
    "            <a href=\"#Indexing\">Indexing</a>\n",
    "            <ul>\n",
    "                <li><a href=\"#Negative-Indexing\">Negative Indexing</a></li>\n",
    "                <li><a href=\"#Slicing\">Slicing</a></li>\n",
    "                <li><a href=\"#Stride\">Stride</a></li>\n",
    "                <li><a href=\"#Concatenate-Strings\">Concatenate Strings</a></li>\n",
    "            </ul>\n",
    "        </li>\n",
    "        <li>\n",
    "            <a href=\"#Escape-Sequences\">Escape Sequences</a>\n",
    "        </li>\n",
    "        <li>\n",
    "            <a href=\"#String-Manipulation-Operations\">String Manipulation Operations</a>\n",
    "        </li>\n",
    "        <li>\n",
    "            <a href=\"#Quiz-on-Strings\">Quiz on Strings</a>\n",
    "        </li>\n",
    "    </ul>\n",
    "\n",
    "</div>\n",
    "\n",
    "<hr>\n"
   ]
  },
  {
   "cell_type": "markdown",
   "id": "caf26538",
   "metadata": {},
   "source": [
    "## What are Strings?"
   ]
  },
  {
   "cell_type": "code",
   "execution_count": 1,
   "id": "4790f9f2",
   "metadata": {},
   "outputs": [
    {
     "data": {
      "text/plain": [
       "'Michael Jackson'"
      ]
     },
     "execution_count": 1,
     "metadata": {},
     "output_type": "execute_result"
    }
   ],
   "source": [
    "# Use quotation marks for defining string\n",
    "\n",
    "\"Michael Jackson\""
   ]
  },
  {
   "cell_type": "code",
   "execution_count": 2,
   "id": "88f5cffb",
   "metadata": {},
   "outputs": [
    {
     "data": {
      "text/plain": [
       "'1 2 3 4 5 6 '"
      ]
     },
     "execution_count": 2,
     "metadata": {},
     "output_type": "execute_result"
    }
   ],
   "source": [
    "# Digitals and spaces in string\n",
    "\n",
    "'1 2 3 4 5 6 '"
   ]
  },
  {
   "cell_type": "code",
   "execution_count": 3,
   "id": "c571c2fa",
   "metadata": {},
   "outputs": [
    {
     "data": {
      "text/plain": [
       "'Michael Jackson'"
      ]
     },
     "execution_count": 3,
     "metadata": {},
     "output_type": "execute_result"
    }
   ],
   "source": [
    "# Assign string to variable\n",
    "\n",
    "name = \"Michael Jackson\"\n",
    "name"
   ]
  },
  {
   "cell_type": "markdown",
   "id": "533f1913",
   "metadata": {},
   "source": [
    "## Indexing\n"
   ]
  },
  {
   "cell_type": "markdown",
   "id": "9eeedfb0",
   "metadata": {},
   "source": [
    "<hr/>\n",
    "<div class=\"alert alert-success alertsuccess\" style=\"margin-top: 20px\">\n",
    "[Tip]: Because indexing starts at 0, it means the first index is on the index 0.\n",
    "</div>\n",
    "<hr/>\n"
   ]
  },
  {
   "cell_type": "code",
   "execution_count": 4,
   "id": "40d1400c",
   "metadata": {},
   "outputs": [
    {
     "name": "stdout",
     "output_type": "stream",
     "text": [
      "M\n"
     ]
    }
   ],
   "source": [
    "# Print the first element in the string\n",
    "\n",
    "print(name[0])"
   ]
  },
  {
   "cell_type": "code",
   "execution_count": 5,
   "id": "d35cf648",
   "metadata": {},
   "outputs": [
    {
     "name": "stdout",
     "output_type": "stream",
     "text": [
      "l\n"
     ]
    }
   ],
   "source": [
    "# Print the element on index 6 in the string\n",
    "\n",
    "print(name[6])"
   ]
  },
  {
   "cell_type": "markdown",
   "id": "938512bc",
   "metadata": {},
   "source": [
    "### Negative Indexing\n"
   ]
  },
  {
   "cell_type": "code",
   "execution_count": 6,
   "id": "830b96a7",
   "metadata": {},
   "outputs": [
    {
     "name": "stdout",
     "output_type": "stream",
     "text": [
      "n\n"
     ]
    }
   ],
   "source": [
    "# Print the last element in the string\n",
    "\n",
    "print(name[-1])"
   ]
  },
  {
   "cell_type": "code",
   "execution_count": 7,
   "id": "7232c22c",
   "metadata": {},
   "outputs": [
    {
     "name": "stdout",
     "output_type": "stream",
     "text": [
      "M\n"
     ]
    }
   ],
   "source": [
    "# Print the first element in the string\n",
    "\n",
    "print(name[-15])"
   ]
  },
  {
   "cell_type": "markdown",
   "id": "3be1f236",
   "metadata": {},
   "source": [
    "### Slicing\n"
   ]
  },
  {
   "cell_type": "markdown",
   "id": "11f7c971",
   "metadata": {},
   "source": [
    "<hr/>\n",
    "<div class=\"alert alert-success alertsuccess\" style=\"margin-top: 20px\">\n",
    "[Tip]: When taking the slice, the first number means the index (start at 0), and the second number means the length from the index to the last element you want (start at 1)\n",
    "</div>\n",
    "<hr/>\n"
   ]
  },
  {
   "cell_type": "code",
   "execution_count": 8,
   "id": "306cc25c",
   "metadata": {},
   "outputs": [
    {
     "data": {
      "text/plain": [
       "'Mich'"
      ]
     },
     "execution_count": 8,
     "metadata": {},
     "output_type": "execute_result"
    }
   ],
   "source": [
    "# Take the slice on variable name with only index 0 to index 3\n",
    "\n",
    "name[0:4]"
   ]
  },
  {
   "cell_type": "code",
   "execution_count": 9,
   "id": "849f4b1e",
   "metadata": {},
   "outputs": [
    {
     "data": {
      "text/plain": [
       "'Jack'"
      ]
     },
     "execution_count": 9,
     "metadata": {},
     "output_type": "execute_result"
    }
   ],
   "source": [
    "# Take the slice on variable name with only index 8 to index 11\n",
    "\n",
    "name[8:12]"
   ]
  },
  {
   "cell_type": "markdown",
   "id": "d6f9dff8",
   "metadata": {},
   "source": []
  },
  {
   "cell_type": "markdown",
   "id": "90c6388f",
   "metadata": {},
   "source": [
    "### Stride\n"
   ]
  },
  {
   "cell_type": "code",
   "execution_count": 10,
   "id": "be3e2ba4",
   "metadata": {},
   "outputs": [
    {
     "data": {
      "text/plain": [
       "'McalJcsn'"
      ]
     },
     "execution_count": 10,
     "metadata": {},
     "output_type": "execute_result"
    }
   ],
   "source": [
    "# Get every second element. The elments on index 1, 3, 5 ...\n",
    "\n",
    "name[::2]"
   ]
  },
  {
   "cell_type": "code",
   "execution_count": 11,
   "id": "ffc0e0c5",
   "metadata": {},
   "outputs": [
    {
     "data": {
      "text/plain": [
       "'Mca'"
      ]
     },
     "execution_count": 11,
     "metadata": {},
     "output_type": "execute_result"
    }
   ],
   "source": [
    "# Get every second element in the range from index 0 to index 4\n",
    "\n",
    "name[0:5:2]"
   ]
  },
  {
   "cell_type": "markdown",
   "id": "c14c247a",
   "metadata": {},
   "source": [
    "### Concatenate Strings"
   ]
  },
  {
   "cell_type": "code",
   "execution_count": 12,
   "id": "8f76ab0f",
   "metadata": {},
   "outputs": [
    {
     "data": {
      "text/plain": [
       "'Michael Jackson is the best'"
      ]
     },
     "execution_count": 12,
     "metadata": {},
     "output_type": "execute_result"
    }
   ],
   "source": [
    "# Concatenate two strings\n",
    "\n",
    "statement = name + \" is the best\"\n",
    "statement"
   ]
  },
  {
   "cell_type": "code",
   "execution_count": 13,
   "id": "87c05c1d",
   "metadata": {},
   "outputs": [
    {
     "data": {
      "text/plain": [
       "'Michael JacksonMichael JacksonMichael Jackson'"
      ]
     },
     "execution_count": 13,
     "metadata": {},
     "output_type": "execute_result"
    }
   ],
   "source": [
    "# Print the string for 3 times\n",
    "\n",
    "3 * \"Michael Jackson\""
   ]
  },
  {
   "cell_type": "markdown",
   "id": "f48d1b1f",
   "metadata": {},
   "source": [
    "## Escape Sequences\n"
   ]
  },
  {
   "cell_type": "code",
   "execution_count": 14,
   "id": "42159485",
   "metadata": {},
   "outputs": [
    {
     "name": "stdout",
     "output_type": "stream",
     "text": [
      " Michael Jackson \n",
      " is the best\n"
     ]
    }
   ],
   "source": [
    "# New line escape sequence\n",
    "\n",
    "print(\" Michael Jackson \\n is the best\" )"
   ]
  },
  {
   "cell_type": "code",
   "execution_count": 15,
   "id": "bb692bb1",
   "metadata": {},
   "outputs": [
    {
     "name": "stdout",
     "output_type": "stream",
     "text": [
      " Michael Jackson \t is the best\n"
     ]
    }
   ],
   "source": [
    "# Tab escape sequence\n",
    "\n",
    "print(\" Michael Jackson \\t is the best\" )"
   ]
  },
  {
   "cell_type": "code",
   "execution_count": 16,
   "id": "e23b1386",
   "metadata": {},
   "outputs": [
    {
     "name": "stdout",
     "output_type": "stream",
     "text": [
      " Michael Jackson \\ is the best\n"
     ]
    }
   ],
   "source": [
    "# Include back slash in string\n",
    "\n",
    "print(\" Michael Jackson \\\\ is the best\" )"
   ]
  },
  {
   "cell_type": "code",
   "execution_count": 17,
   "id": "896122aa",
   "metadata": {},
   "outputs": [
    {
     "name": "stdout",
     "output_type": "stream",
     "text": [
      " Michael Jackson \\ is the best\n"
     ]
    }
   ],
   "source": [
    "# r will tell python that string will be display as raw string\n",
    "\n",
    "print(r\" Michael Jackson \\ is the best\" )"
   ]
  },
  {
   "cell_type": "markdown",
   "id": "a469940d",
   "metadata": {},
   "source": [
    "## String Manipulation Operations"
   ]
  },
  {
   "cell_type": "code",
   "execution_count": 18,
   "id": "c8f39b2b",
   "metadata": {},
   "outputs": [
    {
     "name": "stdout",
     "output_type": "stream",
     "text": [
      "before upper: Thriller is the sixth studio album\n",
      "After upper: THRILLER IS THE SIXTH STUDIO ALBUM\n"
     ]
    }
   ],
   "source": [
    "# Convert all the characters in string to upper case\n",
    "\n",
    "a = \"Thriller is the sixth studio album\"\n",
    "print(\"before upper:\", a)\n",
    "b = a.upper()\n",
    "print(\"After upper:\", b)"
   ]
  },
  {
   "cell_type": "code",
   "execution_count": 19,
   "id": "ea9c390e",
   "metadata": {},
   "outputs": [
    {
     "data": {
      "text/plain": [
       "'Janet Jackson is the best'"
      ]
     },
     "execution_count": 19,
     "metadata": {},
     "output_type": "execute_result"
    }
   ],
   "source": [
    "# Replace the old substring with the new target substring is the segment has been found in the string\n",
    "\n",
    "a = \"Michael Jackson is the best\"\n",
    "b = a.replace('Michael', 'Janet')\n",
    "b"
   ]
  },
  {
   "cell_type": "markdown",
   "id": "7e63c24c",
   "metadata": {},
   "source": [
    "<code>find</code> 메서드는 부분 문자열을 찾습니다. 인수는 찾고자 하는 부분 문자열이며, 출력값은 해당 부분 문자열이 처음 나타나는 **위치의 인덱스**입니다. 우리는 부분 문자열 <code>jack</code> 또는 <code>el</code>을 찾을 수 있습니다."
   ]
  },
  {
   "cell_type": "code",
   "execution_count": 20,
   "id": "22c41075",
   "metadata": {},
   "outputs": [
    {
     "data": {
      "text/plain": [
       "5"
      ]
     },
     "execution_count": 20,
     "metadata": {},
     "output_type": "execute_result"
    }
   ],
   "source": [
    "# Find the substring in the string. Only the index of the first elment of substring in string will be the output\n",
    "\n",
    "name = \"Michael Jackson\"\n",
    "name.find('el')"
   ]
  },
  {
   "cell_type": "code",
   "execution_count": 21,
   "id": "6f966bb6",
   "metadata": {},
   "outputs": [
    {
     "data": {
      "text/plain": [
       "8"
      ]
     },
     "execution_count": 21,
     "metadata": {},
     "output_type": "execute_result"
    }
   ],
   "source": [
    "# Find the substring in the string.\n",
    "\n",
    "name.find('Jack')"
   ]
  },
  {
   "cell_type": "markdown",
   "id": "893895f7",
   "metadata": {},
   "source": [
    "<hr/>\n",
    "<div class=\"alert alert-success alertsuccess\" style=\"margin-top: 20px\">\n",
    "[Tip]:  \n",
    "부분 문자열이 문자열에 포함되어 있지 않은 경우 출력은 -1이 됩니다. 예를 들어, 문자열 'Jasdfasdasdf'는 부분 문자열이 아닙니다:\n",
    "</div>\n",
    "<hr/>\n"
   ]
  },
  {
   "cell_type": "code",
   "execution_count": 22,
   "id": "66528b46",
   "metadata": {},
   "outputs": [
    {
     "data": {
      "text/plain": [
       "-1"
      ]
     },
     "execution_count": 22,
     "metadata": {},
     "output_type": "execute_result"
    }
   ],
   "source": [
    "# If cannot find the substring in the string\n",
    "\n",
    "name.find('Jasdfasdasdf')"
   ]
  },
  {
   "cell_type": "markdown",
   "id": "fb2d37d1",
   "metadata": {},
   "source": [
    "<code>Split</code> 메서드는 지정된 구분자에서 문자열을 나누고, 리스트를 반환합니다.\n",
    "\n",
    "**문법**\n",
    "\n",
    "<code>string.split(separator, maxsplit)</code>\n",
    "\n",
    "**Parameters**\n",
    "* separator (선택사항): 문자열을 나눌 구분자입니다. 제공되지 않으면 기본 구분자는 공백입니다.\n",
    "* maxsplit (선택사항): 수행할 최대 분할 횟수를 지정합니다. 제공되지 않으면 분할 횟수에 제한이 없습니다.\n",
    "\n",
    "**Return Value**:\n",
    "\n",
    "이 메서드는 부분 문자열의 리스트를 반환합니다."
   ]
  },
  {
   "cell_type": "code",
   "execution_count": 23,
   "id": "549a528d",
   "metadata": {},
   "outputs": [
    {
     "data": {
      "text/plain": [
       "['Michael', 'Jackson']"
      ]
     },
     "execution_count": 23,
     "metadata": {},
     "output_type": "execute_result"
    }
   ],
   "source": [
    "#Split the substring into list\n",
    "name = \"Michael Jackson\"\n",
    "split_string = (name.split())\n",
    "split_string"
   ]
  },
  {
   "cell_type": "markdown",
   "id": "d1165136",
   "metadata": {},
   "source": [
    "## RegEx"
   ]
  },
  {
   "cell_type": "markdown",
   "id": "f205b134",
   "metadata": {},
   "source": [
    "Python에서 RegEx(정규 표현식의 약자)는 문자열을 매칭하고 처리하는 도구입니다.\n",
    "\n",
    "이 RegEx 모듈은 정규표현식을 다루기 위한 여러 기능을 제공합니다. 여기에는 `search`, `split`, `findall`, 그리고 `sub` 와 같은 함수가 포함됩니다."
   ]
  },
  {
   "cell_type": "code",
   "execution_count": 24,
   "id": "24aec873",
   "metadata": {},
   "outputs": [],
   "source": [
    "import re"
   ]
  },
  {
   "cell_type": "markdown",
   "id": "d4856534",
   "metadata": {},
   "source": [
    "<code>search()</code> 함수는 문자열 내에서 지정된 패턴을 검색합니다. 다음은 문자열 \"Michael Jackson is the best\"에서 단어 \"Jackson\"을 검색하기 위해 <code>search()</code> 함수를 사용하는 방법을 설명하는 예제입니다."
   ]
  },
  {
   "cell_type": "code",
   "execution_count": 26,
   "id": "8111c341",
   "metadata": {},
   "outputs": [
    {
     "name": "stdout",
     "output_type": "stream",
     "text": [
      "Match found!\n"
     ]
    }
   ],
   "source": [
    "s1 = \"Michael Jackson is the best\"\n",
    "\n",
    "# Define the pattern to search for\n",
    "pattern = r\"Jackson\"\n",
    "\n",
    "# Use the search() function to search for the pattern in the string\n",
    "result = re.search(pattern, s1)\n",
    "\n",
    "# Check if a match was found\n",
    "if result:\n",
    "    print(\"Match found!\")\n",
    "else:\n",
    "    print(\"Match not found.\")"
   ]
  },
  {
   "cell_type": "markdown",
   "id": "567dab2c",
   "metadata": {},
   "source": [
    "정규 표현식(RegEx)은 텍스트 문자열을 매칭하고 조작하기 위해 사용되는 패턴입니다. RegEx에는 특정 문자나 패턴을 매칭하는 데 사용할 수 있는 여러 특수 시퀀스가 있습니다.\n",
    "\n",
    "| Special Sequence | Meaning                 | \tExample             |\n",
    "| -----------  | ----------------------- | ----------------------|\n",
    "| \\d|Matches any digit character (0-9)|\"123\" matches \"\\d\\d\\d\"|\n",
    "|\\D|Matches any non-digit character|\"hello\" matches \"\\D\\D\\D\\D\\D\"|\n",
    "|\\w|Matches any word character (a-z, A-Z, 0-9, and _)|\"hello_world\" matches \"\\w\\w\\w\\w\\w\\w\\w\\w\\w\\w\\w\"|\n",
    "|\\W|Matches any non-word character|\t\"@#$%\" matches \"\\W\\W\\W\\W\"|\n",
    "|\\s|Matches any whitespace character (space, tab, newline, etc.)|\"hello world\" matches \"\\w\\w\\w\\w\\w\\s\\w\\w\\w\\w\\w\"|\n",
    "|\\S|Matches any non-whitespace character|\"hello_world\" matches \"\\S\\S\\S\\S\\S\\S\\S\\S\\S\"|\n",
    "|\\b|Matches the boundary between a word character and a non-word character|\"cat\" matches \"\\bcat\\b\" in \"The cat sat on the mat\"|\n",
    "|\\B|Matches any position that is not a word boundary|\"cat\" matches \"\\Bcat\\B\" in \"category\" but not in \"The cat sat on the mat\"|"
   ]
  },
  {
   "cell_type": "code",
   "execution_count": 30,
   "id": "d6fa170d",
   "metadata": {},
   "outputs": [
    {
     "data": {
      "text/plain": [
       "<re.Match object; span=(0, 1), match='M'>"
      ]
     },
     "execution_count": 30,
     "metadata": {},
     "output_type": "execute_result"
    }
   ],
   "source": [
    "re.search('M', s1)"
   ]
  },
  {
   "cell_type": "code",
   "execution_count": 28,
   "id": "be7472c8",
   "metadata": {},
   "outputs": [
    {
     "data": {
      "text/plain": [
       "<re.Match object; span=(0, 1), match='M'>"
      ]
     },
     "execution_count": 28,
     "metadata": {},
     "output_type": "execute_result"
    }
   ],
   "source": [
    "re.match('M', s1)"
   ]
  },
  {
   "cell_type": "markdown",
   "id": "a4837466",
   "metadata": {},
   "source": [
    "`re.search`는 문자열 전체에서 패턴을 검색하여 일치하는 첫 번째 부분을 반환합니다. 즉, 패턴이 문자열 **아무 곳**에나 존재하는지 확인할때 사용합니다."
   ]
  },
  {
   "cell_type": "code",
   "execution_count": 35,
   "id": "bdd8592e",
   "metadata": {},
   "outputs": [
    {
     "data": {
      "text/plain": [
       "<re.Match object; span=(8, 9), match='J'>"
      ]
     },
     "execution_count": 35,
     "metadata": {},
     "output_type": "execute_result"
    }
   ],
   "source": [
    "import re\n",
    "s1 = \"Michael Jackson is the best\"\n",
    "re.search('J', s1)  # <re.Match object; span=(8, 9), match='J'>"
   ]
  },
  {
   "cell_type": "code",
   "execution_count": 36,
   "id": "596f02b6",
   "metadata": {},
   "outputs": [
    {
     "data": {
      "text/plain": [
       "<re.Match object; span=(0, 1), match='M'>"
      ]
     },
     "execution_count": 36,
     "metadata": {},
     "output_type": "execute_result"
    }
   ],
   "source": [
    "re.search('M', s1)  # <re.Match object; span=(0, 1), match='M'>"
   ]
  },
  {
   "cell_type": "code",
   "execution_count": 37,
   "id": "5f1cdcd2",
   "metadata": {},
   "outputs": [
    {
     "data": {
      "text/plain": [
       "<re.Match object; span=(23, 27), match='best'>"
      ]
     },
     "execution_count": 37,
     "metadata": {},
     "output_type": "execute_result"
    }
   ],
   "source": [
    "re.search('best', s1)  # <re.Match object; span=(20, 24), match='best'>"
   ]
  },
  {
   "cell_type": "markdown",
   "id": "2500cfda",
   "metadata": {},
   "source": [
    "`re.match`는 문자열의 **시작 부분**에서만 패턴을 검색합니다. 즉, 문자열이 **특정 패턴으로 시작**하는지 확인할때 유용합니다."
   ]
  },
  {
   "cell_type": "code",
   "execution_count": 32,
   "id": "aa6ba7c6",
   "metadata": {},
   "outputs": [
    {
     "data": {
      "text/plain": [
       "<re.Match object; span=(0, 1), match='M'>"
      ]
     },
     "execution_count": 32,
     "metadata": {},
     "output_type": "execute_result"
    }
   ],
   "source": [
    "import re\n",
    "s1 = \"Michael Jackson is the best\"\n",
    "re.match('M', s1)  # <re.Match object; span=(0, 1), match='M'>"
   ]
  },
  {
   "cell_type": "code",
   "execution_count": 33,
   "id": "ab9c848c",
   "metadata": {},
   "outputs": [],
   "source": [
    "re.match('J', s1)  # None"
   ]
  },
  {
   "cell_type": "code",
   "execution_count": 34,
   "id": "afc8be09",
   "metadata": {},
   "outputs": [
    {
     "data": {
      "text/plain": [
       "<re.Match object; span=(0, 7), match='Michael'>"
      ]
     },
     "execution_count": 34,
     "metadata": {},
     "output_type": "execute_result"
    }
   ],
   "source": [
    "re.match('Michael', s1)  # <re.Match object; span=(0, 7), match='Michael'>"
   ]
  },
  {
   "cell_type": "markdown",
   "id": "a66f22f8",
   "metadata": {},
   "source": [
    "<code>match.group()</code> 메서드는 Python의 <code>re</code> 모듈에서 정규 표현식 패턴과 일치하는 문자열 부분을 검색하는 데 사용됩니다. 아래는 이에 대한 상세한 설명입니다:\n",
    "\n",
    "**목적**  \n",
    "- **일치한 텍스트 추출**: <code>match.group()</code>는 패턴과 일치한 정확한 부분 문자열을 반환합니다.\n",
    "\n",
    "**사용법**  \n",
    "- <code>re.search()</code> 또는 <code>re.match()</code>와 같은 함수를 사용하면, 패턴이 발견될 경우 매치 객체를 반환합니다. 이때 <code>match.group()</code>를 사용하여 일치한 텍스트를 얻을 수 있습니다.\n",
    "\n",
    "여기에서 <code>match.group()</code>는 텍스트에서 패턴과 일치한 부분인 \"1234567890\"을 추출합니다."
   ]
  },
  {
   "cell_type": "code",
   "execution_count": 38,
   "id": "02a2b0af",
   "metadata": {},
   "outputs": [
    {
     "name": "stdout",
     "output_type": "stream",
     "text": [
      "1234567890\n"
     ]
    }
   ],
   "source": [
    "import re\n",
    "\n",
    "# 문자열에서 숫자를 포함한 패턴 찾기\n",
    "s = \"Order number: 1234567890\"\n",
    "result = re.search(r'\\d+', s)  # 숫자에 일치하는 첫 번째 패턴 검색\n",
    "\n",
    "if result:\n",
    "    print(result.group())  # '1234567890' 출력"
   ]
  },
  {
   "cell_type": "code",
   "execution_count": 39,
   "id": "c345f3df",
   "metadata": {},
   "outputs": [
    {
     "name": "stdout",
     "output_type": "stream",
     "text": [
      "123\n"
     ]
    }
   ],
   "source": [
    "import re\n",
    "\n",
    "# 문자열이 특정 패턴으로 시작하는지 확인\n",
    "s = \"123ABC is the code\"\n",
    "result = re.match(r'\\d+', s)  # 문자열 시작 부분에서 숫자 패턴 검색\n",
    "\n",
    "if result:\n",
    "    print(result.group())  # '123' 출력"
   ]
  },
  {
   "cell_type": "code",
   "execution_count": 41,
   "id": "db0923c9",
   "metadata": {},
   "outputs": [],
   "source": [
    "import re\n",
    "\n",
    "# 문자열이 특정 패턴으로 시작하는지 확인\n",
    "s = \"ABC is 123\"\n",
    "result = re.match(r'\\d+', s)  # 문자열 시작 부분에서 숫자 패턴 검색\n",
    "\n",
    "if result:\n",
    "    print(result.group())  # '123' 출력\n",
    "    \n",
    "# 결과 None - 시작부분에 matching되는 것이 없기 때문"
   ]
  },
  {
   "cell_type": "markdown",
   "id": "3ac0bf44",
   "metadata": {},
   "source": [
    "Python 코드에서 정규 표현식 패턴에 <code>\\W</code> 특수 시퀀스를 사용하는 간단한 예제:"
   ]
  },
  {
   "cell_type": "code",
   "execution_count": 42,
   "id": "73546681",
   "metadata": {},
   "outputs": [
    {
     "name": "stdout",
     "output_type": "stream",
     "text": [
      "Matches: [',', ' ', '!']\n"
     ]
    }
   ],
   "source": [
    "pattern = r\"\\W\"  # Matches any non-word character\n",
    "text = \"Hello, world!\"\n",
    "matches = re.findall(pattern, text)\n",
    "\n",
    "print(\"Matches:\", matches)"
   ]
  },
  {
   "cell_type": "markdown",
   "id": "dec7a48a",
   "metadata": {},
   "source": [
    "<code>findall()</code> 함수는 문자열 내에서 지정된 패턴의 모든 발생을 찾아냅니다."
   ]
  },
  {
   "cell_type": "code",
   "execution_count": 43,
   "id": "0250a9a8",
   "metadata": {},
   "outputs": [
    {
     "name": "stdout",
     "output_type": "stream",
     "text": [
      "['as', 'as']\n"
     ]
    }
   ],
   "source": [
    "s2 = \"Michael Jackson was a singer and known as the 'King of Pop'\"\n",
    "\n",
    "\n",
    "# Use the findall() function to find all occurrences of the \"as\" in the string\n",
    "result = re.findall(\"as\", s2)\n",
    "\n",
    "# Print out the list of matched words\n",
    "print(result)"
   ]
  },
  {
   "cell_type": "markdown",
   "id": "369df81c",
   "metadata": {},
   "source": [
    "정규 표현식의 <code>split()</code> 함수는 지정된 패턴을 기준으로 문자열을 부분 문자열 배열로 나눕니다."
   ]
  },
  {
   "cell_type": "code",
   "execution_count": 44,
   "id": "7e4b40db",
   "metadata": {},
   "outputs": [
    {
     "name": "stdout",
     "output_type": "stream",
     "text": [
      "['Michael', 'Jackson', 'was', 'a', 'singer', 'and', 'known', 'as', 'the', \"'King\", 'of', \"Pop'\"]\n"
     ]
    }
   ],
   "source": [
    "# Use the split function to split the string by the \"\\s\"\n",
    "split_array = re.split(r\"\\s\", s2)\n",
    "\n",
    "# The split_array contains all the substrings, split by whitespace characters\n",
    "print(split_array)"
   ]
  },
  {
   "cell_type": "markdown",
   "id": "8fd2ae2e",
   "metadata": {},
   "source": [
    "Python의 정규 표현식에서 <code>sub</code> 함수는 문자열에서 패턴과 일치하는 모든 부분을 지정된 대체 문자열로 바꾸는 데 사용됩니다."
   ]
  },
  {
   "cell_type": "code",
   "execution_count": 48,
   "id": "4b33bc90",
   "metadata": {},
   "outputs": [
    {
     "name": "stdout",
     "output_type": "stream",
     "text": [
      "Michael Jackson was a singer and known as the 'legend'\n"
     ]
    }
   ],
   "source": [
    "# Define the regular expression pattern to search for\n",
    "pattern = r\"King of Pop\"\n",
    "\n",
    "# Define the replacement string\n",
    "replacement = \"legend\"\n",
    "\n",
    "# Use the sub function to replace the pattern with the replacement string\n",
    "new_string = re.sub(pattern, replacement, s2, flags=re.IGNORECASE)\n",
    "\n",
    "# The new_string contains the original string with the pattern replaced by the replacement string\n",
    "print(new_string) "
   ]
  }
 ],
 "metadata": {
  "kernelspec": {
   "display_name": "Python 3 (ipykernel)",
   "language": "python",
   "name": "python3"
  },
  "language_info": {
   "codemirror_mode": {
    "name": "ipython",
    "version": 3
   },
   "file_extension": ".py",
   "mimetype": "text/x-python",
   "name": "python",
   "nbconvert_exporter": "python",
   "pygments_lexer": "ipython3",
   "version": "3.9.12"
  }
 },
 "nbformat": 4,
 "nbformat_minor": 5
}
