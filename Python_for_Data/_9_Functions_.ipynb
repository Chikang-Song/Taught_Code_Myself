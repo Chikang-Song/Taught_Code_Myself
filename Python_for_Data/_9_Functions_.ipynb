{
 "cells": [
  {
   "cell_type": "markdown",
   "id": "342a41f5",
   "metadata": {},
   "source": [
    "# Functions in Python\n",
    "\n",
    "## Objectives\n",
    "After completing this lab you will be able to:\n",
    "\n",
    "* Understand functions and variables\n",
    "* Work with functions and variables"
   ]
  },
  {
   "cell_type": "markdown",
   "id": "a3cc78c9",
   "metadata": {},
   "source": [
    "<h2>Table Contents</h2>\n",
    "<div class='alert alert-block alert-info' style='margin-top: 20px'>\n",
    "    <ul>\n",
    "        <li><a href=#1>Functions</a></li>\n",
    "        <ul>\n",
    "            <li><a href=#1-1>What is a function?</a></li>\n",
    "            <li><a href=#1-2>Variables</a></li>\n",
    "            <li><a href=#1-3>Functions Make Things Simple</a></li>\n",
    "        </ul>\n",
    "        <li><a href=#2>Pre-defined functions</a></li>\n",
    "        <li><a href=#3>Using <code>if</code>/<code>else</code> Statements and Loops in Functions</a></li>\n",
    "        <li><a href=#4>Setting default argument values in your custom functions</a></li>\n",
    "        <li><a href=#5>Global variables</a></li>\n",
    "        <li><a href=#6>Scope of a Variable</a></li>\n",
    "        <li><a href=#7>Collections and Functions</a></li>\n",
    "        <li><a href=#8>Quiz on Loops</a></li>\n",
    "    </ul>\n",
    "\n",
    "</div>"
   ]
  },
  {
   "cell_type": "markdown",
   "id": "7a80ece6",
   "metadata": {},
   "source": [
    "## Functions <a id=1></a>"
   ]
  },
  {
   "cell_type": "markdown",
   "id": "c10b51f0",
   "metadata": {},
   "source": [
    "### What is a function? <a id=1-1></a>"
   ]
  },
  {
   "cell_type": "markdown",
   "id": "c0652c58",
   "metadata": {},
   "source": [
    "### Variables <a id=1-2></a>"
   ]
  },
  {
   "cell_type": "markdown",
   "id": "f3453475",
   "metadata": {},
   "source": [
    "### Functions Make Things Simple <a id = 1-3></a>"
   ]
  },
  {
   "cell_type": "markdown",
   "id": "c34a3ff8",
   "metadata": {},
   "source": [
    "## Pre-defined functions <a id=2></a>"
   ]
  },
  {
   "cell_type": "markdown",
   "id": "ea5fa1fc",
   "metadata": {},
   "source": [
    "## Using <code>if</code>/<code>else</code> Statements and Loops in Functions <a id=3></a>"
   ]
  },
  {
   "cell_type": "markdown",
   "id": "97ae29a7",
   "metadata": {},
   "source": [
    "## Setting default argument values in your custom functions <a id=4></a>"
   ]
  },
  {
   "cell_type": "markdown",
   "id": "909b38fd",
   "metadata": {},
   "source": [
    "## Global variables <a id=5></a>"
   ]
  },
  {
   "cell_type": "markdown",
   "id": "b1aed173",
   "metadata": {},
   "source": [
    "## Scope of a Variable <a id=6></a>"
   ]
  },
  {
   "cell_type": "markdown",
   "id": "c3c82ebe",
   "metadata": {},
   "source": [
    "## Collections and Functions <a id=7></a>"
   ]
  },
  {
   "cell_type": "markdown",
   "id": "3e833713",
   "metadata": {},
   "source": [
    "## Quiz on Loops <a id=8></a>"
   ]
  },
  {
   "cell_type": "code",
   "execution_count": null,
   "id": "e38952c6",
   "metadata": {},
   "outputs": [],
   "source": []
  }
 ],
 "metadata": {
  "kernelspec": {
   "display_name": "Python 3 (ipykernel)",
   "language": "python",
   "name": "python3"
  },
  "language_info": {
   "codemirror_mode": {
    "name": "ipython",
    "version": 3
   },
   "file_extension": ".py",
   "mimetype": "text/x-python",
   "name": "python",
   "nbconvert_exporter": "python",
   "pygments_lexer": "ipython3",
   "version": "3.9.12"
  }
 },
 "nbformat": 4,
 "nbformat_minor": 5
}
