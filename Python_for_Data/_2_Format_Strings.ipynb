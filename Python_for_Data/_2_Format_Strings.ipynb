{
 "cells": [
  {
   "cell_type": "markdown",
   "id": "b0f01456",
   "metadata": {},
   "source": [
    "# Format Strings"
   ]
  },
  {
   "cell_type": "markdown",
   "id": "7390f111",
   "metadata": {},
   "source": [
    "<h2>Table of Contents</h2>\n",
    "<div class=\"alert alert-block alert-info\" style=\"margin-top: 20px\">\n",
    "    <ul>\n",
    "        <li>\n",
    "            <a href=\"#Format Strings in Python\">Format Strings in Python</a>\n",
    "            <ul>\n",
    "                <li><a href=\"#String interpolation (f-strings)\">String interpolation (f-strings)</a></li>\n",
    "                <li><a href=\"#str.format()\">str.format()</a></li>\n",
    "                <li><a href=\"#% Operator\">% Operator</a></li>\n",
    "                <li><a href=\"#Raw String (r’’)\">Raw String (r’’)</a></li>\n",
    "            </ul>\n",
    "        </li>\n",
    "    </ul>\n",
    "</div>\n",
    "\n",
    "<hr>\n"
   ]
  },
  {
   "cell_type": "markdown",
   "id": "3e758cd8",
   "metadata": {},
   "source": [
    "## Format Strings in Python"
   ]
  },
  {
   "cell_type": "markdown",
   "id": "6ce78483",
   "metadata": {},
   "source": [
    "### String interpolation (f-strings)"
   ]
  },
  {
   "cell_type": "code",
   "execution_count": 1,
   "id": "d2b1813c",
   "metadata": {},
   "outputs": [
    {
     "name": "stdout",
     "output_type": "stream",
     "text": [
      "My name is John and I am 30 years old.\n"
     ]
    }
   ],
   "source": [
    "name = \"John\"\n",
    "age = 30\n",
    "print(f\"My name is {name} and I am {age} years old.\")"
   ]
  },
  {
   "cell_type": "markdown",
   "id": "a7f9295c",
   "metadata": {},
   "source": [
    "### `str.format()`"
   ]
  },
  {
   "cell_type": "code",
   "execution_count": 2,
   "id": "e1317cb9",
   "metadata": {},
   "outputs": [
    {
     "name": "stdout",
     "output_type": "stream",
     "text": [
      "My name is John and I am 50 years old.\n"
     ]
    }
   ],
   "source": [
    "name = \"John\"\n",
    "age = 50\n",
    "print(\"My name is {} and I am {} years old.\".format(name, age))"
   ]
  },
  {
   "cell_type": "markdown",
   "id": "de69b9d4",
   "metadata": {},
   "source": [
    "### % Operator"
   ]
  },
  {
   "cell_type": "markdown",
   "id": "0f6b51df",
   "metadata": {},
   "source": [
    "This is one of the oldest ways \n",
    "* %s: This is a placeholder for a string.\n",
    "* %d: This is a placeholder for an integer."
   ]
  },
  {
   "cell_type": "code",
   "execution_count": 3,
   "id": "6269dc60",
   "metadata": {},
   "outputs": [
    {
     "name": "stdout",
     "output_type": "stream",
     "text": [
      "My name is Johnathan and I am 30 years old.\n"
     ]
    }
   ],
   "source": [
    "name = \"Johnathan\"\n",
    "age = 30\n",
    "print(\"My name is %s and I am %d years old.\" % (name, age))"
   ]
  },
  {
   "cell_type": "markdown",
   "id": "4154d583",
   "metadata": {},
   "source": [
    "### Raw String (`r’ ’`)"
   ]
  },
  {
   "cell_type": "code",
   "execution_count": 4,
   "id": "e7fba554",
   "metadata": {},
   "outputs": [
    {
     "name": "stdout",
     "output_type": "stream",
     "text": [
      "Regular String: C:\n",
      "ew_folder\f",
      "ile.txt\n"
     ]
    }
   ],
   "source": [
    "regular_string = \"C:\\new_folder\\file.txt\"\n",
    "print(\"Regular String:\", regular_string)"
   ]
  },
  {
   "cell_type": "code",
   "execution_count": 5,
   "id": "2f63fb3e",
   "metadata": {},
   "outputs": [
    {
     "name": "stdout",
     "output_type": "stream",
     "text": [
      "Raw String: C:\\new_folder\\file.txt\n"
     ]
    }
   ],
   "source": [
    "raw_string = r\"C:\\new_folder\\file.txt\"\n",
    "print(\"Raw String:\", raw_string)"
   ]
  },
  {
   "cell_type": "code",
   "execution_count": null,
   "id": "965f338c",
   "metadata": {},
   "outputs": [],
   "source": []
  }
 ],
 "metadata": {
  "kernelspec": {
   "display_name": "Python 3 (ipykernel)",
   "language": "python",
   "name": "python3"
  },
  "language_info": {
   "codemirror_mode": {
    "name": "ipython",
    "version": 3
   },
   "file_extension": ".py",
   "mimetype": "text/x-python",
   "name": "python",
   "nbconvert_exporter": "python",
   "pygments_lexer": "ipython3",
   "version": "3.9.12"
  }
 },
 "nbformat": 4,
 "nbformat_minor": 5
}
