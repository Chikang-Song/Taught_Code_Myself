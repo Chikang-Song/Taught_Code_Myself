{
 "cells": [
  {
   "cell_type": "markdown",
   "id": "9dc5f24c",
   "metadata": {},
   "source": [
    "# Conditions and Branching\n",
    "\n",
    "## Objectives\n",
    "\n",
    "After completing this lab you will be able to:\n",
    "\n",
    "*   work with condition statements in Python, including operators, and branching.\n"
   ]
  },
  {
   "cell_type": "markdown",
   "id": "266d1c1f",
   "metadata": {},
   "source": [
    "<h2>Table of Contents</h2>\n",
    "<div class=\"alert alert-block alert-info\" style=\"margin-top: 20px\">\n",
    "    <ul>\n",
    "        <li>\n",
    "            <a href=\"#Condition-Statements\">Condition Statements</a>\n",
    "            <ul>\n",
    "                <li><a href=\"#Comparison-Operators\">Comparison Operators</a></li>\n",
    "                <li><a href=\"#Branching\">Branching</a></li>\n",
    "                <li><a href=\"#Logical-operators\">Logical operators</a></li>\n",
    "            </ul>\n",
    "        </li>\n",
    "        <li>\n",
    "            <a href=\"#Quiz-on-Condition-Statement\">Quiz on Condition Statement</a>\n",
    "        </li>\n",
    "    </ul>\n",
    "\n",
    "</div>\n",
    "\n",
    "<hr>"
   ]
  },
  {
   "cell_type": "markdown",
   "id": "4a276ebc",
   "metadata": {},
   "source": [
    "## Condition statements <a id=\"Condition-Statements\"></a>"
   ]
  },
  {
   "cell_type": "markdown",
   "id": "a49e6824",
   "metadata": {},
   "source": [
    "### Comparison-Operators <a id=\"Comparison-Operators\"></a>\n",
    "\n",
    "<ul>\n",
    "    <li>equal: <b>==</b></li>\n",
    "    <li>not equal: <b>!=</b></li>\n",
    "    <li>greater than: <b>></b></li>\n",
    "    <li>less than: <b>&lt;</b></li>\n",
    "    <li>greater than or equal to: <b>>=</b></li>\n",
    "    <li>less than or equal to: <b>&lt;=</b></li>\n",
    "</ul>\n"
   ]
  },
  {
   "cell_type": "code",
   "execution_count": 2,
   "id": "4316151f",
   "metadata": {},
   "outputs": [
    {
     "data": {
      "text/plain": [
       "False"
      ]
     },
     "execution_count": 2,
     "metadata": {},
     "output_type": "execute_result"
    }
   ],
   "source": [
    "# Condition Equal\n",
    "\n",
    "a = 5\n",
    "a == 6"
   ]
  },
  {
   "cell_type": "code",
   "execution_count": 3,
   "id": "c070fdd4",
   "metadata": {},
   "outputs": [
    {
     "data": {
      "text/plain": [
       "True"
      ]
     },
     "execution_count": 3,
     "metadata": {},
     "output_type": "execute_result"
    }
   ],
   "source": [
    "# Greater than Sign\n",
    "\n",
    "i = 6\n",
    "i > 5"
   ]
  },
  {
   "cell_type": "code",
   "execution_count": 4,
   "id": "f4705e1d",
   "metadata": {},
   "outputs": [
    {
     "data": {
      "text/plain": [
       "False"
      ]
     },
     "execution_count": 4,
     "metadata": {},
     "output_type": "execute_result"
    }
   ],
   "source": [
    "# Greater than Sign\n",
    "\n",
    "i = 2\n",
    "i > 5"
   ]
  },
  {
   "cell_type": "code",
   "execution_count": 5,
   "id": "d5b7f732",
   "metadata": {},
   "outputs": [
    {
     "data": {
      "text/plain": [
       "True"
      ]
     },
     "execution_count": 5,
     "metadata": {},
     "output_type": "execute_result"
    }
   ],
   "source": [
    "# Inequality Sign\n",
    "\n",
    "i = 2\n",
    "i != 6"
   ]
  },
  {
   "cell_type": "code",
   "execution_count": 6,
   "id": "01447b31",
   "metadata": {},
   "outputs": [
    {
     "data": {
      "text/plain": [
       "False"
      ]
     },
     "execution_count": 6,
     "metadata": {},
     "output_type": "execute_result"
    }
   ],
   "source": [
    "# Inequality Sign\n",
    "\n",
    "i = 6\n",
    "i != 6"
   ]
  },
  {
   "cell_type": "code",
   "execution_count": 7,
   "id": "0758443f",
   "metadata": {},
   "outputs": [
    {
     "data": {
      "text/plain": [
       "False"
      ]
     },
     "execution_count": 7,
     "metadata": {},
     "output_type": "execute_result"
    }
   ],
   "source": [
    "# Use Equality sign to compare the strings\n",
    "\n",
    "\"ACDC\" == \"Michael Jackson\""
   ]
  },
  {
   "cell_type": "code",
   "execution_count": 8,
   "id": "6bc6f170",
   "metadata": {},
   "outputs": [
    {
     "data": {
      "text/plain": [
       "True"
      ]
     },
     "execution_count": 8,
     "metadata": {},
     "output_type": "execute_result"
    }
   ],
   "source": [
    "# Use Inequality sign to compare the strings\n",
    "\n",
    "\"ACDC\" != \"Michael Jackson\""
   ]
  },
  {
   "cell_type": "markdown",
   "id": "4707af51",
   "metadata": {},
   "source": [
    "<style type=\"text/css\">\n",
    ".tg  {border-collapse:collapse;border-spacing:0;}\n",
    ".tg td{border-color:black;border-style:solid;border-width:1px;font-family:Arial, sans-serif;font-size:14px;\n",
    "  overflow:hidden;padding:10px 5px;word-break:normal;}\n",
    ".tg th{border-color:black;border-style:solid;border-width:1px;font-family:Arial, sans-serif;font-size:14px;\n",
    "  font-weight:normal;overflow:hidden;padding:10px 5px;word-break:normal;}\n",
    ".tg .tg-baqh{text-align:center;vertical-align:top}\n",
    ".tg .tg-7geq{background-color:#ffffc7;text-align:center;vertical-align:top}\n",
    ".tg .tg-1cln{background-color:#ffcc67;font-size:100%;font-weight:bold;text-align:center;vertical-align:top}\n",
    ".tg .tg-xozw{background-color:#ffcc67;font-weight:bold;text-align:center;vertical-align:top}\n",
    "</style>\n",
    "\n",
    "<table class=\"tg\">\n",
    "<thead>\n",
    "  <tr>\n",
    "    <th class=\"tg-1cln\">Char.</th>\n",
    "    <th class=\"tg-xozw\">ASCII</th>\n",
    "    <th class=\"tg-xozw\">Char.</th>\n",
    "    <th class=\"tg-xozw\">ASCII</th>\n",
    "    <th class=\"tg-xozw\">Char.</th>\n",
    "    <th class=\"tg-xozw\">ASCII</th>\n",
    "    <th class=\"tg-xozw\">Char.</th>\n",
    "    <th class=\"tg-xozw\">ASCII</th>\n",
    "  </tr>\n",
    "</thead>\n",
    "<tbody>\n",
    "  <tr>\n",
    "    <td class=\"tg-7geq\">A</td>\n",
    "    <td class=\"tg-baqh\">65</td>\n",
    "    <td class=\"tg-7geq\">N</td>\n",
    "    <td class=\"tg-baqh\">78</td>\n",
    "    <td class=\"tg-7geq\">a</td>\n",
    "    <td class=\"tg-baqh\">97</td>\n",
    "    <td class=\"tg-7geq\">n</td>\n",
    "    <td class=\"tg-baqh\">110</td>\n",
    "  </tr>\n",
    "  <tr>\n",
    "    <td class=\"tg-7geq\">B</td>\n",
    "    <td class=\"tg-baqh\">66</td>\n",
    "    <td class=\"tg-7geq\">O</td>\n",
    "    <td class=\"tg-baqh\">79</td>\n",
    "    <td class=\"tg-7geq\">b</td>\n",
    "    <td class=\"tg-baqh\">98</td>\n",
    "    <td class=\"tg-7geq\">o</td>\n",
    "    <td class=\"tg-baqh\">111</td>\n",
    "  </tr>\n",
    "  <tr>\n",
    "    <td class=\"tg-7geq\">C</td>\n",
    "    <td class=\"tg-baqh\">67</td>\n",
    "    <td class=\"tg-7geq\">P</td>\n",
    "    <td class=\"tg-baqh\">80</td>\n",
    "    <td class=\"tg-7geq\">c</td>\n",
    "    <td class=\"tg-baqh\">99</td>\n",
    "    <td class=\"tg-7geq\">p</td>\n",
    "    <td class=\"tg-baqh\">112</td>\n",
    "  </tr>\n",
    "  <tr>\n",
    "    <td class=\"tg-7geq\">D</td>\n",
    "    <td class=\"tg-baqh\">68</td>\n",
    "    <td class=\"tg-7geq\">Q</td>\n",
    "    <td class=\"tg-baqh\">81</td>\n",
    "    <td class=\"tg-7geq\">d</td>\n",
    "    <td class=\"tg-baqh\">100</td>\n",
    "    <td class=\"tg-7geq\">q</td>\n",
    "    <td class=\"tg-baqh\">113</td>\n",
    "  </tr>\n",
    "  <tr>\n",
    "    <td class=\"tg-7geq\">E</td>\n",
    "    <td class=\"tg-baqh\">69</td>\n",
    "    <td class=\"tg-7geq\">R</td>\n",
    "    <td class=\"tg-baqh\">82</td>\n",
    "    <td class=\"tg-7geq\">e</td>\n",
    "    <td class=\"tg-baqh\">101</td>\n",
    "    <td class=\"tg-7geq\">r</td>\n",
    "    <td class=\"tg-baqh\">114</td>\n",
    "  </tr>\n",
    "  <tr>\n",
    "    <td class=\"tg-7geq\">F</td>\n",
    "    <td class=\"tg-baqh\">70</td>\n",
    "    <td class=\"tg-7geq\">S</td>\n",
    "    <td class=\"tg-baqh\">83</td>\n",
    "    <td class=\"tg-7geq\">f</td>\n",
    "    <td class=\"tg-baqh\">102</td>\n",
    "    <td class=\"tg-7geq\">s</td>\n",
    "    <td class=\"tg-baqh\">115</td>\n",
    "  </tr>\n",
    "  <tr>\n",
    "    <td class=\"tg-7geq\">G</td>\n",
    "    <td class=\"tg-baqh\">71</td>\n",
    "    <td class=\"tg-7geq\">T</td>\n",
    "    <td class=\"tg-baqh\">84</td>\n",
    "    <td class=\"tg-7geq\">g</td>\n",
    "    <td class=\"tg-baqh\">103</td>\n",
    "    <td class=\"tg-7geq\">t</td>\n",
    "    <td class=\"tg-baqh\">116</td>\n",
    "  </tr>\n",
    "  <tr>\n",
    "    <td class=\"tg-7geq\">H</td>\n",
    "    <td class=\"tg-baqh\">72</td>\n",
    "    <td class=\"tg-7geq\">U</td>\n",
    "    <td class=\"tg-baqh\">85</td>\n",
    "    <td class=\"tg-7geq\">h</td>\n",
    "    <td class=\"tg-baqh\">104</td>\n",
    "    <td class=\"tg-7geq\">u</td>\n",
    "    <td class=\"tg-baqh\">117</td>\n",
    "  </tr>\n",
    "  <tr>\n",
    "    <td class=\"tg-7geq\">I</td>\n",
    "    <td class=\"tg-baqh\">73</td>\n",
    "    <td class=\"tg-7geq\">V</td>\n",
    "    <td class=\"tg-baqh\">86</td>\n",
    "    <td class=\"tg-7geq\">i</td>\n",
    "    <td class=\"tg-baqh\">105</td>\n",
    "    <td class=\"tg-7geq\">v</td>\n",
    "    <td class=\"tg-baqh\">118</td>\n",
    "  </tr>\n",
    "  <tr>\n",
    "    <td class=\"tg-7geq\">J</td>\n",
    "    <td class=\"tg-baqh\">74</td>\n",
    "    <td class=\"tg-7geq\">W</td>\n",
    "    <td class=\"tg-baqh\">87</td>\n",
    "    <td class=\"tg-7geq\">j</td>\n",
    "    <td class=\"tg-baqh\">106</td>\n",
    "    <td class=\"tg-7geq\">w</td>\n",
    "    <td class=\"tg-baqh\">119</td>\n",
    "  </tr>\n",
    "  <tr>\n",
    "    <td class=\"tg-7geq\">K</td>\n",
    "    <td class=\"tg-baqh\">75</td>\n",
    "    <td class=\"tg-7geq\">X</td>\n",
    "    <td class=\"tg-baqh\">88</td>\n",
    "    <td class=\"tg-7geq\">k</td>\n",
    "    <td class=\"tg-baqh\">107</td>\n",
    "    <td class=\"tg-7geq\">x</td>\n",
    "    <td class=\"tg-baqh\">120</td>\n",
    "  </tr>\n",
    "  <tr>\n",
    "    <td class=\"tg-7geq\">L</td>\n",
    "    <td class=\"tg-baqh\">76</td>\n",
    "    <td class=\"tg-7geq\">Y</td>\n",
    "    <td class=\"tg-baqh\">89</td>\n",
    "    <td class=\"tg-7geq\">l</td>\n",
    "    <td class=\"tg-baqh\">108</td>\n",
    "    <td class=\"tg-7geq\">y</td>\n",
    "    <td class=\"tg-baqh\">121</td>\n",
    "  </tr>\n",
    "  <tr>\n",
    "    <td class=\"tg-7geq\">M</td>\n",
    "    <td class=\"tg-baqh\">77</td>\n",
    "    <td class=\"tg-7geq\">Z</td>\n",
    "    <td class=\"tg-baqh\">90</td>\n",
    "    <td class=\"tg-7geq\">m</td>\n",
    "    <td class=\"tg-baqh\">109</td>\n",
    "    <td class=\"tg-7geq\">z</td>\n",
    "    <td class=\"tg-baqh\">122</td>\n",
    "  </tr>\n",
    "</tbody>\n",
    "</table>\n"
   ]
  },
  {
   "cell_type": "code",
   "execution_count": 9,
   "id": "d8a4d1d3",
   "metadata": {},
   "outputs": [
    {
     "data": {
      "text/plain": [
       "True"
      ]
     },
     "execution_count": 9,
     "metadata": {},
     "output_type": "execute_result"
    }
   ],
   "source": [
    "# Compare characters\n",
    "\n",
    "'B' > 'A'"
   ]
  },
  {
   "cell_type": "markdown",
   "id": "948038b2",
   "metadata": {},
   "source": [
    "<hr/>\n",
    "<div class=\"alert alert-success alertsuccess\" style=\"margin-bottom: 0px\">\n",
    "[Tip]:  <br>  \n",
    "When there are multiple letters, the first letter takes precedence in ordering:\n",
    "</div>\n",
    "<hr/>"
   ]
  },
  {
   "cell_type": "code",
   "execution_count": 10,
   "id": "f39af0c3",
   "metadata": {},
   "outputs": [
    {
     "data": {
      "text/plain": [
       "True"
      ]
     },
     "execution_count": 10,
     "metadata": {},
     "output_type": "execute_result"
    }
   ],
   "source": [
    "# Compare characters\n",
    "\n",
    "'BA' > 'AB'"
   ]
  },
  {
   "cell_type": "markdown",
   "id": "43192225",
   "metadata": {},
   "source": [
    "## Branching <a id=\"Branching\"></a>\n",
    "\n",
    "Branching allows us to run different statements for different inputs. It is helpful to think of an **if statement** as a locked room, if the statement is **True** we can enter the room and your program will run some predefined tasks, but if the statement is **False** the program will ignore the task."
   ]
  },
  {
   "cell_type": "code",
   "execution_count": 11,
   "id": "a43fd534",
   "metadata": {},
   "outputs": [
    {
     "name": "stdout",
     "output_type": "stream",
     "text": [
      "you can enter\n",
      "move on\n"
     ]
    }
   ],
   "source": [
    "# If statement example\n",
    "\n",
    "age = 19\n",
    "#age = 18\n",
    "\n",
    "#expression that can be true or false\n",
    "if age > 18:\n",
    "    \n",
    "    #within an indent, we have the expression that is run if the condition is true\n",
    "    print(\"you can enter\" )\n",
    "\n",
    "#The statements after the if statement will run regardless if the condition is true or false \n",
    "print(\"move on\")"
   ]
  },
  {
   "cell_type": "code",
   "execution_count": 12,
   "id": "17037d24",
   "metadata": {},
   "outputs": [
    {
     "name": "stdout",
     "output_type": "stream",
     "text": [
      "go see Meat Loaf\n",
      "move on\n"
     ]
    }
   ],
   "source": [
    "# Else statement example\n",
    "\n",
    "age = 18\n",
    "# age = 19\n",
    "\n",
    "if age > 18:\n",
    "    print(\"you can enter\" )\n",
    "else:\n",
    "    print(\"go see Meat Loaf\" )\n",
    "    \n",
    "print(\"move on\")"
   ]
  },
  {
   "cell_type": "code",
   "execution_count": 13,
   "id": "e89cc7c3",
   "metadata": {},
   "outputs": [
    {
     "name": "stdout",
     "output_type": "stream",
     "text": [
      "go see Pink Floyd\n",
      "move on\n"
     ]
    }
   ],
   "source": [
    "# Elif statment example\n",
    "\n",
    "age = 18\n",
    "\n",
    "if age > 18:\n",
    "    print(\"you can enter\" )\n",
    "elif age == 18:\n",
    "    print(\"go see Pink Floyd\")\n",
    "else:\n",
    "    print(\"go see Meat Loaf\" )\n",
    "    \n",
    "print(\"move on\")"
   ]
  },
  {
   "cell_type": "markdown",
   "id": "c95d8b20",
   "metadata": {},
   "source": [
    "### Logical operators <a id=\"Logical-operators\"></a>\n",
    "\n",
    "Logical operators allow you to combine or modify conditions.\n",
    "\n",
    "<ul>\n",
    "    <li><code>and</code></li>\n",
    "    <li><code>or</code></li>\n",
    "    <li><code>not</code></li>\n",
    "</ul>"
   ]
  },
  {
   "cell_type": "code",
   "execution_count": 14,
   "id": "032cba14",
   "metadata": {},
   "outputs": [
    {
     "name": "stdout",
     "output_type": "stream",
     "text": [
      "Album year was in between 1980 and 1989\n",
      "\n",
      "Do Stuff..\n"
     ]
    }
   ],
   "source": [
    "# Condition statement example\n",
    "\n",
    "album_year = 1980\n",
    "\n",
    "if(album_year > 1979) and (album_year < 1990):\n",
    "    print (\"Album year was in between 1980 and 1989\")\n",
    "    \n",
    "print(\"\")\n",
    "print(\"Do Stuff..\")"
   ]
  },
  {
   "cell_type": "code",
   "execution_count": 15,
   "id": "118994a1",
   "metadata": {},
   "outputs": [
    {
     "name": "stdout",
     "output_type": "stream",
     "text": [
      "Album year is not 1984\n"
     ]
    }
   ],
   "source": [
    "# Condition statement example\n",
    "\n",
    "album_year = 1983\n",
    "\n",
    "if not (album_year == 1984):\n",
    "    print (\"Album year is not 1984\")"
   ]
  },
  {
   "cell_type": "markdown",
   "id": "7c7a43fb",
   "metadata": {},
   "source": [
    "### Quiz on Conditions<a id=\"Quiz-on-Condition-Statement\"></a>"
   ]
  },
  {
   "cell_type": "markdown",
   "id": "0fc7c06d",
   "metadata": {},
   "source": [
    "앨범의 평점이 8보다 큰지 확인하는 if 문을 작성하세요. 평점이 8.5인 “Back in Black” 앨범의 평점을 사용해 테스트하세요. 조건이 참이라면 \"This album is Amazing!\"라는 문장을 출력하세요."
   ]
  },
  {
   "cell_type": "code",
   "execution_count": 17,
   "id": "3ff094e3",
   "metadata": {},
   "outputs": [
    {
     "name": "stdout",
     "output_type": "stream",
     "text": [
      "This album is Amazing!\n"
     ]
    }
   ],
   "source": [
    "rating = 8.5\n",
    "\n",
    "if rating > 8:\n",
    "    print(\"This album is Amazing!\")"
   ]
  },
  {
   "cell_type": "markdown",
   "id": "139fa85f",
   "metadata": {},
   "source": [
    "다음과 같은 작업을 수행하는 if-else 문을 작성하세요.\n",
    "평점이 8보다 크면 \"this album is amazing\"을 출력하세요.\n",
    "평점이 8 이하이면 \"this album is ok\"를 출력하세요."
   ]
  },
  {
   "cell_type": "code",
   "execution_count": 19,
   "id": "069b28ff",
   "metadata": {},
   "outputs": [
    {
     "name": "stdout",
     "output_type": "stream",
     "text": [
      "This album is amazing\n"
     ]
    }
   ],
   "source": [
    "rating = 8.5\n",
    "\n",
    "if rating > 8:\n",
    "    print(\"This album is amazing\")\n",
    "else:\n",
    "    print(\"This album is ok\")"
   ]
  },
  {
   "cell_type": "markdown",
   "id": "0f5212fa",
   "metadata": {},
   "source": [
    "앨범이 1980년 이전에 나왔거나 1991년 또는 1993년에 발매되었는지 확인하는 if 문을 작성하세요.\n",
    "조건이 참이면 앨범이 발매된 연도를 출력하세요."
   ]
  },
  {
   "cell_type": "code",
   "execution_count": 21,
   "id": "93a62c4b",
   "metadata": {},
   "outputs": [
    {
     "name": "stdout",
     "output_type": "stream",
     "text": [
      "This album came out in 1979\n"
     ]
    }
   ],
   "source": [
    "albumYear = 1979\n",
    "\n",
    "if albumYear < 1980 or albumYear == 1991 or albumYear == 1993:\n",
    "    print(f\"This album came out in {albumYear}\")"
   ]
  },
  {
   "cell_type": "code",
   "execution_count": null,
   "id": "b0e7dbf4",
   "metadata": {},
   "outputs": [],
   "source": []
  }
 ],
 "metadata": {
  "kernelspec": {
   "display_name": "Python 3 (ipykernel)",
   "language": "python",
   "name": "python3"
  },
  "language_info": {
   "codemirror_mode": {
    "name": "ipython",
    "version": 3
   },
   "file_extension": ".py",
   "mimetype": "text/x-python",
   "name": "python",
   "nbconvert_exporter": "python",
   "pygments_lexer": "ipython3",
   "version": "3.9.12"
  }
 },
 "nbformat": 4,
 "nbformat_minor": 5
}
