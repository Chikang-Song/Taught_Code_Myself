{
 "cells": [
  {
   "cell_type": "markdown",
   "id": "4d8eef5a-b7b2-422c-99fb-d01c52e2d1a5",
   "metadata": {},
   "source": [
    "# 2D Numpy in Python    \n",
    "\n",
    "## Objectives\n",
    "\n",
    "After completing this lab you will be able to:\n",
    "\n",
    "* Operate comfortably with `numpy`\n",
    "* Perform complex operations with `numpy`"
   ]
  },
  {
   "cell_type": "markdown",
   "id": "e2a1f3f5-5220-41b0-9056-0efdfafbbf4a",
   "metadata": {},
   "source": [
    "<h2>Table of Contents</h2>\n",
    "<div class=\"alert alert-block alert-info\" style=\"margin-top: 20px\">\n",
    "    <ul>\n",
    "        <li><a href=\"#Create-a-2D-Numpy-Array\">Create a 2D Numpy Array</a></li>\n",
    "        <li><a href=\"#Accessing-different-elements-of-a-Numpy-Array\">Accessing different elements of a Numpy Array</a></li>\n",
    "        <li><a href=\"#Basic-Operations\">Basic Operations</a></li>\n",
    "    </ul>\n",
    "  \n",
    "</div>\n",
    "\n",
    "<hr>\n"
   ]
  },
  {
   "cell_type": "markdown",
   "id": "bc6aa028-f577-41db-a1b7-cb334d1493ce",
   "metadata": {},
   "source": [
    "## Create a 2D Numpy Array"
   ]
  },
  {
   "cell_type": "code",
   "execution_count": 1,
   "id": "691b3ff7-0cd0-4599-b9b1-b84e8c5ba00b",
   "metadata": {},
   "outputs": [],
   "source": [
    "# Import the libraries\n",
    "\n",
    "import numpy as np"
   ]
  },
  {
   "cell_type": "markdown",
   "id": "dca5ab32-c563-4538-b55e-94a55306c34a",
   "metadata": {},
   "source": [
    "Consider the list <code>a</code>, which contains three nested lists **each of equal size**. "
   ]
  },
  {
   "cell_type": "code",
   "execution_count": 2,
   "id": "d07afc5b-84f5-482d-8cba-daefd9004237",
   "metadata": {},
   "outputs": [
    {
     "data": {
      "text/plain": [
       "[[11, 12, 13], [21, 22, 23], [31, 32, 33]]"
      ]
     },
     "execution_count": 2,
     "metadata": {},
     "output_type": "execute_result"
    }
   ],
   "source": [
    "# Create a list\n",
    "\n",
    "a = [[11, 12, 13], [21, 22, 23], [31, 32, 33]]\n",
    "a"
   ]
  },
  {
   "cell_type": "markdown",
   "id": "4c2c7066-0c39-4cc3-9f1a-ae6926c30a2b",
   "metadata": {},
   "source": [
    "We can cast the list to a Numpy Array as follows:"
   ]
  },
  {
   "cell_type": "code",
   "execution_count": 3,
   "id": "708b95c1-07e6-4f3b-b1f0-3a32ba455ec9",
   "metadata": {},
   "outputs": [
    {
     "data": {
      "text/plain": [
       "array([[11, 12, 13],\n",
       "       [21, 22, 23],\n",
       "       [31, 32, 33]])"
      ]
     },
     "execution_count": 3,
     "metadata": {},
     "output_type": "execute_result"
    }
   ],
   "source": [
    "# Convert list to Numpy Array\n",
    "# Every element is the same type\n",
    "\n",
    "A = np.array(a)\n",
    "A"
   ]
  },
  {
   "cell_type": "markdown",
   "id": "ed36ef07-2c65-4517-839d-b9b8a024eb83",
   "metadata": {},
   "source": [
    "We can use the attribute <code>ndim</code> to obtain the number of axes or dimensions, referred to as the rank. "
   ]
  },
  {
   "cell_type": "code",
   "execution_count": 4,
   "id": "86f3a53b-4063-415a-8d6f-977760561db1",
   "metadata": {},
   "outputs": [
    {
     "data": {
      "text/plain": [
       "2"
      ]
     },
     "execution_count": 4,
     "metadata": {},
     "output_type": "execute_result"
    }
   ],
   "source": [
    "# Show the numpy array dimensions.\n",
    "\n",
    "A.ndim"
   ]
  },
  {
   "cell_type": "markdown",
   "id": "26a6f901-b6a0-40b8-b176-1b16eed31e1a",
   "metadata": {},
   "source": [
    "Attribute `shape` returns a tuple corresponding to the size or number of each dimension."
   ]
  },
  {
   "cell_type": "code",
   "execution_count": 5,
   "id": "683fdf49-954b-428a-b3ea-a8b95de8b9e9",
   "metadata": {},
   "outputs": [
    {
     "data": {
      "text/plain": [
       "(3, 3)"
      ]
     },
     "execution_count": 5,
     "metadata": {},
     "output_type": "execute_result"
    }
   ],
   "source": [
    "# Show the numpy array shape\n",
    "\n",
    "A.shape"
   ]
  },
  {
   "cell_type": "markdown",
   "id": "53db8375-2e61-4baf-916f-ed73bc29cfea",
   "metadata": {},
   "source": [
    "The total number of elements in the array is given by the attribute `size`."
   ]
  },
  {
   "cell_type": "code",
   "execution_count": 6,
   "id": "1f333ba8-8446-4d51-b073-10ef5286e66c",
   "metadata": {},
   "outputs": [
    {
     "data": {
      "text/plain": [
       "9"
      ]
     },
     "execution_count": 6,
     "metadata": {},
     "output_type": "execute_result"
    }
   ],
   "source": [
    "A.size"
   ]
  },
  {
   "cell_type": "markdown",
   "id": "ae1e12eb-072b-4c49-b651-af0e77265c51",
   "metadata": {},
   "source": [
    "<hr>"
   ]
  },
  {
   "cell_type": "markdown",
   "id": "a17d9b9d-f53f-4994-90b5-60bd5dcce809",
   "metadata": {},
   "source": [
    "## Accessing different elements of a Numpy Array\n"
   ]
  },
  {
   "cell_type": "markdown",
   "id": "48a65957-4ae5-4235-86ce-2974f41a7d7c",
   "metadata": {},
   "source": [
    "We can use rectangular brackets to access the different elements of the array. The correspondence between the rectangular brackets and the list and the rectangular representation is shown in the following figure for a 3x3 array:"
   ]
  },
  {
   "cell_type": "markdown",
   "id": "bbb2e196-bf3f-4db2-a3d5-387ffaab86a5",
   "metadata": {},
   "source": [
    "<img src=\"https://cf-courses-data.s3.us.cloud-object-storage.appdomain.cloud/IBMDeveloperSkillsNetwork-PY0101EN-SkillsNetwork/labs/Module%205/images/NumTwoEg.png\" width=\"500\">\n"
   ]
  },
  {
   "cell_type": "markdown",
   "id": "ce2fe805-ac3e-4f99-adba-44a6c3abe461",
   "metadata": {},
   "source": [
    "We can access the 2nd-row, 3rd column as shown in the following figure:"
   ]
  },
  {
   "cell_type": "markdown",
   "id": "89b727e4-ca92-439b-95a4-fba39dafbcee",
   "metadata": {},
   "source": [
    "<img src=\"https://cf-courses-data.s3.us.cloud-object-storage.appdomain.cloud/IBMDeveloperSkillsNetwork-PY0101EN-SkillsNetwork/labs/Module%205/images/NumTwoFT.png\" width=\"400\">"
   ]
  },
  {
   "cell_type": "markdown",
   "id": "4eae137c-6024-4b5a-b8f8-db1d92a82f63",
   "metadata": {},
   "source": [
    "We simply use the square brackets and the indices corresponding to the element we would like:"
   ]
  },
  {
   "cell_type": "code",
   "execution_count": 8,
   "id": "3e31fe86-8212-4281-8a36-0a3cd4df72c1",
   "metadata": {},
   "outputs": [
    {
     "data": {
      "text/plain": [
       "23"
      ]
     },
     "execution_count": 8,
     "metadata": {},
     "output_type": "execute_result"
    }
   ],
   "source": [
    "# Access the element on the second row and third column\n",
    "\n",
    "A[1,2]"
   ]
  },
  {
   "cell_type": "markdown",
   "id": "233751c4-56f8-4780-9679-62e985a52df8",
   "metadata": {},
   "source": [
    "We can also use the following notation to obtain the elements:"
   ]
  },
  {
   "cell_type": "code",
   "execution_count": 9,
   "id": "10dc4232-8c4e-4cb5-9b70-2e1241b9cd51",
   "metadata": {},
   "outputs": [
    {
     "data": {
      "text/plain": [
       "23"
      ]
     },
     "execution_count": 9,
     "metadata": {},
     "output_type": "execute_result"
    }
   ],
   "source": [
    "# Access the element on the second row and third column\n",
    "\n",
    "A[1][2]"
   ]
  },
  {
   "cell_type": "markdown",
   "id": "31bd0737-a93d-4969-97f7-e24b86943684",
   "metadata": {},
   "source": [
    "#### Slicing\n",
    "\n",
    "We can also use slicing in numpy arrays. Consider the following figure. We would like to obtain the first two columns in the first row.\n",
    "\n",
    "<img src=\"https://cf-courses-data.s3.us.cloud-object-storage.appdomain.cloud/IBMDeveloperSkillsNetwork-PY0101EN-SkillsNetwork/labs/Module%205/images/NumTwoFSF.png\" width=\"400\">\n"
   ]
  },
  {
   "cell_type": "code",
   "execution_count": 11,
   "id": "bfe602d5-e91a-4e59-89f6-45e64fb0c3dd",
   "metadata": {},
   "outputs": [
    {
     "data": {
      "text/plain": [
       "array([11, 12])"
      ]
     },
     "execution_count": 11,
     "metadata": {},
     "output_type": "execute_result"
    }
   ],
   "source": [
    "A[0][:2]"
   ]
  },
  {
   "cell_type": "markdown",
   "id": "d70628d0-ae81-4170-b09e-c167df371c20",
   "metadata": {},
   "source": [
    "Similarly, we can obtain the first two rows of the 3rd column as follows:\n",
    "\n",
    "<img src=\"https://cf-courses-data.s3.us.cloud-object-storage.appdomain.cloud/IBMDeveloperSkillsNetwork-PY0101EN-SkillsNetwork/labs/Module%205/images/2D_numpy.png\" width=\"400\"><br />\n"
   ]
  },
  {
   "cell_type": "code",
   "execution_count": 17,
   "id": "021780e1-630a-42fc-afad-2d911bd858e2",
   "metadata": {},
   "outputs": [
    {
     "data": {
      "text/plain": [
       "array([13, 23])"
      ]
     },
     "execution_count": 17,
     "metadata": {},
     "output_type": "execute_result"
    }
   ],
   "source": [
    "A[:2, 2]"
   ]
  },
  {
   "cell_type": "markdown",
   "id": "1e40bee2-4c79-494d-b332-542eba423f42",
   "metadata": {},
   "source": [
    "## Basic Operations\n",
    "\n",
    "We can also add arrays. The process is identical to matrix addition. Matrix addition of <code>X</code> and <code>Y</code> is shown in the following figure:\n",
    "\n",
    "<img src=\"https://cf-courses-data.s3.us.cloud-object-storage.appdomain.cloud/IBMDeveloperSkillsNetwork-PY0101EN-SkillsNetwork/labs/Module%205/images/NumTwoAdd.png\" width=\"500\">\n"
   ]
  },
  {
   "cell_type": "markdown",
   "id": "a8b85c53-016e-4132-aff7-80907a40854d",
   "metadata": {},
   "source": [
    "The numpy array is given by `X` and `Y`"
   ]
  },
  {
   "cell_type": "code",
   "execution_count": 18,
   "id": "ab32bb0c-45ad-4cf7-bd8b-4b5eb23e6581",
   "metadata": {},
   "outputs": [
    {
     "data": {
      "text/plain": [
       "array([[1, 0],\n",
       "       [0, 1]])"
      ]
     },
     "execution_count": 18,
     "metadata": {},
     "output_type": "execute_result"
    }
   ],
   "source": [
    "# Create a numpy array X\n",
    "\n",
    "X = np.array([[1, 0], [0, 1]]) \n",
    "X"
   ]
  },
  {
   "cell_type": "code",
   "execution_count": 19,
   "id": "d0f6a58d-1d21-4a99-9729-7a912d0f9872",
   "metadata": {},
   "outputs": [
    {
     "data": {
      "text/plain": [
       "array([[2, 1],\n",
       "       [1, 2]])"
      ]
     },
     "execution_count": 19,
     "metadata": {},
     "output_type": "execute_result"
    }
   ],
   "source": [
    "# Create a numpy array Y\n",
    "\n",
    "Y = np.array([[2, 1], [1, 2]]) \n",
    "Y"
   ]
  },
  {
   "cell_type": "markdown",
   "id": "6d8a4ad3-9cb1-4967-a68a-c23ae7fe433a",
   "metadata": {},
   "source": [
    "We can add the numpy arrays as follows."
   ]
  },
  {
   "cell_type": "code",
   "execution_count": 20,
   "id": "87d0f498-e571-4d9e-a5f7-e0132698a2f9",
   "metadata": {},
   "outputs": [
    {
     "data": {
      "text/plain": [
       "array([[3, 1],\n",
       "       [1, 3]])"
      ]
     },
     "execution_count": 20,
     "metadata": {},
     "output_type": "execute_result"
    }
   ],
   "source": [
    "# Add X and Y\n",
    "Z = X + Y\n",
    "Z"
   ]
  },
  {
   "cell_type": "markdown",
   "id": "6fb47989-ed43-4f5d-a6be-ccba92bdb062",
   "metadata": {},
   "source": [
    "Multiplying a numpy array by a scaler is identical to multiplying a matrix by a scaler. If we multiply the matrix <code>Y</code> by the scaler 2, we simply multiply every element in the matrix by 2, as shown in the figure.\n",
    "\n",
    "<img src=\"https://cf-courses-data.s3.us.cloud-object-storage.appdomain.cloud/IBMDeveloperSkillsNetwork-PY0101EN-SkillsNetwork/labs/Module%205/images/NumTwoDb.png\" width=\"500\">\n"
   ]
  },
  {
   "cell_type": "markdown",
   "id": "d81f9029-d9d1-4405-833e-2d5017965656",
   "metadata": {},
   "source": [
    "We can perform the same operation in numpy as follows"
   ]
  },
  {
   "cell_type": "code",
   "execution_count": 21,
   "id": "2bbdd4c0-aa28-461f-b5d5-f3a4bf1ed0f9",
   "metadata": {},
   "outputs": [
    {
     "data": {
      "text/plain": [
       "array([[2, 1],\n",
       "       [1, 2]])"
      ]
     },
     "execution_count": 21,
     "metadata": {},
     "output_type": "execute_result"
    }
   ],
   "source": [
    "# Create a numpy array Y\n",
    "\n",
    "Y = np.array([[2, 1], [1, 2]]) \n",
    "Y"
   ]
  },
  {
   "cell_type": "code",
   "execution_count": 22,
   "id": "297949bf-96c7-4603-96ff-7c6d913a7579",
   "metadata": {},
   "outputs": [
    {
     "data": {
      "text/plain": [
       "array([[4, 2],\n",
       "       [2, 4]])"
      ]
     },
     "execution_count": 22,
     "metadata": {},
     "output_type": "execute_result"
    }
   ],
   "source": [
    "# Multiply Y with 2\n",
    "\n",
    "Z = 2 * Y\n",
    "Z"
   ]
  },
  {
   "cell_type": "markdown",
   "id": "19dbc946-e7dc-4ed6-a834-43f437b79885",
   "metadata": {},
   "source": [
    "Multiplication of two arrays corresponds to an element-wise product or <em>Hadamard product</em>. Consider matrix <code>X</code> and <code>Y</code>. The Hadamard product corresponds to multiplying each of the elements in the same position, i.e. multiplying elements contained in the same color boxes together. The result is a new matrix that is the same size as matrix <code>Y</code> or <code>X</code>, as shown in the following figure.\n",
    "\n",
    "<img src=\"https://cf-courses-data.s3.us.cloud-object-storage.appdomain.cloud/IBMDeveloperSkillsNetwork-PY0101EN-SkillsNetwork/labs/Module%205/images/NumTwoMul.png\" width=\"500\">\n"
   ]
  },
  {
   "cell_type": "markdown",
   "id": "a8c807ab-8569-4c5b-b504-37c80c8515be",
   "metadata": {},
   "source": [
    "We can perform element-wise product of the array <code>X</code> and <code>Y</code> as follows:\n"
   ]
  },
  {
   "cell_type": "code",
   "execution_count": 23,
   "id": "5d682706-b3a8-4b61-8269-f6c9c23f1287",
   "metadata": {},
   "outputs": [
    {
     "data": {
      "text/plain": [
       "array([[2, 1],\n",
       "       [1, 2]])"
      ]
     },
     "execution_count": 23,
     "metadata": {},
     "output_type": "execute_result"
    }
   ],
   "source": [
    "# Create a numpy array Y\n",
    "\n",
    "Y = np.array([[2, 1], [1, 2]]) \n",
    "Y"
   ]
  },
  {
   "cell_type": "code",
   "execution_count": 24,
   "id": "901a6860-e4bb-44a3-a3d6-207a368fe020",
   "metadata": {},
   "outputs": [
    {
     "data": {
      "text/plain": [
       "array([[1, 0],\n",
       "       [0, 1]])"
      ]
     },
     "execution_count": 24,
     "metadata": {},
     "output_type": "execute_result"
    }
   ],
   "source": [
    "# Create a numpy array X\n",
    "\n",
    "X = np.array([[1, 0], [0, 1]]) \n",
    "X"
   ]
  },
  {
   "cell_type": "code",
   "execution_count": 25,
   "id": "94f4eb62-e91d-4f91-8ebd-470fe2c4fc18",
   "metadata": {},
   "outputs": [
    {
     "data": {
      "text/plain": [
       "array([[2, 0],\n",
       "       [0, 2]])"
      ]
     },
     "execution_count": 25,
     "metadata": {},
     "output_type": "execute_result"
    }
   ],
   "source": [
    "# Multiply X with Y\n",
    "\n",
    "Z = X * Y\n",
    "Z"
   ]
  },
  {
   "cell_type": "markdown",
   "id": "bc1813a5-787f-4394-9c13-3d67f2ea16df",
   "metadata": {},
   "source": [
    "We can also perform matrix multiplication with the numpy arrays <code>A</code> and <code>B</code> as follows:\n",
    "\n",
    "First, we define matrix <code>A</code> and <code>B</code>:"
   ]
  },
  {
   "cell_type": "code",
   "execution_count": 41,
   "id": "91facb43-50e7-4d1b-8590-024c525b1702",
   "metadata": {},
   "outputs": [
    {
     "name": "stdout",
     "output_type": "stream",
     "text": [
      "(2, 3)\n",
      "[[0 1 1]\n",
      " [1 0 1]]\n"
     ]
    }
   ],
   "source": [
    "# Create a matrix A\n",
    "\n",
    "A = np.array([[0, 1, 1], [1, 0, 1]])\n",
    "print(A.shape)\n",
    "print(A)"
   ]
  },
  {
   "cell_type": "code",
   "execution_count": 42,
   "id": "68698cbe-dd54-45b1-8ae5-27c1217d95d0",
   "metadata": {},
   "outputs": [
    {
     "name": "stdout",
     "output_type": "stream",
     "text": [
      "(3, 2)\n",
      "[[ 1  1]\n",
      " [ 1  1]\n",
      " [-1  1]]\n"
     ]
    }
   ],
   "source": [
    "# Create a matrix B\n",
    "B = np.array([[1,1],[1,1],[-1,1]])\n",
    "print(B.shape)\n",
    "print(B)"
   ]
  },
  {
   "cell_type": "markdown",
   "id": "2ac10466-2f9b-4d07-873a-9969e8a6381b",
   "metadata": {},
   "source": [
    "We use the numpy function `dot` to multiply the arrays together."
   ]
  },
  {
   "cell_type": "code",
   "execution_count": 43,
   "id": "88ec1762-ce35-448d-b945-c582c395a2be",
   "metadata": {},
   "outputs": [
    {
     "name": "stdout",
     "output_type": "stream",
     "text": [
      "(2, 2)\n",
      "[[0 2]\n",
      " [0 2]]\n"
     ]
    }
   ],
   "source": [
    "# Calculate the dot product\n",
    "\n",
    "Z = np.dot(A, B)\n",
    "print(Z.shape)\n",
    "print(Z)"
   ]
  },
  {
   "cell_type": "markdown",
   "id": "0c444140-b193-4e71-9f8c-83f3e104643a",
   "metadata": {},
   "source": [
    "We use numpy attribute `T` to calculate the transposed matrix"
   ]
  },
  {
   "cell_type": "code",
   "execution_count": 47,
   "id": "1fbf5c44-c524-4c5e-b52b-b1003d564b46",
   "metadata": {},
   "outputs": [
    {
     "name": "stdout",
     "output_type": "stream",
     "text": [
      "(3, 2)\n",
      "[[1 1]\n",
      " [2 2]\n",
      " [3 3]]\n"
     ]
    }
   ],
   "source": [
    "C = np.array([[1,1],[2,2],[3,3]])\n",
    "print(C.shape)\n",
    "print(C)"
   ]
  },
  {
   "cell_type": "code",
   "execution_count": 48,
   "id": "582b9a76-15f0-4953-ac08-8c18e4ae1936",
   "metadata": {},
   "outputs": [
    {
     "data": {
      "text/plain": [
       "array([[1, 2, 3],\n",
       "       [1, 2, 3]])"
      ]
     },
     "execution_count": 48,
     "metadata": {},
     "output_type": "execute_result"
    }
   ],
   "source": [
    "# Get the transposed of C\n",
    "\n",
    "C.T"
   ]
  },
  {
   "cell_type": "code",
   "execution_count": 49,
   "id": "7c8c6c89-a507-4261-b363-d486511d5adc",
   "metadata": {},
   "outputs": [
    {
     "name": "stdout",
     "output_type": "stream",
     "text": [
      "(2, 3)\n"
     ]
    }
   ],
   "source": [
    "print(C.T.shape)"
   ]
  },
  {
   "cell_type": "markdown",
   "id": "98b48e2c-cd7a-44ac-b938-1a24fd20fc4f",
   "metadata": {},
   "source": [
    "<h2>Quiz on 2D Numpy Array</h2>"
   ]
  },
  {
   "cell_type": "markdown",
   "id": "b7af2ffc-f987-493c-9f74-359313cda368",
   "metadata": {},
   "source": [
    "Consider the following list <code>a</code>, convert it to Numpy Array. "
   ]
  },
  {
   "cell_type": "code",
   "execution_count": 51,
   "id": "17442ff7-8617-4611-80b1-1cc2da6b87a0",
   "metadata": {},
   "outputs": [
    {
     "data": {
      "text/plain": [
       "array([[ 1,  2,  3,  4],\n",
       "       [ 5,  6,  7,  8],\n",
       "       [ 9, 10, 11, 12]])"
      ]
     },
     "execution_count": 51,
     "metadata": {},
     "output_type": "execute_result"
    }
   ],
   "source": [
    "a = [[1, 2, 3, 4], [5, 6, 7, 8], [9, 10, 11, 12]]\n",
    "A = np.array(a)\n",
    "A"
   ]
  },
  {
   "cell_type": "markdown",
   "id": "1d033dcb-28f7-4102-bf84-edecba138a50",
   "metadata": {},
   "source": [
    "numpy array `size`"
   ]
  },
  {
   "cell_type": "code",
   "execution_count": 52,
   "id": "4d23aea9-c368-4134-8465-6daba4a529d8",
   "metadata": {},
   "outputs": [
    {
     "data": {
      "text/plain": [
       "12"
      ]
     },
     "execution_count": 52,
     "metadata": {},
     "output_type": "execute_result"
    }
   ],
   "source": [
    "A.size"
   ]
  },
  {
   "cell_type": "markdown",
   "id": "415d6cee-f4d6-4b18-8d8b-a36131f11c7d",
   "metadata": {},
   "source": [
    "Access the element on the first row and first and second columns."
   ]
  },
  {
   "cell_type": "code",
   "execution_count": 53,
   "id": "d0d02d3f-2452-498c-90d2-4e0ee0f5cef8",
   "metadata": {},
   "outputs": [
    {
     "data": {
      "text/plain": [
       "array([1, 2])"
      ]
     },
     "execution_count": 53,
     "metadata": {},
     "output_type": "execute_result"
    }
   ],
   "source": [
    "A[0][:2]"
   ]
  },
  {
   "cell_type": "markdown",
   "id": "f9a592f8-5f25-46c4-b433-cc7cd9780a84",
   "metadata": {},
   "source": [
    "Perform matrix multiplication with the numpy arrays <code>A</code> and <code>B</code>."
   ]
  },
  {
   "cell_type": "markdown",
   "id": "efff24f0-d699-436b-b096-61e55dddea8f",
   "metadata": {},
   "source": [
    "<div class='alert alert-block alert-warning'>\n",
    "    [주의] 행렬 곱셈은 곱셈을 의미합니다. 그러나 파이썬에서 A * B는 요소별 곱셈(element-wise multiplication)을 수행하므로, 행렬 곱셈(matrix multiplication)을 수행하려면 <code>np.dot(A, B)</code> 또는 <code>A @ B</code>를 사용해야 합니다.\n",
    "    \n",
    "</div>"
   ]
  },
  {
   "cell_type": "code",
   "execution_count": 58,
   "id": "8e4fb400-5ed0-4d7a-a7ce-79b1bdd3c56c",
   "metadata": {},
   "outputs": [
    {
     "data": {
      "text/plain": [
       "array([[ 1,  4],\n",
       "       [ 5, 12],\n",
       "       [ 9, 20]])"
      ]
     },
     "execution_count": 58,
     "metadata": {},
     "output_type": "execute_result"
    }
   ],
   "source": [
    "B = np.array([[0, 1], [1, 0], [1, 1], [-1, 0]])\n",
    "\n",
    "np.dot(A, B)"
   ]
  },
  {
   "cell_type": "code",
   "execution_count": 59,
   "id": "cfe3a887-2c7f-4c2a-bd35-07f9bd12553d",
   "metadata": {},
   "outputs": [
    {
     "data": {
      "text/plain": [
       "array([[ 1,  4],\n",
       "       [ 5, 12],\n",
       "       [ 9, 20]])"
      ]
     },
     "execution_count": 59,
     "metadata": {},
     "output_type": "execute_result"
    }
   ],
   "source": [
    "A @ B"
   ]
  },
  {
   "cell_type": "code",
   "execution_count": 60,
   "id": "37386f23-dae9-4569-b419-f98e1ee01ca6",
   "metadata": {},
   "outputs": [
    {
     "data": {
      "text/plain": [
       "0"
      ]
     },
     "execution_count": 60,
     "metadata": {},
     "output_type": "execute_result"
    }
   ],
   "source": [
    "a=np.array([0,1]) \n",
    "\n",
    "b=np.array([1,0]) \n",
    "\n",
    "np.dot(a,b) "
   ]
  },
  {
   "cell_type": "code",
   "execution_count": 61,
   "id": "be9fe447-7ca8-4031-adeb-ffced39dce18",
   "metadata": {},
   "outputs": [],
   "source": [
    "X=np.array([[1,0],[0,1]])\n",
    "\n",
    "Y=np.array([[2,2],[2,2]]) \n",
    "\n",
    "Z=np.dot(X,Y) "
   ]
  },
  {
   "cell_type": "code",
   "execution_count": 63,
   "id": "f1df07d1-1c93-462b-8969-0a05ec49c84c",
   "metadata": {},
   "outputs": [
    {
     "data": {
      "text/plain": [
       "array([[2, 2],\n",
       "       [2, 2]])"
      ]
     },
     "execution_count": 63,
     "metadata": {},
     "output_type": "execute_result"
    }
   ],
   "source": [
    "Z"
   ]
  },
  {
   "cell_type": "code",
   "execution_count": 64,
   "id": "577a7391-9fa1-4363-8000-2b0b9e3f8b16",
   "metadata": {},
   "outputs": [
    {
     "data": {
      "text/plain": [
       "array([[1, 0],\n",
       "       [0, 1]])"
      ]
     },
     "execution_count": 64,
     "metadata": {},
     "output_type": "execute_result"
    }
   ],
   "source": [
    "X"
   ]
  },
  {
   "cell_type": "code",
   "execution_count": 65,
   "id": "1ef8fada-b3ef-4830-b57c-fddb50926787",
   "metadata": {},
   "outputs": [
    {
     "data": {
      "text/plain": [
       "array([[2, 2],\n",
       "       [2, 2]])"
      ]
     },
     "execution_count": 65,
     "metadata": {},
     "output_type": "execute_result"
    }
   ],
   "source": [
    "Y"
   ]
  },
  {
   "cell_type": "code",
   "execution_count": null,
   "id": "59caca28-25b4-4dc8-a205-913e986ff5aa",
   "metadata": {},
   "outputs": [],
   "source": []
  }
 ],
 "metadata": {
  "kernelspec": {
   "display_name": "Python 3 (ipykernel)",
   "language": "python",
   "name": "python3"
  },
  "language_info": {
   "codemirror_mode": {
    "name": "ipython",
    "version": 3
   },
   "file_extension": ".py",
   "mimetype": "text/x-python",
   "name": "python",
   "nbconvert_exporter": "python",
   "pygments_lexer": "ipython3",
   "version": "3.9.12"
  }
 },
 "nbformat": 4,
 "nbformat_minor": 5
}
