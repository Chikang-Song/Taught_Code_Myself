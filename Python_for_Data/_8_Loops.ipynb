{
 "cells": [
  {
   "cell_type": "markdown",
   "id": "868e6567",
   "metadata": {},
   "source": [
    "# Loops in Python\n",
    "\n",
    "\n",
    "## Objectives\n",
    "\n",
    "After completing this lab, you will be able to:\n",
    "\n",
    "*   Work with the loop statements in "
   ]
  },
  {
   "cell_type": "markdown",
   "id": "1bfa1820",
   "metadata": {},
   "source": [
    "<h2>Table of Contents</h2>\n",
    "<div class=\"alert alert-block alert-info\" style=\"margin-top: 20px\">\n",
    "    <ul>\n",
    "        <li>\n",
    "            <a href=\"#Loops\">Loops</a>\n",
    "            <ul>\n",
    "                <li><a href=\"#Range\">Range</a></li>\n",
    "                <li><a href=\"#What-is-for-loop?\">What is <code>for</code> loop?</a></li>\n",
    "                <li><a href=\"#What-is-while-loop?\">What is <code>while</code> loop?</a></li>\n",
    "            </ul>\n",
    "        </li>\n",
    "        <li>\n",
    "            <a href=\"#Quiz-on-Loops\">Quiz on Loops</a>\n",
    "        </li>\n",
    "    </ul>\n",
    "\n",
    "</div>\n",
    "\n",
    "<hr>"
   ]
  },
  {
   "cell_type": "markdown",
   "id": "d0c139fa",
   "metadata": {},
   "source": [
    "## Loops <a id=Loops></a>"
   ]
  },
  {
   "cell_type": "markdown",
   "id": "193e8b0e",
   "metadata": {},
   "source": [
    "### Range <a id='Range'></a>"
   ]
  },
  {
   "cell_type": "code",
   "execution_count": 1,
   "id": "cd419979",
   "metadata": {},
   "outputs": [
    {
     "data": {
      "text/plain": [
       "range(0, 3)"
      ]
     },
     "execution_count": 1,
     "metadata": {},
     "output_type": "execute_result"
    }
   ],
   "source": [
    "# Use the range\n",
    "\n",
    "range(3)"
   ]
  },
  {
   "cell_type": "markdown",
   "id": "ddd92834",
   "metadata": {},
   "source": [
    "### What-is-for-loop? <a id=What-is-for-loop?></a>"
   ]
  },
  {
   "cell_type": "code",
   "execution_count": 2,
   "id": "accef717",
   "metadata": {},
   "outputs": [
    {
     "name": "stdout",
     "output_type": "stream",
     "text": [
      "1982\n",
      "1980\n",
      "1973\n"
     ]
    }
   ],
   "source": [
    "# For loop example\n",
    "\n",
    "dates = [1982,1980,1973]\n",
    "N = len(dates)\n",
    "\n",
    "for i in range(N):\n",
    "    print(dates[i])     "
   ]
  },
  {
   "cell_type": "code",
   "execution_count": 3,
   "id": "afd30069",
   "metadata": {},
   "outputs": [
    {
     "name": "stdout",
     "output_type": "stream",
     "text": [
      "0\n",
      "1\n",
      "2\n",
      "3\n",
      "4\n",
      "5\n",
      "6\n",
      "7\n"
     ]
    }
   ],
   "source": [
    "# Example of for loop\n",
    "\n",
    "for i in range(0, 8):\n",
    "    print(i)"
   ]
  },
  {
   "cell_type": "code",
   "execution_count": 5,
   "id": "6f03b70c",
   "metadata": {},
   "outputs": [
    {
     "name": "stdout",
     "output_type": "stream",
     "text": [
      "Before square  0 is red\n",
      "After square  0 is white\n",
      "Before square  1 is yellow\n",
      "After square  1 is white\n",
      "Before square  2 is green\n",
      "After square  2 is white\n",
      "Before square  3 is purple\n",
      "After square  3 is white\n",
      "Before square  4 is blue\n",
      "After square  4 is white\n"
     ]
    }
   ],
   "source": [
    "# Use for loop to change the elements in list\n",
    "\n",
    "squares = ['red', 'yellow', 'green', 'purple', 'blue']\n",
    "\n",
    "for i in range(0, 5):\n",
    "    print(\"Before square \", i, 'is',  squares[i])\n",
    "    squares[i] = 'white'\n",
    "    print(\"After square \", i, 'is',  squares[i])  "
   ]
  },
  {
   "cell_type": "code",
   "execution_count": 6,
   "id": "15974662",
   "metadata": {},
   "outputs": [
    {
     "name": "stdout",
     "output_type": "stream",
     "text": [
      "0 red\n",
      "1 yellow\n",
      "2 green\n",
      "3 purple\n",
      "4 blue\n"
     ]
    }
   ],
   "source": [
    "# Loop through the list and iterate on both index and element value\n",
    "\n",
    "squares=['red', 'yellow', 'green', 'purple', 'blue']\n",
    "\n",
    "for i, square in enumerate(squares):\n",
    "    print(i, square)"
   ]
  },
  {
   "cell_type": "markdown",
   "id": "b5482e0e",
   "metadata": {},
   "source": [
    "### What-is-while-loop? <a id=What-is-while-loop?></a>"
   ]
  },
  {
   "cell_type": "code",
   "execution_count": 7,
   "id": "aa2e4454",
   "metadata": {},
   "outputs": [
    {
     "name": "stdout",
     "output_type": "stream",
     "text": [
      "1982\n",
      "1980\n",
      "It took  2 repetitions to get out of loop.\n"
     ]
    }
   ],
   "source": [
    "# While Loop Example\n",
    "\n",
    "dates = [1982, 1980, 1973, 2000]\n",
    "\n",
    "i = 0\n",
    "year = dates[0]\n",
    "\n",
    "while(year != 1973):    \n",
    "    print(year)\n",
    "    i = i + 1\n",
    "    year = dates[i]\n",
    "    \n",
    "\n",
    "print(\"It took \", i ,\"repetitions to get out of loop.\")"
   ]
  },
  {
   "cell_type": "markdown",
   "id": "51118853",
   "metadata": {},
   "source": [
    "## Quiz-on-Loops <a id=Quiz-on-Loops></a>"
   ]
  },
  {
   "cell_type": "markdown",
   "id": "fa9e7e1d",
   "metadata": {},
   "source": [
    "Write a <code>for</code> loop that prints out all the elements between <b>-5</b> and <b>5</b> using the range function."
   ]
  },
  {
   "cell_type": "code",
   "execution_count": 10,
   "id": "665df85b",
   "metadata": {},
   "outputs": [
    {
     "name": "stdout",
     "output_type": "stream",
     "text": [
      "-4 -3 -2 -1 0 1 2 3 4 "
     ]
    }
   ],
   "source": [
    "for i in range(-4,5):\n",
    "    print(i, end= ' ')"
   ]
  },
  {
   "cell_type": "markdown",
   "id": "919e1073",
   "metadata": {},
   "source": [
    "Print the elements of the following list: <code>Genres=\\[ 'rock', 'R\\&B', 'Soundtrack', 'R\\&B', 'soul', 'pop']</code>.\n",
    "Make sure you follow Python conventions.\n"
   ]
  },
  {
   "cell_type": "code",
   "execution_count": 11,
   "id": "48f6bc6b",
   "metadata": {},
   "outputs": [
    {
     "name": "stdout",
     "output_type": "stream",
     "text": [
      "rock\n",
      "R&B\n",
      "Soundtrack\n",
      "R&B\n",
      "soul\n",
      "pop\n"
     ]
    }
   ],
   "source": [
    "Genres=[ 'rock', 'R&B', 'Soundtrack', 'R&B', 'soul', 'pop']\n",
    "for Genre in Genres:\n",
    "    print(Genre)"
   ]
  },
  {
   "cell_type": "code",
   "execution_count": 12,
   "id": "a27234bf",
   "metadata": {},
   "outputs": [
    {
     "name": "stdout",
     "output_type": "stream",
     "text": [
      "red\n",
      "yellow\n",
      "green\n",
      "purple\n",
      "blue\n"
     ]
    }
   ],
   "source": [
    "squares=['red', 'yellow', 'green', 'purple', 'blue']\n",
    "for square in squares:\n",
    "    print(square)"
   ]
  },
  {
   "cell_type": "markdown",
   "id": "8d5dc873",
   "metadata": {},
   "source": [
    "Write a while loop to display the values of the Rating of an album playlist stored in the<code>PlayListRatings</code> list. If the score is less than 6, exit the loop. The list <code>PlayListRatings</code> is given by: <code>PlayListRatings = \\[10, 9.5, 10, 8, 7.5, 5, 10, 10]</code>\n"
   ]
  },
  {
   "cell_type": "code",
   "execution_count": 33,
   "id": "bc46835d",
   "metadata": {},
   "outputs": [
    {
     "name": "stdout",
     "output_type": "stream",
     "text": [
      "10\n",
      "9.5\n",
      "10\n",
      "8\n",
      "7.5\n"
     ]
    }
   ],
   "source": [
    "PlayListRatings = [10, 9.5, 10, 8, 7.5, 5, 10, 10]\n",
    "\n",
    "i = 0\n",
    "Rating = PlayListRatings[i]\n",
    "while (i < len(PlayListRatings) and Rating >= 6):\n",
    "    print(Rating)\n",
    "    i += 1\n",
    "    Rating = PlayListRatings[i]"
   ]
  },
  {
   "cell_type": "markdown",
   "id": "ec991d30",
   "metadata": {},
   "source": [
    "Write a while loop to copy the strings 'orange' of the list squares to the list new_squares. Stop and exit the loop if the value on the list is not 'orange':"
   ]
  },
  {
   "cell_type": "code",
   "execution_count": 35,
   "id": "4cc9bd39",
   "metadata": {},
   "outputs": [],
   "source": [
    "# Write your code below and press Shift+Enter to execute\n",
    "\n",
    "squares = ['orange', 'orange', 'purple', 'blue ', 'orange']\n",
    "new_squares = []\n",
    "\n",
    "i = 0\n",
    "square = squares[i]\n",
    "while squares[i] == 'orange':\n",
    "    new_squares.append(square)\n",
    "    i += 1"
   ]
  },
  {
   "cell_type": "code",
   "execution_count": 36,
   "id": "36e3a1de",
   "metadata": {},
   "outputs": [
    {
     "data": {
      "text/plain": [
       "['orange', 'orange']"
      ]
     },
     "execution_count": 36,
     "metadata": {},
     "output_type": "execute_result"
    }
   ],
   "source": [
    "new_squares"
   ]
  },
  {
   "cell_type": "code",
   "execution_count": null,
   "id": "7a9aa2f2",
   "metadata": {},
   "outputs": [],
   "source": []
  }
 ],
 "metadata": {
  "kernelspec": {
   "display_name": "Python 3 (ipykernel)",
   "language": "python",
   "name": "python3"
  },
  "language_info": {
   "codemirror_mode": {
    "name": "ipython",
    "version": 3
   },
   "file_extension": ".py",
   "mimetype": "text/x-python",
   "name": "python",
   "nbconvert_exporter": "python",
   "pygments_lexer": "ipython3",
   "version": "3.9.12"
  }
 },
 "nbformat": 4,
 "nbformat_minor": 5
}
