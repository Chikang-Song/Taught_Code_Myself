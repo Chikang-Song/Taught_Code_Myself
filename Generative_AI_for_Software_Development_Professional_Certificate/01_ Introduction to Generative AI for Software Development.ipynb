{
 "cells": [
  {
   "cell_type": "markdown",
   "id": "c4d1e457",
   "metadata": {},
   "source": [
    "# Introduction to Generative AI for Software Development"
   ]
  },
  {
   "cell_type": "markdown",
   "id": "def556ad",
   "metadata": {},
   "source": [
    "강의 전체 내용을 관통하는 핵심 주제는 **\"LLM(대규모 언어 모델)을 코딩 파트너로 활용하여 데이터 구조 및 알고리즘을 학습하고, 이를 실무 수준의 코딩으로 발전시키는 방법\"**입니다. 아래에 주요 내용을 요약 정리했습니다.\n",
    "\n",
    "---\n",
    "\n",
    "### 🌟 **강의 핵심 요약**\n",
    "\n",
    "#### 1. **데이터 구조의 본질적 이해와 실무 활용**\n",
    "- **목표**: 기본 데이터 구조(배열, 연결 리스트, 트리, 그래프, 해시 테이블 등)를 다시 학습하며, 이들을 효율적이고 확장 가능하게 구현.\n",
    "- **핵심 데이터 구조**:\n",
    "  - **배열**: 빠른 데이터 접근과 수정 가능, 하지만 삽입/삭제 시 비용 증가.\n",
    "    - **예시**: Python에서 `list`를 사용하여 특정 인덱스에 데이터를 접근하거나 수정.\n",
    "  - **연결 리스트**: 삽입/삭제가 유연하나, 검색 속도가 느리고 추가 메모리 필요.\n",
    "    - **예시**: 연결 리스트를 구현하여 데이터를 동적으로 추가하고 삭제.\n",
    "  - **트리**: 계층적 데이터 표현에 적합, 이진 검색 트리(BST)와 AVL 트리처럼 정렬된 데이터에 유리.\n",
    "    - **예시**: 트리를 사용하여 계층적 데이터를 검색하거나 정렬.\n",
    "  - **그래프**: 관계 모델링(예: 소셜 네트워크, 지도) 및 복잡한 경로 탐색 문제 해결.\n",
    "    - **예시**: 그래프를 사용하여 최단 경로(Dijkstra 알고리즘)를 구현.\n",
    "  - **해시 테이블**: 빠른 검색과 데이터 매핑에 최적, 그러나 해시 충돌 처리 필요.\n",
    "    - **예시**: 해시 테이블을 사용하여 문자열 빈도 계산.\n",
    "\n",
    "---\n",
    "\n",
    "#### 2. **LLM 활용법: 단순 코드를 넘어, 파트너로서의 모델**\n",
    "- LLM은 단순히 코드 생성을 위한 도구가 아닌, **코드 분석, 프로파일링, 그리고 최적화를 위한 협업 파트너**로 활용해야 함.\n",
    "- **주요 전략**:\n",
    "  1. **역할 부여(Role Assignment)**:\n",
    "     - \"전문 소프트웨어 엔지니어\", \"보안 전문가\", \"성능 최적화 전문가\"와 같은 역할을 설정하여 특정 관점에서 분석.\n",
    "     - **예시**: \"성능 최적화 전문가\" 역할로 LLM에게 트리 구조의 성능 병목을 분석 요청.\n",
    "  2. **반복적 대화(Iterative Refinement)**:\n",
    "     - 모델의 코드를 단순히 사용하는 것이 아니라, **\"왜 이렇게 구현했는가?\"** 같은 질문을 던져 코드를 개선.\n",
    "     - **예시**: 연결 리스트에서 메모리 제한을 추가하도록 요청.\n",
    "  3. **테스트 기반 개발(TDD)**:\n",
    "     - 테스트 케이스를 설계하고, 모델의 코드가 이를 충족하도록 수정.\n",
    "     - **예시**: AVL 트리 구현 후 다양한 삽입/삭제 테스트 케이스 실행.\n",
    "\n",
    "---\n",
    "\n",
    "#### 3. **나쁜 습관과 좋은 습관**\n",
    "- **나쁜 습관**:\n",
    "  - LLM을 통해 생성된 코드를 맹목적으로 사용하고, 동작 원리나 선택 이유를 묻지 않음.\n",
    "  - 코드 테스트 및 검증 없이 실무 환경에 도입.\n",
    "- **좋은 습관**:\n",
    "  - LLM과 상호작용하며, 코드의 품질과 보안, 확장성을 개선.\n",
    "    - **예시**: LLM에게 코드에 대한 보안 취약점 분석 요청.\n",
    "  - 다양한 입력 데이터, 극단적 상황을 포함한 테스트 수행.\n",
    "    - **예시**: 그래프 알고리즘에 대규모 데이터를 적용해 성능 평가.\n",
    "  - 결과를 상세히 검토하고 모델의 권고 사항을 학습.\n",
    "\n",
    "---\n",
    "\n",
    "#### 4. **실무 환경에 적합한 코드 구현**\n",
    "- 강의는 단순한 이론에서 그치지 않고, **실제 프로덕션 환경에서의 구현 및 문제 해결**에 초점을 맞춤.\n",
    "  - **확장성(Scalability)**: 대규모 데이터에서도 효율적으로 작동하도록 설계.\n",
    "    - **예시**: 그래프 데이터 구조에 수백만 개의 노드 처리.\n",
    "  - **보안(Security)**: 입력 검증, 메모리 관리, DoS 공격 방지 같은 보안 조치 포함.\n",
    "    - **예시**: 입력 데이터 검증을 통해 해시 테이블 충돌 방지.\n",
    "  - **유지보수성(Maintainability)**: 잘 문서화된 코드와 구조적인 설계.\n",
    "    - **예시**: 주석 추가 및 함수 명확화를 통해 코드 가독성 향상.\n",
    "- **구체적 예시**:\n",
    "  - **연결 리스트**: 동시성 제어, 최대 크기 제한 추가.\n",
    "  - **그래프**: 스케일링 및 추가 메타데이터(예: 가중치, 방향성) 처리.\n",
    "  - **트리**: 균형 트리 구현(예: AVL 트리)로 성능 최적화.\n",
    "\n",
    "---\n",
    "\n",
    "#### 5. **데이터 구조 선택과 의사결정**\n",
    "- **데이터 구조 선택 시 고려할 요소**:\n",
    "  - **삽입/삭제/검색**의 빈도와 효율성.\n",
    "  - **데이터 크기**와 **메모리 제약**.\n",
    "  - **보안 위험**과 **특정 시나리오에 대한 확장 가능성**.\n",
    "- **LLM 활용**:\n",
    "  - LLM을 통해 구조적 문제를 파악하고, 최적의 데이터 구조를 추천받거나 개선.\n",
    "    - **예시**: \"대규모 데이터를 처리하는 데 가장 적합한 데이터 구조는 무엇인가요?\"와 같은 질문을 통해 조언 받기.\n",
    "\n",
    "---\n",
    "\n",
    "### ✅ **핵심 메시지**\n",
    "- \"LLM을 활용하면 단순한 코드 생성을 넘어, 소프트웨어 설계와 문제 해결 능력을 극대화할 수 있다.\"\n",
    "- 데이터를 단순히 저장하고 처리하는 데 그치지 않고, **실제 문제를 해결하는 도구로 데이터 구조를 활용**하도록 학습해야 한다.\n",
    "\n",
    "---\n",
    "\n",
    "### 📌 **학습 후 행동 계획**\n",
    "1. **핵심 데이터 구조 복습**:\n",
    "   - 각 데이터 구조의 장단점을 정리하고, 이를 다양한 문제에 적용.\n",
    "   - **예시**: 연결 리스트와 트리 구조의 장단점을 비교하여 특정 문제에 적합한 구조 선택.\n",
    "2. **LLM과의 대화 연습**:\n",
    "   - LLM에게 질문과 피드백을 반복하며, 학습 과정에서 도출된 통찰을 코드로 반영.\n",
    "   - **예시**: \"이 코드의 보안 취약점을 분석해 주세요\"와 같은 요청.\n",
    "3. **테스트 설계 및 코드 개선**:\n",
    "   - 생성된 코드를 다양한 상황에서 테스트하고, 지속적으로 개선.\n",
    "   - **예시**: 그래프 구현 후 최단 경로 알고리즘 테스트.\n",
    "\n",
    "---\n",
    "\n",
    "이 요약을 바탕으로, 특정 주제를 더 깊게 탐구하고 싶으면 말씀해주세요! 😊\n",
    "\n",
    "\n"
   ]
  },
  {
   "cell_type": "markdown",
   "id": "fda911c4",
   "metadata": {},
   "source": [
    "### Linked Lists Example"
   ]
  },
  {
   "cell_type": "code",
   "execution_count": 2,
   "id": "baf26999",
   "metadata": {},
   "outputs": [],
   "source": [
    "import threading\n",
    "\n",
    "class Node:\n",
    "    def __init__(self, data):\n",
    "        self.data = data\n",
    "        self.next = None\n",
    "\n",
    "class LinkedList:\n",
    "    def __init__(self, max_size=100):  # 기본 최대 크기를 100으로 설정\n",
    "        self.head = None\n",
    "        self.size = 0\n",
    "        self.max_size = max_size\n",
    "        self.lock = threading.Lock()\n",
    "\n",
    "    def append(self, data):\n",
    "        if len(data) > 1000:  # 데이터 크기 제한\n",
    "            raise ValueError(\"Data size exceeds maximum limit\")\n",
    "\n",
    "        with self.lock:  # 잠금 메커니즘 사용\n",
    "            if self.size >= self.max_size:  # 크기 제한\n",
    "                raise ValueError(\"Linked list is full\")\n",
    "\n",
    "            new_node = Node(data)\n",
    "            if self.head is None:\n",
    "                self.head = new_node\n",
    "            else:\n",
    "                last = self.head\n",
    "                while last.next:\n",
    "                    last = last.next\n",
    "                last.next = new_node\n",
    "            self.size += 1\n",
    "\n",
    "    def delete(self, data):\n",
    "        if self.head is None:\n",
    "            return\n",
    "\n",
    "        with self.lock:  # 잠금 메커니즘 사용\n",
    "            if self.head.data == data:\n",
    "                self.head = self.head.next\n",
    "                self.size -= 1\n",
    "                return\n",
    "\n",
    "            current = self.head\n",
    "            while current.next:\n",
    "                if current.next.data == data:\n",
    "                    current.next = current.next.next\n",
    "                    self.size -= 1\n",
    "                    return\n",
    "                current = current.next\n",
    "\n",
    "    def print_list(self):\n",
    "        current = self.head\n",
    "        while current:\n",
    "            print(current.data, end=\" \")\n",
    "            current = current.next\n",
    "        print()"
   ]
  },
  {
   "cell_type": "code",
   "execution_count": 5,
   "id": "1abaa113",
   "metadata": {},
   "outputs": [
    {
     "name": "stdout",
     "output_type": "stream",
     "text": [
      "X2 Y Z \n"
     ]
    }
   ],
   "source": [
    "mylist = LinkedList()\n",
    "mylist.append(\"X1\")\n",
    "mylist.append(\"X2\")\n",
    "mylist.append(\"Y\")\n",
    "mylist.append(\"Z\")\n",
    "mylist.delete(\"X1\")\n",
    "mylist.print_list()"
   ]
  },
  {
   "cell_type": "markdown",
   "id": "151015a0",
   "metadata": {},
   "source": [
    "# Upgraded Lab - Building a Doubly Linked List Class with an LLM\n",
    "\n",
    "이 강좌의 첫 번째 비평가형 실습에 오신 것을 환영합니다! 이번 실습에서는 연결 리스트 클래스를 이중 연결 리스트로 업데이트하기 위해 LLM과 함께 작업할 것입니다. 이번 기회는 LLM 프롬프트 작성 능력을 연습하고, 강좌 말미에 있을 프로그래밍 과제를 준비하기에 좋은 기회입니다.\n",
    "\n",
    "\n",
    "# Outline\n",
    "- [ 1 - Introduction](#1)\n",
    "  - [ 1.1 Importing necessary libraries](#1.1)\n",
    "- [ 2 - The `Node` and `LinkedList` Classes to Update](#2)\n",
    "- [ 3 - Test Your Classes](#3)\n",
    "- [ 4 - Go Further with Your LLM Prompting Skills](#4)"
   ]
  },
  {
   "cell_type": "markdown",
   "id": "7477f037",
   "metadata": {},
   "source": [
    "<a name=\"1\"></a>\n",
    "## 1 - 소개\n",
    "\n",
    "**여러분의 과제:** 아래에는 강의에서 본 `Node`와 `LinkedList` 클래스가 제공되어 있습니다. 여러분의 과제는 이 클래스와 함께 작업하여 이중 연결 리스트로 업데이트하는 것입니다. 즉, 각 노드가 이전 노드와 다음 노드 모두와 연결되도록 만드는 것입니다. 이를 완료한 후, LLM과 협력하여 소프트웨어 엔지니어링에서 흔히 논의되는 보안 문제나 확장성 같은 다른 문제를 처리할 수 있도록 클래스를 추가로 개선하세요. \n",
    "\n",
    "**LLM 접근:** OpenAI의 GPT-3.5 모델에 [여기](https://www.coursera.org/learn/introduction-to-generative-ai-for-software-development/ungradedLab/Vuqvf/gpt-3-5-environment)서 접속할 수 있지만, 원하는 LLM을 자유롭게 사용하셔도 됩니다!\n",
    "\n",
    "**프롬프트 연습:** 강의에서 다룬 프롬프트 작성 스킬을 연습하는 데 집중하세요:\n",
    "\n",
    "* **구체적으로 작성하세요:** 프롬프트에 여러분이 이루고자 하는 목표와 작업 중인 맥락에 대한 세부 사항을 제공하세요. 예를 들어, LLM에게 기존 클래스를 보여주고 추가하려는 새로운 기능을 설명하는 것이 적절합니다.\n",
    "* **피드백 제공:** 반복적으로 LLM에 요청하고, 받은 출력물에 대해 피드백을 제공하며, 원하는 결과에 더 가까워질 수 있도록 하세요. 이 경우, LLM과 함께 개발한 코드를 실행해 보고, 버그나 예상치 못한 동작, 스타일상의 개선점을 보고할 수 있습니다.\n",
    "* **역할 할당:** 원하는 결과를 얻기 위해 LLM에게 특정 역할을 부여하세요. 처음에는 \"경험 많은 Python 개발자\"의 역할을 부여할 수 있지만, 이후에는 보안이나 확장성과 같은 특정 분야에 초점을 맞추기 위해 더 구체적이고 전문적인 역할을 부여해 보세요. \n",
    "\n",
    "**클래스 테스트:** 이 노트북 맨 아래에는 여러분이 작성한 클래스가 예상대로 작동하는지 확인하는 데 도움이 될 다양한 테스트 케이스가 제공되어 있습니다. 이 실습은 채점되지 않으므로 모든 테스트 케이스를 통과할 필요는 없습니다. 대신 LLM과 함께 코딩하는 것이 어떤 것인지 탐구하고, 프롬프트 작성 스킬을 연습하며, LLM이 소프트웨어 개발 워크플로우에 가장 적합하게 통합되는 방법에 대한 직관을 쌓는 데 집중하세요.\n",
    "\n"
   ]
  },
  {
   "cell_type": "markdown",
   "id": "d30bdacf",
   "metadata": {},
   "source": [
    "<a name=\"1.1\"></a>\n",
    "### 1.1 Importing necessary libraries"
   ]
  },
  {
   "cell_type": "code",
   "execution_count": 6,
   "id": "a16b7b96",
   "metadata": {},
   "outputs": [],
   "source": [
    "import threading # Used to make the class thread-safe"
   ]
  },
  {
   "cell_type": "markdown",
   "id": "930db299",
   "metadata": {},
   "source": [
    "\n",
    "<a name=\"2\"></a>\n",
    "## 2 - 업데이트할 `Node`와 `LinkedList` 클래스  \n",
    "아래는 강의에서 보았던 클래스들이며, 여러분이 수정해야 할 부분입니다. 연결 리스트는 서로 연결된 개별 노드들로 구성되어 있습니다. 이 클래스는 처음에 단일 연결 리스트(Singly Linked List)로 작성되어 있으며, 각 노드는 연결 리스트에서 자신 다음에 오는 노드의 위치만 알고 있습니다.  \n",
    "\n",
    "이중 연결 리스트(Doubly Linked List)에서는 각 노드가 자신 다음에 오는 노드뿐만 아니라 자신 이전에 오는 노드의 위치도 알고 있습니다.  \n",
    "\n",
    "**이 두 클래스를 수정하여 연결 리스트를 이중 연결 리스트로 업데이트하세요.**  \n",
    "\n",
    "--- "
   ]
  },
  {
   "cell_type": "code",
   "execution_count": 40,
   "id": "95cc52d0",
   "metadata": {},
   "outputs": [],
   "source": [
    "class Node:\n",
    "\n",
    "    # Initially each node knows the location of the next\n",
    "    # node in the linked list\n",
    "    def __init__(self, data):\n",
    "        self.data = data\n",
    "        self.next = None\n",
    "        self.prev = None # UPDATE: Initialize previous node reference to None\n",
    "\n",
    "        \n",
    "def get_data_size(data):\n",
    "    if isinstance(data, (str, list, tuple)):\n",
    "        return len(data)\n",
    "    elif isinstance(data, (int)):\n",
    "        return data.bit_length()  # 숫자형의 경우 비트 크기 게산\n",
    "    else:\n",
    "        return sys.getsizeof(data) # 기타의 경우 바이트 크기 계산\n",
    "    \n",
    "class LinkedList:\n",
    "    def __init__(self, max_size=None):\n",
    "        self.head = None\n",
    "        self.tail = None  # 속도향상용: 꼬리 노드 포인터 추가\n",
    "        self.size = 0\n",
    "        self.max_size = max_size  \n",
    "        # This class is designed to be thread safe, using locks.\n",
    "        # If you're unfamiliar with multi-threading concepts\n",
    "        # consider asking your LLM for guidance\n",
    "        self.lock = threading.Lock()\n",
    "    \n",
    "    def append(self, data):\n",
    "        # Validate input data\n",
    "        if get_data_size(data) > 1000:  \n",
    "            raise ValueError(\"Data size exceeds maximum limit\")\n",
    "        with self.lock:           \n",
    "            if self.max_size is not None and self.size >= self.max_size:\n",
    "                raise ValueError(\"Linked list is full\")\n",
    "            new_node = Node(data)\n",
    "            if self.head is None:\n",
    "                self.head = new_node\n",
    "            else:\n",
    "                last = self.head\n",
    "                while last.next:\n",
    "                    last = last.next\n",
    "                last.next = new_node\n",
    "                new_node.prev = last # UPDATE: Set the previous node reference of the new node\n",
    "            \n",
    "            self.tail = new_node  # 속도개선용\n",
    "            self.size += 1\n",
    "    \n",
    "    #UPDATE\n",
    "    def prepend(self, data):\n",
    "        # Validate input data\n",
    "        if get_data_size(data) > 1000:\n",
    "            raise ValueError(\"Data size exceeds maximum limit\")\n",
    "        with self.lock:\n",
    "            if self.max_size is not None and self.size >= self.max_size:\n",
    "                raise ValueError(\"Linked list is full\")\n",
    "            new_node = Node(data)\n",
    "            new_node.next = self.head  # Set the next node reference of the new node\n",
    "            if self.head is not None:\n",
    "                self.head.prev = new_node # Set the previous node reference of the old head node\n",
    "            self.head = new_node \n",
    "            if self.tail is None: # 속도개선용: 연결리스트가 비어 있으면 tail도 없데이트\n",
    "                self.tail = new_node\n",
    "            self.size +=1\n",
    "\n",
    "    def print_list(self):\n",
    "        current = self.head\n",
    "        while current:\n",
    "            print(current.data, end=\" \")\n",
    "            current = current.next\n",
    "\n",
    "    def print_list_reverse(self):\n",
    "        # Print the list from last element to first\n",
    "        #current = self.head\n",
    "        current = self.tail  # 속도개선용: tail부터 시작\n",
    "        while current:\n",
    "            print(current.data, end = \" \")\n",
    "            current = current.prev\n"
   ]
  },
  {
   "cell_type": "markdown",
   "id": "5c1caa1c",
   "metadata": {},
   "source": [
    "<a name=\"3\"></a>\n",
    "## 3 - 클래스 테스트  \n",
    "아래에는 업데이트된 클래스가 의도한 대로 작동하는지 확인하는 데 도움이 되는 세 가지 테스트가 제공됩니다.  \n",
    "\n",
    "---"
   ]
  },
  {
   "cell_type": "code",
   "execution_count": 30,
   "id": "d3ad9cf2",
   "metadata": {},
   "outputs": [
    {
     "name": "stdout",
     "output_type": "stream",
     "text": [
      "A 1 0.1 "
     ]
    }
   ],
   "source": [
    "# Test 1 - Append Multiple Data Types\n",
    "# As initially designed not all data types can be added to the linked list.\n",
    "# Update the code to allow for additional data types.\n",
    "\n",
    "linked_list = LinkedList()\n",
    "linked_list.append(\"A\")\n",
    "linked_list.append(1)\n",
    "linked_list.append(0.1)\n",
    "linked_list.print_list()\n",
    "\n",
    "# Expected Output:\n",
    "# A 1 0.1"
   ]
  },
  {
   "cell_type": "code",
   "execution_count": 31,
   "id": "3a39cb72",
   "metadata": {},
   "outputs": [
    {
     "name": "stdout",
     "output_type": "stream",
     "text": [
      "A "
     ]
    }
   ],
   "source": [
    "# Test 2 - Print the Linked List in Reverse\n",
    "# Write the print_list_reverse method. Once your list is doubly linked\n",
    "# this should be a much easier method to write\n",
    "\n",
    "linked_list = LinkedList()\n",
    "linked_list.append(\"A\")\n",
    "linked_list.append(\"B\")\n",
    "linked_list.append(10)\n",
    "linked_list.append(20)\n",
    "linked_list.print_list_reverse()\n",
    "\n",
    "# Expected Output:\n",
    "# 20 10 B A"
   ]
  },
  {
   "cell_type": "code",
   "execution_count": 32,
   "id": "ca083782",
   "metadata": {},
   "outputs": [
    {
     "name": "stdout",
     "output_type": "stream",
     "text": [
      "6.28 s ± 92.3 ms per loop (mean ± std. dev. of 7 runs, 1 loop each)\n"
     ]
    }
   ],
   "source": [
    "%%timeit\n",
    "# Test 3 - Append 10,000 items rapidly\n",
    "# As initially written this is a very slow process. Your updated class\n",
    "# should be able to find the tail of your linked list (the last node)\n",
    "# very quickly, significantly speeding up this process.\n",
    "# Runtimes will vary substantially but as initially written the append method\n",
    "# will take well more than a second. A refactored doubly linked list class\n",
    "# should take significantly less than a second.\n",
    "\n",
    "linked_list = LinkedList()\n",
    "for i in range(10000):\n",
    "    linked_list.append(\"A\")"
   ]
  },
  {
   "cell_type": "code",
   "execution_count": 36,
   "id": "ab4db23e",
   "metadata": {},
   "outputs": [
    {
     "name": "stdout",
     "output_type": "stream",
     "text": [
      "6.29 s ± 214 ms per loop (mean ± std. dev. of 7 runs, 1 loop each)\n"
     ]
    }
   ],
   "source": [
    "%%timeit\n",
    "# Test 3 \n",
    "# 클래스에서 threading.Lock()을 주석처리하여 데이터 경쟁이 발생하도록 수정\n",
    "\n",
    "linked_list = LinkedList()\n",
    "for i in range(10000):\n",
    "    linked_list.append(\"A\")"
   ]
  },
  {
   "cell_type": "markdown",
   "id": "e8a8f816",
   "metadata": {},
   "source": [
    "<div class='alert alert-block alert-warning'>\n",
    "    <code>threading.Lock()</code>을 제거한 것은 효과가 전혀 없음을 위 결과를 통해 알 수 있었다.\n",
    "</div>"
   ]
  },
  {
   "cell_type": "code",
   "execution_count": 41,
   "id": "43a9e6ef",
   "metadata": {},
   "outputs": [
    {
     "name": "stdout",
     "output_type": "stream",
     "text": [
      "6.19 s ± 250 ms per loop (mean ± std. dev. of 7 runs, 1 loop each)\n"
     ]
    }
   ],
   "source": [
    "%%timeit\n",
    "# Test 3 \n",
    "## tail 추가 버전\n",
    "\n",
    "linked_list = LinkedList()\n",
    "for i in range(10000):\n",
    "    linked_list.append(\"A\")"
   ]
  }
 ],
 "metadata": {
  "kernelspec": {
   "display_name": "Python 3 (ipykernel)",
   "language": "python",
   "name": "python3"
  },
  "language_info": {
   "codemirror_mode": {
    "name": "ipython",
    "version": 3
   },
   "file_extension": ".py",
   "mimetype": "text/x-python",
   "name": "python",
   "nbconvert_exporter": "python",
   "pygments_lexer": "ipython3",
   "version": "3.9.12"
  }
 },
 "nbformat": 4,
 "nbformat_minor": 5
}
