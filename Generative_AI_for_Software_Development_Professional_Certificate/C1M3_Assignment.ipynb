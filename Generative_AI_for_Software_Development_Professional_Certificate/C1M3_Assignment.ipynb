{
 "cells": [
  {
   "cell_type": "markdown",
   "metadata": {},
   "source": [
    "# Assignment - Implementing graph algorithms with LLMs"
   ]
  },
  {
   "cell_type": "markdown",
   "metadata": {},
   "source": [
    "## 1 - Introduction\n",
    "\n",
    "Welcome to the first assignment of Course 1 in the Generative AI for Software Development Specialization! In this assignment you will **work alongside an LLM to take on four different graph-based problems** including finding the shortest path through a graph and solving different variations of the classic Travelling Salesman Problem in which you must find the shortest tour through every vertex in the graph. This is a great opportunity to practice using the LLM skills you've been learning! You can use the LLM of your choosing but [GPT-4o is available here](https://www.coursera.org/learn/introduction-to-generative-ai-for-software-development/ungradedLab/Vuqvf/gpt-3-5-environment), in the ungraded lab that accompanies this assignment.\n",
    "\n",
    "**Here's a quick summary of the contents of this notebook:**\n",
    "\n",
    "- Section 1: Introduction, setup, and the `Graph` class this assignment is based on\n",
    "- Section 2: The `Graph_Advanced` class that you will edit for your submission\n",
    "- Section 3: Description of the four exercises you'll implement inside of `Graph_Advanced`\n",
    "- Section 4: A playground to test solutions\n",
    "- Section 5: Unit tests of your `Graph_Advanced` class\n",
    "\n",
    "**Here's a few important points on how this notebook works:**\n",
    "\n",
    "- **Only `Graph_Advanced` is Graded:** You can add new cells to experiment but these will be ignored by the grader. If you want something graded, include it in the provided cell that contains the `Graph_Advanced` class.\n",
    "- **Some Cells are Frozen:** Some cells are frozen, e.g. the `Graph` class, to avoid mistakenly editing their code\n",
    "- **Avoid importing new libraries:** Avoid importing new libraries beyond those you'll find in section 1.1, immediately below. In particular `joblib` or any multiprocessing or parallel computing approach will crash the grader. If you absolutely need additional libraries, import them in the same cell as the `Graph_Advanced` class.\n",
    "- **Save before submitting:** Do this to ensure you are graded on your most recent work.\n",
    "\n",
    "**IMPORTANT NOTES ON THE AUTOGRADING SYSTEM**\n",
    "- The graded cells are tagged, meaning the autograder specifically looks for them when grading. Therefore, **do not delete these cells or add your solution in another cell**, as this will cause the autograder to malfunction. If you accidentally delete a cell or encounter any unusual issues with the autograder, please [refresh your workspace](https://www.coursera.org/learn/introduction-to-generative-ai-for-software-development/item/qEB8o) to obtain a new copy of the assignment and place your solution in the designated solution cells.\n",
    "- The autograder **does not have access** to the **unittests** library, so **avoid importing it or using any unittest functions within a graded cell**, as this will disrupt the autograder's functionality.\n",
    "- If you face any challenges or have questions about this assignment, feel free to [join our community](https://www.coursera.org/learn/introduction-to-generative-ai-for-software-development/supplement/hIZen/important-have-questions-issues-or-ideas-join-our-forum) and seek assistance from our mentors!\n",
    "\n",
    "Happy coding!"
   ]
  },
  {
   "cell_type": "markdown",
   "metadata": {},
   "source": [
    "### 1.1 - Importing necessary libraries\n",
    "\n",
    "The code below imports libraries used in this assignment. You should be able to complete this assignment without additional libraries. If you absolutely need additional libraries, import them in the same cell as the `Graph_Advanced` class."
   ]
  },
  {
   "cell_type": "code",
   "execution_count": 1,
   "metadata": {
    "deletable": false,
    "editable": false,
    "tags": [
     "graded"
    ]
   },
   "outputs": [],
   "source": [
    "import random\n",
    "import heapq\n",
    "import os\n",
    "import numpy as np\n",
    "import itertools"
   ]
  },
  {
   "cell_type": "markdown",
   "metadata": {},
   "source": [
    "### 1.2 - Importing unittests\n",
    "\n",
    "This library includes unit tests to evaluate your solutions. More information on unit testing is in Section 5."
   ]
  },
  {
   "cell_type": "code",
   "execution_count": 2,
   "metadata": {
    "deletable": false,
    "editable": false
   },
   "outputs": [],
   "source": [
    "import unittests"
   ]
  },
  {
   "cell_type": "markdown",
   "metadata": {},
   "source": [
    "### 1.3 - The `Graph` Class\n",
    "\n",
    "The `Graph` class that defines the structure of a graph and the methods that can be performed on them. Take a moment to familiarize yourself with the class's structure and its methods, or better yet, share the code with an LLM and ask it for an explanation!\n",
    "\n",
    "The cell below is frozen and you cannot edit the class. Instead, you will work inside of the `Graph_Advanced` class which inherits from this one."
   ]
  },
  {
   "cell_type": "code",
   "execution_count": 3,
   "metadata": {
    "deletable": false,
    "editable": false,
    "tags": [
     "graded"
    ]
   },
   "outputs": [],
   "source": [
    "class Graph:\n",
    "    def __init__(self, directed=False):\n",
    "        \"\"\"\n",
    "        Initialize the Graph.\n",
    "\n",
    "        Parameters:\n",
    "        - directed (bool): Specifies whether the graph is directed. Default is False (undirected).\n",
    "\n",
    "        Attributes:\n",
    "        - graph (dict): A dictionary to store vertices and their adjacent vertices (with weights).\n",
    "        - directed (bool): Indicates whether the graph is directed.\n",
    "        \"\"\"\n",
    "        self.graph = {}\n",
    "        self.directed = directed\n",
    "    \n",
    "    def add_vertex(self, vertex):\n",
    "        \"\"\"\n",
    "        Add a vertex to the graph.\n",
    "\n",
    "        Parameters:\n",
    "        - vertex: The vertex to add. It must be hashable.\n",
    "\n",
    "        Ensures that each vertex is represented in the graph dictionary as a key with an empty dictionary as its value.\n",
    "        \"\"\"\n",
    "        if not isinstance(vertex, (int, str, tuple)):\n",
    "            raise ValueError(\"Vertex must be a hashable type.\")\n",
    "        if vertex not in self.graph:\n",
    "            self.graph[vertex] = {}\n",
    "    \n",
    "    def add_edge(self, src, dest, weight):\n",
    "        \"\"\"\n",
    "        Add a weighted edge from src to dest. If the graph is undirected, also add from dest to src.\n",
    "\n",
    "        Parameters:\n",
    "        - src: The source vertex.\n",
    "        - dest: The destination vertex.\n",
    "        - weight: The weight of the edge.\n",
    "        \n",
    "        Prevents adding duplicate edges and ensures both vertices exist.\n",
    "        \"\"\"\n",
    "        if src not in self.graph or dest not in self.graph:\n",
    "            raise KeyError(\"Both vertices must exist in the graph.\")\n",
    "        if dest not in self.graph[src]:  # Check to prevent duplicate edges\n",
    "            self.graph[src][dest] = weight\n",
    "        if not self.directed and src not in self.graph[dest]:\n",
    "            self.graph[dest][src] = weight\n",
    "    \n",
    "    def remove_edge(self, src, dest):\n",
    "        \"\"\"\n",
    "        Remove an edge from src to dest. If the graph is undirected, also remove from dest to src.\n",
    "\n",
    "        Parameters:\n",
    "        - src: The source vertex.\n",
    "        - dest: The destination vertex.\n",
    "        \"\"\"\n",
    "        if src in self.graph and dest in self.graph[src]:\n",
    "            del self.graph[src][dest]\n",
    "        if not self.directed:\n",
    "            if dest in self.graph and src in self.graph[dest]:\n",
    "                del self.graph[dest][src]\n",
    "    \n",
    "    def remove_vertex(self, vertex):\n",
    "        \"\"\"\n",
    "        Remove a vertex and all edges connected to it.\n",
    "\n",
    "        Parameters:\n",
    "        - vertex: The vertex to be removed.\n",
    "        \"\"\"\n",
    "        if vertex in self.graph:\n",
    "            # Remove any edges from other vertices to this one\n",
    "            for adj in list(self.graph):\n",
    "                if vertex in self.graph[adj]:\n",
    "                    del self.graph[adj][vertex]\n",
    "            # Remove the vertex entry itself\n",
    "            del self.graph[vertex]\n",
    "    \n",
    "    def get_adjacent_vertices(self, vertex):\n",
    "        \"\"\"\n",
    "        Get a list of vertices adjacent to the specified vertex.\n",
    "\n",
    "        Parameters:\n",
    "        - vertex: The vertex whose neighbors are to be retrieved.\n",
    "\n",
    "        Returns:\n",
    "        - List of adjacent vertices. Returns an empty list if vertex is not found.\n",
    "        \"\"\"\n",
    "        return list(self.graph.get(vertex, {}).keys())\n",
    "\n",
    "    def _get_edge_weight(self, src, dest):\n",
    "        \"\"\"\n",
    "        Get the weight of the edge from src to dest.\n",
    "\n",
    "        Parameters:\n",
    "        - src: The source vertex.\n",
    "        - dest: The destination vertex.\n",
    "\n",
    "        Returns:\n",
    "        - The weight of the edge. If the edge does not exist, returns infinity.\n",
    "        \"\"\"\n",
    "        return self.graph[src].get(dest, float('inf'))\n",
    "    \n",
    "    def __str__(self):\n",
    "        \"\"\"\n",
    "        Provide a string representation of the graph's adjacency list for easy printing and debugging.\n",
    "\n",
    "        Returns:\n",
    "        - A string representation of the graph dictionary.\n",
    "        \"\"\"\n",
    "        return str(self.graph)"
   ]
  },
  {
   "cell_type": "markdown",
   "metadata": {},
   "source": [
    "## 2 - The `Graph_Advanced` Class\n",
    "\n",
    "The `Graph_Advanced` class inherits from the `Graph` class above. Your submission for this assignment will be an updated version of this class which implements 4 methods, each corresponding to an exercise described in Section 3. **The cell below is the only one graded in this assignment and the primary place you will develop your solution.**\n",
    "\n",
    "**For your methods to be graded properly, you can't change the names of the four provided methods or the structure of their parameters or returns.** You can, however, add new helper methods within the `Graph_Advanced` class that are called by the four that are provided."
   ]
  },
  {
   "cell_type": "code",
   "execution_count": 20,
   "metadata": {
    "deletable": false,
    "tags": [
     "graded"
    ]
   },
   "outputs": [],
   "source": [
    "class Graph_Advanced(Graph):\n",
    "    \n",
    "    def shortest_path(self, start, end): \n",
    "        \"\"\"\n",
    "        Calculate the shortest path from a starting node to an ending node in a sparse graph\n",
    "        with potentially 10000s of nodes. Must run under 0.5 seconds and find the shortest distance between two nodes.\n",
    "        \n",
    "        Parameters:\n",
    "        start: The starting node.\n",
    "        end: The ending node.\n",
    "        \n",
    "        Returns:\n",
    "        A tuple containing the total distance of the shortest path and a list of nodes representing that path.\n",
    "        \"\"\"\n",
    "        import heapq\n",
    "    \n",
    "        # 1) 초기화\n",
    "        # 모든 정점까지의 거리를 무한대로 설정하고, 시작점 거리만 0으로 설정\n",
    "        dist = {v: float('inf') for v in self.graph}\n",
    "        dist[start] = 0\n",
    "        \n",
    "        # 각 정점까지 오기 위한 '이전 정점'을 저장해 경로를 추적할 수 있게 함\n",
    "        prev = {v: None for v in self.graph}\n",
    "        \n",
    "        # 방문 처리 확인용 집합 (이미 확정된 노드는 다시 처리하지 않음)\n",
    "        visited = set()\n",
    "        \n",
    "        # 우선순위 큐(힙)에는 (현재까지의 거리, 정점) 형태로 저장\n",
    "        heap = [(0, start)]\n",
    "        \n",
    "        # 2) 다익스트라 메인 루프\n",
    "        while heap:\n",
    "            current_dist, current_vertex = heapq.heappop(heap)\n",
    "            \n",
    "            # 이미 방문 처리되었다면 스킵\n",
    "            if current_vertex in visited:\n",
    "                continue\n",
    "            \n",
    "            # 현재 정점을 방문 처리\n",
    "            visited.add(current_vertex)\n",
    "            \n",
    "            # 목표(end)에 도달했다면 반복 종료(최단 경로 확정)\n",
    "            if current_vertex == end:\n",
    "                break\n",
    "            \n",
    "            # 인접 정점들 확인\n",
    "            for neighbor, weight in self.graph[current_vertex].items():\n",
    "                if neighbor in visited:\n",
    "                    continue\n",
    "                \n",
    "                new_dist = current_dist + weight\n",
    "                # 더 짧은 경로가 있다면 갱신\n",
    "                if new_dist < dist[neighbor]:\n",
    "                    dist[neighbor] = new_dist\n",
    "                    prev[neighbor] = current_vertex\n",
    "                    heapq.heappush(heap, (new_dist, neighbor))\n",
    "        \n",
    "        # 3) end에서부터 prev를 따라가며 경로 복원\n",
    "        if dist[end] == float('inf'):\n",
    "            # end까지 갈 수 없는 경우\n",
    "            return float('inf'), []\n",
    "        \n",
    "        path = []\n",
    "        node = end\n",
    "        while node is not None:\n",
    "            path.append(node)\n",
    "            node = prev[node]\n",
    "        path.reverse()  # 뒤에서부터 추적했으므로, 순서를 반전\n",
    "        \n",
    "        return dist[end], path\n",
    "    \n",
    "    def tsp_small_graph(self, start_vertex): \n",
    "        \"\"\"\n",
    "        Solve the Travelling Salesman Problem for a small (~10 node) complete graph starting from a specified node.\n",
    "        Required to find the optimal tour. Expect graphs with at most 10 nodes. Must run under 1 second.\n",
    "        \n",
    "        Parameters:\n",
    "        start: The starting node.\n",
    "        \n",
    "        Returns:\n",
    "        A tuple containing the total distance of the tour and a list of nodes representing the tour path.\n",
    "        \"\"\"\n",
    "        from itertools import permutations\n",
    "    \n",
    "        # 그래프의 모든 노드를 가져옵니다.\n",
    "        nodes = list(self.graph.keys())\n",
    "        \n",
    "        # 시작 정점과 다른 노드들만 골라 permutations 할 리스트 생성\n",
    "        other_nodes = [v for v in nodes if v != start_vertex]\n",
    "        \n",
    "        best_dist = float('inf')\n",
    "        best_path = []\n",
    "        \n",
    "        # 모든 노드 순열을 돌면서 최적(가장 짧은) 경로를 찾음\n",
    "        for perm in permutations(other_nodes):\n",
    "            # 경로: start_vertex -> perm(...) -> start_vertex\n",
    "            path = [start_vertex] + list(perm) + [start_vertex]\n",
    "            \n",
    "            # 현재 경로의 총 거리 계산\n",
    "            dist = 0\n",
    "            for i in range(len(path) - 1):\n",
    "                src = path[i]\n",
    "                dst = path[i+1]\n",
    "                # 완전 그래프이므로 src->dst 간선은 반드시 존재한다고 가정\n",
    "                dist += self.graph[src][dst]\n",
    "                \n",
    "                # 혹은 안전하게 self._get_edge_weight(src, dst)를 써도 됨\n",
    "                # dist += self._get_edge_weight(src, dst)\n",
    "                \n",
    "            # 기존의 최단 거리보다 작다면 갱신\n",
    "            if dist < best_dist:\n",
    "                best_dist = dist\n",
    "                best_path = path\n",
    "        \n",
    "        return best_dist, best_path\n",
    "    \n",
    "    \n",
    "    def tsp_large_graph(self, start): \n",
    "        \"\"\"\n",
    "        Solve the Travelling Salesman Problem for a large (~1000 node) complete graph starting from a specified node.\n",
    "        No requirement to find the optimal tour. Must run under 0.5 second with a \"pretty good\" solution.\n",
    "        \n",
    "        Parameters:\n",
    "        start: The starting node.\n",
    "        \n",
    "        Returns:\n",
    "        A tuple containing the total distance of the tour and a list of nodes representing the tour path.\n",
    "        \"\"\"\n",
    "        visited = set([start])\n",
    "        path = [start]\n",
    "        current = start\n",
    "        total_dist = 0\n",
    "        \n",
    "        # 전체 노드 수\n",
    "        n = len(self.graph)\n",
    "        \n",
    "        # 모든 노드를 방문할 때까지 반복\n",
    "        while len(visited) < n:\n",
    "            next_node = None\n",
    "            min_weight = float('inf')\n",
    "            \n",
    "            # 현재 노드에서 갈 수 있는, 방문하지 않은 노드 중 가장 가중치가 작은 곳 선택\n",
    "            for neighbor, weight in self.graph[current].items():\n",
    "                if neighbor not in visited and weight < min_weight:\n",
    "                    min_weight = weight\n",
    "                    next_node = neighbor\n",
    "            \n",
    "            # 다음 노드를 방문 처리 & 거리 갱신\n",
    "            visited.add(next_node)\n",
    "            path.append(next_node)\n",
    "            total_dist += min_weight\n",
    "            \n",
    "            current = next_node\n",
    "        \n",
    "        # 마지막 노드에서 시작점으로 돌아가는 비용 추가\n",
    "        # 완전 그래프이므로 간선이 존재함을 가정\n",
    "        back_to_start = self.graph[current][start]\n",
    "        total_dist += back_to_start\n",
    "        path.append(start)\n",
    "        \n",
    "        return total_dist, path\n",
    "    \n",
    "    def tsp_medium_graph(self, start): \n",
    "        \"\"\"\n",
    "        Solve the Travelling Salesman Problem for a medium (~300 node) complete graph starting from a specified node.\n",
    "        Expected to perform better than tsp_large_graph. Must run under 1.5 seconds.\n",
    "        \n",
    "        Parameters:\n",
    "        start: The starting node.\n",
    "        \n",
    "        Returns:\n",
    "        A tuple containing the total distance of the tour and a list of nodes representing the tour path.\n",
    "        \"\"\"\n",
    "        import time\n",
    "    \n",
    "        # 1) 시간 체크 세팅\n",
    "        start_time = time.time()\n",
    "        time_limit = 1.45  # 조금 여유를 두어 1.5초 이전에 멈추도록\n",
    "    \n",
    "        # ----------------------------------------------------\n",
    "        # 2) 초기해: Nearest Neighbor (간단 구현)\n",
    "        # ----------------------------------------------------\n",
    "        visited = set([start])\n",
    "        path = [start]\n",
    "        current = start\n",
    "        total_nodes = len(self.graph)\n",
    "    \n",
    "        while len(visited) < total_nodes:\n",
    "            next_node = None\n",
    "            min_weight = float('inf')\n",
    "            for neighbor, weight in self.graph[current].items():\n",
    "                if neighbor not in visited and weight < min_weight:\n",
    "                    min_weight = weight\n",
    "                    next_node = neighbor\n",
    "            \n",
    "            visited.add(next_node)\n",
    "            path.append(next_node)\n",
    "            current = next_node\n",
    "        \n",
    "        # 마지막 노드 → start 로 돌아가기\n",
    "        path.append(start)\n",
    "        \n",
    "        # 거리 계산 함수\n",
    "        def calc_path_distance(p):\n",
    "            dist_sum = 0\n",
    "            for i in range(len(p) - 1):\n",
    "                dist_sum += self.graph[p[i]][p[i+1]]\n",
    "            return dist_sum\n",
    "        \n",
    "        current_dist = calc_path_distance(path)\n",
    "    \n",
    "        # ----------------------------------------------------\n",
    "        # 3) 부분적 2-Opt (단일 패스 + 간격 두어서 빠르게)\n",
    "        # ----------------------------------------------------\n",
    "        # - 모든 i, k 조합(O(n^2))을 완전히 탐색하면 300노드에서 시간 초과 가능\n",
    "        # - i, k를 일정 간격으로 건너뛰며 \"조금만\" 검사\n",
    "        # - 개선이 발생하면 바로 경로 갱신, 하지만 여러 바퀴 돌지 않고 단일 패스로 종료\n",
    "        # - 루프 중간중간 시간 체크 후 초과 시 즉시 탈출\n",
    "        # ----------------------------------------------------\n",
    "    \n",
    "        # 2-Opt 스왑 함수\n",
    "        def two_opt_swap(p, i, k):\n",
    "            # p[i : k+1] 부분을 뒤집어 주는 것이 핵심\n",
    "            return p[:i] + p[i:k+1][::-1] + p[k+1:]\n",
    "        \n",
    "        # 한 번의 패스만 시도\n",
    "        n = len(path)\n",
    "        step = 5  # 간격 (예: 5씩 건너뛰며 검사)\n",
    "        \n",
    "        for i in range(1, n - 2, step):\n",
    "            # 시간 초과 체크\n",
    "            if time.time() - start_time > time_limit:\n",
    "                break\n",
    "            \n",
    "            for k in range(i+1, n - 1, step):\n",
    "                if time.time() - start_time > time_limit:\n",
    "                    break\n",
    "                \n",
    "                # 2-Opt 스왑 후보 경로 구성\n",
    "                new_path = two_opt_swap(path, i, k)\n",
    "                \n",
    "                # ★ 차이만 계산하는 방식(더 빠름) ----------------------\n",
    "                # 기존 경로와 바꿀 구간 4개의 에지만 비교하면 O(1)에 계산 가능\n",
    "                # (i-1, i), (k, k+1) vs 바뀐 뒤 (i-1, k), (i, k+1)\n",
    "                # 다만 구현 간소화를 위해 전체 다시 계산하는 것도 가능 (조금 더 느리지만 안전)\n",
    "                # -----------------------------------------------------\n",
    "                \n",
    "                # 여기서는 전체 거리 다시 계산(안전 구현) - 필요 시 최적화\n",
    "                new_dist = calc_path_distance(new_path)\n",
    "                \n",
    "                if new_dist < current_dist:\n",
    "                    path = new_path\n",
    "                    current_dist = new_dist\n",
    "                    # 개선을 발견해도 \"이번 패스\"는 계속 진행하지만,\n",
    "                    # 전체 2-Opt 루프를 여러 번 돌지는 않음(단일 패스)\n",
    "        \n",
    "        return current_dist, path\n",
    "        \n",
    "    "
   ]
  },
  {
   "cell_type": "markdown",
   "metadata": {},
   "source": [
    "## 3 - Exercises and Development Steps\n",
    "\n",
    "### 3.1 - Exercises\n",
    "Here are four exercises you'll complete in this assignment. Each one corresponds with a method that is already included in `Graph_Advanced`.\n",
    "\n",
    "#### Exercise 1: `shortest_path` (Sparse Graphs, 10,000 nodes, Optimal Solution, 0.5 seconds)\n",
    "\n",
    "In this challenge you will be given a large graph with tens of thousands of nodes. The graph is \"sparse\", however, meaning that each vertex may only have edges leading to a few other vertices. You will need to develop an algorithm to find the shortest path between two vertices in this graph. The solution will be the length of the path, and the list of vertices along that path. This is a classic computer science problem, and there are a few standard algorithms your LLM is likely to suggest. To ensure your code is efficient, it must execute in less than `0.5` seconds. \n",
    "\n",
    "#### Exercise 2: `tsp_small_graph` (Complete Graphs, 10 nodes, Optimal Solution, 1 second)\n",
    "\n",
    "The Traveling Salesman Problem asks you to find the shortest path through a graph that visits all vertices and returns to the start, also called a \"tour\". This problem famously is computationally intensive for large graphs, making it essentially impossible to find the absolute best solution. For smaller graphs, however, a brute force approach is possible, and that's the first version of the Traveling Salesman Problem you'll tackle.\n",
    "\n",
    "Write a method that, given a small graph of about 10 nodes, finds the shortest tour of the graph that starts and ends at node 0. Unlike in the first exercise, the graphs here are \"complete\", meaning there is an edge from each node to each other node. The method should return the length of the tour and a list of the nodes visited. **The tour found must be the absolute shortest through the graph.** Your solution must also be efficient, completing the task in under `1` second.\n",
    "\n",
    "#### Exercise 3: `tsp_large_graph` (Complete Graphs, 1,000 nodes, \"Pretty Good\" Solution, 0.5 seconds)\n",
    "\n",
    "In this exercise you again tackle the Traveling Salesman Problem, but for much larger graphs of about 1,000 nodes. Once again the graph is complete, with an edge between every pair of nodes. In graphs this size, a brute force approach is now computationally infeasible, so the tour length requirement on this method has been loosened substantially. You now must simply find a \"pretty good\" tour through the graph using some kind of heuristic approach. There are several commonly-used heuristics, and almost all of them (with the exception perhaps of randomly generating a tour) will produce tours that are short enough to pass the tests on this method. While your solution no longer needs to be optimal, your code should run quickly, in less than `0.5` seconds. Have your LLM focus on speed rather than tour length, and you should find an algorithm that works!\n",
    "\n",
    "#### Exercise 4: `tsp_medium_graph` (Complete Graphs, 300 nodes, Near-Optimal Solution, 1.5 seconds)\n",
    "\n",
    "In this last version of the Traveling Salesman Problem, you will need to work with an LLM to develop a solution that improves upon the algorithm you used in Exercise 3. Now you will be given complete graphs of about 300 nodes. The time requirement has been relaxed to `1.5` seconds, giving your algorithm 3 times as long to run. The tour length requirements, however, have been tightened, meaning you'll need to find tours that are much closer to the theoretical optimum. This likely means that the heuristic you used in Exercise 3 will no longer produce short enough tours. Brainstorm with your LLM new heuristics you could implement that take advantage of the longer runtime you're allowed and generate relatively shorter tours.\n",
    "\n",
    "### 3.2 - Recommended Development Steps\n",
    "\n",
    "The goal of this project is to develop your solutions alongside an LLM. Here's some steps to try:\n",
    "\n",
    "- **Understand the Problem**: Discuss graph theory problems like the Travelling Salesman Problem (TSP) and shortest path finding with the LLM. Use it to clarify concepts and get examples, enhancing your foundational knowledge.\n",
    "\n",
    "- **Analyze the `Graph` Class**: Analyze the provided Graph class functions and structure by consulting the LLM. Its explanations will help you understand how to effectively utilize and extend the class.\n",
    "\n",
    "- **Brainstorm Solutions**: For each exercise and method (`shortest_path`, `tsp_small_graph`, `tsp_large_graph`, `tsp_medium_graph`), brainstorm with the LLM potential solutions. Share the time constraints and whether the solutions need to be optimal and see which algorithms the LLM recommends.\n",
    "\n",
    "- **Implement Solutions**: Have the LLM generate methods that implement the solutions you brainstorm. Ensure the LLM understands the structure of the `Graph` and `Graph_Advanced` class so that the generated code will run as expected.\n",
    "\n",
    "5. **Debug Errors**: Use the LLM to strategize and review your testing approach, especially for tests that yield unexpected results. It can offer debugging and optimization advice to improve your solutions.\n",
    "\n",
    "Of course the LLM Best Practices of \"Be specific\", \"Assign a role\", \"Request an expert opinion\", \"Give feedback\" should serve you well throughout!"
   ]
  },
  {
   "cell_type": "markdown",
   "metadata": {},
   "source": [
    "## 4 - Playground\n",
    "\n",
    "Use the space below to experiment with and test your methods. The `generate_graph` function can be used to generate graphs with different properties.\n",
    "\n",
    "To measure the execution time of your code, you can use the `%%timeit` magic method, an example of which appears at the bottom of this section. **Remember, `%%timeit` should be placed at the beginning of a code cell**, even before any comments marked by `#`.\n",
    "\n",
    "You're encouraged to create as many new cells as needed for testing, but keep in mind that only the code within the `Graph_Advanced` class will be considered during grading."
   ]
  },
  {
   "cell_type": "markdown",
   "metadata": {},
   "source": [
    "### 4.1 - The `generate_graph` function\n",
    "\n",
    "The function below will generate graphs and you may find it useful in experimenting with solutions or testing your code. This function is also the one used to generate the graphs used in the unit tests. If your algorithm fails a test case, you will be given the call to this function with the appropriate arguments needed to replicate the graph that caused your algorithm to fail. Additionally, the reason for the failure will be provided, whether it was due to exceeding the time limit or not achieving an optimal or near-optimal distance."
   ]
  },
  {
   "cell_type": "code",
   "execution_count": 8,
   "metadata": {
    "deletable": false,
    "editable": false
   },
   "outputs": [],
   "source": [
    "def generate_graph(nodes, edges=None, complete=False, weight_bounds=(1,600), seed=None):\n",
    "    \"\"\"\n",
    "    Generates a graph with specified parameters, allowing for both complete and incomplete graphs.\n",
    "    \n",
    "    This function creates a graph with a specified number of nodes and edges, with options for creating a complete graph, and for specifying the weight bounds of the edges. It uses the Graph_Advanced class to create and manipulate the graph.\n",
    "\n",
    "    Parameters:\n",
    "    - nodes (int): The number of nodes in the graph. Must be a positive integer.\n",
    "    - edges (int, optional): The number of edges to add for each node in the graph. This parameter is ignored if `complete` is set to True. Defaults to None.\n",
    "    - complete (bool, optional): If set to True, generates a complete graph where every pair of distinct vertices is connected by a unique edge. Defaults to False.\n",
    "    - weight_bounds (tuple, optional): A tuple specifying the lower and upper bounds (inclusive) for the random weights of the edges. Defaults to (1, 600).\n",
    "    - seed (int, optional): A seed for the random number generator to ensure reproducibility. Defaults to None.\n",
    "\n",
    "    Raises:\n",
    "    - ValueError: If `edges` is not None and `complete` is set to True, since a complete graph does not require specifying the number of edges.\n",
    "\n",
    "    Returns:\n",
    "    - Graph_Advanced: An instance of the Graph_Advanced class representing the generated graph, with vertices labeled as integers starting from 0.\n",
    "\n",
    "    Examples:\n",
    "    - Generating a complete graph with 5 nodes:\n",
    "        generate_graph(5, complete=True)\n",
    "    \n",
    "    - Generating an incomplete graph with 5 nodes and 2 edges per node:\n",
    "        generate_graph(5, edges=2)\n",
    "    \n",
    "    Note:\n",
    "    - The function assumes the existence of a Graph_Advanced class with methods for adding vertices (`add_vertex`) and edges (`add_edge`), as well as a method for getting adjacent vertices (`get_adjacent_vertices`).\n",
    "    \"\"\"\n",
    "    random.seed(seed)\n",
    "    graph = Graph_Advanced()\n",
    "    if edges is not None and complete:\n",
    "        raise ValueError(\"edges must be None if complete is set to True\")\n",
    "    if not complete and edges > nodes:\n",
    "        raise ValueError(\"number of edges must be less than number of nodes\")\n",
    "    \n",
    "\n",
    "    for i in range(nodes):\n",
    "        graph.add_vertex(i)\n",
    "    if complete:\n",
    "        for i in range(nodes):\n",
    "            for j in range(i+1,nodes):\n",
    "                weight = random.randint(weight_bounds[0], weight_bounds[1])\n",
    "                graph.add_edge(i,j,weight)\n",
    "    else:\n",
    "        for i in range(nodes):\n",
    "            for _ in range(edges):\n",
    "                j = random.randint(0, nodes - 1)\n",
    "                while (j == i or j in graph.get_adjacent_vertices(i)) and len(graph.get_adjacent_vertices(i)) < nodes - 1:  # Ensure the edge is not a loop or a duplicate\n",
    "                    j = random.randint(0, nodes - 1)\n",
    "                weight = random.randint(weight_bounds[0], weight_bounds[1])\n",
    "                if len(graph.graph[i]) < edges and len(graph.graph[j]) < edges:\n",
    "                    graph.add_edge(i, j, weight)\n",
    "    return graph"
   ]
  },
  {
   "cell_type": "code",
   "execution_count": 9,
   "metadata": {
    "deletable": false
   },
   "outputs": [],
   "source": [
    "## Example function and use of the %%timeit magic method\n",
    "def foo(n):\n",
    "    i = 0\n",
    "    for i in range(10000):\n",
    "        for j in range(n):\n",
    "            i += j\n",
    "    return i"
   ]
  },
  {
   "cell_type": "code",
   "execution_count": 10,
   "metadata": {},
   "outputs": [
    {
     "name": "stdout",
     "output_type": "stream",
     "text": [
      "10044\n"
     ]
    }
   ],
   "source": [
    "print(foo(10))"
   ]
  },
  {
   "cell_type": "code",
   "execution_count": 11,
   "metadata": {},
   "outputs": [
    {
     "name": "stdout",
     "output_type": "stream",
     "text": [
      "4.77 ms ± 169 µs per loop (mean ± std. dev. of 7 runs, 100 loops each)\n"
     ]
    }
   ],
   "source": [
    "%%timeit\n",
    "foo(10)"
   ]
  },
  {
   "cell_type": "markdown",
   "metadata": {},
   "source": [
    "Feel free to add as many cells as you want! You can do so by clicking in the `+` button in the left upper corner of this notebook."
   ]
  },
  {
   "cell_type": "markdown",
   "metadata": {},
   "source": [
    "## 5 - Test Your Solutions\n",
    "\n",
    "The section below will run the methods in your `Graph_Advanced` class against a set of unit tests. If you see the message \"All tests passed!\" for every unittest, your assignment is likely ready for submission. If not, you'll be able to see which cases your code didn't pass and understand why. \n",
    "\n",
    "**Note, the unittests here cover only a few example cases due to the constraints of this environment. The grading process will include more extensive testing.** It's possible to pass all the tests here but still fail some during the autograding. However, if that happens, don't worry! You will receive feedback on which tests failed, which will allow you to adjust your solutions and resubmit the assignment. You're welcome to submit your assignment as many times as needed.\n",
    "\n",
    "Here's a few tips to help you debug your code.\n",
    "\n",
    "* Share the code of the `Graph` and `Graph_Advanced` classes with your LLM so it has that context. Make sure your code maintains the structure of the four methods, in particular the method names and their parameter and return types.\n",
    "* Avoid importing new libraries besides those imported in Section 1. If you need additional libraries, only import them in the same cell that contains the `Graph_Advanced` class.\n",
    "* Determine if the problem is with the accuray of your results or your code's runtime. Provide feedback to the LLM on reasons your solution is not passing and consider different algorithms / heuristics if you think the approach you're pursuing won't work.\n",
    "* Save your work before submitting!\n",
    "* Failing test because of long runtimes?** Ensure you shut down any other live kernels (if you have another notebook open within this environment), as they may affect the execution time of your functions. It's of course also possible that your code just needs to run more efficiently!"
   ]
  },
  {
   "cell_type": "markdown",
   "metadata": {
    "deletable": false,
    "editable": false
   },
   "source": [
    "### 5.1 - Test Exercise 1 (`shortest_path`)\n",
    "\n",
    "Run the code below to test the `shortest_path` method on sparsely connected graphs with 10,000 nodes. The requirements for passing this exercise are:\n",
    "\n",
    "- The algorithm must complete its run in under `0.5` second for each graph.\n",
    "- It must accurately find the shortest path."
   ]
  },
  {
   "cell_type": "code",
   "execution_count": 12,
   "metadata": {
    "deletable": false,
    "editable": false
   },
   "outputs": [
    {
     "name": "stdout",
     "output_type": "stream",
     "text": [
      "\u001b[92m All tests passed!\n"
     ]
    }
   ],
   "source": [
    "unittests.test_shortest_path(Graph_Advanced)"
   ]
  },
  {
   "cell_type": "markdown",
   "metadata": {
    "deletable": false,
    "editable": false
   },
   "source": [
    "### 5.2 - Test Exercise 2 (`tsp_small_graph`)\n",
    "\n",
    "Run the code below to test the `tsp_small_graph` on complete (fully connected) graphs with 10 nodes. The requirements for passing this exercise are:\n",
    "\n",
    "- The algorithm must complete its run in under `1` second for each graph.\n",
    "- It must fund the optimal solution, starting at node 0."
   ]
  },
  {
   "cell_type": "code",
   "execution_count": 14,
   "metadata": {
    "deletable": false,
    "editable": false
   },
   "outputs": [
    {
     "name": "stdout",
     "output_type": "stream",
     "text": [
      "\u001b[92m All tests passed!\n"
     ]
    }
   ],
   "source": [
    "unittests.test_tsp_small_graph(Graph_Advanced)"
   ]
  },
  {
   "cell_type": "markdown",
   "metadata": {
    "deletable": false,
    "editable": false
   },
   "source": [
    "### 5.3 - Test Exercise 3 (`tsp_large_graph`)\n",
    "\n",
    "Run the code below to test the `tsp_large_graph` on complete (fully connected) graphs with 1000 nodes. The requirements for passing this exercise are:\n",
    "\n",
    "- The algorithm must complete its run in under `0.5` second for each graph.\n",
    "- It must find the good solution (less than a specified value, depending on the graph). "
   ]
  },
  {
   "cell_type": "code",
   "execution_count": 16,
   "metadata": {
    "deletable": false,
    "editable": false
   },
   "outputs": [
    {
     "name": "stdout",
     "output_type": "stream",
     "text": [
      "\u001b[92m All tests passed!\n"
     ]
    }
   ],
   "source": [
    "unittests.test_tsp_large_graph(Graph_Advanced)"
   ]
  },
  {
   "cell_type": "markdown",
   "metadata": {
    "deletable": false,
    "editable": false
   },
   "source": [
    "### 5.4 - Test Exercise 4 (`tsp_medium_graph`)\n",
    "\n",
    "Run the code below to test the `tsp_medium_graph` on complete (fully connected) graphs with 300 nodes. The requirements for passing this exercise are:\n",
    "\n",
    "- The algorithm must complete its run in under `1.5` seconds for each graph.\n",
    "- It must find the good solution (less than a specified value, depending on the graph). "
   ]
  },
  {
   "cell_type": "code",
   "execution_count": 21,
   "metadata": {
    "deletable": false,
    "editable": false
   },
   "outputs": [
    {
     "name": "stdout",
     "output_type": "stream",
     "text": [
      "\u001b[92m All tests passed!\n"
     ]
    }
   ],
   "source": [
    "unittests.test_tsp_medium_graph(Graph_Advanced)"
   ]
  },
  {
   "cell_type": "markdown",
   "metadata": {},
   "source": [
    "Once you feel good about your submission, **save your work and submit!** \n",
    "\n",
    "**Congratulations on completing the first major assignment in this specialization!**"
   ]
  }
 ],
 "metadata": {
  "grader_version": "1",
  "kernelspec": {
   "display_name": "Python 3 (ipykernel)",
   "language": "python",
   "name": "python3"
  },
  "language_info": {
   "codemirror_mode": {
    "name": "ipython",
    "version": 3
   },
   "file_extension": ".py",
   "mimetype": "text/x-python",
   "name": "python",
   "nbconvert_exporter": "python",
   "pygments_lexer": "ipython3",
   "version": "3.11.6"
  }
 },
 "nbformat": 4,
 "nbformat_minor": 4
}
