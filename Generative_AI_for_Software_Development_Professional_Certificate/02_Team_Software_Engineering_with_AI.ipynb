{
 "cells": [
  {
   "cell_type": "markdown",
   "id": "6fcda893",
   "metadata": {},
   "source": [
    "이번 모듈은 소프트웨어 개발에서 생성형 AI가 협업을 어떻게 개선할 수 있는지에 초점을 맞추고 있습니다. 특히 테스트, 디버깅, 문서화 및 종속성 관리 측면에서 LLM의 역할을 강조합니다. 이러한 측면들이 중요한 이유는 코드를 다른 사람들과 주고받을 때 발생할 수 있는 어려움들을 해결하고, 개발자가 더 나은 코드를 작성하고 팀워크를 향상시키는 데 도움이 되기 때문입니다.   \n",
    "\n",
    "즉, 생성형 AI가 소프트웨어 개발의 핵심적인 측면들을 어떻게 개선하여 개발자와 팀의 효율성을 높일 수 있는지에 대한 통찰력을 제공합니다."
   ]
  },
  {
   "cell_type": "markdown",
   "id": "f32cd134",
   "metadata": {},
   "source": [
    "## Testing and debugging strategies"
   ]
  },
  {
   "cell_type": "code",
   "execution_count": 1,
   "id": "6213f1b9",
   "metadata": {},
   "outputs": [
    {
     "name": "stdout",
     "output_type": "stream",
     "text": [
      " * Serving Flask app \"__main__\" (lazy loading)\n",
      " * Environment: production\n",
      "\u001b[31m   WARNING: This is a development server. Do not use it in a production deployment.\u001b[0m\n",
      "\u001b[2m   Use a production WSGI server instead.\u001b[0m\n",
      " * Debug mode: on\n"
     ]
    },
    {
     "name": "stderr",
     "output_type": "stream",
     "text": [
      " * Restarting with watchdog (windowsapi)\n"
     ]
    },
    {
     "ename": "SystemExit",
     "evalue": "1",
     "output_type": "error",
     "traceback": [
      "An exception has occurred, use %tb to see the full traceback.\n",
      "\u001b[1;31mSystemExit\u001b[0m\u001b[1;31m:\u001b[0m 1\n"
     ]
    },
    {
     "name": "stderr",
     "output_type": "stream",
     "text": [
      "C:\\Users\\USER\\anaconda3\\lib\\site-packages\\IPython\\core\\interactiveshell.py:3377: UserWarning: To exit: use 'exit', 'quit', or Ctrl-D.\n",
      "  warn(\"To exit: use 'exit', 'quit', or Ctrl-D.\", stacklevel=1)\n"
     ]
    }
   ],
   "source": [
    "from flask import Flask, jsonify\n",
    "\n",
    "app = Flask(__name__)\n",
    "\n",
    "@app.route('/api/greet/<name>', methods=['GET'])\n",
    "def greet(name):\n",
    "    return jsonify(message=f\"Hello, {name}!\")\n",
    "\n",
    "app.run(debug=True)"
   ]
  },
  {
   "cell_type": "code",
   "execution_count": null,
   "id": "39086674",
   "metadata": {},
   "outputs": [],
   "source": []
  }
 ],
 "metadata": {
  "kernelspec": {
   "display_name": "Python 3 (ipykernel)",
   "language": "python",
   "name": "python3"
  },
  "language_info": {
   "codemirror_mode": {
    "name": "ipython",
    "version": 3
   },
   "file_extension": ".py",
   "mimetype": "text/x-python",
   "name": "python",
   "nbconvert_exporter": "python",
   "pygments_lexer": "ipython3",
   "version": "3.9.12"
  }
 },
 "nbformat": 4,
 "nbformat_minor": 5
}
