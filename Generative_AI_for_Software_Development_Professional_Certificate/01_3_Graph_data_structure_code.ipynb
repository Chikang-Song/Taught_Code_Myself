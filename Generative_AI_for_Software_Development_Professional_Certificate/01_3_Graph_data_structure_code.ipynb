{
  "nbformat": 4,
  "nbformat_minor": 0,
  "metadata": {
    "colab": {
      "provenance": []
    },
    "kernelspec": {
      "name": "python3",
      "display_name": "Python 3"
    },
    "language_info": {
      "name": "python"
    }
  },
  "cells": [
    {
      "cell_type": "markdown",
      "source": [
        "This code implements a directed graph."
      ],
      "metadata": {
        "id": "f6Iz39H1wveE"
      }
    },
    {
      "cell_type": "code",
      "execution_count": 1,
      "metadata": {
        "colab": {
          "base_uri": "https://localhost:8080/"
        },
        "id": "oMaooXvbwuA7",
        "outputId": "3f524a32-4c3a-40cc-b591-218a468a171c"
      },
      "outputs": [
        {
          "output_type": "stream",
          "name": "stdout",
          "text": [
            "{'A': ['B', 'C'], 'B': [], 'C': []}\n"
          ]
        }
      ],
      "source": [
        "class Graph:\n",
        "    def __init__(self, directed=False):\n",
        "        self.graph = {}\n",
        "        self.directed = directed\n",
        "\n",
        "    def add_vertex(self, vertex):\n",
        "        if vertex not in self.graph:\n",
        "            self.graph[vertex] = []\n",
        "\n",
        "    def add_edge(self, src, dest):\n",
        "        if src not in self.graph:\n",
        "            self.add_vertex(src)\n",
        "        if dest not in self.graph:\n",
        "            self.add_vertex(dest)\n",
        "        self.graph[src].append(dest)\n",
        "        if not self.directed:\n",
        "            self.graph[dest].append(src)\n",
        "\n",
        "    def remove_edge(self, src, dest):\n",
        "        if src in self.graph:\n",
        "            if dest in self.graph[src]:\n",
        "                self.graph[src].remove(dest)\n",
        "        if not self.directed:\n",
        "            if dest in self.graph and src in self.graph[dest]:\n",
        "                self.graph[dest].remove(src)\n",
        "\n",
        "    def remove_vertex(self, vertex):\n",
        "        if vertex in self.graph:\n",
        "            # Remove any edges from other vertices to this one\n",
        "            for adj in list(self.graph):\n",
        "                if vertex in self.graph[adj]:\n",
        "                    self.graph[adj].remove(vertex)\n",
        "            # Remove the vertex entry\n",
        "            del self.graph[vertex]\n",
        "\n",
        "    def get_adjacent_vertices(self, vertex):\n",
        "        if vertex in self.graph:\n",
        "            return self.graph[vertex]\n",
        "        else:\n",
        "            return []\n",
        "\n",
        "    def __str__(self):\n",
        "        return str(self.graph)\n",
        "\n",
        "# Example usage:\n",
        "g = Graph(directed=True)\n",
        "g.add_vertex('A')\n",
        "g.add_vertex('B')\n",
        "g.add_edge('A', 'B')\n",
        "g.add_edge('A', 'C')\n",
        "print(g)"
      ]
    },
    {
      "cell_type": "markdown",
      "source": [
        "What improvements or changes would you need to implement to make the code ready for production settings? Is there any missing functionality? Or any security vulnerabilities to consider?"
      ],
      "metadata": {
        "id": "Da_QDSjnxAla"
      }
    },
    {
      "cell_type": "markdown",
      "source": [
        "<div class='alert alert-block alert-info'>\n",
        "<b>Asked to LLM :</b><br>\n",
        "\n",
        "You are an expert software developer or site reliability engineer, and your job is to ensure that this code runs effectively, quickly, at scale, and securely, Please profile it, and find any issues that need to be fixed or updated."
      ],
      "metadata": {
        "id": "j1pDvIdRzTFU"
      }
    },
    {
      "cell_type": "code",
      "source": [
        "import threading\n",
        "from collections import defaultdict\n",
        "\n",
        "class Graph:\n",
        "    def __init__(self, directed=False):\n",
        "        self.graph = defaultdict(set)  # Use set to prevent duplicate edges\n",
        "        self.directed = directed\n",
        "        self.lock = threading.RLock()  # Thread-safe modifications\n",
        "\n",
        "    def add_vertex(self, vertex):\n",
        "        if not isinstance(vertex, (int, str)):\n",
        "            raise ValueError(\"Vertex must be hashable (int or str).\")\n",
        "        with self.lock:\n",
        "            self.graph[vertex]  # Initialize vertex in the graph\n",
        "\n",
        "    def add_edge(self, src, dest, weight=None):\n",
        "        if not isinstance(src, (int, str)) or not isinstance(dest, (int, str)):\n",
        "            raise ValueError(\"Vertices must be hashable (int or str).\")\n",
        "        with self.lock:\n",
        "            self.graph[src].add((dest, weight))\n",
        "            if not self.directed:\n",
        "                self.graph[dest].add((src, weight))\n",
        "\n",
        "    def remove_edge(self, src, dest):\n",
        "        with self.lock:\n",
        "            if src in self.graph and (dest, None) in self.graph[src]:\n",
        "                self.graph[src].discard((dest, None))\n",
        "            elif src in self.graph:\n",
        "                # Remove specific weighted edges\n",
        "                self.graph[src] = {edge for edge in self.graph[src] if edge[0] != dest}\n",
        "            if not self.directed and dest in self.graph:\n",
        "                self.graph[dest].discard((src, None))\n",
        "\n",
        "    def remove_vertex(self, vertex):\n",
        "        with self.lock:\n",
        "            if vertex in self.graph:\n",
        "                # Remove all incoming edges\n",
        "                for adj in self.graph:\n",
        "                    self.graph[adj] = {edge for edge in self.graph[adj] if edge[0] != vertex}\n",
        "                # Remove the vertex itself\n",
        "                del self.graph[vertex]\n",
        "\n",
        "    def get_adjacent_vertices(self, vertex):\n",
        "        return list(self.graph[vertex]) if vertex in self.graph else []\n",
        "\n",
        "    def __str__(self):\n",
        "        with self.lock:\n",
        "            return '\\n'.join(f\"{v}: {list(adj)}\" for v, adj in self.graph.items())\n",
        "\n",
        "    def bfs(self, start):\n",
        "        \"\"\"Breadth-First Search Traversal\"\"\"\n",
        "        visited = set()\n",
        "        queue = [start]\n",
        "        result = []\n",
        "\n",
        "        while queue:\n",
        "            vertex = queue.pop(0)\n",
        "            if vertex not in visited:\n",
        "                visited.add(vertex)\n",
        "                result.append(vertex)\n",
        "                queue.extend(neigh[0] for neigh in self.graph[vertex] if neigh[0] not in visited)\n",
        "        return result\n",
        "\n",
        "    def dfs(self, start, visited=None):\n",
        "        \"\"\"Depth-First Search Traversal\"\"\"\n",
        "        if visited is None:\n",
        "            visited = set()\n",
        "        visited.add(start)\n",
        "        result = [start]\n",
        "\n",
        "        for neighbor in self.graph[start]:\n",
        "            if neighbor[0] not in visited:\n",
        "                result.extend(self.dfs(neighbor[0], visited))\n",
        "        return result\n",
        "\n",
        "# Example usage:\n",
        "g = Graph(directed=True)\n",
        "g.add_vertex('A')\n",
        "g.add_vertex('B')\n",
        "g.add_edge('A', 'B', weight=5)\n",
        "g.add_edge('A', 'C', weight=10)\n",
        "print(g)\n",
        "print(\"BFS from A:\", g.bfs('A'))\n",
        "print(\"DFS from A:\", g.dfs('A'))\n"
      ],
      "metadata": {
        "colab": {
          "base_uri": "https://localhost:8080/"
        },
        "id": "Op_aDHtKyb0w",
        "outputId": "9b5e2ebc-cf34-44e1-ac08-02801da6d0d8"
      },
      "execution_count": 8,
      "outputs": [
        {
          "output_type": "stream",
          "name": "stdout",
          "text": [
            "A: [('C', 10), ('B', 5)]\n",
            "B: []\n",
            "BFS from A: ['A', 'C', 'B']\n",
            "DFS from A: ['A', 'C', 'B']\n"
          ]
        }
      ]
    },
    {
      "cell_type": "code",
      "source": [
        "import threading\n",
        "\n",
        "def test_graph():\n",
        "    g = Graph(directed=True)\n",
        "\n",
        "    # 1️⃣ Adding duplicate vertices\n",
        "    print(\"\\n🔹 Test: Adding duplicate vertices\")\n",
        "    g.add_vertex('A')\n",
        "    g.add_vertex('A')  # Should not create a duplicate\n",
        "    assert len(g.graph) == 1, \"Duplicate vertex was added!\"\n",
        "\n",
        "    # 2️⃣ Adding duplicate edges\n",
        "    print(\"\\n🔹 Test: Adding duplicate edges\")\n",
        "    g.add_edge('A', 'B')\n",
        "    g.add_edge('A', 'B')  # Should not add duplicate\n",
        "    assert len(g.graph['A']) == 1, \"Duplicate edge was added!\"\n",
        "\n",
        "    # 3️⃣ Adding self-loops\n",
        "    print(\"\\n🔹 Test: Adding self-loops\")\n",
        "    g.add_edge('A', 'A')  # Self-loop\n",
        "    assert ('A', None) in g.graph['A'], \"Self-loop not added correctly!\"\n",
        "\n",
        "    # 4️⃣ Removing non-existent edge\n",
        "    print(\"\\n🔹 Test: Removing non-existent edge\")\n",
        "    g.remove_edge('A', 'C')  # No such edge should exist\n",
        "    assert len(g.graph['A']) == 2, \"Non-existent edge removal failed!\"\n",
        "\n",
        "    # 5️⃣ Removing non-existent vertex\n",
        "    print(\"\\n🔹 Test: Removing non-existent vertex\")\n",
        "    g.remove_vertex('X')  # No such vertex\n",
        "    assert len(g.graph) == 1, \"Removing non-existent vertex caused issues!\"\n",
        "\n",
        "    # 6️⃣ Removing vertex with edges\n",
        "    print(\"\\n🔹 Test: Removing vertex with edges\")\n",
        "    g.add_edge('B', 'C')\n",
        "    g.remove_vertex('A')\n",
        "    assert 'A' not in g.graph, \"Vertex A was not removed!\"\n",
        "    assert 'A' not in g.graph['B'], \"Edges to A were not removed!\"\n",
        "\n",
        "    # 7️⃣ Graph traversal (BFS, DFS) on disconnected graph\n",
        "    print(\"\\n🔹 Test: Graph traversal on disconnected graph\")\n",
        "    g.add_vertex('X')\n",
        "    bfs_result = g.bfs('X')\n",
        "    dfs_result = g.dfs('X')\n",
        "    assert bfs_result == ['X'], \"BFS on disconnected graph failed!\"\n",
        "    assert dfs_result == ['X'], \"DFS on disconnected graph failed!\"\n",
        "\n",
        "    # 8️⃣ Graph traversal (BFS, DFS) on cyclic graph\n",
        "    print(\"\\n🔹 Test: Graph traversal on cyclic graph\")\n",
        "    g.add_edge('X', 'Y')\n",
        "    g.add_edge('Y', 'Z')\n",
        "    g.add_edge('Z', 'X')  # Cycle\n",
        "    assert len(g.bfs('X')) == 3, \"BFS on cyclic graph failed!\"\n",
        "    assert len(g.dfs('X')) == 3, \"DFS on cyclic graph failed!\"\n",
        "\n",
        "    # 9️⃣ Handling large graphs\n",
        "    print(\"\\n🔹 Test: Handling large graphs (100K nodes, 200K edges)\")\n",
        "    large_graph = Graph(directed=False)\n",
        "    for i in range(100000):\n",
        "        large_graph.add_vertex(i)\n",
        "    for i in range(100000):\n",
        "        large_graph.add_edge(i, (i+1) % 100000)  # Circular edges\n",
        "    assert len(large_graph.graph) == 100000, \"Large graph failed!\"\n",
        "    assert len(large_graph.graph[0]) == 2, \"Edge insertion failed for large graph!\"\n",
        "\n",
        "    # 🔟 Concurrency safety test\n",
        "    print(\"\\n🔹 Test: Concurrency safety\")\n",
        "    def add_edges():\n",
        "        for i in range(100):\n",
        "            g.add_edge(i, i + 1)\n",
        "\n",
        "    def remove_edges():\n",
        "        for i in range(100):\n",
        "            g.remove_edge(i, i + 1)\n",
        "\n",
        "    thread1 = threading.Thread(target=add_edges)\n",
        "    thread2 = threading.Thread(target=remove_edges)\n",
        "\n",
        "    thread1.start()\n",
        "    thread2.start()\n",
        "\n",
        "    thread1.join()\n",
        "    thread2.join()\n",
        "\n",
        "    print(\"\\n✅ All tests passed successfully!\")\n",
        "\n",
        "# Run the test suite\n",
        "test_graph()\n"
      ],
      "metadata": {
        "colab": {
          "base_uri": "https://localhost:8080/"
        },
        "id": "XeTPo9o7z7JI",
        "outputId": "f833482d-f6b9-49fa-f91d-7e4c6195b714"
      },
      "execution_count": 9,
      "outputs": [
        {
          "output_type": "stream",
          "name": "stdout",
          "text": [
            "\n",
            "🔹 Test: Adding duplicate vertices\n",
            "\n",
            "🔹 Test: Adding duplicate edges\n",
            "\n",
            "🔹 Test: Adding self-loops\n",
            "\n",
            "🔹 Test: Removing non-existent edge\n",
            "\n",
            "🔹 Test: Removing non-existent vertex\n",
            "\n",
            "🔹 Test: Removing vertex with edges\n",
            "\n",
            "🔹 Test: Graph traversal on disconnected graph\n",
            "\n",
            "🔹 Test: Graph traversal on cyclic graph\n",
            "\n",
            "🔹 Test: Handling large graphs (100K nodes, 200K edges)\n",
            "\n",
            "🔹 Test: Concurrency safety\n",
            "\n",
            "✅ All tests passed successfully!\n"
          ]
        }
      ]
    },
    {
      "cell_type": "code",
      "source": [],
      "metadata": {
        "id": "5uqgPn4u0MVb"
      },
      "execution_count": null,
      "outputs": []
    }
  ]
}