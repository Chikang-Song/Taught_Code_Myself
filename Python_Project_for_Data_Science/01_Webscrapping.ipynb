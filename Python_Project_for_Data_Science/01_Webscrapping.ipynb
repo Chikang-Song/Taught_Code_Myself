{
 "cells": [
  {
   "cell_type": "markdown",
   "id": "5175a30f",
   "metadata": {},
   "source": [
    "[목차 바로가기](#Lab)\n",
    "\n",
    "---\n",
    "\n",
    "### 🌐 **HTML의 기본 개념**\n",
    "1. **HTML의 정의**\n",
    "   - **HTML(Hypertext Markup Language)**은 웹 페이지를 구성하는 마크업 언어입니다.\n",
    "   - 예시: 부동산 가격, 프로그래밍 질문의 답 등 여러 유용한 데이터가 웹 페이지에 포함되어 있습니다.\n",
    "\n",
    "2. **HTML의 구조**\n",
    "   - **`<!DOCTYPE html>`**: HTML 문서임을 선언.\n",
    "   - **`<html>` 태그**: HTML 문서의 루트(root) 요소.\n",
    "   - **`<head>` 태그**: 메타 정보 포함.\n",
    "   - **`<body>` 태그**: 웹 페이지에 표시되는 데이터.\n",
    "\n",
    "---\n",
    "\n",
    "### 🏷️ **HTML 태그(HTML Tag)**\n",
    "1. **태그의 구성**\n",
    "   - **시작 태그(Start Tag)**: `<태그이름>`\n",
    "   - **종료 태그(End Tag)**: `</태그이름>`\n",
    "   - **속성(Attribute)**: 태그의 추가 정보를 제공. 예: `href=\"URL\"`\n",
    "     - 예시: `<a href=\"https://www.ibm.com\">IBM</a>` → \"IBM\" 클릭 시 해당 URL로 이동.\n",
    "\n",
    "2. **중요 태그**\n",
    "   - **`<h3>` 태그**: 헤딩(Heading) - 텍스트를 크게 볼드 처리.\n",
    "   - **`<p>` 태그**: 문단(Paragraph) - 본문 텍스트 포함.\n",
    "   - **`<table>` 태그**: 테이블 정의.\n",
    "     - `<tr>`: 테이블 행(row) 정의.\n",
    "     - `<td>`: 테이블 셀(cell) 정의.\n",
    "\n",
    "---\n",
    "\n",
    "### 🌲 **HTML 트리 구조**\n",
    "1. **트리(Tree) 개념**\n",
    "   - **루트(Root)**: `<html>` 태그.\n",
    "   - **자식(Children)**: `<head>` 및 `<body>` 태그는 `<html>` 태그의 자식.\n",
    "   - **형제(Siblings)**: `<head>`와 `<body>`는 동일 레벨에 있어 형제 관계.\n",
    "   - **자손(Descendants)**: `<title>`은 `<html>`의 자손이지만, 자식은 아님.\n",
    "\n",
    "2. **예시**\n",
    "   - `<html>` → `<head>` → `<title>`\n",
    "   - `<html>` → `<body>` → `<h3>` → `<b>`\n",
    "\n",
    "---\n",
    "\n",
    "### 🛠️ **웹 스크래핑(Web Scraping)**\n",
    "1. **데이터 확인 및 추출**\n",
    "   - 웹 브라우저의 **\"검사(Inspect)\" 기능**으로 HTML 요소를 확인.\n",
    "   - **Python** 라이브러리를 사용해 데이터 추출 가능.\n",
    "\n",
    "2. **데이터 구조**\n",
    "   - 데이터는 태그와 태그 속의 내용으로 구성됨.\n",
    "   - 예시: 선수 이름과 연봉 데이터를 `<h3>` 및 `<p>` 태그로 추출.\n",
    "\n",
    "---\n",
    "\n",
    "강의에서는 HTML의 기초와 이를 활용한 데이터 추출의 기본 원리를 명확히 설명하고 있으며, Python을 사용해 웹 데이터 분석의 기반을 제공하는 것이 목표입니다."
   ]
  },
  {
   "cell_type": "markdown",
   "id": "9e879c27",
   "metadata": {},
   "source": [
    "---\n",
    "\n",
    "### 🎯 **강의 목표**\n",
    "- BeautifulSoup 객체와 HTML 트리 구조를 이해.\n",
    "- `find_all` 메서드를 활용해 데이터 필터링.\n",
    "- Requests와 BeautifulSoup을 조합해 웹 페이지 데이터 추출.\n",
    "---\n",
    "\n",
    "### 🌐 **Web Scraping 개요**\n",
    "1. **Web Scraping 정의**\n",
    "   - 웹에서 데이터를 자동으로 추출하는 과정.\n",
    "   - 수작업으로 데이터를 복사/붙여넣는 대신 Python 코드를 사용하여 효율적으로 처리 가능.\n",
    "\n",
    "2. **활용 사례**\n",
    "   - 예: 스포츠 팀의 선수 데이터를 분석하기 위해 수백 개의 데이터를 모을 때, 웹 스크래핑을 통해 빠르게 필요한 데이터를 수집할 수 있음.\n",
    "\n",
    "---\n",
    "\n",
    "### 🛠️ **주요 도구 및 라이브러리**\n",
    "1. **필요한 Python 모듈**\n",
    "   - **Requests**: 웹 페이지를 다운로드.\n",
    "   - **BeautifulSoup**: HTML 데이터를 파싱(Parsing)하여 구조적으로 분석.\n",
    "\n",
    "2. **BeautifulSoup Object**\n",
    "   - HTML 문서를 BeautifulSoup 객체로 변환하여 트리(Tree) 구조로 표현.\n",
    "   - 예: `soup = BeautifulSoup(HTML, 'html.parser')`\n",
    "\n",
    "---\n",
    "\n",
    "### 🏷️ **BeautifulSoup의 주요 기능**\n",
    "1. **HTML 트리 구조 탐색**\n",
    "   - **Tag 객체**: HTML 태그에 해당. 예: `<title>`, `<h3>`.\n",
    "   - **속성(Attribute)**: 딕셔너리 형태로 태그의 속성 접근 가능. 예: `tag['href']`.\n",
    "   - **Navigable String**: 태그 내 텍스트를 문자열로 반환.\n",
    "   - **트리 탐색 방법**:\n",
    "     - 자식 노드(Child): `.contents` 또는 `.children` 속성.\n",
    "     - 부모 노드(Parent): `.parent` 속성.\n",
    "     - 형제 노드(Sibling): `.next_sibling` 또는 `.previous_sibling` 속성.\n",
    "\n",
    "2. **find_all() 메서드**\n",
    "   - 특정 태그 이름, 속성, 텍스트를 기준으로 필터링하여 모든 하위 요소를 찾음.\n",
    "   - 예: `soup.find_all('tr')` → `<tr>` 태그를 모두 검색.\n",
    "\n",
    "3. **테이블 데이터 처리**\n",
    "   - **테이블 행**: `<tr>` 태그.\n",
    "   - **테이블 셀**: `<td>` 태그.\n",
    "   - 각 행을 반복(iterate)하여 셀 데이터를 추출 가능:\n",
    "     ```python\n",
    "     rows = table.find_all('tr')\n",
    "     for row in rows:\n",
    "         cells = row.find_all('td')\n",
    "         for cell in cells:\n",
    "             print(cell.text)\n",
    "     ```\n",
    "\n",
    "---\n",
    "\n",
    "### 🌐 **웹 페이지 스크래핑 단계**\n",
    "1. **필요한 모듈 가져오기**\n",
    "   ```python\n",
    "   import requests\n",
    "   from bs4 import BeautifulSoup\n",
    "   ```\n",
    "\n",
    "2. **웹 페이지 다운로드**\n",
    "   - **Requests**의 `get()` 메서드 사용:\n",
    "     ```python\n",
    "     response = requests.get(URL)\n",
    "     page = response.text\n",
    "     ```\n",
    "\n",
    "3. **HTML 파싱**\n",
    "   - BeautifulSoup 객체 생성:\n",
    "     ```python\n",
    "     soup = BeautifulSoup(page, 'html.parser')\n",
    "     ```\n",
    "\n",
    "4. **데이터 추출**\n",
    "   - 필요한 태그 및 속성 검색:\n",
    "     ```python\n",
    "     data = soup.find_all('h3')\n",
    "     for item in data:\n",
    "         print(item.text)\n",
    "     ```\n",
    "\n",
    "\n"
   ]
  },
  {
   "cell_type": "markdown",
   "id": "f89616dc",
   "metadata": {},
   "source": [
    "\n",
    "\n",
    "<a id=Lab></a>\n",
    "# Web Scraping Lab\n",
    "\n",
    "### Objectives:\n",
    "\n",
    "<h2>Table of Contents</h2>\n",
    "<div class=\"alert alert-block alert-info\" style=\"margin-top: 20px\">\n",
    "    <ul>\n",
    "        <li>\n",
    "            <a href=#BSO>Beautiful Soup Object</a>\n",
    "            <ul>\n",
    "                <li>Tag</li>\n",
    "                <li><a href=#tree>Children, Parents, and Siblings</a></li>\n",
    "                <li><a href=#attrs>HTML Attributes 접근하기</a></li>\n",
    "                <li><a href=#nav>Navigation String</a></li>\n",
    "            </ul>\n",
    "        </li>\n",
    "     </ul>\n",
    "    <ul>\n",
    "        <li>\n",
    "            <a href=#Filter>Filter</a>\n",
    "            <ul>\n",
    "                <li><a href=#findAll>find All</a></li>\n",
    "                <li><a href=#find><code>name</code>사용 법</a> </li>\n",
    "                <li><a href=#Attributes>HTML Attributes</a></li>\n",
    "                <li><a href=#string>Navigable String</a></li>\n",
    "                <li><a href=#find>find</a>\n",
    "            </ul>\n",
    "        </li>\n",
    "     </ul>\n",
    "     <ul>\n",
    "        <li>\n",
    "            <a href=\"https://dscw/?utm_medium=Exinfluencer&utm_source=Exinfluencer&utm_content=000026UJ&utm_term=10006555&utm_id=NA-SkillsNetwork-Channel-SkillsNetworkCoursesIBMDeveloperSkillsNetworkPY0220ENSkillsNetwork23455606-2021-01-01\">Downloading And Scraping The Contents Of A Web</a>\n",
    "    </li>\n",
    "         </ul>\n",
    "    <p>\n",
    "        Estimated time needed: <strong>25 min</strong>\n",
    "    </p>\n",
    "\n",
    "</div>\n",
    "\n",
    "<hr>\n",
    "\n"
   ]
  },
  {
   "cell_type": "code",
   "execution_count": 1,
   "id": "ef77e175",
   "metadata": {},
   "outputs": [],
   "source": [
    "from bs4 import BeautifulSoup  # this module helps in web scrapping.\n",
    "import requests  # this module helps us to download a web page"
   ]
  },
  {
   "cell_type": "markdown",
   "id": "8c7165e2",
   "metadata": {},
   "source": [
    "<a id=BSO></a><h1>Beautiful Soup Objects</h1>\n",
    "Beautiful Soup은 Python에서 HTML 및 XML 파일로부터 데이터를 추출하기 위한 강력한 라이브러리입니다. 여기서는 HTML 파일을 중심으로 설명합니다. Beautiful Soup은 HTML을 객체 집합으로 표현하여 다양한 메서드를 통해 파싱하고 탐색할 수 있습니다. 🛠️\n",
    "\n",
    "아래는 제공된 HTML 코드와 BeautifulSoup을 사용한 데이터 처리 방법에 대한 자세한 설명입니다. 🎯\n",
    "\n",
    "📄 HTML 코드\n",
    "다음 HTML 코드는 선수 이름과 연봉 데이터를 포함하고 있습니다:"
   ]
  },
  {
   "cell_type": "code",
   "execution_count": 3,
   "id": "c08fd61f",
   "metadata": {},
   "outputs": [
    {
     "data": {
      "text/html": [
       "<!DOCTYPE html>\n",
       "<html>\n",
       "<head>\n",
       "<title>Page Title</title>\n",
       "</head>\n",
       "<body>\n",
       "<h3><b id='boldest'>Lebron James</b></h3>\n",
       "<p> Salary: $ 92,000,000 </p>\n",
       "<h3> Stephen Curry</h3>\n",
       "<p> Salary: $85,000, 000 </p>\n",
       "<h3> Kevin Durant </h3>\n",
       "<p> Salary: $73,200, 000</p>\n",
       "</body>\n",
       "</html>\n"
      ],
      "text/plain": [
       "<IPython.core.display.HTML object>"
      ]
     },
     "metadata": {},
     "output_type": "display_data"
    }
   ],
   "source": [
    "%%html\n",
    "<!DOCTYPE html>\n",
    "<html>\n",
    "<head>\n",
    "<title>Page Title</title>\n",
    "</head>\n",
    "<body>\n",
    "<h3><b id='boldest'>Lebron James</b></h3>\n",
    "<p> Salary: $ 92,000,000 </p>\n",
    "<h3> Stephen Curry</h3>\n",
    "<p> Salary: $85,000, 000 </p>\n",
    "<h3> Kevin Durant </h3>\n",
    "<p> Salary: $73,200, 000</p>\n",
    "</body>\n",
    "</html>"
   ]
  },
  {
   "cell_type": "markdown",
   "id": "436f605e",
   "metadata": {},
   "source": [
    "### 🛠️ BeautifulSoup 사용\n",
    "\n",
    "1. HTML 문자열 저장 HTML 내용을 Python 문자열로 저장:"
   ]
  },
  {
   "cell_type": "code",
   "execution_count": 13,
   "id": "23813296",
   "metadata": {},
   "outputs": [],
   "source": [
    "html = \"\"\"\n",
    "<!DOCTYPE html>\n",
    "<html>\n",
    "<head>\n",
    "    <title>Page Title</title>\n",
    "</head>\n",
    "<body>\n",
    "    <h3><b id='boldest'>Lebron James</b></h3>\n",
    "    <p> Salary: $ 92,000,000 </p>\n",
    "    <h3> Stephen Curry</h3>\n",
    "    <p> Salary: $85,000, 000 </p>\n",
    "    <h3><b class='high-class-elf'> Kevin Durant</b> </h3>\n",
    "    <p> Salary: $73,200, 000</p>\n",
    "</body>\n",
    "</html>\n",
    "\"\"\"\n"
   ]
  },
  {
   "cell_type": "markdown",
   "id": "afd8aaab",
   "metadata": {},
   "source": [
    "2. HTML 파싱 BeautifulSoup 객체를 생성:"
   ]
  },
  {
   "cell_type": "code",
   "execution_count": 14,
   "id": "8528e5f1",
   "metadata": {},
   "outputs": [],
   "source": [
    "from bs4 import BeautifulSoup\n",
    "soup = BeautifulSoup(html, \"html.parser\")"
   ]
  },
  {
   "cell_type": "markdown",
   "id": "c073f9c5",
   "metadata": {},
   "source": [
    "3. **HTML** 트리 구조 확인\n",
    "* `prettify()` 메서드를 사용해 트리구조로 HTML을 확인:"
   ]
  },
  {
   "cell_type": "code",
   "execution_count": 15,
   "id": "9cff1df8",
   "metadata": {},
   "outputs": [
    {
     "name": "stdout",
     "output_type": "stream",
     "text": [
      "<!DOCTYPE html>\n",
      "<html>\n",
      " <head>\n",
      "  <title>\n",
      "   Page Title\n",
      "  </title>\n",
      " </head>\n",
      " <body>\n",
      "  <h3>\n",
      "   <b id=\"boldest\">\n",
      "    Lebron James\n",
      "   </b>\n",
      "  </h3>\n",
      "  <p>\n",
      "   Salary: $ 92,000,000\n",
      "  </p>\n",
      "  <h3>\n",
      "   Stephen Curry\n",
      "  </h3>\n",
      "  <p>\n",
      "   Salary: $85,000, 000\n",
      "  </p>\n",
      "  <h3>\n",
      "   <b class=\"high-class-elf\">\n",
      "    Kevin Durant\n",
      "   </b>\n",
      "  </h3>\n",
      "  <p>\n",
      "   Salary: $73,200, 000\n",
      "  </p>\n",
      " </body>\n",
      "</html>\n",
      "\n"
     ]
    }
   ],
   "source": [
    "print(soup.prettify())"
   ]
  },
  {
   "cell_type": "markdown",
   "id": "f458f49e",
   "metadata": {},
   "source": [
    "🔍 데이터 탐색 및 추출\n",
    "\n",
    "1. 특정 태그 검색\n",
    "    * 선수 이름(Lebron James, Stephen Curry 등) 추출:"
   ]
  },
  {
   "cell_type": "code",
   "execution_count": 16,
   "id": "79da43eb",
   "metadata": {},
   "outputs": [
    {
     "name": "stdout",
     "output_type": "stream",
     "text": [
      "Lebron James\n",
      " Stephen Curry\n",
      " Kevin Durant \n"
     ]
    }
   ],
   "source": [
    "names = soup.find_all(\"h3\")\n",
    "for name in names:\n",
    "    print(name.text)"
   ]
  },
  {
   "cell_type": "markdown",
   "id": "f77b1515",
   "metadata": {},
   "source": [
    "2. 속성(Attribute)값 추출\n",
    "    * `id=\"boldest\"` 속성을 가진 태그 내용 추출\n",
    "   "
   ]
  },
  {
   "cell_type": "code",
   "execution_count": 17,
   "id": "afd26b7e",
   "metadata": {},
   "outputs": [
    {
     "name": "stdout",
     "output_type": "stream",
     "text": [
      "Lebron James\n"
     ]
    }
   ],
   "source": [
    "bolest = soup.find(\"b\", {\"id\":\"boldest\"})\n",
    "print(bolest.text)"
   ]
  },
  {
   "cell_type": "code",
   "execution_count": 21,
   "id": "3f64b890",
   "metadata": {},
   "outputs": [
    {
     "name": "stdout",
     "output_type": "stream",
     "text": [
      " Kevin Durant\n"
     ]
    }
   ],
   "source": [
    "high = soup.find(\"b\", class_=lambda x: x and x.startswith('high'))\n",
    "print(high.text)"
   ]
  },
  {
   "cell_type": "markdown",
   "id": "80c420e9",
   "metadata": {},
   "source": [
    "3. 연봉(Salary) 데이터 추출\n",
    "    * `<p>` 태그에서 연봉 값 추출:"
   ]
  },
  {
   "cell_type": "code",
   "execution_count": 12,
   "id": "79a34f65",
   "metadata": {},
   "outputs": [
    {
     "name": "stdout",
     "output_type": "stream",
     "text": [
      "Salary: $ 92,000,000\n",
      "Salary: $85,000, 000\n",
      "Salary: $73,200, 000\n"
     ]
    }
   ],
   "source": [
    "salaries = soup.find_all('p')\n",
    "for salary in salaries:\n",
    "    print(salary.text.strip())"
   ]
  },
  {
   "cell_type": "markdown",
   "id": "e21e8cc8",
   "metadata": {},
   "source": [
    "🎯 결론\n",
    "BeautifulSoup을 활용해 HTML 데이터를 파싱하고, 트리 구조를 탐색하며, 필요한 데이터를 손쉽게 추출할 수 있습니다. "
   ]
  },
  {
   "cell_type": "markdown",
   "id": "1c8df796",
   "metadata": {},
   "source": [
    "\n",
    "### 📄 **Tag 객체의 사용**\n",
    "1. **Tag 객체 추출**\n",
    "   - **`<title>` 태그**에서 페이지 제목 추출:\n"
   ]
  },
  {
   "cell_type": "code",
   "execution_count": 23,
   "id": "f250cc92",
   "metadata": {},
   "outputs": [
    {
     "name": "stdout",
     "output_type": "stream",
     "text": [
      "Tag object: <title>Page Title</title>\n",
      "Tag object type: <class 'bs4.element.Tag'>\n"
     ]
    }
   ],
   "source": [
    "tag_object = soup.title\n",
    "print(\"Tag object:\", tag_object)\n",
    "print(\"Tag object type:\", type(tag_object))"
   ]
  },
  {
   "cell_type": "markdown",
   "id": "b296189a",
   "metadata": {},
   "source": [
    "1. **Tag 이름 확인 및 값 추출**\n",
    "   - Tag의 이름과 텍스트 값을 추출:"
   ]
  },
  {
   "cell_type": "code",
   "execution_count": 25,
   "id": "bedbc837",
   "metadata": {},
   "outputs": [
    {
     "name": "stdout",
     "output_type": "stream",
     "text": [
      "Tag name: title\n",
      "Tag text: Page Title\n"
     ]
    }
   ],
   "source": [
    "print(\"Tag name:\", tag_object.name)\n",
    "print(\"Tag text:\", tag_object.text)"
   ]
  },
  {
   "cell_type": "markdown",
   "id": "c04b27da",
   "metadata": {},
   "source": [
    "### 🏷️ 최고 연봉 선수의 이름 추출\n",
    "1. **첫 번째 `<h3>` 태그 추출**\n",
    "   - **`<h3>` 태그**에서 첫 번째 요소 추출:\n",
    "     ```python"
   ]
  },
  {
   "cell_type": "code",
   "execution_count": 38,
   "id": "53d883ee",
   "metadata": {},
   "outputs": [
    {
     "name": "stdout",
     "output_type": "stream",
     "text": [
      "Tag object: <h3><b id=\"boldest\">Lebron James</b></h3>\n"
     ]
    }
   ],
   "source": [
    "tag_object = soup.h3\n",
    "print('Tag object:', tag_object)"
   ]
  },
  {
   "cell_type": "markdown",
   "id": "1615b43a",
   "metadata": {},
   "source": [
    "2. **트리 탐색으로 선수 이름 추출**\n",
    "   - **`<b>` 태그**를 통해 이름 가져오기:"
   ]
  },
  {
   "cell_type": "code",
   "execution_count": 39,
   "id": "57d52f9a",
   "metadata": {},
   "outputs": [
    {
     "name": "stdout",
     "output_type": "stream",
     "text": [
      "Player name: Lebron James\n"
     ]
    }
   ],
   "source": [
    "print(\"Player name:\", tag_object.b.text)"
   ]
  },
  {
   "cell_type": "markdown",
   "id": "c743d2ba",
   "metadata": {},
   "source": [
    "3. **속성 값 확인**\n",
    "   - `id=\"boldest\"` 속성 값 접근:"
   ]
  },
  {
   "cell_type": "code",
   "execution_count": 46,
   "id": "f1e26da0",
   "metadata": {},
   "outputs": [
    {
     "name": "stdout",
     "output_type": "stream",
     "text": [
      "<class 'str'>\n"
     ]
    }
   ],
   "source": [
    "print(tag_object.b['id'])"
   ]
  },
  {
   "cell_type": "markdown",
   "id": "ea7652d7",
   "metadata": {},
   "source": [
    "[Tip]. **세 번째 `<h3>` 태그 추출**"
   ]
  },
  {
   "cell_type": "code",
   "execution_count": 42,
   "id": "46f54eff",
   "metadata": {},
   "outputs": [
    {
     "name": "stdout",
     "output_type": "stream",
     "text": [
      "Tag object: <h3><b class=\"high-class-elf\"> Kevin Durant</b> </h3>\n"
     ]
    }
   ],
   "source": [
    "tag_obj = soup.find_all('h3')[2]\n",
    "print(\"Tag object:\", tag_obj)"
   ]
  },
  {
   "cell_type": "code",
   "execution_count": 45,
   "id": "003f0bc3",
   "metadata": {},
   "outputs": [
    {
     "name": "stdout",
     "output_type": "stream",
     "text": [
      "Player name:  Kevin Durant \n",
      "['high-class-elf']\n"
     ]
    }
   ],
   "source": [
    "print(\"Player name:\", tag_obj.text)\n",
    "print(tag_obj.b['class'])"
   ]
  },
  {
   "cell_type": "markdown",
   "id": "449b372b",
   "metadata": {},
   "source": [
    "<div class='alert alert-block alert-success'>\n",
    "    [Tip] 📖 왜 class는 리스트로 반환되는가?\n",
    "    <li>class 속성은 한 요소에 여러 클래스 값을 할당할 수 있으므로, 공백으로 구분된 값을 리스트로 반환하여 다룰 수 있게 설계되었습니다.</li>\n",
    "    <li> 반면, id 속성은 단일 고유값만 가지므로 문자열로 반환됩니다.</li>\n",
    "</div>"
   ]
  },
  {
   "cell_type": "markdown",
   "id": "535cba39",
   "metadata": {},
   "source": [
    "<a id=tree></a>\n",
    "\n",
    "### Children, Parents, and Siblings\n",
    "\n",
    "##### 🌟 Tag 객체의 트리 구조 탐색\n",
    "HTML 문서는 트리 구조로 되어 있어, BeautifulSoup을 통해 자식(Children), 부모(Parent), 형제(Sibling) 요소를 쉽게 탐색할 수 있습니다."
   ]
  },
  {
   "cell_type": "code",
   "execution_count": 47,
   "id": "e14e4f89",
   "metadata": {},
   "outputs": [
    {
     "data": {
      "text/plain": [
       "\n",
       "<!DOCTYPE html>\n",
       "\n",
       "<html>\n",
       "<head>\n",
       "<title>Page Title</title>\n",
       "</head>\n",
       "<body>\n",
       "<h3><b id=\"boldest\">Lebron James</b></h3>\n",
       "<p> Salary: $ 92,000,000 </p>\n",
       "<h3> Stephen Curry</h3>\n",
       "<p> Salary: $85,000, 000 </p>\n",
       "<h3><b class=\"high-class-elf\"> Kevin Durant</b> </h3>\n",
       "<p> Salary: $73,200, 000</p>\n",
       "</body>\n",
       "</html>"
      ]
     },
     "execution_count": 47,
     "metadata": {},
     "output_type": "execute_result"
    }
   ],
   "source": [
    "soup"
   ]
  },
  {
   "cell_type": "code",
   "execution_count": 50,
   "id": "c9477130",
   "metadata": {},
   "outputs": [
    {
     "data": {
      "text/plain": [
       "<h3><b id=\"boldest\">Lebron James</b></h3>"
      ]
     },
     "execution_count": 50,
     "metadata": {},
     "output_type": "execute_result"
    }
   ],
   "source": [
    "tag_object"
   ]
  },
  {
   "cell_type": "markdown",
   "id": "20a52c21",
   "metadata": {},
   "source": [
    "1. **Child: 태그의 자식 요소**"
   ]
  },
  {
   "cell_type": "code",
   "execution_count": 51,
   "id": "6e884b5f",
   "metadata": {},
   "outputs": [
    {
     "data": {
      "text/plain": [
       "<b id=\"boldest\">Lebron James</b>"
      ]
     },
     "execution_count": 51,
     "metadata": {},
     "output_type": "execute_result"
    }
   ],
   "source": [
    "tag_child = tag_object.b\n",
    "tag_child"
   ]
  },
  {
   "cell_type": "markdown",
   "id": "7418ee08",
   "metadata": {},
   "source": [
    "```\n",
    "tag_object는 <h3> 태그이고, <b> 태그는 이 <h3> 태그의 자식입니다. 따라서 tag_child는 <b id='boldest'>Lebron James</b>를 반환합니다.\n",
    "```"
   ]
  },
  {
   "cell_type": "markdown",
   "id": "da7e0943",
   "metadata": {},
   "source": [
    "**2. Parent: 태그의 부모 요소**"
   ]
  },
  {
   "cell_type": "code",
   "execution_count": 52,
   "id": "0c2efaeb",
   "metadata": {},
   "outputs": [
    {
     "name": "stdout",
     "output_type": "stream",
     "text": [
      "<h3><b id=\"boldest\">Lebron James</b></h3>\n"
     ]
    }
   ],
   "source": [
    "parent_tag = tag_child.parent\n",
    "print(parent_tag)"
   ]
  },
  {
   "cell_type": "markdown",
   "id": "97174832",
   "metadata": {},
   "source": [
    "```\n",
    "tag_child는 <b> 태그이므로, 이 태그의 부모는 <h3> 태그입니다. parent_tag는 tag_object와 동일한 값을 가집니다.\n",
    "```"
   ]
  },
  {
   "cell_type": "markdown",
   "id": "fb0f2e2f",
   "metadata": {},
   "source": [
    "**3. Sibling: 태그와 같은 레벨에 있는 요소**"
   ]
  },
  {
   "cell_type": "code",
   "execution_count": 62,
   "id": "86ff962a",
   "metadata": {},
   "outputs": [
    {
     "data": {
      "text/plain": [
       "<b id=\"boldest\">Lebron James</b>"
      ]
     },
     "execution_count": 62,
     "metadata": {},
     "output_type": "execute_result"
    }
   ],
   "source": [
    "tag_object.b\n"
   ]
  },
  {
   "cell_type": "code",
   "execution_count": 63,
   "id": "c2f0b30e",
   "metadata": {},
   "outputs": [
    {
     "data": {
      "text/plain": [
       "<h3><b id=\"boldest\">Lebron James</b></h3>"
      ]
     },
     "execution_count": 63,
     "metadata": {},
     "output_type": "execute_result"
    }
   ],
   "source": [
    "tag_object.b.parent"
   ]
  },
  {
   "cell_type": "code",
   "execution_count": 64,
   "id": "b058c8b7",
   "metadata": {},
   "outputs": [
    {
     "data": {
      "text/plain": [
       "'\\n'"
      ]
     },
     "execution_count": 64,
     "metadata": {},
     "output_type": "execute_result"
    }
   ],
   "source": [
    "tag_object.b.parent.next_sibling"
   ]
  },
  {
   "cell_type": "markdown",
   "id": "49f5b396",
   "metadata": {},
   "source": [
    "<div class='alert alert-block alert-warning'>\n",
    "    [Tip] 위와 같이 `next_sibling`을 했을때 <b>공백문자 (\\n)</b>이 나온다면<br>\n",
    "    <b><code>.find_next_sibling()</code></b> 메서드로 공백을 자동으로 건너 뛰거나,<br>\n",
    "    <code>next_sibling</code>를 반복사용하여 공백을 건너뛰어야 합니다.\n",
    "</div>"
   ]
  },
  {
   "cell_type": "code",
   "execution_count": 79,
   "id": "c2f225a9",
   "metadata": {},
   "outputs": [
    {
     "data": {
      "text/plain": [
       "<p> Salary: $ 92,000,000 </p>"
      ]
     },
     "execution_count": 79,
     "metadata": {},
     "output_type": "execute_result"
    }
   ],
   "source": [
    "tag_object.find_next_sibling()"
   ]
  },
  {
   "cell_type": "markdown",
   "id": "ec9170d7",
   "metadata": {},
   "source": [
    "### **연습문제: next_sibling** \n",
    "next_sibling 속성을 사용하여 sibling_2 객체를 통해 Stephen Curry의 연봉을 찾으세요."
   ]
  },
  {
   "cell_type": "code",
   "execution_count": 84,
   "id": "df66f690",
   "metadata": {},
   "outputs": [
    {
     "data": {
      "text/plain": [
       "<p> Salary: $85,000, 000 </p>"
      ]
     },
     "execution_count": 84,
     "metadata": {},
     "output_type": "execute_result"
    }
   ],
   "source": [
    "tag_object.find_next_sibling().find_next_sibling().find_next_sibling()"
   ]
  },
  {
   "cell_type": "markdown",
   "id": "758a2edf",
   "metadata": {},
   "source": [
    "혹은"
   ]
  },
  {
   "cell_type": "code",
   "execution_count": 88,
   "id": "5fa04756",
   "metadata": {},
   "outputs": [
    {
     "data": {
      "text/plain": [
       "<p> Salary: $85,000, 000 </p>"
      ]
     },
     "execution_count": 88,
     "metadata": {},
     "output_type": "execute_result"
    }
   ],
   "source": [
    "soup.find('h3', text=' Stephen Curry').find_next_sibling()"
   ]
  },
  {
   "cell_type": "markdown",
   "id": "8f04b7fa",
   "metadata": {},
   "source": [
    "<a id=attrs></a>\n",
    "### HTML Attributes\n",
    "\n",
    "🌟 HTML Attributes 개념\n",
    "HTML 태그에는 여러 **속성(attributes)**이 포함될 수 있으며, BeautifulSoup을 사용하면 태그의 속성값에 쉽게 접근할 수 있습니다. 예를 들어 <b id=\"boldest\">라는 태그에서:\n",
    "\n",
    "* 속성: id\n",
    "* 속성 값: boldest"
   ]
  },
  {
   "cell_type": "markdown",
   "id": "775a91bd",
   "metadata": {},
   "source": [
    "##### 사전처럼 접근"
   ]
  },
  {
   "cell_type": "code",
   "execution_count": 89,
   "id": "892aaff8",
   "metadata": {},
   "outputs": [
    {
     "data": {
      "text/plain": [
       "'boldest'"
      ]
     },
     "execution_count": 89,
     "metadata": {},
     "output_type": "execute_result"
    }
   ],
   "source": [
    "tag_child['id']"
   ]
  },
  {
   "cell_type": "markdown",
   "id": "c0090ab4",
   "metadata": {},
   "source": [
    "##### `attrs` 속성 이용"
   ]
  },
  {
   "cell_type": "code",
   "execution_count": 90,
   "id": "890cf993",
   "metadata": {},
   "outputs": [
    {
     "data": {
      "text/plain": [
       "{'id': 'boldest'}"
      ]
     },
     "execution_count": 90,
     "metadata": {},
     "output_type": "execute_result"
    }
   ],
   "source": [
    "tag_child.attrs"
   ]
  },
  {
   "cell_type": "markdown",
   "id": "e61ae640",
   "metadata": {},
   "source": [
    "##### `get()` 메서드 이용"
   ]
  },
  {
   "cell_type": "code",
   "execution_count": 92,
   "id": "b15c4b02",
   "metadata": {},
   "outputs": [
    {
     "data": {
      "text/plain": [
       "'boldest'"
      ]
     },
     "execution_count": 92,
     "metadata": {},
     "output_type": "execute_result"
    }
   ],
   "source": [
    "tag_child.get('id')"
   ]
  },
  {
   "cell_type": "markdown",
   "id": "85a44a8d",
   "metadata": {},
   "source": [
    "다중 값 속성 HTML에서는 class와 같은 속성이 여러 값을 가질 수 있습니다. BeautifulSoup은 이를 리스트로 반환합니다."
   ]
  },
  {
   "cell_type": "code",
   "execution_count": 110,
   "id": "f8fa1543",
   "metadata": {},
   "outputs": [
    {
     "data": {
      "text/plain": [
       "['high-class-elf']"
      ]
     },
     "execution_count": 110,
     "metadata": {},
     "output_type": "execute_result"
    }
   ],
   "source": [
    "tag = soup.find_all('h3')[-1]\n",
    "tag.b['class']"
   ]
  },
  {
   "cell_type": "markdown",
   "id": "b0ef2afd",
   "metadata": {},
   "source": [
    "<a id=nav></a>\n",
    "**NavigableString**은 태그 내부의 텍스트 또는 콘텐츠를 표현하는 BeautifulSoup의 클래스입니다. 아래는 이 개념과 관련된 주요 내용 및 코드 동작 방식입니다.\n",
    "\n",
    "---\n",
    "\n",
    "### 🌟 **NavigableString의 주요 특징**\n",
    "1. **텍스트 접근**\n",
    "   - `string` 속성을 사용하여 태그 내부의 직접적인 텍스트를 가져옵니다.\n",
    "   - 예: `<b id=\"boldest\">Lebron James</b>`에서 `string`은 `\"Lebron James\"`를 반환합니다.\n",
    "\n",
    "2. **`.text`와의 차이**\n",
    "   - `.string`: 태그의 직접적인 텍스트만 반환.\n",
    "   - `.text`: 모든 하위 요소를 포함한 텍스트를 반환.\n",
    "\n",
    "---\n",
    "\n"
   ]
  },
  {
   "cell_type": "code",
   "execution_count": 111,
   "id": "c9533d5d",
   "metadata": {},
   "outputs": [],
   "source": [
    "html = \"\"\"\n",
    "<!DOCTYPE html>\n",
    "<html>\n",
    "<head>\n",
    "    <title>Page Title</title>\n",
    "</head>\n",
    "<body>\n",
    "    <h3><b id='boldest'>Lebron James</b></h3>\n",
    "    <p> Salary: $ 92,000,000 </p>\n",
    "    <h3> Stephen Curry</h3>\n",
    "    <p> Salary: $85,000, 000 </p>\n",
    "    <h3><b class=\"high-class-elf\"> Kevin Durant</b> </h3>\n",
    "    <p> Salary: $73,200, 000</p>\n",
    "</body>\n",
    "</html>\n",
    "\"\"\""
   ]
  },
  {
   "cell_type": "code",
   "execution_count": 112,
   "id": "d1e683db",
   "metadata": {},
   "outputs": [],
   "source": [
    "soup = BeautifulSoup(html, \"html.parser\")"
   ]
  },
  {
   "cell_type": "code",
   "execution_count": 113,
   "id": "3ad9d885",
   "metadata": {},
   "outputs": [],
   "source": [
    "# Extracting a NavigalbeString\n",
    "tag_child = soup.b"
   ]
  },
  {
   "cell_type": "code",
   "execution_count": 114,
   "id": "324ca0ce",
   "metadata": {},
   "outputs": [
    {
     "data": {
      "text/plain": [
       "<b id=\"boldest\">Lebron James</b>"
      ]
     },
     "execution_count": 114,
     "metadata": {},
     "output_type": "execute_result"
    }
   ],
   "source": [
    "tag_child"
   ]
  },
  {
   "cell_type": "code",
   "execution_count": 115,
   "id": "eeeaee17",
   "metadata": {},
   "outputs": [
    {
     "data": {
      "text/plain": [
       "'Lebron James'"
      ]
     },
     "execution_count": 115,
     "metadata": {},
     "output_type": "execute_result"
    }
   ],
   "source": [
    "tag_child.string"
   ]
  },
  {
   "cell_type": "code",
   "execution_count": 117,
   "id": "4389de9b",
   "metadata": {},
   "outputs": [
    {
     "data": {
      "text/plain": [
       "bs4.element.NavigableString"
      ]
     },
     "execution_count": 117,
     "metadata": {},
     "output_type": "execute_result"
    }
   ],
   "source": [
    "type(tag_child.string)"
   ]
  },
  {
   "cell_type": "code",
   "execution_count": 116,
   "id": "2fd59339",
   "metadata": {},
   "outputs": [
    {
     "data": {
      "text/plain": [
       "'Lebron James'"
      ]
     },
     "execution_count": 116,
     "metadata": {},
     "output_type": "execute_result"
    }
   ],
   "source": [
    "tag_child.text"
   ]
  },
  {
   "cell_type": "code",
   "execution_count": 118,
   "id": "2229121e",
   "metadata": {},
   "outputs": [
    {
     "data": {
      "text/plain": [
       "str"
      ]
     },
     "execution_count": 118,
     "metadata": {},
     "output_type": "execute_result"
    }
   ],
   "source": [
    "type(tag_child.text)"
   ]
  },
  {
   "cell_type": "markdown",
   "id": "142b5daf",
   "metadata": {},
   "source": [
    "\n",
    "\n",
    "---\n",
    "\n",
    "**NavigableString**은 정확히 말하면 Python 문자열 또는 Unicode 문자열과 같습니다.  \n",
    "주된 차이점은 <code>BeautifulSoup</code>의 몇 가지 기능을 추가적으로 지원한다는 점입니다.  \n",
    "이 문자열을 Python의 일반 문자열 객체로 변환할 수도 있습니다:\n",
    "\n",
    "---\n"
   ]
  },
  {
   "cell_type": "code",
   "execution_count": 119,
   "id": "adb75853",
   "metadata": {},
   "outputs": [
    {
     "data": {
      "text/plain": [
       "'Lebron James'"
      ]
     },
     "execution_count": 119,
     "metadata": {},
     "output_type": "execute_result"
    }
   ],
   "source": [
    "unicode_string = str(tag_child.string)\n",
    "unicode_string"
   ]
  },
  {
   "cell_type": "code",
   "execution_count": 120,
   "id": "6326695f",
   "metadata": {},
   "outputs": [
    {
     "data": {
      "text/plain": [
       "str"
      ]
     },
     "execution_count": 120,
     "metadata": {},
     "output_type": "execute_result"
    }
   ],
   "source": [
    "type(unicode_string)"
   ]
  },
  {
   "cell_type": "markdown",
   "id": "283fda1b",
   "metadata": {},
   "source": [
    "<a id=Filter></a>\n",
    "<h1>Filter</h1>\n",
    "\n",
    "<p>\n",
    "\n",
    "필터를 사용하면 복잡한 패턴을 찾을 수 있으며, 가장 간단한 필터는 문자열입니다.  \n",
    "이 섹션에서는 문자열을 다양한 필터 메서드에 전달하면 Beautiful Soup이 해당 문자열과 정확히 일치하는 항목을 검색하는 과정을 살펴보겠습니다.  \n",
    "다음은 로켓 발사와 관련된 HTML 예제입니다:🚀\n",
    "</p>"
   ]
  },
  {
   "cell_type": "markdown",
   "id": "29e56652",
   "metadata": {},
   "source": [
    "%%html\n",
    "<table>\n",
    "  <tr>\n",
    "    <td id='flight' >Flight No</td>\n",
    "    <td>Launch site</td> \n",
    "    <td>Payload mass</td>\n",
    "   </tr>\n",
    "  <tr> \n",
    "    <td>1</td>\n",
    "    <td><a href='https://en.wikipedia.org/wiki/Florida'>Florida</a></td>\n",
    "    <td>300 kg</td>\n",
    "  </tr>\n",
    "  <tr>\n",
    "    <td>2</td>\n",
    "    <td><a href='https://en.wikipedia.org/wiki/Texas'>Texas</a></td>\n",
    "    <td>94 kg</td>\n",
    "  </tr>\n",
    "  <tr>\n",
    "    <td>3</td>\n",
    "    <td><a href='https://en.wikipedia.org/wiki/Florida'>Florida</a> </td>\n",
    "    <td>80 kg</td>\n",
    "  </tr>\n",
    "</table>"
   ]
  },
  {
   "cell_type": "code",
   "execution_count": 133,
   "id": "5a456258",
   "metadata": {},
   "outputs": [],
   "source": [
    "table = \"\"\"\n",
    "table=\"<table><tr><td id='flight' >Flight No</td><td>Launch site</td><td>Payload mass</td></tr><tr><td>1</td><td><a href='https://en.wikipedia.org/wiki/Florida'>Florida</a></td><td>300 kg</td></tr><tr><td>2</td><td><a href='https://en.wikipedia.org/wiki/Texas'>Texas</a></td><td>94 kg</td></tr><tr><td>3</td><td><a href='https://en.wikipedia.org/wiki/Florida'>Florida</a> </td><td>80 kg</td></tr></table>\"\n",
    "</table>\n",
    "\n",
    "\"\"\""
   ]
  },
  {
   "cell_type": "code",
   "execution_count": 134,
   "id": "62e76968",
   "metadata": {},
   "outputs": [],
   "source": [
    "table_bs = BeautifulSoup(table, 'html.parser')"
   ]
  },
  {
   "cell_type": "markdown",
   "id": "51e80d30",
   "metadata": {},
   "source": [
    "<a id=findAll></a>\n",
    "<h3>find All</h3>\n",
    "\n",
    "\n",
    "<code>find_all()</code> 메서드는 태그의 자손을 탐색하여 필터 조건에 일치하는 모든 자손을 검색합니다.\n",
    "\n",
    "<p>\n",
    "<code>find_all(name, attrs, recursive, string, limit, **kwargs)</code> 메서드의 시그니처는 다음과 같습니다.\n",
    "</p>\n",
    "\n"
   ]
  },
  {
   "cell_type": "markdown",
   "id": "eabfb0c2",
   "metadata": {},
   "source": [
    "<h3>Name</h3>\n",
    "<code>name</code> 매개변수를 태그 이름으로 설정하면, 메서드는 해당 이름을 가진 모든 태그와 그 자식 태그를 추출합니다."
   ]
  },
  {
   "cell_type": "code",
   "execution_count": 135,
   "id": "c8f6a7d2",
   "metadata": {},
   "outputs": [
    {
     "data": {
      "text/plain": [
       "[<tr><td id=\"flight\">Flight No</td><td>Launch site</td><td>Payload mass</td></tr>,\n",
       " <tr><td>1</td><td><a href=\"https://en.wikipedia.org/wiki/Florida\">Florida</a></td><td>300 kg</td></tr>,\n",
       " <tr><td>2</td><td><a href=\"https://en.wikipedia.org/wiki/Texas\">Texas</a></td><td>94 kg</td></tr>,\n",
       " <tr><td>3</td><td><a href=\"https://en.wikipedia.org/wiki/Florida\">Florida</a> </td><td>80 kg</td></tr>]"
      ]
     },
     "execution_count": 135,
     "metadata": {},
     "output_type": "execute_result"
    }
   ],
   "source": [
    "table_rows = table_bs.find_all('tr')\n",
    "table_rows"
   ]
  },
  {
   "cell_type": "code",
   "execution_count": 136,
   "id": "07e3be9a",
   "metadata": {},
   "outputs": [
    {
     "data": {
      "text/plain": [
       "<tr><td id=\"flight\">Flight No</td><td>Launch site</td><td>Payload mass</td></tr>"
      ]
     },
     "execution_count": 136,
     "metadata": {},
     "output_type": "execute_result"
    }
   ],
   "source": [
    "first_row = table_rows[0]\n",
    "first_row"
   ]
  },
  {
   "cell_type": "code",
   "execution_count": 137,
   "id": "22be31bd",
   "metadata": {},
   "outputs": [
    {
     "name": "stdout",
     "output_type": "stream",
     "text": [
      "<class 'bs4.element.Tag'>\n"
     ]
    }
   ],
   "source": [
    "print(type(first_row))"
   ]
  },
  {
   "cell_type": "markdown",
   "id": "c0ff5a72",
   "metadata": {},
   "source": [
    "child 객체 얻기"
   ]
  },
  {
   "cell_type": "code",
   "execution_count": 138,
   "id": "172424ae",
   "metadata": {},
   "outputs": [
    {
     "data": {
      "text/plain": [
       "<td id=\"flight\">Flight No</td>"
      ]
     },
     "execution_count": 138,
     "metadata": {},
     "output_type": "execute_result"
    }
   ],
   "source": [
    "first_row.td"
   ]
  },
  {
   "cell_type": "markdown",
   "id": "983d57db",
   "metadata": {},
   "source": [
    "리스트를 반복(iterate)할 경우, 각 요소는 테이블의 한 행에 해당합니다."
   ]
  },
  {
   "cell_type": "code",
   "execution_count": 139,
   "id": "cfbbe755",
   "metadata": {},
   "outputs": [
    {
     "name": "stdout",
     "output_type": "stream",
     "text": [
      "row 0 is <tr><td id=\"flight\">Flight No</td><td>Launch site</td><td>Payload mass</td></tr>\n",
      "row 1 is <tr><td>1</td><td><a href=\"https://en.wikipedia.org/wiki/Florida\">Florida</a></td><td>300 kg</td></tr>\n",
      "row 2 is <tr><td>2</td><td><a href=\"https://en.wikipedia.org/wiki/Texas\">Texas</a></td><td>94 kg</td></tr>\n",
      "row 3 is <tr><td>3</td><td><a href=\"https://en.wikipedia.org/wiki/Florida\">Florida</a> </td><td>80 kg</td></tr>\n"
     ]
    }
   ],
   "source": [
    "for i, row in enumerate(table_rows):\n",
    "    print(\"row\", i, \"is\", row)"
   ]
  },
  {
   "cell_type": "markdown",
   "id": "391b3db6",
   "metadata": {},
   "source": [
    "---\n",
    "\n",
    "<code>row</code>가 <code>cell</code> 객체이기 때문에, 해당 객체에 <code>find_all</code> 메서드를 적용하여 태그 <code>td</code>를 사용해 객체 <code>cells</code>에서 테이블 셀을 추출할 수 있습니다.  \n",
    "이 태그는 이름이 <code>td</code>인 모든 자식을 포함합니다.  \n",
    "결과는 리스트로 반환되며, 각 요소는 셀에 해당하고 <code>Tag</code> 객체입니다.  \n",
    "이 리스트도 반복(iterate)할 수 있습니다.  \n",
    "<code>string</code> 속성을 사용하여 콘텐츠를 추출할 수 있습니다.\n",
    "\n",
    "---"
   ]
  },
  {
   "cell_type": "code",
   "execution_count": 141,
   "id": "dcfc6f66",
   "metadata": {},
   "outputs": [
    {
     "name": "stdout",
     "output_type": "stream",
     "text": [
      "row 0\n",
      "column 0 cell <td id=\"flight\">Flight No</td>\n",
      "column 1 cell <td>Launch site</td>\n",
      "column 2 cell <td>Payload mass</td>\n",
      "row 1\n",
      "column 0 cell <td>1</td>\n",
      "column 1 cell <td><a href=\"https://en.wikipedia.org/wiki/Florida\">Florida</a></td>\n",
      "column 2 cell <td>300 kg</td>\n",
      "row 2\n",
      "column 0 cell <td>2</td>\n",
      "column 1 cell <td><a href=\"https://en.wikipedia.org/wiki/Texas\">Texas</a></td>\n",
      "column 2 cell <td>94 kg</td>\n",
      "row 3\n",
      "column 0 cell <td>3</td>\n",
      "column 1 cell <td><a href=\"https://en.wikipedia.org/wiki/Florida\">Florida</a> </td>\n",
      "column 2 cell <td>80 kg</td>\n"
     ]
    }
   ],
   "source": [
    "for i, row in enumerate(table_rows):\n",
    "    print(\"row\", i)\n",
    "    cells = row.find_all('td')\n",
    "    for j, cell in enumerate(cells):\n",
    "        print('column', j, \"cell\", cell)"
   ]
  },
  {
   "cell_type": "markdown",
   "id": "3b8a682b",
   "metadata": {},
   "source": [
    "<a id=find></a>\n",
    "리스트를 사용하면 해당 리스트의 어떤 항목과도 일치시킬 수 있습니다."
   ]
  },
  {
   "cell_type": "code",
   "execution_count": 142,
   "id": "fc5828ea",
   "metadata": {},
   "outputs": [
    {
     "data": {
      "text/plain": [
       "[<tr><td id=\"flight\">Flight No</td><td>Launch site</td><td>Payload mass</td></tr>,\n",
       " <td id=\"flight\">Flight No</td>,\n",
       " <td>Launch site</td>,\n",
       " <td>Payload mass</td>,\n",
       " <tr><td>1</td><td><a href=\"https://en.wikipedia.org/wiki/Florida\">Florida</a></td><td>300 kg</td></tr>,\n",
       " <td>1</td>,\n",
       " <td><a href=\"https://en.wikipedia.org/wiki/Florida\">Florida</a></td>,\n",
       " <td>300 kg</td>,\n",
       " <tr><td>2</td><td><a href=\"https://en.wikipedia.org/wiki/Texas\">Texas</a></td><td>94 kg</td></tr>,\n",
       " <td>2</td>,\n",
       " <td><a href=\"https://en.wikipedia.org/wiki/Texas\">Texas</a></td>,\n",
       " <td>94 kg</td>,\n",
       " <tr><td>3</td><td><a href=\"https://en.wikipedia.org/wiki/Florida\">Florida</a> </td><td>80 kg</td></tr>,\n",
       " <td>3</td>,\n",
       " <td><a href=\"https://en.wikipedia.org/wiki/Florida\">Florida</a> </td>,\n",
       " <td>80 kg</td>]"
      ]
     },
     "execution_count": 142,
     "metadata": {},
     "output_type": "execute_result"
    }
   ],
   "source": [
    "list_input = table_bs.find_all(name = [\"tr\", \"td\"])\n",
    "list_input"
   ]
  },
  {
   "cell_type": "markdown",
   "id": "45e244b2",
   "metadata": {},
   "source": [
    "\n",
    "<h3>[Tip] 📚 코드 동작 설명</h3>\n",
    "<div class=\"alert alert-block alert-success\">\n",
    "    <code>find_all</code> 메서드에서 <code>name</code> 매개변수에 리스트를 전달하면 <b>해당 리스트와 일치하는 모든 태그를 검색하여 반환</b>합니다.\n",
    "</div>"
   ]
  },
  {
   "cell_type": "markdown",
   "id": "65ec1ef5",
   "metadata": {},
   "source": [
    "<a id=Attributes></a>\n",
    "<h3>Attributes</h3>\n",
    "\n",
    "\n",
    "---\n",
    "\n",
    "인수가 인식되지 않을 경우, 해당 인수는 태그의 속성에 대한 필터로 변환됩니다.  \n",
    "예를 들어, `id` 인수를 사용하면 Beautiful Soup은 각 태그의 `id` 속성을 기준으로 필터링합니다.  \n",
    "예를 들어, 첫 번째 `td` 요소들은 `id` 속성 값으로 `flight`를 가지고 있으므로, 이 `id` 값을 기반으로 필터링할 수 있습니다.\n",
    "\n",
    "---\n"
   ]
  },
  {
   "cell_type": "code",
   "execution_count": 144,
   "id": "f1591963",
   "metadata": {},
   "outputs": [
    {
     "data": {
      "text/plain": [
       "[<td id=\"flight\">Flight No</td>]"
      ]
     },
     "execution_count": 144,
     "metadata": {},
     "output_type": "execute_result"
    }
   ],
   "source": [
    "table_bs.find_all(id=\"flight\")"
   ]
  },
  {
   "cell_type": "markdown",
   "id": "1c8a6e89",
   "metadata": {},
   "source": [
    "플로리다 위키백과 페이지로 연결된 링크를 가진 모든 요소를 찾을 수 있습니다."
   ]
  },
  {
   "cell_type": "code",
   "execution_count": 145,
   "id": "85bd8ff3",
   "metadata": {},
   "outputs": [
    {
     "data": {
      "text/plain": [
       "[<a href=\"https://en.wikipedia.org/wiki/Florida\">Florida</a>,\n",
       " <a href=\"https://en.wikipedia.org/wiki/Florida\">Florida</a>]"
      ]
     },
     "execution_count": 145,
     "metadata": {},
     "output_type": "execute_result"
    }
   ],
   "source": [
    "list_input = table_bs.find_all(href=\"https://en.wikipedia.org/wiki/Florida\")\n",
    "list_input"
   ]
  },
  {
   "cell_type": "markdown",
   "id": "89571f7f",
   "metadata": {},
   "source": [
    "<h4>[Tip]</h4>\n",
    "<div class='alert alert-block alert-warning'>\n",
    "<code>href</code> 속성을 True로 설정하면, 값이 무엇이든 상관없이 <code>href</code> 값을 가진 모든 태그를 찾습니다.\n",
    "    \n",
    "    \n",
    "\n",
    "\n",
    "---\n",
    "\n",
    "속성을 처리하거나 관련 작업을 수행할 수 있는 다른 메서드들도 있습니다. 자세한 내용은 다음 [링크](https://www.crummy.com/software/BeautifulSoup/bs4/doc/?utm_medium=Exinfluencer&utm_source=Exinfluencer&utm_content=000026UJ&utm_term=10006555&utm_id=NA-SkillsNetwork-Channel-SkillsNetworkCoursesIBMDeveloperSkillsNetworkPY0220ENSkillsNetwork23455606-2021-01-01#css-selectors)를 확인하세요.\n",
    "\n",
    "---\n",
    "\n",
    "\n",
    "</div>"
   ]
  },
  {
   "cell_type": "code",
   "execution_count": 146,
   "id": "c66d02ba",
   "metadata": {},
   "outputs": [
    {
     "data": {
      "text/plain": [
       "[<a href=\"https://en.wikipedia.org/wiki/Florida\">Florida</a>,\n",
       " <a href=\"https://en.wikipedia.org/wiki/Texas\">Texas</a>,\n",
       " <a href=\"https://en.wikipedia.org/wiki/Florida\">Florida</a>]"
      ]
     },
     "execution_count": 146,
     "metadata": {},
     "output_type": "execute_result"
    }
   ],
   "source": [
    "table_bs.find_all(href=True)"
   ]
  },
  {
   "cell_type": "markdown",
   "id": "753f8ab9",
   "metadata": {},
   "source": [
    "<h3 id=\"exer_type\">Exercise: <code>find_all</code></h3>\n",
    "\n",
    "Using the logic above, find all the elements without <code>href</code> value"
   ]
  },
  {
   "cell_type": "code",
   "execution_count": 147,
   "id": "c61eecb8",
   "metadata": {},
   "outputs": [
    {
     "data": {
      "text/plain": [
       "[<a href=\"https://en.wikipedia.org/wiki/Florida\">Florida</a>,\n",
       " <a href=\"https://en.wikipedia.org/wiki/Texas\">Texas</a>,\n",
       " <a href=\"https://en.wikipedia.org/wiki/Florida\">Florida</a>]"
      ]
     },
     "execution_count": 147,
     "metadata": {},
     "output_type": "execute_result"
    }
   ],
   "source": [
    "table_bs.find_all(href=True)"
   ]
  },
  {
   "cell_type": "code",
   "execution_count": 152,
   "id": "aa1a7dee",
   "metadata": {},
   "outputs": [
    {
     "data": {
      "text/plain": [
       "[]"
      ]
     },
     "execution_count": 152,
     "metadata": {},
     "output_type": "execute_result"
    }
   ],
   "source": [
    "table_bs.find_all('a', href=False)"
   ]
  },
  {
   "cell_type": "markdown",
   "id": "51ccf8ae",
   "metadata": {},
   "source": [
    "Beautiful Soup을 사용하여 id 속성이 \"boldest\"로 설정된 요소를 찾기"
   ]
  },
  {
   "cell_type": "code",
   "execution_count": 156,
   "id": "bb37dcad",
   "metadata": {},
   "outputs": [
    {
     "data": {
      "text/plain": [
       "[]"
      ]
     },
     "execution_count": 156,
     "metadata": {},
     "output_type": "execute_result"
    }
   ],
   "source": [
    "table_bs.find_all(id=\"boldest\")"
   ]
  },
  {
   "cell_type": "markdown",
   "id": "3bd0c7dd",
   "metadata": {},
   "source": [
    "<a id=string></a>\n",
    "### string\n",
    "\n",
    "`string`을 사용하면 태그 대신 문자열을 검색할 수 있습니다. 예를 들어, Florida라는 문자열이 포함된 모든 요소를 찾을 수 있습니다."
   ]
  },
  {
   "cell_type": "code",
   "execution_count": 157,
   "id": "44bba374",
   "metadata": {},
   "outputs": [
    {
     "data": {
      "text/plain": [
       "['Florida', 'Florida']"
      ]
     },
     "execution_count": 157,
     "metadata": {},
     "output_type": "execute_result"
    }
   ],
   "source": [
    "table_bs.find_all(string=\"Florida\")"
   ]
  },
  {
   "cell_type": "code",
   "execution_count": 158,
   "id": "15371d43",
   "metadata": {},
   "outputs": [],
   "source": [
    "floridas = table_bs.find_all(string=\"Florida\")"
   ]
  },
  {
   "cell_type": "code",
   "execution_count": 159,
   "id": "d5b1b49f",
   "metadata": {},
   "outputs": [
    {
     "data": {
      "text/plain": [
       "bs4.element.ResultSet"
      ]
     },
     "execution_count": 159,
     "metadata": {},
     "output_type": "execute_result"
    }
   ],
   "source": [
    "type(floridas)"
   ]
  },
  {
   "cell_type": "code",
   "execution_count": 160,
   "id": "477e42c0",
   "metadata": {},
   "outputs": [
    {
     "data": {
      "text/plain": [
       "bs4.element.NavigableString"
      ]
     },
     "execution_count": 160,
     "metadata": {},
     "output_type": "execute_result"
    }
   ],
   "source": [
    "type(floridas[0])"
   ]
  },
  {
   "cell_type": "code",
   "execution_count": 161,
   "id": "e0009caf",
   "metadata": {},
   "outputs": [
    {
     "data": {
      "text/plain": [
       "<a href=\"https://en.wikipedia.org/wiki/Florida\">Florida</a>"
      ]
     },
     "execution_count": 161,
     "metadata": {},
     "output_type": "execute_result"
    }
   ],
   "source": [
    "floridas[0].parent"
   ]
  },
  {
   "cell_type": "code",
   "execution_count": 167,
   "id": "a88ec4d2",
   "metadata": {},
   "outputs": [
    {
     "data": {
      "text/plain": [
       "<td>300 kg</td>"
      ]
     },
     "execution_count": 167,
     "metadata": {},
     "output_type": "execute_result"
    }
   ],
   "source": [
    "floridas[0].parent.parent.next_sibling"
   ]
  },
  {
   "cell_type": "code",
   "execution_count": 170,
   "id": "e3c7aa46",
   "metadata": {},
   "outputs": [
    {
     "data": {
      "text/plain": [
       "<tr><td>2</td><td><a href=\"https://en.wikipedia.org/wiki/Texas\">Texas</a></td><td>94 kg</td></tr>"
      ]
     },
     "execution_count": 170,
     "metadata": {},
     "output_type": "execute_result"
    }
   ],
   "source": [
    "floridas[0].parent.parent.parent.next_sibling"
   ]
  },
  {
   "cell_type": "markdown",
   "id": "6a1ce4a4",
   "metadata": {},
   "source": [
    "위와 같은 방법으로 `string`을 통해 찾은 결과 값으로 그 `parent`, `sibling`, `child`도 찾을 수 있다."
   ]
  },
  {
   "cell_type": "markdown",
   "id": "6d335b1f",
   "metadata": {},
   "source": [
    "<a id=find></a>\n",
    "<h3>find</h3>\n",
    "\n",
    "<code>find_all()</code> 메서드는 전체 문서를 스캔하여 결과를 찾습니다.\n",
    "만약 하나의 요소만 찾으려면 <code>find()</code> 메서드를 사용하여 문서에서 첫 번째 요소를 찾을 수 있습니다.\n",
    "다음 두 개의 테이블을 예로 들어 보겠습니다:"
   ]
  },
  {
   "cell_type": "code",
   "execution_count": 171,
   "id": "47e8709b",
   "metadata": {},
   "outputs": [
    {
     "data": {
      "text/html": [
       "<h3>Rocket Launch </h3>\n",
       "\n",
       "<p>\n",
       "<table class='rocket'>\n",
       "  <tr>\n",
       "    <td>Flight No</td>\n",
       "    <td>Launch site</td> \n",
       "    <td>Payload mass</td>\n",
       "  </tr>\n",
       "  <tr>\n",
       "    <td>1</td>\n",
       "    <td>Florida</td>\n",
       "    <td>300 kg</td>\n",
       "  </tr>\n",
       "  <tr>\n",
       "    <td>2</td>\n",
       "    <td>Texas</td>\n",
       "    <td>94 kg</td>\n",
       "  </tr>\n",
       "  <tr>\n",
       "    <td>3</td>\n",
       "    <td>Florida </td>\n",
       "    <td>80 kg</td>\n",
       "  </tr>\n",
       "</table>\n",
       "</p>\n",
       "<p>\n",
       "\n",
       "<h3>Pizza Party  </h3>\n",
       "  \n",
       "    \n",
       "<table class='pizza'>\n",
       "  <tr>\n",
       "    <td>Pizza Place</td>\n",
       "    <td>Orders</td> \n",
       "    <td>Slices </td>\n",
       "   </tr>\n",
       "  <tr>\n",
       "    <td>Domino's Pizza</td>\n",
       "    <td>10</td>\n",
       "    <td>100</td>\n",
       "  </tr>\n",
       "  <tr>\n",
       "    <td>Little Caesars</td>\n",
       "    <td>12</td>\n",
       "    <td >144 </td>\n",
       "  </tr>\n",
       "  <tr>\n",
       "    <td>Papa John's </td>\n",
       "    <td>15 </td>\n",
       "    <td>165</td>\n",
       "  </tr>\n"
      ],
      "text/plain": [
       "<IPython.core.display.HTML object>"
      ]
     },
     "metadata": {},
     "output_type": "display_data"
    }
   ],
   "source": [
    "%%html\n",
    "<h3>Rocket Launch </h3>\n",
    "\n",
    "<p>\n",
    "<table class='rocket'>\n",
    "  <tr>\n",
    "    <td>Flight No</td>\n",
    "    <td>Launch site</td> \n",
    "    <td>Payload mass</td>\n",
    "  </tr>\n",
    "  <tr>\n",
    "    <td>1</td>\n",
    "    <td>Florida</td>\n",
    "    <td>300 kg</td>\n",
    "  </tr>\n",
    "  <tr>\n",
    "    <td>2</td>\n",
    "    <td>Texas</td>\n",
    "    <td>94 kg</td>\n",
    "  </tr>\n",
    "  <tr>\n",
    "    <td>3</td>\n",
    "    <td>Florida </td>\n",
    "    <td>80 kg</td>\n",
    "  </tr>\n",
    "</table>\n",
    "</p>\n",
    "<p>\n",
    "\n",
    "<h3>Pizza Party  </h3>\n",
    "  \n",
    "    \n",
    "<table class='pizza'>\n",
    "  <tr>\n",
    "    <td>Pizza Place</td>\n",
    "    <td>Orders</td> \n",
    "    <td>Slices </td>\n",
    "   </tr>\n",
    "  <tr>\n",
    "    <td>Domino's Pizza</td>\n",
    "    <td>10</td>\n",
    "    <td>100</td>\n",
    "  </tr>\n",
    "  <tr>\n",
    "    <td>Little Caesars</td>\n",
    "    <td>12</td>\n",
    "    <td >144 </td>\n",
    "  </tr>\n",
    "  <tr>\n",
    "    <td>Papa John's </td>\n",
    "    <td>15 </td>\n",
    "    <td>165</td>\n",
    "  </tr>\n"
   ]
  },
  {
   "cell_type": "markdown",
   "id": "86ae8469",
   "metadata": {},
   "source": [
    "HTML을 Python 문자열로 저장하고 <code>two_tables</code>에 할당합니다:"
   ]
  },
  {
   "cell_type": "code",
   "execution_count": 172,
   "id": "9b91c8ad",
   "metadata": {},
   "outputs": [],
   "source": [
    "two_tables=\"<h3>Rocket Launch </h3><p><table class='rocket'><tr><td>Flight No</td><td>Launch site</td> <td>Payload mass</td></tr><tr><td>1</td><td>Florida</td><td>300 kg</td></tr><tr><td>2</td><td>Texas</td><td>94 kg</td></tr><tr><td>3</td><td>Florida </td><td>80 kg</td></tr></table></p><p><h3>Pizza Party  </h3><table class='pizza'><tr><td>Pizza Place</td><td>Orders</td> <td>Slices </td></tr><tr><td>Domino's Pizza</td><td>10</td><td>100</td></tr><tr><td>Little Caesars</td><td>12</td><td >144 </td></tr><tr><td>Papa John's </td><td>15 </td><td>165</td></tr>\""
   ]
  },
  {
   "cell_type": "markdown",
   "id": "bcaa03ca",
   "metadata": {},
   "source": [
    "`two_tables_bs`라는 BeautifulSoup 객체를 생성합니다."
   ]
  },
  {
   "cell_type": "code",
   "execution_count": 173,
   "id": "10f14e68",
   "metadata": {},
   "outputs": [],
   "source": [
    "two_tables_bs = BeautifulSoup(two_tables, 'html.parser')"
   ]
  },
  {
   "cell_type": "markdown",
   "id": "dcd56130",
   "metadata": {},
   "source": [
    "태그 이름 `table`을 사용하여 첫 번째 테이블을 찾을 수 있습니다."
   ]
  },
  {
   "cell_type": "code",
   "execution_count": 174,
   "id": "5589c6bd",
   "metadata": {},
   "outputs": [
    {
     "data": {
      "text/plain": [
       "<table class=\"rocket\"><tr><td>Flight No</td><td>Launch site</td> <td>Payload mass</td></tr><tr><td>1</td><td>Florida</td><td>300 kg</td></tr><tr><td>2</td><td>Texas</td><td>94 kg</td></tr><tr><td>3</td><td>Florida </td><td>80 kg</td></tr></table>"
      ]
     },
     "execution_count": 174,
     "metadata": {},
     "output_type": "execute_result"
    }
   ],
   "source": [
    "two_tables_bs.find('table')"
   ]
  },
  {
   "cell_type": "markdown",
   "id": "90c64e0f",
   "metadata": {},
   "source": [
    "---\n",
    "\n",
    "`class` 속성을 기준으로 필터링하여 두 번째 테이블을 찾을 수 있습니다. 하지만 `class`는 Python에서 예약어이므로, 밑줄(`_`)을 추가해야 합니다.\n",
    "\n",
    "---"
   ]
  },
  {
   "cell_type": "code",
   "execution_count": 175,
   "id": "f6e73f3d",
   "metadata": {},
   "outputs": [
    {
     "data": {
      "text/plain": [
       "<table class=\"pizza\"><tr><td>Pizza Place</td><td>Orders</td> <td>Slices </td></tr><tr><td>Domino's Pizza</td><td>10</td><td>100</td></tr><tr><td>Little Caesars</td><td>12</td><td>144 </td></tr><tr><td>Papa John's </td><td>15 </td><td>165</td></tr></table>"
      ]
     },
     "execution_count": 175,
     "metadata": {},
     "output_type": "execute_result"
    }
   ],
   "source": [
    "two_tables_bs.find('table', class_='pizza')"
   ]
  },
  {
   "cell_type": "markdown",
   "id": "99a1bf89",
   "metadata": {},
   "source": [
    "<h2 id=\"DSCW\">Downloading And Scraping The Contents Of A Web Page</h2> \n",
    "\n",
    "웹 페이지의 내용을 다운로드합니다:"
   ]
  },
  {
   "cell_type": "code",
   "execution_count": 176,
   "id": "12c735d4",
   "metadata": {},
   "outputs": [],
   "source": [
    "url = \"https://web.archive.org/web/20230224123642/https://www.ibm.com/us-en/\""
   ]
  },
  {
   "cell_type": "markdown",
   "id": "96c19273",
   "metadata": {},
   "source": [
    "\n",
    "---\n",
    "\n",
    "웹 페이지의 내용을 텍스트 형식으로 다운로드하기 위해 <code>get</code>을 사용하며, 이를 <code>data</code>라는 변수에 저장합니다.\n",
    "\n",
    "---\n"
   ]
  },
  {
   "cell_type": "code",
   "execution_count": 177,
   "id": "ab54dd6e",
   "metadata": {},
   "outputs": [],
   "source": [
    "data = requests.get(url).text"
   ]
  },
  {
   "cell_type": "markdown",
   "id": "9a0fdc9e",
   "metadata": {},
   "source": [
    "\n",
    "---\n",
    "\n",
    "<code>BeautifulSoup</code> 생성자를 사용하여 <code>BeautifulSoup</code> 객체를 생성합니다.\n",
    "\n",
    "---\n"
   ]
  },
  {
   "cell_type": "code",
   "execution_count": 179,
   "id": "0d0bb77f",
   "metadata": {},
   "outputs": [],
   "source": [
    "soup = BeautifulSoup(data, 'html.parser')"
   ]
  },
  {
   "cell_type": "markdown",
   "id": "804784be",
   "metadata": {},
   "source": [
    "모든 링크들을 Scrape합니다."
   ]
  },
  {
   "cell_type": "code",
   "execution_count": 181,
   "id": "c66a10dc",
   "metadata": {},
   "outputs": [
    {
     "name": "stdout",
     "output_type": "stream",
     "text": [
      "https://web.archive.org/web/20230224123642/https://www.ibm.com/reports/threat-intelligence/\n",
      "https://web.archive.org/web/20230224123642/https://www.ibm.com/about\n",
      "https://web.archive.org/web/20230224123642/https://www.ibm.com/consulting/?lnk=flathl\n",
      "https://web.archive.org/web/20230224123642/https://www.ibm.com/consulting/strategy/?lnk=flathl\n",
      "https://web.archive.org/web/20230224123642/https://www.ibm.com/consulting/ibmix?lnk=flathl\n",
      "https://web.archive.org/web/20230224123642/https://www.ibm.com/consulting/technology/\n",
      "https://web.archive.org/web/20230224123642/https://www.ibm.com/consulting/operations/?lnk=flathl\n",
      "https://web.archive.org/web/20230224123642/https://www.ibm.com/strategic-partnerships\n",
      "https://web.archive.org/web/20230224123642/https://www.ibm.com/employment/?lnk=flatitem\n",
      "https://web.archive.org/web/20230224123642/https://www.ibm.com/impact\n",
      "https://web.archive.org/web/20230224123642/https://research.ibm.com/\n",
      "https://web.archive.org/web/20230224123642/https://www.ibm.com/\n"
     ]
    }
   ],
   "source": [
    "for link in soup.find_all('a', href=True):\n",
    "    print(link.get(\"href\"))"
   ]
  },
  {
   "cell_type": "markdown",
   "id": "27b9e744",
   "metadata": {},
   "source": [
    "## Scrape  all images  Tags"
   ]
  },
  {
   "cell_type": "code",
   "execution_count": 183,
   "id": "af8e4188",
   "metadata": {},
   "outputs": [
    {
     "name": "stdout",
     "output_type": "stream",
     "text": [
      "https://web.archive.org/web/20230224123642im_/https://1.dam.s81c.com/p/0a23e414312bcb6f/08196d0e04260ae5_cropped.jpg.global.sr_16x9.jpg\n",
      "https://web.archive.org/web/20230224123642im_/https://1.dam.s81c.com/p/06655c075aa3aa29/CaitOppermann_2019_12_06_IBMGarage_DSC3304.jpg.global.m_16x9.jpg\n",
      "https://web.archive.org/web/20230224123642im_/https://1.dam.s81c.com/p/08f951353c2707b8/052022_CaitOppermann_InsideIBM_London_2945_03.jpg.global.sr_16x9.jpg\n",
      "https://web.archive.org/web/20230224123642im_/https://1.dam.s81c.com/p/064e0139f5a3aa5e/0500002_Lowell_LI_100119.jpg.global.sr_16x9.jpg\n",
      "https://web.archive.org/web/20230224123642im_/https://1.dam.s81c.com/p/0795cae91a25156f/conveyorrobottopview.jpg.global.sr_16x9.jpg\n",
      "https://web.archive.org/web/20230224123642im_/https://1.dam.s81c.com/p/06dfa9ccdba4ec79/1f417900-9042-44d1-9c219a854bbb62ea.jpg.global.sr_16x9.jpg\n"
     ]
    }
   ],
   "source": [
    "for link in soup.find_all('img'):\n",
    "    print(link.get('src'))"
   ]
  },
  {
   "cell_type": "markdown",
   "id": "ed45bf02",
   "metadata": {},
   "source": [
    "## Scrape data from HTML tables\n"
   ]
  },
  {
   "cell_type": "code",
   "execution_count": 184,
   "id": "9298dd99",
   "metadata": {},
   "outputs": [],
   "source": [
    "#The below url contains an html table with data about colors and color codes.\n",
    "url = \"https://cf-courses-data.s3.us.cloud-object-storage.appdomain.cloud/IBM-DA0321EN-SkillsNetwork/labs/datasets/HTMLColorCodes.html\""
   ]
  },
  {
   "cell_type": "markdown",
   "id": "7fd44eaa",
   "metadata": {},
   "source": [
    "---\n",
    "\n",
    "웹사이트를 스크랩하기 전에, 콘텐츠와 데이터가 웹사이트에서 어떻게 구성되어 있는지 확인해야 합니다. 위의 URL을 브라우저에서 열고 색상 테이블에 몇 개의 행과 열이 있는지 확인하세요.\n",
    "\n",
    "---\n"
   ]
  },
  {
   "cell_type": "code",
   "execution_count": 186,
   "id": "383e4479",
   "metadata": {},
   "outputs": [],
   "source": [
    "# 웹페이지의 내용을 텍스트 형식으로 가져와서 data라는 변수에 저장합니다.\n",
    "data = requests.get(url).text"
   ]
  },
  {
   "cell_type": "code",
   "execution_count": 199,
   "id": "208d3fa5",
   "metadata": {},
   "outputs": [],
   "source": [
    "soup = BeautifulSoup(data, 'html.parser')"
   ]
  },
  {
   "cell_type": "code",
   "execution_count": 200,
   "id": "68075561",
   "metadata": {},
   "outputs": [
    {
     "data": {
      "text/plain": [
       "[]"
      ]
     },
     "execution_count": 200,
     "metadata": {},
     "output_type": "execute_result"
    }
   ],
   "source": [
    "# html table을 웹페이지에서 찾습니다.\n",
    "soup.find_all('tbody')"
   ]
  },
  {
   "cell_type": "markdown",
   "id": "cca8f4ef",
   "metadata": {},
   "source": [
    "<h4>[Tip] 위 <code>.find_all('tbody')</code>결과가 빈 리스트인 이유</h4>\n",
    "<div class='alert alert-block alert-danger'>    \n",
    "    <li>실제로 requests에서 가져온 text와 Dev Tool에 보이는 브라우저에서 랜더링된 HTML과 다를 수 있습니다. </li>\n",
    "    <li>Javascript로 랜더링된 결과는 포함되지 않습니다. tbody태그는 JavaScript를 통해 동적으로 생성되었을 가능성이큽니다.</li>\n",
    "    따라서 tbody로 찾은 결과가 없다고 나옵니다.\n",
    "</div>"
   ]
  },
  {
   "cell_type": "code",
   "execution_count": 212,
   "id": "3fe8af5d",
   "metadata": {},
   "outputs": [],
   "source": [
    "# html table을 웹페이지에서 찾습니다.\n",
    "table = soup.find('table')"
   ]
  },
  {
   "cell_type": "code",
   "execution_count": 215,
   "id": "8706ab31",
   "metadata": {},
   "outputs": [
    {
     "name": "stdout",
     "output_type": "stream",
     "text": [
      "Color Name --> None\n",
      "lightsalmon --> #FFA07A\n",
      "salmon --> #FA8072\n",
      "darksalmon --> #E9967A\n",
      "lightcoral --> #F08080\n",
      "coral --> #FF7F50\n",
      "tomato --> #FF6347\n",
      "orangered --> #FF4500\n",
      "gold --> #FFD700\n",
      "orange --> #FFA500\n",
      "darkorange --> #FF8C00\n",
      "lightyellow --> #FFFFE0\n",
      "lemonchiffon --> #FFFACD\n",
      "papayawhip --> #FFEFD5\n",
      "moccasin --> #FFE4B5\n",
      "peachpuff --> #FFDAB9\n",
      "palegoldenrod --> #EEE8AA\n",
      "khaki --> #F0E68C\n",
      "darkkhaki --> #BDB76B\n",
      "yellow --> #FFFF00\n",
      "lawngreen --> #7CFC00\n",
      "chartreuse --> #7FFF00\n",
      "limegreen --> #32CD32\n",
      "lime --> #00FF00\n",
      "forestgreen --> #228B22\n",
      "green --> #008000\n",
      "powderblue --> #B0E0E6\n",
      "lightblue --> #ADD8E6\n",
      "lightskyblue --> #87CEFA\n",
      "skyblue --> #87CEEB\n",
      "deepskyblue --> #00BFFF\n",
      "lightsteelblue --> #B0C4DE\n",
      "dodgerblue --> #1E90FF\n"
     ]
    }
   ],
   "source": [
    "# 모든 행을 테이블에서 가져옵니다.\n",
    "for row in table.find_all('tr'):\n",
    "    # 모든 열을 가져옵니다.\n",
    "    cols = row.find_all('td')\n",
    "    color_name = cols[2].string\n",
    "    color_code = cols[3].string\n",
    "    print(f\"{color_name} --> {color_code}\")"
   ]
  },
  {
   "cell_type": "markdown",
   "id": "633455bb",
   "metadata": {},
   "source": [
    "## Scrape data from HTML tables into a DataFrame using BeautifulSoup and Pandas\n"
   ]
  },
  {
   "cell_type": "code",
   "execution_count": 222,
   "id": "0af2f77c",
   "metadata": {},
   "outputs": [],
   "source": [
    "import pandas as pd"
   ]
  },
  {
   "cell_type": "code",
   "execution_count": 223,
   "id": "ebd4643d",
   "metadata": {},
   "outputs": [],
   "source": [
    "#The below url contains html tables with data about world population.\n",
    "url = \"https://en.wikipedia.org/wiki/World_population\""
   ]
  },
  {
   "cell_type": "markdown",
   "id": "2b352271",
   "metadata": {},
   "source": [
    "웹사이트를 스크랩하기 전에, 콘텐츠와 데이터가 웹사이트에서 어떻게 구성되어 있는지 확인해야 합니다. 위의 URL을 브라우저에서 열어 웹페이지의 테이블을 확인하세요."
   ]
  },
  {
   "cell_type": "code",
   "execution_count": 225,
   "id": "98c3d6ec",
   "metadata": {},
   "outputs": [],
   "source": [
    "data = requests.get(url).text"
   ]
  },
  {
   "cell_type": "code",
   "execution_count": 226,
   "id": "8d30074b",
   "metadata": {},
   "outputs": [],
   "source": [
    "soup = BeautifulSoup(data, 'html.parser')"
   ]
  },
  {
   "cell_type": "code",
   "execution_count": 229,
   "id": "ad079d12",
   "metadata": {},
   "outputs": [],
   "source": [
    "# find all html tables in the web page\n",
    "\n",
    "tables = soup.find_all('table')"
   ]
  },
  {
   "cell_type": "code",
   "execution_count": 230,
   "id": "7a92425a",
   "metadata": {},
   "outputs": [
    {
     "data": {
      "text/plain": [
       "30"
      ]
     },
     "execution_count": 230,
     "metadata": {},
     "output_type": "execute_result"
    }
   ],
   "source": [
    "len(tables)"
   ]
  },
  {
   "cell_type": "markdown",
   "id": "5fe94c17",
   "metadata": {},
   "source": [
    "\n",
    "---\n",
    "\n",
    "우리가 `인구 밀도가 가장 높은 10개 국가` 테이블을 찾고 있다고 가정해봅시다. 테이블 리스트를 살펴보고 각 테이블에 포함된 데이터를 기반으로 원하는 테이블을 찾을 수 있습니다.  \n",
    "또는 테이블 이름이 포함되어 있다면 이를 검색하여 찾을 수도 있습니다. 하지만 이 방법은 항상 작동하지 않을 수 있습니다.\n",
    "\n",
    "---\n"
   ]
  },
  {
   "cell_type": "code",
   "execution_count": 231,
   "id": "b84ccb9f",
   "metadata": {},
   "outputs": [
    {
     "name": "stdout",
     "output_type": "stream",
     "text": [
      "7\n"
     ]
    }
   ],
   "source": [
    "for idx, table in enumerate(tables):\n",
    "    if (\"10 most densely populated countries\" in str(table)):\n",
    "        table_index = idx\n",
    "        \n",
    "print(table_index)"
   ]
  },
  {
   "cell_type": "markdown",
   "id": "41cab4d9",
   "metadata": {},
   "source": [
    "\n",
    "\n",
    "---\n",
    "\n",
    "아래에서 `인구 밀도가 가장 높은 10개 국가` 테이블의 이름을 찾을 수 있는지 확인해 보세요.\n",
    "\n",
    "---\n",
    "\n"
   ]
  },
  {
   "cell_type": "code",
   "execution_count": 232,
   "id": "79bab2b0",
   "metadata": {},
   "outputs": [
    {
     "name": "stdout",
     "output_type": "stream",
     "text": [
      "<table class=\"wikitable sortable\" style=\"text-align:right\">\n",
      " <caption>\n",
      "  10 most densely populated countries\n",
      "  <small>\n",
      "   (with population above 5 million)\n",
      "  </small>\n",
      "  <sup class=\"reference\" id=\"cite_ref-:10_104-0\">\n",
      "   <a href=\"#cite_note-:10-104\">\n",
      "    <span class=\"cite-bracket\">\n",
      "     [\n",
      "    </span>\n",
      "    99\n",
      "    <span class=\"cite-bracket\">\n",
      "     ]\n",
      "    </span>\n",
      "   </a>\n",
      "  </sup>\n",
      " </caption>\n",
      " <tbody>\n",
      "  <tr>\n",
      "   <th scope=\"col\">\n",
      "    Rank\n",
      "   </th>\n",
      "   <th scope=\"col\">\n",
      "    Country\n",
      "   </th>\n",
      "   <th scope=\"col\">\n",
      "    Population\n",
      "   </th>\n",
      "   <th scope=\"col\">\n",
      "    Area\n",
      "    <br/>\n",
      "    <small>\n",
      "     (km\n",
      "     <sup>\n",
      "      2\n",
      "     </sup>\n",
      "     )\n",
      "    </small>\n",
      "   </th>\n",
      "   <th scope=\"col\">\n",
      "    Density\n",
      "    <br/>\n",
      "    <small>\n",
      "     (pop/km\n",
      "     <sup>\n",
      "      2\n",
      "     </sup>\n",
      "     )\n",
      "    </small>\n",
      "   </th>\n",
      "  </tr>\n",
      "  <tr>\n",
      "   <td>\n",
      "    1\n",
      "   </td>\n",
      "   <td align=\"left\">\n",
      "    <span class=\"flagicon\">\n",
      "     <span class=\"mw-image-border\" typeof=\"mw:File\">\n",
      "      <span>\n",
      "       <img alt=\"\" class=\"mw-file-element\" data-file-height=\"600\" data-file-width=\"900\" decoding=\"async\" height=\"15\" src=\"//upload.wikimedia.org/wikipedia/commons/thumb/4/48/Flag_of_Singapore.svg/23px-Flag_of_Singapore.svg.png\" srcset=\"//upload.wikimedia.org/wikipedia/commons/thumb/4/48/Flag_of_Singapore.svg/35px-Flag_of_Singapore.svg.png 1.5x, //upload.wikimedia.org/wikipedia/commons/thumb/4/48/Flag_of_Singapore.svg/45px-Flag_of_Singapore.svg.png 2x\" width=\"23\"/>\n",
      "      </span>\n",
      "     </span>\n",
      "    </span>\n",
      "    <a href=\"/wiki/Singapore\" title=\"Singapore\">\n",
      "     Singapore\n",
      "    </a>\n",
      "   </td>\n",
      "   <td>\n",
      "    5,921,231\n",
      "   </td>\n",
      "   <td>\n",
      "    719\n",
      "   </td>\n",
      "   <td>\n",
      "    8,235\n",
      "   </td>\n",
      "  </tr>\n",
      "  <tr>\n",
      "   <td>\n",
      "    2\n",
      "   </td>\n",
      "   <td align=\"left\">\n",
      "    <span class=\"flagicon\">\n",
      "     <span class=\"mw-image-border\" typeof=\"mw:File\">\n",
      "      <span>\n",
      "       <img alt=\"\" class=\"mw-file-element\" data-file-height=\"307\" data-file-width=\"512\" decoding=\"async\" height=\"14\" src=\"//upload.wikimedia.org/wikipedia/commons/thumb/f/f9/Flag_of_Bangladesh.svg/23px-Flag_of_Bangladesh.svg.png\" srcset=\"//upload.wikimedia.org/wikipedia/commons/thumb/f/f9/Flag_of_Bangladesh.svg/35px-Flag_of_Bangladesh.svg.png 1.5x, //upload.wikimedia.org/wikipedia/commons/thumb/f/f9/Flag_of_Bangladesh.svg/46px-Flag_of_Bangladesh.svg.png 2x\" width=\"23\"/>\n",
      "      </span>\n",
      "     </span>\n",
      "    </span>\n",
      "    <a href=\"/wiki/Bangladesh\" title=\"Bangladesh\">\n",
      "     Bangladesh\n",
      "    </a>\n",
      "   </td>\n",
      "   <td>\n",
      "    165,650,475\n",
      "   </td>\n",
      "   <td>\n",
      "    148,460\n",
      "   </td>\n",
      "   <td>\n",
      "    1,116\n",
      "   </td>\n",
      "  </tr>\n",
      "  <tr>\n",
      "   <td>\n",
      "    3\n",
      "   </td>\n",
      "   <td align=\"left\">\n",
      "    <p>\n",
      "     <span class=\"flagicon\">\n",
      "      <span class=\"mw-image-border\" typeof=\"mw:File\">\n",
      "       <span>\n",
      "        <img alt=\"\" class=\"mw-file-element\" data-file-height=\"600\" data-file-width=\"1200\" decoding=\"async\" height=\"12\" src=\"//upload.wikimedia.org/wikipedia/commons/thumb/0/00/Flag_of_Palestine.svg/23px-Flag_of_Palestine.svg.png\" srcset=\"//upload.wikimedia.org/wikipedia/commons/thumb/0/00/Flag_of_Palestine.svg/35px-Flag_of_Palestine.svg.png 1.5x, //upload.wikimedia.org/wikipedia/commons/thumb/0/00/Flag_of_Palestine.svg/46px-Flag_of_Palestine.svg.png 2x\" width=\"23\"/>\n",
      "       </span>\n",
      "      </span>\n",
      "     </span>\n",
      "     <a href=\"/wiki/Palestine\" title=\"Palestine\">\n",
      "      Palestine\n",
      "     </a>\n",
      "     <sup class=\"reference\" id=\"cite_ref-105\">\n",
      "      <a href=\"#cite_note-105\">\n",
      "       <span class=\"cite-bracket\">\n",
      "        [\n",
      "       </span>\n",
      "       note 3\n",
      "       <span class=\"cite-bracket\">\n",
      "        ]\n",
      "       </span>\n",
      "      </a>\n",
      "     </sup>\n",
      "     <sup class=\"reference\" id=\"cite_ref-106\">\n",
      "      <a href=\"#cite_note-106\">\n",
      "       <span class=\"cite-bracket\">\n",
      "        [\n",
      "       </span>\n",
      "       100\n",
      "       <span class=\"cite-bracket\">\n",
      "        ]\n",
      "       </span>\n",
      "      </a>\n",
      "     </sup>\n",
      "    </p>\n",
      "   </td>\n",
      "   <td>\n",
      "    5,223,000\n",
      "   </td>\n",
      "   <td>\n",
      "    6,025\n",
      "   </td>\n",
      "   <td>\n",
      "    867\n",
      "   </td>\n",
      "  </tr>\n",
      "  <tr>\n",
      "   <td>\n",
      "    4\n",
      "   </td>\n",
      "   <td align=\"left\">\n",
      "    <span class=\"flagicon\">\n",
      "     <span class=\"mw-image-border\" typeof=\"mw:File\">\n",
      "      <span>\n",
      "       <img alt=\"\" class=\"mw-file-element\" data-file-height=\"600\" data-file-width=\"900\" decoding=\"async\" height=\"15\" src=\"//upload.wikimedia.org/wikipedia/commons/thumb/7/72/Flag_of_the_Republic_of_China.svg/23px-Flag_of_the_Republic_of_China.svg.png\" srcset=\"//upload.wikimedia.org/wikipedia/commons/thumb/7/72/Flag_of_the_Republic_of_China.svg/35px-Flag_of_the_Republic_of_China.svg.png 1.5x, //upload.wikimedia.org/wikipedia/commons/thumb/7/72/Flag_of_the_Republic_of_China.svg/45px-Flag_of_the_Republic_of_China.svg.png 2x\" width=\"23\"/>\n",
      "      </span>\n",
      "     </span>\n",
      "    </span>\n",
      "    <a href=\"/wiki/Taiwan\" title=\"Taiwan\">\n",
      "     Taiwan\n",
      "    </a>\n",
      "    <sup class=\"reference\" id=\"cite_ref-107\">\n",
      "     <a href=\"#cite_note-107\">\n",
      "      <span class=\"cite-bracket\">\n",
      "       [\n",
      "      </span>\n",
      "      note 4\n",
      "      <span class=\"cite-bracket\">\n",
      "       ]\n",
      "      </span>\n",
      "     </a>\n",
      "    </sup>\n",
      "   </td>\n",
      "   <td>\n",
      "    23,580,712\n",
      "   </td>\n",
      "   <td>\n",
      "    35,980\n",
      "   </td>\n",
      "   <td>\n",
      "    655\n",
      "   </td>\n",
      "  </tr>\n",
      "  <tr>\n",
      "   <td>\n",
      "    5\n",
      "   </td>\n",
      "   <td align=\"left\">\n",
      "    <span class=\"flagicon\">\n",
      "     <span class=\"mw-image-border\" typeof=\"mw:File\">\n",
      "      <span>\n",
      "       <img alt=\"\" class=\"mw-file-element\" data-file-height=\"600\" data-file-width=\"900\" decoding=\"async\" height=\"15\" src=\"//upload.wikimedia.org/wikipedia/commons/thumb/0/09/Flag_of_South_Korea.svg/23px-Flag_of_South_Korea.svg.png\" srcset=\"//upload.wikimedia.org/wikipedia/commons/thumb/0/09/Flag_of_South_Korea.svg/35px-Flag_of_South_Korea.svg.png 1.5x, //upload.wikimedia.org/wikipedia/commons/thumb/0/09/Flag_of_South_Korea.svg/45px-Flag_of_South_Korea.svg.png 2x\" width=\"23\"/>\n",
      "      </span>\n",
      "     </span>\n",
      "    </span>\n",
      "    <a href=\"/wiki/South_Korea\" title=\"South Korea\">\n",
      "     South Korea\n",
      "    </a>\n",
      "   </td>\n",
      "   <td>\n",
      "    51,844,834\n",
      "   </td>\n",
      "   <td>\n",
      "    99,720\n",
      "   </td>\n",
      "   <td>\n",
      "    520\n",
      "   </td>\n",
      "  </tr>\n",
      "  <tr>\n",
      "   <td>\n",
      "    6\n",
      "   </td>\n",
      "   <td align=\"left\">\n",
      "    <span class=\"flagicon\">\n",
      "     <span class=\"mw-image-border\" typeof=\"mw:File\">\n",
      "      <span>\n",
      "       <img alt=\"\" class=\"mw-file-element\" data-file-height=\"1920\" data-file-width=\"2880\" decoding=\"async\" height=\"15\" src=\"//upload.wikimedia.org/wikipedia/commons/thumb/5/59/Flag_of_Lebanon.svg/23px-Flag_of_Lebanon.svg.png\" srcset=\"//upload.wikimedia.org/wikipedia/commons/thumb/5/59/Flag_of_Lebanon.svg/35px-Flag_of_Lebanon.svg.png 1.5x, //upload.wikimedia.org/wikipedia/commons/thumb/5/59/Flag_of_Lebanon.svg/45px-Flag_of_Lebanon.svg.png 2x\" width=\"23\"/>\n",
      "      </span>\n",
      "     </span>\n",
      "    </span>\n",
      "    <a href=\"/wiki/Lebanon\" title=\"Lebanon\">\n",
      "     Lebanon\n",
      "    </a>\n",
      "   </td>\n",
      "   <td>\n",
      "    5,296,814\n",
      "   </td>\n",
      "   <td>\n",
      "    10,400\n",
      "   </td>\n",
      "   <td>\n",
      "    509\n",
      "   </td>\n",
      "  </tr>\n",
      "  <tr>\n",
      "   <td>\n",
      "    7\n",
      "   </td>\n",
      "   <td align=\"left\">\n",
      "    <span class=\"flagicon\">\n",
      "     <span class=\"mw-image-border\" typeof=\"mw:File\">\n",
      "      <span>\n",
      "       <img alt=\"\" class=\"mw-file-element\" data-file-height=\"600\" data-file-width=\"900\" decoding=\"async\" height=\"15\" src=\"//upload.wikimedia.org/wikipedia/commons/thumb/1/17/Flag_of_Rwanda.svg/23px-Flag_of_Rwanda.svg.png\" srcset=\"//upload.wikimedia.org/wikipedia/commons/thumb/1/17/Flag_of_Rwanda.svg/35px-Flag_of_Rwanda.svg.png 1.5x, //upload.wikimedia.org/wikipedia/commons/thumb/1/17/Flag_of_Rwanda.svg/45px-Flag_of_Rwanda.svg.png 2x\" width=\"23\"/>\n",
      "      </span>\n",
      "     </span>\n",
      "    </span>\n",
      "    <a href=\"/wiki/Rwanda\" title=\"Rwanda\">\n",
      "     Rwanda\n",
      "    </a>\n",
      "   </td>\n",
      "   <td>\n",
      "    13,173,730\n",
      "   </td>\n",
      "   <td>\n",
      "    26,338\n",
      "   </td>\n",
      "   <td>\n",
      "    500\n",
      "   </td>\n",
      "  </tr>\n",
      "  <tr>\n",
      "   <td>\n",
      "    8\n",
      "   </td>\n",
      "   <td align=\"left\">\n",
      "    <span class=\"flagicon\">\n",
      "     <span class=\"mw-image-border\" typeof=\"mw:File\">\n",
      "      <span>\n",
      "       <img alt=\"\" class=\"mw-file-element\" data-file-height=\"600\" data-file-width=\"1000\" decoding=\"async\" height=\"14\" src=\"//upload.wikimedia.org/wikipedia/commons/thumb/5/50/Flag_of_Burundi.svg/23px-Flag_of_Burundi.svg.png\" srcset=\"//upload.wikimedia.org/wikipedia/commons/thumb/5/50/Flag_of_Burundi.svg/35px-Flag_of_Burundi.svg.png 1.5x, //upload.wikimedia.org/wikipedia/commons/thumb/5/50/Flag_of_Burundi.svg/46px-Flag_of_Burundi.svg.png 2x\" width=\"23\"/>\n",
      "      </span>\n",
      "     </span>\n",
      "    </span>\n",
      "    <a href=\"/wiki/Burundi\" title=\"Burundi\">\n",
      "     Burundi\n",
      "    </a>\n",
      "   </td>\n",
      "   <td>\n",
      "    12,696,478\n",
      "   </td>\n",
      "   <td>\n",
      "    27,830\n",
      "   </td>\n",
      "   <td>\n",
      "    456\n",
      "   </td>\n",
      "  </tr>\n",
      "  <tr>\n",
      "   <td>\n",
      "    9\n",
      "   </td>\n",
      "   <td align=\"left\">\n",
      "    <span class=\"flagicon\">\n",
      "     <span class=\"mw-image-border\" typeof=\"mw:File\">\n",
      "      <span>\n",
      "       <img alt=\"\" class=\"mw-file-element\" data-file-height=\"800\" data-file-width=\"1100\" decoding=\"async\" height=\"15\" src=\"//upload.wikimedia.org/wikipedia/commons/thumb/d/d4/Flag_of_Israel.svg/21px-Flag_of_Israel.svg.png\" srcset=\"//upload.wikimedia.org/wikipedia/commons/thumb/d/d4/Flag_of_Israel.svg/32px-Flag_of_Israel.svg.png 1.5x, //upload.wikimedia.org/wikipedia/commons/thumb/d/d4/Flag_of_Israel.svg/41px-Flag_of_Israel.svg.png 2x\" width=\"21\"/>\n",
      "      </span>\n",
      "     </span>\n",
      "    </span>\n",
      "    <a href=\"/wiki/Israel\" title=\"Israel\">\n",
      "     Israel\n",
      "    </a>\n",
      "   </td>\n",
      "   <td>\n",
      "    9,402,617\n",
      "   </td>\n",
      "   <td>\n",
      "    21,937\n",
      "   </td>\n",
      "   <td>\n",
      "    429\n",
      "   </td>\n",
      "  </tr>\n",
      "  <tr>\n",
      "   <td>\n",
      "    10\n",
      "   </td>\n",
      "   <td align=\"left\">\n",
      "    <span class=\"flagicon\">\n",
      "     <span class=\"mw-image-border\" typeof=\"mw:File\">\n",
      "      <span>\n",
      "       <img alt=\"\" class=\"mw-file-element\" data-file-height=\"600\" data-file-width=\"900\" decoding=\"async\" height=\"15\" src=\"//upload.wikimedia.org/wikipedia/en/thumb/4/41/Flag_of_India.svg/23px-Flag_of_India.svg.png\" srcset=\"//upload.wikimedia.org/wikipedia/en/thumb/4/41/Flag_of_India.svg/35px-Flag_of_India.svg.png 1.5x, //upload.wikimedia.org/wikipedia/en/thumb/4/41/Flag_of_India.svg/45px-Flag_of_India.svg.png 2x\" width=\"23\"/>\n",
      "      </span>\n",
      "     </span>\n",
      "    </span>\n",
      "    <a href=\"/wiki/India\" title=\"India\">\n",
      "     India\n",
      "    </a>\n",
      "   </td>\n",
      "   <td>\n",
      "    1,389,637,446\n",
      "   </td>\n",
      "   <td>\n",
      "    3,287,263\n",
      "   </td>\n",
      "   <td>\n",
      "    423\n",
      "   </td>\n",
      "  </tr>\n",
      " </tbody>\n",
      "</table>\n",
      "\n"
     ]
    }
   ],
   "source": [
    "print(tables[table_index].prettify())"
   ]
  },
  {
   "cell_type": "code",
   "execution_count": 234,
   "id": "07c73af7",
   "metadata": {},
   "outputs": [
    {
     "data": {
      "text/plain": [
       "[<tr>\n",
       " <th scope=\"col\">Rank\n",
       " </th>\n",
       " <th scope=\"col\">Country\n",
       " </th>\n",
       " <th scope=\"col\">Population\n",
       " </th>\n",
       " <th scope=\"col\">Area<br/><small>(km<sup>2</sup>)</small>\n",
       " </th>\n",
       " <th scope=\"col\">Density<br/><small>(pop/km<sup>2</sup>)</small>\n",
       " </th></tr>,\n",
       " <tr>\n",
       " <td>1</td>\n",
       " <td align=\"left\"><span class=\"flagicon\"><span class=\"mw-image-border\" typeof=\"mw:File\"><span><img alt=\"\" class=\"mw-file-element\" data-file-height=\"600\" data-file-width=\"900\" decoding=\"async\" height=\"15\" src=\"//upload.wikimedia.org/wikipedia/commons/thumb/4/48/Flag_of_Singapore.svg/23px-Flag_of_Singapore.svg.png\" srcset=\"//upload.wikimedia.org/wikipedia/commons/thumb/4/48/Flag_of_Singapore.svg/35px-Flag_of_Singapore.svg.png 1.5x, //upload.wikimedia.org/wikipedia/commons/thumb/4/48/Flag_of_Singapore.svg/45px-Flag_of_Singapore.svg.png 2x\" width=\"23\"/></span></span> </span><a href=\"/wiki/Singapore\" title=\"Singapore\">Singapore</a></td>\n",
       " <td>5,921,231</td>\n",
       " <td>719</td>\n",
       " <td>8,235\n",
       " </td></tr>,\n",
       " <tr>\n",
       " <td>2</td>\n",
       " <td align=\"left\"><span class=\"flagicon\"><span class=\"mw-image-border\" typeof=\"mw:File\"><span><img alt=\"\" class=\"mw-file-element\" data-file-height=\"307\" data-file-width=\"512\" decoding=\"async\" height=\"14\" src=\"//upload.wikimedia.org/wikipedia/commons/thumb/f/f9/Flag_of_Bangladesh.svg/23px-Flag_of_Bangladesh.svg.png\" srcset=\"//upload.wikimedia.org/wikipedia/commons/thumb/f/f9/Flag_of_Bangladesh.svg/35px-Flag_of_Bangladesh.svg.png 1.5x, //upload.wikimedia.org/wikipedia/commons/thumb/f/f9/Flag_of_Bangladesh.svg/46px-Flag_of_Bangladesh.svg.png 2x\" width=\"23\"/></span></span> </span><a href=\"/wiki/Bangladesh\" title=\"Bangladesh\">Bangladesh</a></td>\n",
       " <td>165,650,475</td>\n",
       " <td>148,460</td>\n",
       " <td>1,116\n",
       " </td></tr>,\n",
       " <tr>\n",
       " <td>3</td>\n",
       " <td align=\"left\">\n",
       " <p><span class=\"flagicon\"><span class=\"mw-image-border\" typeof=\"mw:File\"><span><img alt=\"\" class=\"mw-file-element\" data-file-height=\"600\" data-file-width=\"1200\" decoding=\"async\" height=\"12\" src=\"//upload.wikimedia.org/wikipedia/commons/thumb/0/00/Flag_of_Palestine.svg/23px-Flag_of_Palestine.svg.png\" srcset=\"//upload.wikimedia.org/wikipedia/commons/thumb/0/00/Flag_of_Palestine.svg/35px-Flag_of_Palestine.svg.png 1.5x, //upload.wikimedia.org/wikipedia/commons/thumb/0/00/Flag_of_Palestine.svg/46px-Flag_of_Palestine.svg.png 2x\" width=\"23\"/></span></span> </span><a href=\"/wiki/Palestine\" title=\"Palestine\">Palestine</a><sup class=\"reference\" id=\"cite_ref-105\"><a href=\"#cite_note-105\"><span class=\"cite-bracket\">[</span>note 3<span class=\"cite-bracket\">]</span></a></sup><sup class=\"reference\" id=\"cite_ref-106\"><a href=\"#cite_note-106\"><span class=\"cite-bracket\">[</span>100<span class=\"cite-bracket\">]</span></a></sup>\n",
       " </p>\n",
       " </td>\n",
       " <td>5,223,000</td>\n",
       " <td>6,025</td>\n",
       " <td>867\n",
       " </td></tr>,\n",
       " <tr>\n",
       " <td>4</td>\n",
       " <td align=\"left\"><span class=\"flagicon\"><span class=\"mw-image-border\" typeof=\"mw:File\"><span><img alt=\"\" class=\"mw-file-element\" data-file-height=\"600\" data-file-width=\"900\" decoding=\"async\" height=\"15\" src=\"//upload.wikimedia.org/wikipedia/commons/thumb/7/72/Flag_of_the_Republic_of_China.svg/23px-Flag_of_the_Republic_of_China.svg.png\" srcset=\"//upload.wikimedia.org/wikipedia/commons/thumb/7/72/Flag_of_the_Republic_of_China.svg/35px-Flag_of_the_Republic_of_China.svg.png 1.5x, //upload.wikimedia.org/wikipedia/commons/thumb/7/72/Flag_of_the_Republic_of_China.svg/45px-Flag_of_the_Republic_of_China.svg.png 2x\" width=\"23\"/></span></span> </span><a href=\"/wiki/Taiwan\" title=\"Taiwan\">Taiwan</a><sup class=\"reference\" id=\"cite_ref-107\"><a href=\"#cite_note-107\"><span class=\"cite-bracket\">[</span>note 4<span class=\"cite-bracket\">]</span></a></sup></td>\n",
       " <td>23,580,712</td>\n",
       " <td>35,980</td>\n",
       " <td>655\n",
       " </td></tr>,\n",
       " <tr>\n",
       " <td>5</td>\n",
       " <td align=\"left\"><span class=\"flagicon\"><span class=\"mw-image-border\" typeof=\"mw:File\"><span><img alt=\"\" class=\"mw-file-element\" data-file-height=\"600\" data-file-width=\"900\" decoding=\"async\" height=\"15\" src=\"//upload.wikimedia.org/wikipedia/commons/thumb/0/09/Flag_of_South_Korea.svg/23px-Flag_of_South_Korea.svg.png\" srcset=\"//upload.wikimedia.org/wikipedia/commons/thumb/0/09/Flag_of_South_Korea.svg/35px-Flag_of_South_Korea.svg.png 1.5x, //upload.wikimedia.org/wikipedia/commons/thumb/0/09/Flag_of_South_Korea.svg/45px-Flag_of_South_Korea.svg.png 2x\" width=\"23\"/></span></span> </span><a href=\"/wiki/South_Korea\" title=\"South Korea\">South Korea</a></td>\n",
       " <td>51,844,834</td>\n",
       " <td>99,720</td>\n",
       " <td>520\n",
       " </td></tr>,\n",
       " <tr>\n",
       " <td>6</td>\n",
       " <td align=\"left\"><span class=\"flagicon\"><span class=\"mw-image-border\" typeof=\"mw:File\"><span><img alt=\"\" class=\"mw-file-element\" data-file-height=\"1920\" data-file-width=\"2880\" decoding=\"async\" height=\"15\" src=\"//upload.wikimedia.org/wikipedia/commons/thumb/5/59/Flag_of_Lebanon.svg/23px-Flag_of_Lebanon.svg.png\" srcset=\"//upload.wikimedia.org/wikipedia/commons/thumb/5/59/Flag_of_Lebanon.svg/35px-Flag_of_Lebanon.svg.png 1.5x, //upload.wikimedia.org/wikipedia/commons/thumb/5/59/Flag_of_Lebanon.svg/45px-Flag_of_Lebanon.svg.png 2x\" width=\"23\"/></span></span> </span><a href=\"/wiki/Lebanon\" title=\"Lebanon\">Lebanon</a></td>\n",
       " <td>5,296,814</td>\n",
       " <td>10,400</td>\n",
       " <td>509\n",
       " </td></tr>,\n",
       " <tr>\n",
       " <td>7</td>\n",
       " <td align=\"left\"><span class=\"flagicon\"><span class=\"mw-image-border\" typeof=\"mw:File\"><span><img alt=\"\" class=\"mw-file-element\" data-file-height=\"600\" data-file-width=\"900\" decoding=\"async\" height=\"15\" src=\"//upload.wikimedia.org/wikipedia/commons/thumb/1/17/Flag_of_Rwanda.svg/23px-Flag_of_Rwanda.svg.png\" srcset=\"//upload.wikimedia.org/wikipedia/commons/thumb/1/17/Flag_of_Rwanda.svg/35px-Flag_of_Rwanda.svg.png 1.5x, //upload.wikimedia.org/wikipedia/commons/thumb/1/17/Flag_of_Rwanda.svg/45px-Flag_of_Rwanda.svg.png 2x\" width=\"23\"/></span></span> </span><a href=\"/wiki/Rwanda\" title=\"Rwanda\">Rwanda</a></td>\n",
       " <td>13,173,730</td>\n",
       " <td>26,338</td>\n",
       " <td>500\n",
       " </td></tr>,\n",
       " <tr>\n",
       " <td>8</td>\n",
       " <td align=\"left\"><span class=\"flagicon\"><span class=\"mw-image-border\" typeof=\"mw:File\"><span><img alt=\"\" class=\"mw-file-element\" data-file-height=\"600\" data-file-width=\"1000\" decoding=\"async\" height=\"14\" src=\"//upload.wikimedia.org/wikipedia/commons/thumb/5/50/Flag_of_Burundi.svg/23px-Flag_of_Burundi.svg.png\" srcset=\"//upload.wikimedia.org/wikipedia/commons/thumb/5/50/Flag_of_Burundi.svg/35px-Flag_of_Burundi.svg.png 1.5x, //upload.wikimedia.org/wikipedia/commons/thumb/5/50/Flag_of_Burundi.svg/46px-Flag_of_Burundi.svg.png 2x\" width=\"23\"/></span></span> </span><a href=\"/wiki/Burundi\" title=\"Burundi\">Burundi</a></td>\n",
       " <td>12,696,478</td>\n",
       " <td>27,830</td>\n",
       " <td>456\n",
       " </td></tr>,\n",
       " <tr>\n",
       " <td>9</td>\n",
       " <td align=\"left\"><span class=\"flagicon\"><span class=\"mw-image-border\" typeof=\"mw:File\"><span><img alt=\"\" class=\"mw-file-element\" data-file-height=\"800\" data-file-width=\"1100\" decoding=\"async\" height=\"15\" src=\"//upload.wikimedia.org/wikipedia/commons/thumb/d/d4/Flag_of_Israel.svg/21px-Flag_of_Israel.svg.png\" srcset=\"//upload.wikimedia.org/wikipedia/commons/thumb/d/d4/Flag_of_Israel.svg/32px-Flag_of_Israel.svg.png 1.5x, //upload.wikimedia.org/wikipedia/commons/thumb/d/d4/Flag_of_Israel.svg/41px-Flag_of_Israel.svg.png 2x\" width=\"21\"/></span></span> </span><a href=\"/wiki/Israel\" title=\"Israel\">Israel</a></td>\n",
       " <td>9,402,617</td>\n",
       " <td>21,937</td>\n",
       " <td>429\n",
       " </td></tr>,\n",
       " <tr>\n",
       " <td>10</td>\n",
       " <td align=\"left\"><span class=\"flagicon\"><span class=\"mw-image-border\" typeof=\"mw:File\"><span><img alt=\"\" class=\"mw-file-element\" data-file-height=\"600\" data-file-width=\"900\" decoding=\"async\" height=\"15\" src=\"//upload.wikimedia.org/wikipedia/en/thumb/4/41/Flag_of_India.svg/23px-Flag_of_India.svg.png\" srcset=\"//upload.wikimedia.org/wikipedia/en/thumb/4/41/Flag_of_India.svg/35px-Flag_of_India.svg.png 1.5x, //upload.wikimedia.org/wikipedia/en/thumb/4/41/Flag_of_India.svg/45px-Flag_of_India.svg.png 2x\" width=\"23\"/></span></span> </span><a href=\"/wiki/India\" title=\"India\">India</a></td>\n",
       " <td>1,389,637,446</td>\n",
       " <td>3,287,263</td>\n",
       " <td>423\n",
       " </td></tr>]"
      ]
     },
     "execution_count": 234,
     "metadata": {},
     "output_type": "execute_result"
    }
   ],
   "source": [
    "tables[table_index].tbody.find_all('tr')"
   ]
  },
  {
   "cell_type": "code",
   "execution_count": 249,
   "id": "042cb6f6",
   "metadata": {},
   "outputs": [],
   "source": [
    "population_data = pd.DataFrame(columns = ['Rank', 'Country', \"Population\", 'Area','Density'])\n",
    "data = []\n",
    "for row in tables[table_index].tbody.find_all('tr'):\n",
    "    col = row.find_all('td')\n",
    "    if col != []:\n",
    "        rank = col[0].text\n",
    "        country = col[1].text.strip()\n",
    "        population = col[2].text\n",
    "        area = float(col[3].text.strip().replace(',',''))\n",
    "        density = float(col[4].text.strip().replace(',',''))\n",
    "        data.append({\n",
    "            'Rank':rank,\n",
    "            'Country':country,\n",
    "            'Population': population,\n",
    "            \"Area\":area,\n",
    "            'Density':density\n",
    "        })\n",
    "        \n",
    "population_data = pd.DataFrame(data)"
   ]
  },
  {
   "cell_type": "markdown",
   "id": "b36b785d",
   "metadata": {},
   "source": [
    "<div class='alert alert-block alert-warning'>\n",
    "[Tip]\n",
    "pandas.DataFrame.append() 메서드는 더 이상 권장되지 않으며, 대신 list를 사용하여 데이터를 수집한 후 **pandas.DataFrame**으로 변환하는 방식이 권장됩니다. 아래는 개선된 방법입니다\n",
    "</div>"
   ]
  },
  {
   "cell_type": "code",
   "execution_count": 250,
   "id": "f2e31bb3",
   "metadata": {},
   "outputs": [
    {
     "data": {
      "text/html": [
       "<div>\n",
       "<style scoped>\n",
       "    .dataframe tbody tr th:only-of-type {\n",
       "        vertical-align: middle;\n",
       "    }\n",
       "\n",
       "    .dataframe tbody tr th {\n",
       "        vertical-align: top;\n",
       "    }\n",
       "\n",
       "    .dataframe thead th {\n",
       "        text-align: right;\n",
       "    }\n",
       "</style>\n",
       "<table border=\"1\" class=\"dataframe\">\n",
       "  <thead>\n",
       "    <tr style=\"text-align: right;\">\n",
       "      <th></th>\n",
       "      <th>Rank</th>\n",
       "      <th>Country</th>\n",
       "      <th>Population</th>\n",
       "      <th>Area</th>\n",
       "      <th>Density</th>\n",
       "    </tr>\n",
       "  </thead>\n",
       "  <tbody>\n",
       "    <tr>\n",
       "      <th>0</th>\n",
       "      <td>1</td>\n",
       "      <td>Singapore</td>\n",
       "      <td>5,921,231</td>\n",
       "      <td>719.0</td>\n",
       "      <td>8235.0</td>\n",
       "    </tr>\n",
       "    <tr>\n",
       "      <th>1</th>\n",
       "      <td>2</td>\n",
       "      <td>Bangladesh</td>\n",
       "      <td>165,650,475</td>\n",
       "      <td>148460.0</td>\n",
       "      <td>1116.0</td>\n",
       "    </tr>\n",
       "    <tr>\n",
       "      <th>2</th>\n",
       "      <td>3</td>\n",
       "      <td>Palestine[note 3][100]</td>\n",
       "      <td>5,223,000</td>\n",
       "      <td>6025.0</td>\n",
       "      <td>867.0</td>\n",
       "    </tr>\n",
       "    <tr>\n",
       "      <th>3</th>\n",
       "      <td>4</td>\n",
       "      <td>Taiwan[note 4]</td>\n",
       "      <td>23,580,712</td>\n",
       "      <td>35980.0</td>\n",
       "      <td>655.0</td>\n",
       "    </tr>\n",
       "    <tr>\n",
       "      <th>4</th>\n",
       "      <td>5</td>\n",
       "      <td>South Korea</td>\n",
       "      <td>51,844,834</td>\n",
       "      <td>99720.0</td>\n",
       "      <td>520.0</td>\n",
       "    </tr>\n",
       "    <tr>\n",
       "      <th>5</th>\n",
       "      <td>6</td>\n",
       "      <td>Lebanon</td>\n",
       "      <td>5,296,814</td>\n",
       "      <td>10400.0</td>\n",
       "      <td>509.0</td>\n",
       "    </tr>\n",
       "    <tr>\n",
       "      <th>6</th>\n",
       "      <td>7</td>\n",
       "      <td>Rwanda</td>\n",
       "      <td>13,173,730</td>\n",
       "      <td>26338.0</td>\n",
       "      <td>500.0</td>\n",
       "    </tr>\n",
       "    <tr>\n",
       "      <th>7</th>\n",
       "      <td>8</td>\n",
       "      <td>Burundi</td>\n",
       "      <td>12,696,478</td>\n",
       "      <td>27830.0</td>\n",
       "      <td>456.0</td>\n",
       "    </tr>\n",
       "    <tr>\n",
       "      <th>8</th>\n",
       "      <td>9</td>\n",
       "      <td>Israel</td>\n",
       "      <td>9,402,617</td>\n",
       "      <td>21937.0</td>\n",
       "      <td>429.0</td>\n",
       "    </tr>\n",
       "    <tr>\n",
       "      <th>9</th>\n",
       "      <td>10</td>\n",
       "      <td>India</td>\n",
       "      <td>1,389,637,446</td>\n",
       "      <td>3287263.0</td>\n",
       "      <td>423.0</td>\n",
       "    </tr>\n",
       "  </tbody>\n",
       "</table>\n",
       "</div>"
      ],
      "text/plain": [
       "  Rank                 Country     Population       Area  Density\n",
       "0    1               Singapore      5,921,231      719.0   8235.0\n",
       "1    2              Bangladesh    165,650,475   148460.0   1116.0\n",
       "2    3  Palestine[note 3][100]      5,223,000     6025.0    867.0\n",
       "3    4          Taiwan[note 4]     23,580,712    35980.0    655.0\n",
       "4    5             South Korea     51,844,834    99720.0    520.0\n",
       "5    6                 Lebanon      5,296,814    10400.0    509.0\n",
       "6    7                  Rwanda     13,173,730    26338.0    500.0\n",
       "7    8                 Burundi     12,696,478    27830.0    456.0\n",
       "8    9                  Israel      9,402,617    21937.0    429.0\n",
       "9   10                   India  1,389,637,446  3287263.0    423.0"
      ]
     },
     "execution_count": 250,
     "metadata": {},
     "output_type": "execute_result"
    }
   ],
   "source": [
    "population_data"
   ]
  },
  {
   "cell_type": "markdown",
   "id": "bcc28475",
   "metadata": {},
   "source": [
    "## Scrape data from HTML tables into a DataFrame using BeautifulSoup and read_html\n",
    "\n",
    "\n",
    "---\n",
    "\n",
    "이전 섹션에서 사용한 동일한 `url`, `data`, `soup`, 및 `tables` 객체를 사용하여 `read_html` 함수를 통해 DataFrame을 생성할 수 있습니다.\n",
    "\n",
    "우리가 필요한 테이블은 `tables[table_index]`에 위치해 있다는 것을 기억하세요.\n",
    "\n",
    "이제 `pandas`의 `read_html` 함수를 사용하여 테이블의 문자열 버전을 전달하고, `flavor`로 구문 분석 엔진인 `bs4`를 지정할 수 있습니다.\n",
    "\n",
    "---\n",
    "\n"
   ]
  },
  {
   "cell_type": "code",
   "execution_count": 257,
   "id": "1c5eb9b0",
   "metadata": {},
   "outputs": [
    {
     "data": {
      "text/html": [
       "<div>\n",
       "<style scoped>\n",
       "    .dataframe tbody tr th:only-of-type {\n",
       "        vertical-align: middle;\n",
       "    }\n",
       "\n",
       "    .dataframe tbody tr th {\n",
       "        vertical-align: top;\n",
       "    }\n",
       "\n",
       "    .dataframe thead th {\n",
       "        text-align: right;\n",
       "    }\n",
       "</style>\n",
       "<table border=\"1\" class=\"dataframe\">\n",
       "  <thead>\n",
       "    <tr style=\"text-align: right;\">\n",
       "      <th></th>\n",
       "      <th>Rank</th>\n",
       "      <th>Country</th>\n",
       "      <th>Population</th>\n",
       "      <th>Area (km2)</th>\n",
       "      <th>Density (pop/km2)</th>\n",
       "    </tr>\n",
       "  </thead>\n",
       "  <tbody>\n",
       "    <tr>\n",
       "      <th>0</th>\n",
       "      <td>1</td>\n",
       "      <td>Singapore</td>\n",
       "      <td>5921231</td>\n",
       "      <td>719</td>\n",
       "      <td>8235</td>\n",
       "    </tr>\n",
       "    <tr>\n",
       "      <th>1</th>\n",
       "      <td>2</td>\n",
       "      <td>Bangladesh</td>\n",
       "      <td>165650475</td>\n",
       "      <td>148460</td>\n",
       "      <td>1116</td>\n",
       "    </tr>\n",
       "    <tr>\n",
       "      <th>2</th>\n",
       "      <td>3</td>\n",
       "      <td>Palestine[note 3][100]</td>\n",
       "      <td>5223000</td>\n",
       "      <td>6025</td>\n",
       "      <td>867</td>\n",
       "    </tr>\n",
       "    <tr>\n",
       "      <th>3</th>\n",
       "      <td>4</td>\n",
       "      <td>Taiwan[note 4]</td>\n",
       "      <td>23580712</td>\n",
       "      <td>35980</td>\n",
       "      <td>655</td>\n",
       "    </tr>\n",
       "    <tr>\n",
       "      <th>4</th>\n",
       "      <td>5</td>\n",
       "      <td>South Korea</td>\n",
       "      <td>51844834</td>\n",
       "      <td>99720</td>\n",
       "      <td>520</td>\n",
       "    </tr>\n",
       "    <tr>\n",
       "      <th>5</th>\n",
       "      <td>6</td>\n",
       "      <td>Lebanon</td>\n",
       "      <td>5296814</td>\n",
       "      <td>10400</td>\n",
       "      <td>509</td>\n",
       "    </tr>\n",
       "    <tr>\n",
       "      <th>6</th>\n",
       "      <td>7</td>\n",
       "      <td>Rwanda</td>\n",
       "      <td>13173730</td>\n",
       "      <td>26338</td>\n",
       "      <td>500</td>\n",
       "    </tr>\n",
       "    <tr>\n",
       "      <th>7</th>\n",
       "      <td>8</td>\n",
       "      <td>Burundi</td>\n",
       "      <td>12696478</td>\n",
       "      <td>27830</td>\n",
       "      <td>456</td>\n",
       "    </tr>\n",
       "    <tr>\n",
       "      <th>8</th>\n",
       "      <td>9</td>\n",
       "      <td>Israel</td>\n",
       "      <td>9402617</td>\n",
       "      <td>21937</td>\n",
       "      <td>429</td>\n",
       "    </tr>\n",
       "    <tr>\n",
       "      <th>9</th>\n",
       "      <td>10</td>\n",
       "      <td>India</td>\n",
       "      <td>1389637446</td>\n",
       "      <td>3287263</td>\n",
       "      <td>423</td>\n",
       "    </tr>\n",
       "  </tbody>\n",
       "</table>\n",
       "</div>"
      ],
      "text/plain": [
       "   Rank                 Country  Population  Area (km2)  Density (pop/km2)\n",
       "0     1               Singapore     5921231         719               8235\n",
       "1     2              Bangladesh   165650475      148460               1116\n",
       "2     3  Palestine[note 3][100]     5223000        6025                867\n",
       "3     4          Taiwan[note 4]    23580712       35980                655\n",
       "4     5             South Korea    51844834       99720                520\n",
       "5     6                 Lebanon     5296814       10400                509\n",
       "6     7                  Rwanda    13173730       26338                500\n",
       "7     8                 Burundi    12696478       27830                456\n",
       "8     9                  Israel     9402617       21937                429\n",
       "9    10                   India  1389637446     3287263                423"
      ]
     },
     "execution_count": 257,
     "metadata": {},
     "output_type": "execute_result"
    }
   ],
   "source": [
    "pd.read_html(str(tables[7]), flavor='bs4')[0]"
   ]
  },
  {
   "cell_type": "code",
   "execution_count": 259,
   "id": "1a41415d",
   "metadata": {},
   "outputs": [
    {
     "data": {
      "text/html": [
       "<div>\n",
       "<style scoped>\n",
       "    .dataframe tbody tr th:only-of-type {\n",
       "        vertical-align: middle;\n",
       "    }\n",
       "\n",
       "    .dataframe tbody tr th {\n",
       "        vertical-align: top;\n",
       "    }\n",
       "\n",
       "    .dataframe thead th {\n",
       "        text-align: right;\n",
       "    }\n",
       "</style>\n",
       "<table border=\"1\" class=\"dataframe\">\n",
       "  <thead>\n",
       "    <tr style=\"text-align: right;\">\n",
       "      <th></th>\n",
       "      <th>Rank</th>\n",
       "      <th>Country</th>\n",
       "      <th>Population</th>\n",
       "      <th>Area (km2)</th>\n",
       "      <th>Density (pop/km2)</th>\n",
       "    </tr>\n",
       "  </thead>\n",
       "  <tbody>\n",
       "    <tr>\n",
       "      <th>0</th>\n",
       "      <td>1</td>\n",
       "      <td>Singapore</td>\n",
       "      <td>5921231</td>\n",
       "      <td>719</td>\n",
       "      <td>8235</td>\n",
       "    </tr>\n",
       "    <tr>\n",
       "      <th>1</th>\n",
       "      <td>2</td>\n",
       "      <td>Bangladesh</td>\n",
       "      <td>165650475</td>\n",
       "      <td>148460</td>\n",
       "      <td>1116</td>\n",
       "    </tr>\n",
       "    <tr>\n",
       "      <th>2</th>\n",
       "      <td>3</td>\n",
       "      <td>Palestine[note 3][100]</td>\n",
       "      <td>5223000</td>\n",
       "      <td>6025</td>\n",
       "      <td>867</td>\n",
       "    </tr>\n",
       "    <tr>\n",
       "      <th>3</th>\n",
       "      <td>4</td>\n",
       "      <td>Taiwan[note 4]</td>\n",
       "      <td>23580712</td>\n",
       "      <td>35980</td>\n",
       "      <td>655</td>\n",
       "    </tr>\n",
       "    <tr>\n",
       "      <th>4</th>\n",
       "      <td>5</td>\n",
       "      <td>South Korea</td>\n",
       "      <td>51844834</td>\n",
       "      <td>99720</td>\n",
       "      <td>520</td>\n",
       "    </tr>\n",
       "    <tr>\n",
       "      <th>5</th>\n",
       "      <td>6</td>\n",
       "      <td>Lebanon</td>\n",
       "      <td>5296814</td>\n",
       "      <td>10400</td>\n",
       "      <td>509</td>\n",
       "    </tr>\n",
       "    <tr>\n",
       "      <th>6</th>\n",
       "      <td>7</td>\n",
       "      <td>Rwanda</td>\n",
       "      <td>13173730</td>\n",
       "      <td>26338</td>\n",
       "      <td>500</td>\n",
       "    </tr>\n",
       "    <tr>\n",
       "      <th>7</th>\n",
       "      <td>8</td>\n",
       "      <td>Burundi</td>\n",
       "      <td>12696478</td>\n",
       "      <td>27830</td>\n",
       "      <td>456</td>\n",
       "    </tr>\n",
       "    <tr>\n",
       "      <th>8</th>\n",
       "      <td>9</td>\n",
       "      <td>Israel</td>\n",
       "      <td>9402617</td>\n",
       "      <td>21937</td>\n",
       "      <td>429</td>\n",
       "    </tr>\n",
       "    <tr>\n",
       "      <th>9</th>\n",
       "      <td>10</td>\n",
       "      <td>India</td>\n",
       "      <td>1389637446</td>\n",
       "      <td>3287263</td>\n",
       "      <td>423</td>\n",
       "    </tr>\n",
       "  </tbody>\n",
       "</table>\n",
       "</div>"
      ],
      "text/plain": [
       "   Rank                 Country  Population  Area (km2)  Density (pop/km2)\n",
       "0     1               Singapore     5921231         719               8235\n",
       "1     2              Bangladesh   165650475      148460               1116\n",
       "2     3  Palestine[note 3][100]     5223000        6025                867\n",
       "3     4          Taiwan[note 4]    23580712       35980                655\n",
       "4     5             South Korea    51844834       99720                520\n",
       "5     6                 Lebanon     5296814       10400                509\n",
       "6     7                  Rwanda    13173730       26338                500\n",
       "7     8                 Burundi    12696478       27830                456\n",
       "8     9                  Israel     9402617       21937                429\n",
       "9    10                   India  1389637446     3287263                423"
      ]
     },
     "execution_count": 259,
     "metadata": {},
     "output_type": "execute_result"
    }
   ],
   "source": [
    "population_data_read_html = pd.read_html(str(tables[7]), flavor='bs4')[0]\n",
    "\n",
    "population_data_read_html"
   ]
  },
  {
   "cell_type": "markdown",
   "id": "65e3db1f",
   "metadata": {},
   "source": [
    "\n",
    "\n",
    "## HTML 테이블에서 데이터를 스크래핑하여 DataFrame으로 변환하기 (`read_html` 사용)  \n",
    "`read_html` 함수를 사용하여 URL에서 직접 DataFrame을 가져올 수도 있습니다.\n",
    "\n"
   ]
  },
  {
   "cell_type": "code",
   "execution_count": 260,
   "id": "aa6d67e4",
   "metadata": {},
   "outputs": [],
   "source": [
    "dataframe_list = pd.read_html(url, flavor='bs4')"
   ]
  },
  {
   "cell_type": "code",
   "execution_count": 264,
   "id": "d9baa47c",
   "metadata": {},
   "outputs": [
    {
     "data": {
      "text/html": [
       "<div>\n",
       "<style scoped>\n",
       "    .dataframe tbody tr th:only-of-type {\n",
       "        vertical-align: middle;\n",
       "    }\n",
       "\n",
       "    .dataframe tbody tr th {\n",
       "        vertical-align: top;\n",
       "    }\n",
       "\n",
       "    .dataframe thead th {\n",
       "        text-align: right;\n",
       "    }\n",
       "</style>\n",
       "<table border=\"1\" class=\"dataframe\">\n",
       "  <thead>\n",
       "    <tr style=\"text-align: right;\">\n",
       "      <th></th>\n",
       "      <th>Rank</th>\n",
       "      <th>Country</th>\n",
       "      <th>Population</th>\n",
       "      <th>Area (km2)</th>\n",
       "      <th>Density (pop/km2)</th>\n",
       "    </tr>\n",
       "  </thead>\n",
       "  <tbody>\n",
       "    <tr>\n",
       "      <th>0</th>\n",
       "      <td>1</td>\n",
       "      <td>Singapore</td>\n",
       "      <td>5921231</td>\n",
       "      <td>719</td>\n",
       "      <td>8235</td>\n",
       "    </tr>\n",
       "    <tr>\n",
       "      <th>1</th>\n",
       "      <td>2</td>\n",
       "      <td>Bangladesh</td>\n",
       "      <td>165650475</td>\n",
       "      <td>148460</td>\n",
       "      <td>1116</td>\n",
       "    </tr>\n",
       "    <tr>\n",
       "      <th>2</th>\n",
       "      <td>3</td>\n",
       "      <td>Palestine[note 3][100]</td>\n",
       "      <td>5223000</td>\n",
       "      <td>6025</td>\n",
       "      <td>867</td>\n",
       "    </tr>\n",
       "    <tr>\n",
       "      <th>3</th>\n",
       "      <td>4</td>\n",
       "      <td>Taiwan[note 4]</td>\n",
       "      <td>23580712</td>\n",
       "      <td>35980</td>\n",
       "      <td>655</td>\n",
       "    </tr>\n",
       "    <tr>\n",
       "      <th>4</th>\n",
       "      <td>5</td>\n",
       "      <td>South Korea</td>\n",
       "      <td>51844834</td>\n",
       "      <td>99720</td>\n",
       "      <td>520</td>\n",
       "    </tr>\n",
       "    <tr>\n",
       "      <th>5</th>\n",
       "      <td>6</td>\n",
       "      <td>Lebanon</td>\n",
       "      <td>5296814</td>\n",
       "      <td>10400</td>\n",
       "      <td>509</td>\n",
       "    </tr>\n",
       "    <tr>\n",
       "      <th>6</th>\n",
       "      <td>7</td>\n",
       "      <td>Rwanda</td>\n",
       "      <td>13173730</td>\n",
       "      <td>26338</td>\n",
       "      <td>500</td>\n",
       "    </tr>\n",
       "    <tr>\n",
       "      <th>7</th>\n",
       "      <td>8</td>\n",
       "      <td>Burundi</td>\n",
       "      <td>12696478</td>\n",
       "      <td>27830</td>\n",
       "      <td>456</td>\n",
       "    </tr>\n",
       "    <tr>\n",
       "      <th>8</th>\n",
       "      <td>9</td>\n",
       "      <td>Israel</td>\n",
       "      <td>9402617</td>\n",
       "      <td>21937</td>\n",
       "      <td>429</td>\n",
       "    </tr>\n",
       "    <tr>\n",
       "      <th>9</th>\n",
       "      <td>10</td>\n",
       "      <td>India</td>\n",
       "      <td>1389637446</td>\n",
       "      <td>3287263</td>\n",
       "      <td>423</td>\n",
       "    </tr>\n",
       "  </tbody>\n",
       "</table>\n",
       "</div>"
      ],
      "text/plain": [
       "   Rank                 Country  Population  Area (km2)  Density (pop/km2)\n",
       "0     1               Singapore     5921231         719               8235\n",
       "1     2              Bangladesh   165650475      148460               1116\n",
       "2     3  Palestine[note 3][100]     5223000        6025                867\n",
       "3     4          Taiwan[note 4]    23580712       35980                655\n",
       "4     5             South Korea    51844834       99720                520\n",
       "5     6                 Lebanon     5296814       10400                509\n",
       "6     7                  Rwanda    13173730       26338                500\n",
       "7     8                 Burundi    12696478       27830                456\n",
       "8     9                  Israel     9402617       21937                429\n",
       "9    10                   India  1389637446     3287263                423"
      ]
     },
     "execution_count": 264,
     "metadata": {},
     "output_type": "execute_result"
    }
   ],
   "source": [
    "dataframe_list[6]"
   ]
  }
 ],
 "metadata": {
  "kernelspec": {
   "display_name": "Python 3 (ipykernel)",
   "language": "python",
   "name": "python3"
  },
  "language_info": {
   "codemirror_mode": {
    "name": "ipython",
    "version": 3
   },
   "file_extension": ".py",
   "mimetype": "text/x-python",
   "name": "python",
   "nbconvert_exporter": "python",
   "pygments_lexer": "ipython3",
   "version": "3.9.12"
  }
 },
 "nbformat": 4,
 "nbformat_minor": 5
}
