{
 "cells": [
  {
   "cell_type": "code",
   "execution_count": 3,
   "id": "f10d1c57-04c0-4d79-8ebb-b80289c7a527",
   "metadata": {},
   "outputs": [
    {
     "name": "stdout",
     "output_type": "stream",
     "text": [
      "100 USD 는 144000 KRW (데코레이터 적용) 입니다.\n"
     ]
    }
   ],
   "source": [
    "from pint import UnitRegistry\n",
    "from functools import wraps\n",
    "\n",
    "units = UnitRegistry()\n",
    "Q_ = units.Quantity\n",
    "\n",
    "# pint에 사용자 정의 단위 등록 (먼저 정의!)\n",
    "units.define('USD = [currency_USD]')\n",
    "units.define('KRW = [currency_KRW]')\n",
    "\n",
    "# 통화 단위 정의 (USD, KRW) (정의 후에 units.USD, units.KRW 로 접근)\n",
    "USD = units.USD\n",
    "KRW = units.KRW\n",
    "\n",
    "\n",
    "exchange_rate_usd_to_krw = Q_(1440, KRW/USD)\n",
    "\n",
    "\n",
    "def ensure_currency_unit(expected_unit): # 간단한 단위 검증 데코레이터\n",
    "    \"\"\"입력 금액이 특정 통화 단위인지 검증하는 데코레이터 (간단 버전)\"\"\"\n",
    "    def decorator_ensure_currency_unit(func):\n",
    "        @wraps(func)\n",
    "        def wrapper_ensure_currency_unit(amount, *args, **kwargs): # 첫 번째 인자만 단위 검증 (간단화)\n",
    "            if not isinstance(amount, Q_):\n",
    "                raise ValueError(\"입력 금액은 pint Quantity 객체여야 합니다.\")\n",
    "            if amount.units != expected_unit: # 단위 일치 여부 확인 (엄격한 비교)\n",
    "                raise ValueError(f\"입력 금액 단위 오류: 예상 단위는 '{expected_unit}' 입니다. 입력된 단위: '{amount.units}'\")\n",
    "            return func(amount, *args, **kwargs) # 원래 함수 호출\n",
    "        return wrapper_ensure_currency_unit\n",
    "    return decorator_ensure_currency_unit\n",
    "\n",
    "\n",
    "@ensure_currency_unit(USD) # USD 단위 검증 데코레이터 적용\n",
    "def calculate_exchange_amount_decorated(amount, exchange_rate):\n",
    "    \"\"\"단위 인식 데코레이터가 적용된 환율 계산 함수 (USD 입력 검증)\"\"\"\n",
    "    return amount * exchange_rate\n",
    "\n",
    "\n",
    "# 예시: 100 USD 를 KRW 로 환산 (데코레이터 적용 함수 호출)\n",
    "usd_amount_decorated = Q_(100, USD)\n",
    "krw_amount_decorated = calculate_exchange_amount_decorated(usd_amount_decorated, exchange_rate_usd_to_krw)\n",
    "print(f\"{usd_amount_decorated} 는 {krw_amount_decorated} (데코레이터 적용) 입니다.\")\n",
    "\n",
    "\n",
    "# 단위 오류 예시 (주석 해제 후 실행 시 오류 발생)\n",
    "# krw_amount_wrong_unit = Q_(100000, KRW) # KRW 단위 금액\n",
    "# calculate_exchange_amount_decorated(krw_amount_wrong_unit, exchange_rate_usd_to_krw) # 오류 발생: USD 단위가 아님"
   ]
  },
  {
   "cell_type": "code",
   "execution_count": null,
   "id": "d4fc7db5-1fbf-45f7-aa40-7e30b4c09391",
   "metadata": {},
   "outputs": [],
   "source": []
  }
 ],
 "metadata": {
  "kernelspec": {
   "display_name": "Python 3 (ipykernel)",
   "language": "python",
   "name": "python3"
  },
  "language_info": {
   "codemirror_mode": {
    "name": "ipython",
    "version": 3
   },
   "file_extension": ".py",
   "mimetype": "text/x-python",
   "name": "python",
   "nbconvert_exporter": "python",
   "pygments_lexer": "ipython3",
   "version": "3.9.12"
  }
 },
 "nbformat": 4,
 "nbformat_minor": 5
}
