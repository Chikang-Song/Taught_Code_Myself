{
 "cells": [
  {
   "cell_type": "markdown",
   "id": "7072fb33-159b-4bcd-95e6-3aaffa35cebd",
   "metadata": {},
   "source": [
    "# Dash Basic: HTML and Core Components\n",
    "\n",
    "### Objectives\n",
    "\n",
    "After completing the lab you will be able to:\n",
    "\n",
    "* Create a dash application layout\n",
    "* Add HTML H1, P, and Div Components\n",
    "* Add core graph component\n",
    "* Add multiple charts\n",
    "\n",
    "### Dataset Used\n",
    "[Airline Reporting Carrier On-Time Performance](https://developer.ibm.com/exchanges/data/all/airline?cm_mmc=Email_Newsletter-_-Developer_Ed%2BTech-_-WW_WW-_-SkillsNetwork-Courses-IBMDeveloperSkillsNetwork-DV0101EN-SkillsNetwork-20297740&cm_mmca1=000026UJ&cm_mmca2=10006555&cm_mmca3=M12345678&cvosrc=email.Newsletter.M12345678&cvo_campaign=000026UJ) data set from Data [Asset eXchange](https://developer.ibm.com/exchanges/data/?cm_mmc=Email_Newsletter-_-Developer_Ed%2BTech-_-WW_WW-_-SkillsNetwork-Courses-IBMDeveloperSkillsNetwork-DV0101EN-SkillsNetwork-20297740&cm_mmca1=000026UJ&cm_mmca2=10006555&cm_mmca3=M12345678&cvosrc=email.Newsletter.M12345678&cvo_campaign=000026UJ&cm_mmc=Email_Newsletter-_-Developer_Ed%2BTech-_-WW_WW-_-SkillsNetwork-Courses-IBMDeveloperSkillsNetwork-DV0101EN-SkillsNetwork-20297740&cm_mmca1=000026UJ&cm_mmca2=10006555&cm_mmca3=M12345678&cvosrc=email.Newsletter.M12345678&cvo_campaign=000026UJ)"
   ]
  },
  {
   "cell_type": "markdown",
   "id": "5b4184da-6668-4978-9fca-6c201f5a0431",
   "metadata": {},
   "source": [
    "### Let's start creating dash application\n",
    "\n",
    "#### Goal\n",
    "Create a dashboard that displays the percentage of flights running under specific distance group. Distance group is the distance intervals, every 250 miles, for flight segment. If the flight covers to 500 miles, it will be under distance group 2 (250 miles + 250 miles)\n",
    "\n",
    "#### Expected Output\n",
    "Below is the expected result from the lab. Our dashboard application consists of three components.\n",
    "* Title of the application\n",
    "* Description of the application\n",
    "* Chart conveying the proportion of distance group by month"
   ]
  },
  {
   "cell_type": "markdown",
   "id": "994d07ea-d54b-457c-ba70-5f6fa46b37b2",
   "metadata": {},
   "source": [
    "<img src='https://cf-courses-data.s3.us.cloud-object-storage.appdomain.cloud/IBMDeveloperSkillsNetwork-DV0101EN-SkillsNetwork/labs/Module%204/images/basics_output.png'/>"
   ]
  },
  {
   "cell_type": "markdown",
   "id": "91f0af69-097e-4db2-969c-271356ab1239",
   "metadata": {},
   "source": [
    "#### To do:\n",
    "1. Import required libraries and read dataset\n",
    "2. Create an application layout\n",
    "3. Add title to the dashboard using HTML H1 component\n",
    "4. Add a paragraph about the chart using HTML P component\n",
    "5. Add the pie chart above using core graph component\n",
    "6. Run the App"
   ]
  },
  {
   "cell_type": "markdown",
   "id": "8c3bace3-9c2a-441c-8495-c062fd493f34",
   "metadata": {},
   "source": [
    "## Got the tool ready\n",
    "* Install python packages required to run the application. Copy and paste the below command to the terminal.\n",
    "\n",
    "  ```python\n",
    "  python3.8 -m pip install packaging\n",
    "\n",
    "  python3.8 -m pip install pandas dash\n",
    "  ```\n",
    "<img src='https://cf-courses-data.s3.us.cloud-object-storage.appdomain.cloud/IBMDeveloperSkillsNetwork-DV0101EN-SkillsNetwork/labs/Module%204/images/pandas_dash.PNG'/>\n",
    "\n",
    "```python\n",
    "pip3 install httpx==0.20 dash plotly\n",
    "```\n",
    "<img src='https://cf-courses-data.s3.us.cloud-object-storage.appdomain.cloud/IBMDeveloperSkillsNetwork-DV0101EN-SkillsNetwork/labs/Module%204/images/install_httpx.PNG' />\n",
    "\n",
    "* Create a new python script, by clicking on the side tool bar explorer icon and selecting new file icon, as shown in the image below.\n",
    "<img src='https://cf-courses-data.s3.us.cloud-object-storage.appdomain.cloud/IBMDeveloperSkillsNetwork-DV0101EN-SkillsNetwork/labs/Module%204/images/newfile1.PNG'/>\n",
    "* Provide the file name as `dash_basics.py`\n",
    "* Open a new terminal, by clicking on the menu bar and selecting **Terminal -> New Terminal**"
   ]
  },
  {
   "cell_type": "code",
   "execution_count": null,
   "id": "238123ee-4434-46aa-b6e2-4e4645e96e11",
   "metadata": {},
   "outputs": [],
   "source": []
  }
 ],
 "metadata": {
  "kernelspec": {
   "display_name": "Python 3 (ipykernel)",
   "language": "python",
   "name": "python3"
  },
  "language_info": {
   "codemirror_mode": {
    "name": "ipython",
    "version": 3
   },
   "file_extension": ".py",
   "mimetype": "text/x-python",
   "name": "python",
   "nbconvert_exporter": "python",
   "pygments_lexer": "ipython3",
   "version": "3.9.12"
  }
 },
 "nbformat": 4,
 "nbformat_minor": 5
}
