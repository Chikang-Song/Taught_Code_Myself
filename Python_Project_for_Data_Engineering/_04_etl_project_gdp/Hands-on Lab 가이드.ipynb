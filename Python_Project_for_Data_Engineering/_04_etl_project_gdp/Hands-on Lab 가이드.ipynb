{
 "cells": [
  {
   "cell_type": "markdown",
   "id": "be54f4b6",
   "metadata": {},
   "source": [
    "이 프로젝트에서는 강좌를 통해 습득한 모든 기술과 기본 Python 지식을 활용하게 됩니다. 실제 데이터를 다루며, 필요한 경우 **추출(Extraction), 변환(Transformation), 로드(Loading; ETL)** 작업을 수행하게 됩니다.  \n",
    "\n",
    "**주의사항:**  \n",
    "Cloud IDE는 데이터를 지속적으로 저장하지 않는 플랫폼입니다. 이 랩을 다시 시작할 때마다 진행 상황이 초기화되므로, 데이터 손실을 방지하려면 파일을 로컬 컴퓨터에 저장하는 것을 권장합니다.  \n",
    "\n",
    "**프로젝트 시나리오:**  \n",
    "귀하는 연구 기관에 데이터 엔지니어로 고용되었습니다. 상사는 세계 최대 은행 10곳을 시가총액(단위: 10억 USD) 기준으로 정렬한 목록을 작성할 수 있는 코드를 만들어 달라고 요청했습니다.  \n",
    "추가적으로, 제공된 CSV 파일에 포함된 환율 정보를 기반으로 데이터를 변환하고 GBP(영국 파운드), EUR(유로), INR(인도 루피) 단위로도 저장해야 합니다. 처리된 정보는 CSV 형식 파일로 로컬에 저장하고, 데이터베이스 테이블에도 저장해야 합니다.  \n",
    "\n",
    "**귀하의 역할:**  \n",
    "매 분기별로 보고서를 준비할 수 있도록 이 정보를 자동으로 생성하는 시스템을 설계하는 것입니다.  \n",
    "\n",
    "**코드 작성 세부사항:**  \n",
    "\n",
    "| **매개변수**       | **값**                                                                 |\n",
    "|--------------------|-------------------------------------------------------------------------|\n",
    "| **코드 이름**       | `banks_project.py`                                                     |\n",
    "| **데이터 URL**      | `https://web.archive.org/web/20230908091635 /https://en.wikipedia.org/wiki/List_of_largest_banks` |\n",
    "| **환율 CSV 경로**   | `https://cf-courses-data.s3.us.cloud-object-storage.appdomain.cloud/IBMSkillsNetwork-PY0221EN-Coursera/labs/v2/exchange_rate.csv` |\n",
    "| **추출 후 테이블 속성** | `Name`, `MC_USD_Billion`                                             |\n",
    "| **최종 테이블 속성** | `Name`, `MC_USD_Billion`, `MC_GBP_Billion`, `MC_EUR_Billion`, `MC_INR_Billion` |\n",
    "| **출력 CSV 경로**   | `./Largest_banks_data.csv`                                             |\n",
    "| **데이터베이스 이름** | `Banks.db`                                                            |\n",
    "| **테이블 이름**     | `Largest_banks`                                                       |\n",
    "| **로그 파일**       | `code_log.txt`                                                        |  "
   ]
  },
  {
   "cell_type": "markdown",
   "id": "0aa8101c",
   "metadata": {},
   "source": [
    "**프로젝트 작업**  \n",
    "\n",
    "**작업 1:**  \n",
    "`log_progress()` 함수를 작성하여 코드의 진행 상황을 파일 `code_log.txt`에 기록합니다. 코드의 각 단계에서 생성해야 할 로그 항목의 목록을 사용하여 로그를 기록합니다.  \n",
    "\n",
    "**작업 2:**  \n",
    "주어진 URL에서 '시가총액 기준(By market capitalization)'이라는 제목 아래의 표 형식 정보를 추출하고 이를 데이터프레임에 저장합니다.  \n",
    "a. 웹페이지를 검사하여 HTML 코드에서 표 형식 정보의 위치와 패턴을 확인합니다.  \n",
    "b. 데이터를 추출하는 `extract()` 함수를 작성합니다.  \n",
    "c. `extract()` 함수를 호출하여 결과를 확인합니다.  \n",
    "\n",
    "**작업 3:**  \n",
    "공유된 CSV 파일의 환율 정보를 기반으로, 데이터프레임에 **GBP(영국 파운드)**, **EUR(유로)**, **INR(인도 루피)** 단위의 시가총액(Market Capitalization)을 추가하며, 소수점 두 자리로 반올림합니다.  \n",
    "a. 이를 수행하는 `transform()` 함수를 작성합니다.  \n",
    "b. `transform()` 함수를 호출하여 결과를 확인합니다.  \n",
    "\n",
    "**작업 4:**  \n",
    "변환된 데이터프레임을 출력 CSV 파일로 저장합니다.  \n",
    "`load_to_csv()` 함수를 작성하고 호출한 뒤, 결과를 확인합니다.  \n",
    "\n",
    "**작업 5:**  \n",
    "변환된 데이터프레임을 SQL 데이터베이스 서버의 테이블로 저장합니다.  \n",
    "`load_to_db()` 함수를 작성하고 호출한 뒤, 결과를 확인합니다.  \n",
    "\n",
    "**작업 6:**  \n",
    "데이터베이스 테이블에서 쿼리를 실행합니다.  \n",
    "`run_queries()` 함수를 작성하여 제공된 쿼리 세트를 실행하고 결과를 확인합니다.  \n",
    "\n",
    "**작업 7:**  \n",
    "`code_log.txt` 파일의 내용을 확인하여 각 단계의 로그 항목이 올바르게 기록되었는지 검증합니다."
   ]
  },
  {
   "cell_type": "code",
   "execution_count": 1,
   "id": "76afd989",
   "metadata": {},
   "outputs": [],
   "source": [
    "url = 'https://web.archive.org/web/20230908091635 /https://en.wikipedia.org/wiki/List_of_largest_banks'"
   ]
  },
  {
   "cell_type": "code",
   "execution_count": 2,
   "id": "c11a6be0",
   "metadata": {},
   "outputs": [],
   "source": [
    "import requests\n",
    "from bs4 import BeautifulSoup"
   ]
  },
  {
   "cell_type": "code",
   "execution_count": 3,
   "id": "089240d1",
   "metadata": {},
   "outputs": [],
   "source": [
    "response = requests.get(url)\n",
    "soup = BeautifulSoup(response.text, 'html.parser')"
   ]
  },
  {
   "cell_type": "code",
   "execution_count": 5,
   "id": "c45900f2",
   "metadata": {},
   "outputs": [],
   "source": [
    "table = soup.find('tbody')"
   ]
  },
  {
   "cell_type": "code",
   "execution_count": 6,
   "id": "3e5439aa",
   "metadata": {},
   "outputs": [],
   "source": [
    "rows = table.find_all('tr')"
   ]
  },
  {
   "cell_type": "code",
   "execution_count": 10,
   "id": "fc2df21c",
   "metadata": {},
   "outputs": [],
   "source": [
    "row = rows[1]"
   ]
  },
  {
   "cell_type": "code",
   "execution_count": 11,
   "id": "78a18095",
   "metadata": {},
   "outputs": [
    {
     "data": {
      "text/plain": [
       "<tr>\n",
       "<td>1\n",
       "</td>\n",
       "<td><span class=\"flagicon\"><span class=\"mw-image-border\" typeof=\"mw:File\"><a href=\"/web/20230908091635/https://en.wikipedia.org/wiki/United_States\" title=\"United States\"><img alt=\"United States\" class=\"mw-file-element\" data-file-height=\"650\" data-file-width=\"1235\" decoding=\"async\" height=\"12\" src=\"//web.archive.org/web/20230908091635im_/https://upload.wikimedia.org/wikipedia/en/thumb/a/a4/Flag_of_the_United_States.svg/23px-Flag_of_the_United_States.svg.png\" srcset=\"//web.archive.org/web/20230908091635im_/https://upload.wikimedia.org/wikipedia/en/thumb/a/a4/Flag_of_the_United_States.svg/35px-Flag_of_the_United_States.svg.png 1.5x, //web.archive.org/web/20230908091635im_/https://upload.wikimedia.org/wikipedia/en/thumb/a/a4/Flag_of_the_United_States.svg/46px-Flag_of_the_United_States.svg.png 2x\" width=\"23\"/></a></span></span> <a href=\"/web/20230908091635/https://en.wikipedia.org/wiki/JPMorgan_Chase\" title=\"JPMorgan Chase\">JPMorgan Chase</a>\n",
       "</td>\n",
       "<td>432.92\n",
       "</td></tr>"
      ]
     },
     "execution_count": 11,
     "metadata": {},
     "output_type": "execute_result"
    }
   ],
   "source": [
    "row"
   ]
  },
  {
   "cell_type": "code",
   "execution_count": 12,
   "id": "f11840ea",
   "metadata": {},
   "outputs": [],
   "source": [
    "col = row.find_all('td')"
   ]
  },
  {
   "cell_type": "code",
   "execution_count": 13,
   "id": "7b2b365d",
   "metadata": {},
   "outputs": [
    {
     "data": {
      "text/plain": [
       "[<td>1\n",
       " </td>,\n",
       " <td><span class=\"flagicon\"><span class=\"mw-image-border\" typeof=\"mw:File\"><a href=\"/web/20230908091635/https://en.wikipedia.org/wiki/United_States\" title=\"United States\"><img alt=\"United States\" class=\"mw-file-element\" data-file-height=\"650\" data-file-width=\"1235\" decoding=\"async\" height=\"12\" src=\"//web.archive.org/web/20230908091635im_/https://upload.wikimedia.org/wikipedia/en/thumb/a/a4/Flag_of_the_United_States.svg/23px-Flag_of_the_United_States.svg.png\" srcset=\"//web.archive.org/web/20230908091635im_/https://upload.wikimedia.org/wikipedia/en/thumb/a/a4/Flag_of_the_United_States.svg/35px-Flag_of_the_United_States.svg.png 1.5x, //web.archive.org/web/20230908091635im_/https://upload.wikimedia.org/wikipedia/en/thumb/a/a4/Flag_of_the_United_States.svg/46px-Flag_of_the_United_States.svg.png 2x\" width=\"23\"/></a></span></span> <a href=\"/web/20230908091635/https://en.wikipedia.org/wiki/JPMorgan_Chase\" title=\"JPMorgan Chase\">JPMorgan Chase</a>\n",
       " </td>,\n",
       " <td>432.92\n",
       " </td>]"
      ]
     },
     "execution_count": 13,
     "metadata": {},
     "output_type": "execute_result"
    }
   ],
   "source": [
    "col"
   ]
  },
  {
   "cell_type": "code",
   "execution_count": 16,
   "id": "fee5f81e",
   "metadata": {},
   "outputs": [
    {
     "data": {
      "text/plain": [
       "'JPMorgan Chase'"
      ]
     },
     "execution_count": 16,
     "metadata": {},
     "output_type": "execute_result"
    }
   ],
   "source": [
    "col[1].find_all('a')[1]['title']"
   ]
  },
  {
   "cell_type": "code",
   "execution_count": 19,
   "id": "1092f7a3",
   "metadata": {},
   "outputs": [
    {
     "data": {
      "text/plain": [
       "<td>432.92\n",
       "</td>"
      ]
     },
     "execution_count": 19,
     "metadata": {},
     "output_type": "execute_result"
    }
   ],
   "source": [
    "col[2]"
   ]
  },
  {
   "cell_type": "code",
   "execution_count": 20,
   "id": "6446e60c",
   "metadata": {},
   "outputs": [
    {
     "data": {
      "text/plain": [
       "['432.92\\n']"
      ]
     },
     "execution_count": 20,
     "metadata": {},
     "output_type": "execute_result"
    }
   ],
   "source": [
    "col[2].contents"
   ]
  },
  {
   "cell_type": "code",
   "execution_count": 22,
   "id": "63ec434f",
   "metadata": {},
   "outputs": [
    {
     "data": {
      "text/plain": [
       "'432.92'"
      ]
     },
     "execution_count": 22,
     "metadata": {},
     "output_type": "execute_result"
    }
   ],
   "source": [
    "col[2].contents[0][:-1]"
   ]
  },
  {
   "cell_type": "code",
   "execution_count": 24,
   "id": "7de1c13f",
   "metadata": {},
   "outputs": [
    {
     "data": {
      "text/plain": [
       "432.92"
      ]
     },
     "execution_count": 24,
     "metadata": {},
     "output_type": "execute_result"
    }
   ],
   "source": [
    "float(col[2].contents[0][:-1])"
   ]
  },
  {
   "cell_type": "code",
   "execution_count": null,
   "id": "b0a9b719",
   "metadata": {},
   "outputs": [],
   "source": []
  }
 ],
 "metadata": {
  "kernelspec": {
   "display_name": "Python 3 (ipykernel)",
   "language": "python",
   "name": "python3"
  },
  "language_info": {
   "codemirror_mode": {
    "name": "ipython",
    "version": 3
   },
   "file_extension": ".py",
   "mimetype": "text/x-python",
   "name": "python",
   "nbconvert_exporter": "python",
   "pygments_lexer": "ipython3",
   "version": "3.9.12"
  }
 },
 "nbformat": 4,
 "nbformat_minor": 5
}
