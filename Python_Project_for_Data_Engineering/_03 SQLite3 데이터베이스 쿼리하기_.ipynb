{
 "cells": [
  {
   "cell_type": "markdown",
   "id": "7dd78c26",
   "metadata": {},
   "source": [
    "---\n",
    "\n",
    "# SQLite3 데이터베이스 쿼리하기\n",
    "## SQLite3이란 무엇인가요?\n",
    "SQLite3은 자체 포함(self-contained), 서버리스(serverless), 구성 필요 없음(zero-configuration), 트랜잭션 가능한 SQL 데이터베이스 엔진을 구현하는 **파이썬 내장 라이브러리**입니다. SQLite3는 응용 소프트웨어에서 **로컬/클라이언트 저장소**로 많이 사용되는 **임베디드 데이터베이스**로 인기가 높습니다.\n",
    "\n",
    "---\n",
    "\n",
    "**SQLite3에 어떻게 연결하나요?**  \n",
    "SQLite3에 연결하려면 **connect() 함수**를 사용하고, 필요한 데이터베이스 이름을 **인수로 전달**하면 됩니다.\n",
    "\n",
    "```python\n",
    "import sqlite3\n",
    "sql_connection = sqlite3.connect('database.db')\n",
    "```\n",
    "\n",
    "위 코드는 **sql_connection** 변수를 SQL 코드 엔진의 **객체**로 만듭니다. 이후 이 객체를 사용하여 데이터베이스에서 필요한 쿼리를 실행할 수 있습니다.\n",
    "\n",
    "---\n"
   ]
  },
  {
   "cell_type": "markdown",
   "id": "7c21f44e",
   "metadata": {},
   "source": [
    "\n",
    "\n",
    "## **SQLite3 및 Pandas를 사용하여 데이터베이스 테이블을 만드는 방법**  \n",
    "\n",
    "Pandas 데이터프레임을 **SQLite3 데이터베이스 객체**로 직접 로드할 수 있으며, 아래와 같은 문법을 사용합니다.\n",
    "\n",
    "```python\n",
    "df.to_sql(table_name, sql_connection, if_exists='replace', index=False)\n",
    "```\n",
    "\n",
    "여기서, **to_sql() 함수**를 사용하여 Pandas 데이터프레임을 **SQL 테이블로 변환**합니다.\n",
    "\n",
    "### 각 매개변수의 의미:  \n",
    "\n",
    "- **table_name**: 생성할 테이블의 이름을 지정합니다.  \n",
    "- **sql_connection**: 데이터프레임을 로드할 데이터베이스 객체를 지정합니다.  \n",
    "\n",
    "### **if_exists 매개변수**는 다음 세 가지 값 중 하나를 설정할 수 있습니다:\n",
    "1. **'fail'**: 데이터베이스에 동일한 이름의 테이블이 이미 존재할 경우 **새 테이블 생성이 거부**됩니다.  \n",
    "2. **'replace'**: 기존 테이블이 있으면 **기존 테이블을 덮어씁니다**.  \n",
    "3. **'append'**: 동일한 이름의 기존 테이블이 있으면 **데이터를 추가**합니다.\n",
    "\n",
    "### **index 매개변수** 설정:  \n",
    "- **index=True**로 설정하면 데이터프레임의 **인덱스 값이 중요한 정보**로 간주될 때만 사용합니다.  \n",
    "- 그렇지 않으면 **index=False**로 설정하여 인덱스가 테이블에 저장되지 않도록 설정하는 것이 좋습니다.\n",
    "\n"
   ]
  },
  {
   "cell_type": "markdown",
   "id": "4db9c808",
   "metadata": {},
   "source": [
    "\n",
    "---\n",
    "\n",
    "## **SQLite3와 Pandas를 사용하여 데이터베이스 테이블 조회(Query)하는 방법**  \n",
    "\n",
    "데이터베이스 테이블을 조회하려면 **Pandas의 read_sql() 함수**를 사용할 수 있습니다.\n",
    "\n",
    "이 함수는 **쿼리 결과를 Pandas 데이터프레임 형태로 반환**합니다. 다음과 같은 문법으로 사용합니다:\n",
    "\n",
    "```python\n",
    "df = pandas.read_sql(query_statement, sql_connection)\n",
    "```\n",
    "\n",
    "여기서,  \n",
    "- **query_statement**는 **테이블을 조회하기 위한 쿼리문을 문자열 형태로** 포함합니다.  \n",
    "- **sql_connection**은 **데이터베이스 객체**를 나타냅니다.\n",
    "\n",
    "---\n",
    "\n",
    "💡 **예시:**  \n",
    "```python\n",
    "import pandas as pd\n",
    "import sqlite3\n",
    "\n",
    "# 데이터베이스 연결\n",
    "sql_connection = sqlite3.connect('database.db')\n",
    "\n",
    "# 쿼리 실행 및 결과를 데이터프레임에 저장\n",
    "query = \"SELECT * FROM users\"\n",
    "df = pd.read_sql(query, sql_connection)\n",
    "\n",
    "# 결과 출력\n",
    "print(df)\n",
    "```\n",
    "\n",
    "이렇게 하면 **'users' 테이블**의 모든 데이터를 Pandas 데이터프레임에 저장하고, 이를 활용할 수 있습니다. 😊"
   ]
  },
  {
   "cell_type": "markdown",
   "id": "172ab81d",
   "metadata": {},
   "source": [
    "\n",
    "---\n",
    "\n",
    "## **쿼리 예시 (Example Queries)**  \n",
    "아래 표는 몇 가지 일반적인 SQL 쿼리와 그 의미를 보여줍니다.\n",
    "\n",
    "| **쿼리문(Query statement)**          | **목적(Purpose)**                                          |\n",
    "|------------------------------------|-----------------------------------------------------------|\n",
    "| `SELECT * FROM table_name`         | 테이블의 모든 항목을 조회합니다.                           |\n",
    "| `SELECT COUNT(*) FROM table_name`  | 테이블의 총 항목 수를 조회합니다.                          |\n",
    "| `SELECT Column_name FROM table_name` | 특정 열(Column)의 모든 항목을 조회합니다.                  |\n",
    "| `SELECT * FROM table_name WHERE <condition>` | 지정된 조건을 충족하는 테이블의 모든 항목을 조회합니다. |\n",
    "\n",
    "---\n",
    "\n",
    "💡 **설명:**  \n",
    "- **SELECT**: SQL에서 데이터를 **조회(검색)**하는 데 사용됩니다.  \n",
    "- **FROM**: 데이터를 조회할 **테이블 이름**을 지정합니다.  \n",
    "- **WHERE**: 특정 조건을 지정하여 조회할 데이터를 **필터링**할 때 사용합니다.  \n",
    "\n"
   ]
  },
  {
   "cell_type": "code",
   "execution_count": 3,
   "id": "41d943b8",
   "metadata": {},
   "outputs": [
    {
     "data": {
      "text/plain": [
       "('INSTRUCTOR.csv', <http.client.HTTPMessage at 0x195273d1ca0>)"
      ]
     },
     "execution_count": 3,
     "metadata": {},
     "output_type": "execute_result"
    }
   ],
   "source": [
    "# 실습자료 다운로드\n",
    "\n",
    "import urllib.request\n",
    "url = 'https://cf-courses-data.s3.us.cloud-object-storage.appdomain.cloud/IBMSkillsNetwork-PY0221EN-Coursera/labs/v2/INSTRUCTOR.csv'\n",
    "urllib.request.urlretrieve(url, 'INSTRUCTOR.csv')"
   ]
  },
  {
   "cell_type": "code",
   "execution_count": null,
   "id": "11e3723d",
   "metadata": {},
   "outputs": [],
   "source": []
  }
 ],
 "metadata": {
  "kernelspec": {
   "display_name": "Python 3 (ipykernel)",
   "language": "python",
   "name": "python3"
  },
  "language_info": {
   "codemirror_mode": {
    "name": "ipython",
    "version": 3
   },
   "file_extension": ".py",
   "mimetype": "text/x-python",
   "name": "python",
   "nbconvert_exporter": "python",
   "pygments_lexer": "ipython3",
   "version": "3.9.12"
  }
 },
 "nbformat": 4,
 "nbformat_minor": 5
}
