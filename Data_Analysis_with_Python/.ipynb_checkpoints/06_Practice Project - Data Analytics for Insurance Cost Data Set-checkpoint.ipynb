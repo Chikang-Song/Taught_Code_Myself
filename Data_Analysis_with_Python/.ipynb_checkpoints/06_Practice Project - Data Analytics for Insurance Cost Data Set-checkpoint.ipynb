{
 "cells": [
  {
   "cell_type": "markdown",
   "id": "4b614b43",
   "metadata": {},
   "source": [
    "<h5>목차</h5>\n",
    "<ol>\n",
    "    <li><a href=#1>Practice Project: Insurance Cost Analysis</a></li>\n",
    "    <li><a href=#2>Final Project Scenario</a></li>\n",
    "    <li><a href=#3></a></li>\n",
    "</ol>"
   ]
  },
  {
   "cell_type": "markdown",
   "id": "023cde0d",
   "metadata": {},
   "source": [
    "<a id=1></a>\n",
    "# **Practice Project: Insurance Cost Analysis**\n",
    "\n",
    " **보험 데이터베이스 분석 프로젝트**  \n",
    "\n",
    "## **데이터 설명**  \n",
    "이 프로젝트에서는 아래 **보험 데이터베이스**의 매개변수를 활용하여 분석을 수행합니다.  \n",
    "\n",
    "| **매개변수** | **설명** | **데이터 타입** |  \n",
    "|---|----|---|  \n",
    "| **age** | 나이 (년) | 정수 (integer) |  \n",
    "| **gender** | 성별 (남성: 1, 여성: 2) | 정수 (integer) |  \n",
    "| **bmi** | 체질량지수(BMI) | 실수 (float) |  \n",
    "| **no_of_children** | 자녀 수 | 정수 (integer) |  \n",
    "| **smoker** | 흡연 여부 (비흡연: 0, 흡연: 1) | 정수 (integer) |  \n",
    "| **region** | 거주 지역 (NW: 1, NE: 2, SW: 3, SE: 4) | 정수 (integer) |  \n",
    "| **charges** | 연간 보험료 (USD) | 실수 (float) |  \n",
    "\n",
    "---\n",
    "\n",
    "## **목표 (Objectives)**  \n",
    "이 프로젝트에서 수행할 작업:  \n",
    "\n",
    "✅ **`pandas` 데이터프레임**으로 데이터를 로드하기  \n",
    "✅ 누락된 데이터 확인 및 **데이터 정리** 수행  \n",
    "✅ **탐색적 데이터 분석(EDA)** 을 통해 `charges` 에 가장 큰 영향을 미치는 속성 식별  \n",
    "✅ **단변량 및 다변량 선형 회귀 모델**을 개발하여 보험료(`charges`) 예측  \n",
    "✅ **Ridge 회귀**를 활용하여 선형 회귀 모델의 성능 개선  "
   ]
  },
  {
   "cell_type": "markdown",
   "id": "98480394",
   "metadata": {},
   "source": [
    "## Setup"
   ]
  },
  {
   "cell_type": "markdown",
   "id": "8bd12aac",
   "metadata": {},
   "source": [
    "### Importing Required Libraries"
   ]
  },
  {
   "cell_type": "code",
   "execution_count": 1,
   "id": "c066bced",
   "metadata": {},
   "outputs": [],
   "source": [
    "import pandas as pd\n",
    "import numpy as np\n",
    "import matplotlib.pyplot as plt\n",
    "import seaborn as sns\n",
    "\n",
    "from sklearn.pipeline import Pipeline\n",
    "from sklearn.preprocessing import StandardScaler, PolynomialFeatures\n",
    "from sklearn.linear_model import LinearRegression, Ridge\n",
    "from sklearn.metrics import mean_squared_error, r2_score\n",
    "from sklearn.model_selection import cross_val_score, train_test_split"
   ]
  },
  {
   "cell_type": "markdown",
   "id": "ff8fe6bd",
   "metadata": {},
   "source": [
    "## Task 1 : Import the dataset"
   ]
  },
  {
   "cell_type": "code",
   "execution_count": 2,
   "id": "2d85efe9",
   "metadata": {},
   "outputs": [],
   "source": [
    "filepath = 'https://cf-courses-data.s3.us.cloud-object-storage.appdomain.cloud/IBMDeveloperSkillsNetwork-DA0101EN-Coursera/medical_insurance_dataset.csv'"
   ]
  },
  {
   "cell_type": "code",
   "execution_count": 3,
   "id": "c63e560c",
   "metadata": {},
   "outputs": [
    {
     "name": "stdout",
     "output_type": "stream",
     "text": [
      "medical_insurance_dataset.csv is already existed\n"
     ]
    }
   ],
   "source": [
    "import os\n",
    "from urllib.request import urlretrieve\n",
    "\n",
    "name = filepath.split('/')[-1]\n",
    "\n",
    "# Downlad csv file if not exists\n",
    "if not os.path.isfile(name):\n",
    "    urlretrieve(filepath, name)\n",
    "else:\n",
    "    print(f\"{name} is already existed\")"
   ]
  },
  {
   "cell_type": "code",
   "execution_count": 4,
   "id": "2f9b2b6f",
   "metadata": {},
   "outputs": [],
   "source": [
    "# Read csv\n",
    "\n",
    "df = pd.read_csv(name, header = None)  # header = None으로 설정해 숫자 header 생성"
   ]
  },
  {
   "cell_type": "code",
   "execution_count": 5,
   "id": "965a88b7",
   "metadata": {},
   "outputs": [
    {
     "data": {
      "text/html": [
       "<div>\n",
       "<style scoped>\n",
       "    .dataframe tbody tr th:only-of-type {\n",
       "        vertical-align: middle;\n",
       "    }\n",
       "\n",
       "    .dataframe tbody tr th {\n",
       "        vertical-align: top;\n",
       "    }\n",
       "\n",
       "    .dataframe thead th {\n",
       "        text-align: right;\n",
       "    }\n",
       "</style>\n",
       "<table border=\"1\" class=\"dataframe\">\n",
       "  <thead>\n",
       "    <tr style=\"text-align: right;\">\n",
       "      <th></th>\n",
       "      <th>age</th>\n",
       "      <th>gender</th>\n",
       "      <th>bmi</th>\n",
       "      <th>no_of_children</th>\n",
       "      <th>smoker</th>\n",
       "      <th>region</th>\n",
       "      <th>charges</th>\n",
       "    </tr>\n",
       "  </thead>\n",
       "  <tbody>\n",
       "    <tr>\n",
       "      <th>0</th>\n",
       "      <td>19</td>\n",
       "      <td>1</td>\n",
       "      <td>27.900</td>\n",
       "      <td>0</td>\n",
       "      <td>1</td>\n",
       "      <td>3</td>\n",
       "      <td>16884.92400</td>\n",
       "    </tr>\n",
       "    <tr>\n",
       "      <th>1</th>\n",
       "      <td>18</td>\n",
       "      <td>2</td>\n",
       "      <td>33.770</td>\n",
       "      <td>1</td>\n",
       "      <td>0</td>\n",
       "      <td>4</td>\n",
       "      <td>1725.55230</td>\n",
       "    </tr>\n",
       "    <tr>\n",
       "      <th>2</th>\n",
       "      <td>28</td>\n",
       "      <td>2</td>\n",
       "      <td>33.000</td>\n",
       "      <td>3</td>\n",
       "      <td>0</td>\n",
       "      <td>4</td>\n",
       "      <td>4449.46200</td>\n",
       "    </tr>\n",
       "    <tr>\n",
       "      <th>3</th>\n",
       "      <td>33</td>\n",
       "      <td>2</td>\n",
       "      <td>22.705</td>\n",
       "      <td>0</td>\n",
       "      <td>0</td>\n",
       "      <td>1</td>\n",
       "      <td>21984.47061</td>\n",
       "    </tr>\n",
       "    <tr>\n",
       "      <th>4</th>\n",
       "      <td>32</td>\n",
       "      <td>2</td>\n",
       "      <td>28.880</td>\n",
       "      <td>0</td>\n",
       "      <td>0</td>\n",
       "      <td>1</td>\n",
       "      <td>3866.85520</td>\n",
       "    </tr>\n",
       "    <tr>\n",
       "      <th>5</th>\n",
       "      <td>31</td>\n",
       "      <td>1</td>\n",
       "      <td>25.740</td>\n",
       "      <td>0</td>\n",
       "      <td>?</td>\n",
       "      <td>4</td>\n",
       "      <td>3756.62160</td>\n",
       "    </tr>\n",
       "    <tr>\n",
       "      <th>6</th>\n",
       "      <td>46</td>\n",
       "      <td>1</td>\n",
       "      <td>33.440</td>\n",
       "      <td>1</td>\n",
       "      <td>0</td>\n",
       "      <td>4</td>\n",
       "      <td>8240.58960</td>\n",
       "    </tr>\n",
       "    <tr>\n",
       "      <th>7</th>\n",
       "      <td>37</td>\n",
       "      <td>1</td>\n",
       "      <td>27.740</td>\n",
       "      <td>3</td>\n",
       "      <td>0</td>\n",
       "      <td>1</td>\n",
       "      <td>7281.50560</td>\n",
       "    </tr>\n",
       "    <tr>\n",
       "      <th>8</th>\n",
       "      <td>37</td>\n",
       "      <td>2</td>\n",
       "      <td>29.830</td>\n",
       "      <td>2</td>\n",
       "      <td>0</td>\n",
       "      <td>2</td>\n",
       "      <td>6406.41070</td>\n",
       "    </tr>\n",
       "    <tr>\n",
       "      <th>9</th>\n",
       "      <td>60</td>\n",
       "      <td>1</td>\n",
       "      <td>25.840</td>\n",
       "      <td>0</td>\n",
       "      <td>0</td>\n",
       "      <td>1</td>\n",
       "      <td>28923.13692</td>\n",
       "    </tr>\n",
       "  </tbody>\n",
       "</table>\n",
       "</div>"
      ],
      "text/plain": [
       "  age  gender     bmi  no_of_children smoker  region      charges\n",
       "0  19       1  27.900               0      1       3  16884.92400\n",
       "1  18       2  33.770               1      0       4   1725.55230\n",
       "2  28       2  33.000               3      0       4   4449.46200\n",
       "3  33       2  22.705               0      0       1  21984.47061\n",
       "4  32       2  28.880               0      0       1   3866.85520\n",
       "5  31       1  25.740               0      ?       4   3756.62160\n",
       "6  46       1  33.440               1      0       4   8240.58960\n",
       "7  37       1  27.740               3      0       1   7281.50560\n",
       "8  37       2  29.830               2      0       2   6406.41070\n",
       "9  60       1  25.840               0      0       1  28923.13692"
      ]
     },
     "execution_count": 5,
     "metadata": {},
     "output_type": "execute_result"
    }
   ],
   "source": [
    "headers = ['age','gender','bmi','no_of_children','smoker','region','charges']\n",
    "df.columns = headers\n",
    "df.head(10)"
   ]
  },
  {
   "cell_type": "code",
   "execution_count": 6,
   "id": "8e7259fa",
   "metadata": {},
   "outputs": [],
   "source": [
    "# 결측치 '?' 제거\n",
    "df.replace('?',np.nan, inplace = True)"
   ]
  },
  {
   "cell_type": "markdown",
   "id": "a92c7d8f",
   "metadata": {},
   "source": [
    "## Task 2 : Data Wrangling"
   ]
  },
  {
   "cell_type": "code",
   "execution_count": 7,
   "id": "986bbe86",
   "metadata": {},
   "outputs": [
    {
     "name": "stdout",
     "output_type": "stream",
     "text": [
      "<class 'pandas.core.frame.DataFrame'>\n",
      "RangeIndex: 2772 entries, 0 to 2771\n",
      "Data columns (total 7 columns):\n",
      " #   Column          Non-Null Count  Dtype  \n",
      "---  ------          --------------  -----  \n",
      " 0   age             2768 non-null   object \n",
      " 1   gender          2772 non-null   int64  \n",
      " 2   bmi             2772 non-null   float64\n",
      " 3   no_of_children  2772 non-null   int64  \n",
      " 4   smoker          2765 non-null   object \n",
      " 5   region          2772 non-null   int64  \n",
      " 6   charges         2772 non-null   float64\n",
      "dtypes: float64(2), int64(3), object(2)\n",
      "memory usage: 151.7+ KB\n"
     ]
    }
   ],
   "source": [
    "# 결측치 여부 확인\n",
    "\n",
    "df.info()"
   ]
  },
  {
   "cell_type": "code",
   "execution_count": 8,
   "id": "d0a3ec9a",
   "metadata": {},
   "outputs": [
    {
     "data": {
      "text/plain": [
       "age               4\n",
       "gender            0\n",
       "bmi               0\n",
       "no_of_children    0\n",
       "smoker            7\n",
       "region            0\n",
       "charges           0\n",
       "dtype: int64"
      ]
     },
     "execution_count": 8,
     "metadata": {},
     "output_type": "execute_result"
    }
   ],
   "source": [
    "df.isnull().sum()"
   ]
  },
  {
   "cell_type": "code",
   "execution_count": 9,
   "id": "e6b15fc6",
   "metadata": {},
   "outputs": [],
   "source": [
    "# age의 결측치를 평균 값으로 적용\n",
    "df['age'].replace(np.nan, df['age'].astype(float).mean(), inplace = True)"
   ]
  },
  {
   "cell_type": "code",
   "execution_count": 10,
   "id": "22aa2620",
   "metadata": {},
   "outputs": [],
   "source": [
    "# categorical attributes('smoker)의 결측치는 빈도가 가장 높은 것으로 대체\n",
    "df['smoker'].replace(np.nan, df.smoker.value_counts().idxmax(), inplace = True)"
   ]
  },
  {
   "cell_type": "code",
   "execution_count": 11,
   "id": "12557c9b",
   "metadata": {},
   "outputs": [],
   "source": [
    "# age 와 smoker 열의 데이터속성을 object -> int으로 변경\n",
    "df[['age','smoker']] = df[['age','smoker']].astype(int)"
   ]
  },
  {
   "cell_type": "code",
   "execution_count": 12,
   "id": "a32b3155",
   "metadata": {},
   "outputs": [
    {
     "name": "stdout",
     "output_type": "stream",
     "text": [
      "<class 'pandas.core.frame.DataFrame'>\n",
      "RangeIndex: 2772 entries, 0 to 2771\n",
      "Data columns (total 7 columns):\n",
      " #   Column          Non-Null Count  Dtype  \n",
      "---  ------          --------------  -----  \n",
      " 0   age             2772 non-null   int32  \n",
      " 1   gender          2772 non-null   int64  \n",
      " 2   bmi             2772 non-null   float64\n",
      " 3   no_of_children  2772 non-null   int64  \n",
      " 4   smoker          2772 non-null   int32  \n",
      " 5   region          2772 non-null   int64  \n",
      " 6   charges         2772 non-null   float64\n",
      "dtypes: float64(2), int32(2), int64(3)\n",
      "memory usage: 130.1 KB\n"
     ]
    }
   ],
   "source": [
    "df.info()"
   ]
  },
  {
   "cell_type": "code",
   "execution_count": 13,
   "id": "abc545f0",
   "metadata": {},
   "outputs": [],
   "source": [
    "# 'charges' 열의 값을 소수점 2자리\n",
    "\n",
    "df['charges'] = np.round(df['charges'],2)"
   ]
  },
  {
   "cell_type": "code",
   "execution_count": 14,
   "id": "028f42b0",
   "metadata": {},
   "outputs": [
    {
     "data": {
      "text/html": [
       "<div>\n",
       "<style scoped>\n",
       "    .dataframe tbody tr th:only-of-type {\n",
       "        vertical-align: middle;\n",
       "    }\n",
       "\n",
       "    .dataframe tbody tr th {\n",
       "        vertical-align: top;\n",
       "    }\n",
       "\n",
       "    .dataframe thead th {\n",
       "        text-align: right;\n",
       "    }\n",
       "</style>\n",
       "<table border=\"1\" class=\"dataframe\">\n",
       "  <thead>\n",
       "    <tr style=\"text-align: right;\">\n",
       "      <th></th>\n",
       "      <th>age</th>\n",
       "      <th>gender</th>\n",
       "      <th>bmi</th>\n",
       "      <th>no_of_children</th>\n",
       "      <th>smoker</th>\n",
       "      <th>region</th>\n",
       "      <th>charges</th>\n",
       "    </tr>\n",
       "  </thead>\n",
       "  <tbody>\n",
       "    <tr>\n",
       "      <th>0</th>\n",
       "      <td>19</td>\n",
       "      <td>1</td>\n",
       "      <td>27.900</td>\n",
       "      <td>0</td>\n",
       "      <td>1</td>\n",
       "      <td>3</td>\n",
       "      <td>16884.92</td>\n",
       "    </tr>\n",
       "    <tr>\n",
       "      <th>1</th>\n",
       "      <td>18</td>\n",
       "      <td>2</td>\n",
       "      <td>33.770</td>\n",
       "      <td>1</td>\n",
       "      <td>0</td>\n",
       "      <td>4</td>\n",
       "      <td>1725.55</td>\n",
       "    </tr>\n",
       "    <tr>\n",
       "      <th>2</th>\n",
       "      <td>28</td>\n",
       "      <td>2</td>\n",
       "      <td>33.000</td>\n",
       "      <td>3</td>\n",
       "      <td>0</td>\n",
       "      <td>4</td>\n",
       "      <td>4449.46</td>\n",
       "    </tr>\n",
       "    <tr>\n",
       "      <th>3</th>\n",
       "      <td>33</td>\n",
       "      <td>2</td>\n",
       "      <td>22.705</td>\n",
       "      <td>0</td>\n",
       "      <td>0</td>\n",
       "      <td>1</td>\n",
       "      <td>21984.47</td>\n",
       "    </tr>\n",
       "    <tr>\n",
       "      <th>4</th>\n",
       "      <td>32</td>\n",
       "      <td>2</td>\n",
       "      <td>28.880</td>\n",
       "      <td>0</td>\n",
       "      <td>0</td>\n",
       "      <td>1</td>\n",
       "      <td>3866.86</td>\n",
       "    </tr>\n",
       "  </tbody>\n",
       "</table>\n",
       "</div>"
      ],
      "text/plain": [
       "   age  gender     bmi  no_of_children  smoker  region   charges\n",
       "0   19       1  27.900               0       1       3  16884.92\n",
       "1   18       2  33.770               1       0       4   1725.55\n",
       "2   28       2  33.000               3       0       4   4449.46\n",
       "3   33       2  22.705               0       0       1  21984.47\n",
       "4   32       2  28.880               0       0       1   3866.86"
      ]
     },
     "execution_count": 14,
     "metadata": {},
     "output_type": "execute_result"
    }
   ],
   "source": [
    "df.head()"
   ]
  },
  {
   "cell_type": "markdown",
   "id": "6b01a7d5",
   "metadata": {},
   "source": [
    "## Task 3 : Exploratory Data Analysis (EDA)"
   ]
  },
  {
   "cell_type": "code",
   "execution_count": 16,
   "id": "5fdf5cb9",
   "metadata": {},
   "outputs": [
    {
     "data": {
      "image/png": "[encoded data removed]",
      "text/plain": [
       "<Figure size 432x288 with 1 Axes>"
      ]
     },
     "metadata": {
      "needs_background": "light"
     },
     "output_type": "display_data"
    }
   ],
   "source": [
    "# bmi에 따른 charges의 회귀 그래프(regression plot) 를 구현\n",
    "\n",
    "sns.regplot(x='bmi', y='charges', data=df, line_kws={'color':'red'})\n",
    "plt.ylim(0,)\n",
    "plt.show()"
   ]
  },
  {
   "cell_type": "code",
   "execution_count": 22,
   "id": "838dc7db",
   "metadata": {},
   "outputs": [
    {
     "data": {
      "image/png": "[encoded data removed]",
      "text/plain": [
       "<Figure size 432x288 with 1 Axes>"
      ]
     },
     "metadata": {
      "needs_background": "light"
     },
     "output_type": "display_data"
    }
   ],
   "source": [
    "# 'smoker'에 따른 'charges' 회귀 그래프\n",
    "sns.regplot(x='smoker', y='charges', data=df);"
   ]
  },
  {
   "cell_type": "code",
   "execution_count": 23,
   "id": "57cbd6a3",
   "metadata": {},
   "outputs": [
    {
     "data": {
      "text/html": [
       "<div>\n",
       "<style scoped>\n",
       "    .dataframe tbody tr th:only-of-type {\n",
       "        vertical-align: middle;\n",
       "    }\n",
       "\n",
       "    .dataframe tbody tr th {\n",
       "        vertical-align: top;\n",
       "    }\n",
       "\n",
       "    .dataframe thead th {\n",
       "        text-align: right;\n",
       "    }\n",
       "</style>\n",
       "<table border=\"1\" class=\"dataframe\">\n",
       "  <thead>\n",
       "    <tr style=\"text-align: right;\">\n",
       "      <th></th>\n",
       "      <th>age</th>\n",
       "      <th>gender</th>\n",
       "      <th>bmi</th>\n",
       "      <th>no_of_children</th>\n",
       "      <th>smoker</th>\n",
       "      <th>region</th>\n",
       "      <th>charges</th>\n",
       "    </tr>\n",
       "  </thead>\n",
       "  <tbody>\n",
       "    <tr>\n",
       "      <th>age</th>\n",
       "      <td>1.000000</td>\n",
       "      <td>-0.026046</td>\n",
       "      <td>0.113048</td>\n",
       "      <td>0.037574</td>\n",
       "      <td>-0.023286</td>\n",
       "      <td>-0.007167</td>\n",
       "      <td>0.298624</td>\n",
       "    </tr>\n",
       "    <tr>\n",
       "      <th>gender</th>\n",
       "      <td>-0.026046</td>\n",
       "      <td>1.000000</td>\n",
       "      <td>0.042924</td>\n",
       "      <td>0.016020</td>\n",
       "      <td>0.082326</td>\n",
       "      <td>0.022213</td>\n",
       "      <td>0.062837</td>\n",
       "    </tr>\n",
       "    <tr>\n",
       "      <th>bmi</th>\n",
       "      <td>0.113048</td>\n",
       "      <td>0.042924</td>\n",
       "      <td>1.000000</td>\n",
       "      <td>-0.001492</td>\n",
       "      <td>0.011489</td>\n",
       "      <td>0.271119</td>\n",
       "      <td>0.199846</td>\n",
       "    </tr>\n",
       "    <tr>\n",
       "      <th>no_of_children</th>\n",
       "      <td>0.037574</td>\n",
       "      <td>0.016020</td>\n",
       "      <td>-0.001492</td>\n",
       "      <td>1.000000</td>\n",
       "      <td>0.006362</td>\n",
       "      <td>-0.025717</td>\n",
       "      <td>0.066442</td>\n",
       "    </tr>\n",
       "    <tr>\n",
       "      <th>smoker</th>\n",
       "      <td>-0.023286</td>\n",
       "      <td>0.082326</td>\n",
       "      <td>0.011489</td>\n",
       "      <td>0.006362</td>\n",
       "      <td>1.000000</td>\n",
       "      <td>0.054077</td>\n",
       "      <td>0.788783</td>\n",
       "    </tr>\n",
       "    <tr>\n",
       "      <th>region</th>\n",
       "      <td>-0.007167</td>\n",
       "      <td>0.022213</td>\n",
       "      <td>0.271119</td>\n",
       "      <td>-0.025717</td>\n",
       "      <td>0.054077</td>\n",
       "      <td>1.000000</td>\n",
       "      <td>0.054058</td>\n",
       "    </tr>\n",
       "    <tr>\n",
       "      <th>charges</th>\n",
       "      <td>0.298624</td>\n",
       "      <td>0.062837</td>\n",
       "      <td>0.199846</td>\n",
       "      <td>0.066442</td>\n",
       "      <td>0.788783</td>\n",
       "      <td>0.054058</td>\n",
       "      <td>1.000000</td>\n",
       "    </tr>\n",
       "  </tbody>\n",
       "</table>\n",
       "</div>"
      ],
      "text/plain": [
       "                     age    gender       bmi  no_of_children    smoker  \\\n",
       "age             1.000000 -0.026046  0.113048        0.037574 -0.023286   \n",
       "gender         -0.026046  1.000000  0.042924        0.016020  0.082326   \n",
       "bmi             0.113048  0.042924  1.000000       -0.001492  0.011489   \n",
       "no_of_children  0.037574  0.016020 -0.001492        1.000000  0.006362   \n",
       "smoker         -0.023286  0.082326  0.011489        0.006362  1.000000   \n",
       "region         -0.007167  0.022213  0.271119       -0.025717  0.054077   \n",
       "charges         0.298624  0.062837  0.199846        0.066442  0.788783   \n",
       "\n",
       "                  region   charges  \n",
       "age            -0.007167  0.298624  \n",
       "gender          0.022213  0.062837  \n",
       "bmi             0.271119  0.199846  \n",
       "no_of_children -0.025717  0.066442  \n",
       "smoker          0.054077  0.788783  \n",
       "region          1.000000  0.054058  \n",
       "charges         0.054058  1.000000  "
      ]
     },
     "execution_count": 23,
     "metadata": {},
     "output_type": "execute_result"
    }
   ],
   "source": [
    "# correlation matrix\n",
    "\n",
    "df.corr()"
   ]
  },
  {
   "cell_type": "markdown",
   "id": "b4636964",
   "metadata": {},
   "source": [
    "## Task 4 : Model Development"
   ]
  },
  {
   "cell_type": "code",
   "execution_count": 25,
   "id": "74002164",
   "metadata": {},
   "outputs": [
    {
     "data": {
      "text/plain": [
       "0.6221791733924185"
      ]
     },
     "execution_count": 25,
     "metadata": {},
     "output_type": "execute_result"
    }
   ],
   "source": [
    "# 'smoker' 속성만을 사용해 선형회귀모델을 적합\n",
    "\n",
    "X = df[['smoker']]\n",
    "y = df['charges']\n",
    "lr = LinearRegression()\n",
    "lr.fit(X,y)\n",
    "\n",
    "# R^2 값 계산\n",
    "lr.score(X,y)"
   ]
  },
  {
   "cell_type": "code",
   "execution_count": 35,
   "id": "ea1eca7f",
   "metadata": {},
   "outputs": [
    {
     "data": {
      "text/plain": [
       "0.7504083820289634"
      ]
     },
     "execution_count": 35,
     "metadata": {},
     "output_type": "execute_result"
    }
   ],
   "source": [
    "# 다른 모든 속성으로 선형회귀모델을 적합하고 R^2 값을 비교. (목적: 성능개선 기회를 살펴봄)\n",
    "\n",
    "Z = df[[col for col in df.columns if col != 'charges']]\n",
    "y = df['charges']\n",
    "lm = LinearRegression()\n",
    "lm.fit(Z,y)\n",
    "\n",
    "lm.score(Z,y)"
   ]
  },
  {
   "cell_type": "code",
   "execution_count": 41,
   "id": "32884677",
   "metadata": {},
   "outputs": [
    {
     "name": "stdout",
     "output_type": "stream",
     "text": [
      "0.8452091092904718\n"
     ]
    }
   ],
   "source": [
    "#  `StandardScaler()`, `PolynomialFeatures()`,`LinearRegression()`로 훈련 Pipeline 생성\n",
    "# 목적: 이전모델과 성능을 비교해 개선 여부 확인\n",
    "\n",
    "pipeline = Pipeline([\n",
    "    ('scale', StandardScaler()),\n",
    "    ('polynomial', PolynomialFeatures(include_bias=False)),  # 상수항 제거\n",
    "    ('model', LinearRegression())\n",
    "])\n",
    "Z = Z.astype(float)\n",
    "\n",
    "pipeline.fit(Z, y)\n",
    "y_pred = pipeline.predict(Z)\n",
    "print(r2_score(y, y_pred))"
   ]
  },
  {
   "cell_type": "markdown",
   "id": "ff9d5854",
   "metadata": {},
   "source": [
    "## Task 5 : Model Refinement\n",
    "\n",
    "전체 데이터의 20%를 테스트 데이터로 나머지를 훈련 데이터로 분할. : `train_test_split()`사용"
   ]
  },
  {
   "cell_type": "code",
   "execution_count": 42,
   "id": "a5407b2b",
   "metadata": {},
   "outputs": [],
   "source": [
    "X_train, X_test, y_train, y_test = train_test_split(Z, y, test_size=0.2, random_state=1)"
   ]
  },
  {
   "cell_type": "markdown",
   "id": "d94b1c1f",
   "metadata": {},
   "source": [
    "**Ridge 회귀 모델**을 초기화하고 훈련 데이터에 적합(fit)\n",
    "\n",
    "✅ **해야 할 작업:**  \n",
    "1. **Ridge 회귀 모델**을 생성하고 적절한 **하이퍼파라미터(α 값)** 설정: 여기서는 0.1\n",
    "2. **훈련 데이터**를 사용하여 모델 학습  \n",
    "3. **테스트 데이터의 R² 점수** 출력  "
   ]
  },
  {
   "cell_type": "markdown",
   "id": "1da4f00f",
   "metadata": {},
   "source": [
    "<div class='alert alert-block alert-info'>\n",
    "    <b>Ridge 회귀는</b> 선형회귀의 업그레이드 버전으로, <b>과적합 (Overfit)</b>을 방지하는 역할을 함.\n",
    "</div>"
   ]
  },
  {
   "cell_type": "code",
   "execution_count": 43,
   "id": "55caf8b3",
   "metadata": {},
   "outputs": [
    {
     "data": {
      "text/plain": [
       "0.6760807731582401"
      ]
     },
     "execution_count": 43,
     "metadata": {},
     "output_type": "execute_result"
    }
   ],
   "source": [
    "# Ridge 회귀 모델 초기화 (α=0.1)\n",
    "ridge_model = Ridge(alpha = 0.1)\n",
    "\n",
    "# 모델 학습 (훈련 데이터에 적합)\n",
    "ridge_model.fit(X_train, y_train)\n",
    "\n",
    "# 테스트 데이터 예측\n",
    "y_pred = ridge_model.predict(X_test)\n",
    "\n",
    "# R² 점수 계산\n",
    "r2 = r2_score(y_test, y_pred)\n",
    "\n",
    "r2"
   ]
  },
  {
   "cell_type": "markdown",
   "id": "a45f4f9d",
   "metadata": {},
   "source": [
    "**다항 변환(Polynomial Transformation)**을 적용한 후 **Ridge 회귀 모델**을 다시 훈련하세요.  \n",
    "\n",
    "✅ **해야 할 작업:**  \n",
    "1. **다항 특성 변환**: `degree=2`로 설정하여 훈련 데이터의 특성을 확장  \n",
    "2. **Ridge 회귀 모델 훈련**: 변환된 데이터를 사용하여 모델 학습  \n",
    "3. **테스트 데이터의 R² 점수 출력**: 변환 전 모델과 비교하여 성능 개선 여부 확인  "
   ]
  },
  {
   "cell_type": "code",
   "execution_count": 49,
   "id": "c2ef9d62",
   "metadata": {},
   "outputs": [
    {
     "data": {
      "text/plain": [
       "0.7835631107608165"
      ]
     },
     "execution_count": 49,
     "metadata": {},
     "output_type": "execute_result"
    }
   ],
   "source": [
    "# 다항 변환 (degree=2)\n",
    "pr = PolynomialFeatures(degree=2)\n",
    "\n",
    "# 훈련 데이터만 `fit_transform()`, 테스트데이터는 `transform()` 사용\n",
    "## 테스트 데이터는 훈련 데이터에서 배운 규칙을 그대로 따라해야하므로 `fit()`하면 안됨\n",
    "x_train_pr = pr.fit_transform(X_train)\n",
    "x_test_pr = pr.transform(X_test)\n",
    "\n",
    "# Ridge 모델 다시 초기화 (alpha = 0.1 사용)\n",
    "ridge_model = Ridge(alpha = 0.1)\n",
    "\n",
    "# 모델 학습\n",
    "ridge_model.fit(x_train_pr, y_train)\n",
    "\n",
    "# 예측 수행\n",
    "y_pred = ridge_model.predict(x_test_pr)\n",
    "\n",
    "# 성능평가\n",
    "r2 = r2_score(y_test, y_pred)\n",
    "r2"
   ]
  },
  {
   "cell_type": "markdown",
   "id": "0310e7b2",
   "metadata": {},
   "source": [
    "## Congratulations! You have completed this project"
   ]
  },
  {
   "cell_type": "markdown",
   "id": "2cff0ce7",
   "metadata": {},
   "source": [
    "<a id=2></a>\n",
    "# Final Project Scenario\n",
    "# Lab for Final Project - Data Analytics for House Pricing Data Set\n",
    "\n",
    "**부동산 데이터 분석 과제**  \n",
    "\n",
    "### **과제 개요**  \n",
    "당신은 **부동산 투자 신탁(Real Estate Investment Trust)**에서 근무하는 **데이터 분석가(Data Analyst)**입니다.  \n",
    "회사는 **주거용 부동산**에 투자하고자 하며, 주어진 특성을 기반으로 **주택 시장 가격**을 예측하는 것이 목표입니다.  \n",
    "\n",
    "### **분석 및 예측 대상**  \n",
    "✅ **주택 가격** 예측  \n",
    "✅ **사용할 특성(Features)**  \n",
    "- 주거 면적(Square footage)  \n",
    "- 침실 수(Number of bedrooms)  \n",
    "- 층 수(Number of floors)  \n",
    "- 기타 관련 부동산 특성  \n",
    "\n",
    "### **해야 할 작업**  \n",
    "1. **데이터 분석(EDA)**: 특성별 가격 변동 패턴 탐색  \n",
    "2. **회귀 모델 개발**: 선형 회귀 및 고급 모델 활용  \n",
    "3. **모델 성능 평가**: R² 점수 및 오차 분석  \n",
    "4. **실험적 개선**: 다항 회귀, Ridge 회귀 등 적용  \n",
    "\n",
    "💡 **힌트**: 제공된 **Jupyter Notebook 템플릿**을 활용하여 **10개의 질문**을 해결하세요. 🚀"
   ]
  },
  {
   "cell_type": "markdown",
   "id": "68b06eb5",
   "metadata": {},
   "source": [
    "## **데이터셋 개요**  \n",
    "\n",
    "이 데이터셋은 **King County(킹 카운티, 시애틀 포함)**의 주택 판매 가격 정보를 포함하고 있습니다.  \n",
    "- **판매 기간**: 2014년 5월 ~ 2015년 5월  \n",
    "- **출처**: [Kaggle 데이터셋](https://www.kaggle.com/harlfoxem/housesalesprediction)  \n",
    "- **사용 목적**: 본 과정에 맞게 일부 수정됨  \n",
    "\n",
    "### **데이터 활용 목적**  \n",
    "🏡 **King County 지역의 주택 가격 예측**  \n",
    "📊 **부동산 시장 분석 및 트렌드 파악**"
   ]
  },
  {
   "cell_type": "code",
   "execution_count": 52,
   "id": "f7677efd",
   "metadata": {},
   "outputs": [],
   "source": [
    "import pandas as pd\n",
    "import numpy as np\n",
    "import matplotlib.pyplot as plt\n",
    "import seaborn as sns\n",
    "from sklearn.pipeline import Pipeline\n",
    "from sklearn.preprocessing import StandardScaler, PolynomialFeatures\n",
    "from sklearn.linear_model import LinearRegression"
   ]
  },
  {
   "cell_type": "markdown",
   "id": "45e56bdd",
   "metadata": {},
   "source": [
    "## Module 1: Importing Data Sets\n"
   ]
  },
  {
   "cell_type": "code",
   "execution_count": 53,
   "id": "01f8174a",
   "metadata": {},
   "outputs": [],
   "source": [
    "filepath='https://cf-courses-data.s3.us.cloud-object-storage.appdomain.cloud/IBMDeveloperSkillsNetwork-DA0101EN-SkillsNetwork/labs/FinalModule_Coursera/data/kc_house_data_NaN.csv'"
   ]
  },
  {
   "cell_type": "code",
   "execution_count": 54,
   "id": "bb337203",
   "metadata": {},
   "outputs": [],
   "source": [
    "df = pd.read_csv(filepath)"
   ]
  },
  {
   "cell_type": "code",
   "execution_count": 56,
   "id": "f6a3b7fe",
   "metadata": {},
   "outputs": [
    {
     "data": {
      "text/html": [
       "<div>\n",
       "<style scoped>\n",
       "    .dataframe tbody tr th:only-of-type {\n",
       "        vertical-align: middle;\n",
       "    }\n",
       "\n",
       "    .dataframe tbody tr th {\n",
       "        vertical-align: top;\n",
       "    }\n",
       "\n",
       "    .dataframe thead th {\n",
       "        text-align: right;\n",
       "    }\n",
       "</style>\n",
       "<table border=\"1\" class=\"dataframe\">\n",
       "  <thead>\n",
       "    <tr style=\"text-align: right;\">\n",
       "      <th></th>\n",
       "      <th>Unnamed: 0</th>\n",
       "      <th>id</th>\n",
       "      <th>date</th>\n",
       "      <th>price</th>\n",
       "      <th>bedrooms</th>\n",
       "      <th>bathrooms</th>\n",
       "      <th>sqft_living</th>\n",
       "      <th>sqft_lot</th>\n",
       "      <th>floors</th>\n",
       "      <th>waterfront</th>\n",
       "      <th>...</th>\n",
       "      <th>grade</th>\n",
       "      <th>sqft_above</th>\n",
       "      <th>sqft_basement</th>\n",
       "      <th>yr_built</th>\n",
       "      <th>yr_renovated</th>\n",
       "      <th>zipcode</th>\n",
       "      <th>lat</th>\n",
       "      <th>long</th>\n",
       "      <th>sqft_living15</th>\n",
       "      <th>sqft_lot15</th>\n",
       "    </tr>\n",
       "  </thead>\n",
       "  <tbody>\n",
       "    <tr>\n",
       "      <th>0</th>\n",
       "      <td>0</td>\n",
       "      <td>7129300520</td>\n",
       "      <td>20141013T000000</td>\n",
       "      <td>221900.0</td>\n",
       "      <td>3.0</td>\n",
       "      <td>1.00</td>\n",
       "      <td>1180</td>\n",
       "      <td>5650</td>\n",
       "      <td>1.0</td>\n",
       "      <td>0</td>\n",
       "      <td>...</td>\n",
       "      <td>7</td>\n",
       "      <td>1180</td>\n",
       "      <td>0</td>\n",
       "      <td>1955</td>\n",
       "      <td>0</td>\n",
       "      <td>98178</td>\n",
       "      <td>47.5112</td>\n",
       "      <td>-122.257</td>\n",
       "      <td>1340</td>\n",
       "      <td>5650</td>\n",
       "    </tr>\n",
       "    <tr>\n",
       "      <th>1</th>\n",
       "      <td>1</td>\n",
       "      <td>6414100192</td>\n",
       "      <td>20141209T000000</td>\n",
       "      <td>538000.0</td>\n",
       "      <td>3.0</td>\n",
       "      <td>2.25</td>\n",
       "      <td>2570</td>\n",
       "      <td>7242</td>\n",
       "      <td>2.0</td>\n",
       "      <td>0</td>\n",
       "      <td>...</td>\n",
       "      <td>7</td>\n",
       "      <td>2170</td>\n",
       "      <td>400</td>\n",
       "      <td>1951</td>\n",
       "      <td>1991</td>\n",
       "      <td>98125</td>\n",
       "      <td>47.7210</td>\n",
       "      <td>-122.319</td>\n",
       "      <td>1690</td>\n",
       "      <td>7639</td>\n",
       "    </tr>\n",
       "    <tr>\n",
       "      <th>2</th>\n",
       "      <td>2</td>\n",
       "      <td>5631500400</td>\n",
       "      <td>20150225T000000</td>\n",
       "      <td>180000.0</td>\n",
       "      <td>2.0</td>\n",
       "      <td>1.00</td>\n",
       "      <td>770</td>\n",
       "      <td>10000</td>\n",
       "      <td>1.0</td>\n",
       "      <td>0</td>\n",
       "      <td>...</td>\n",
       "      <td>6</td>\n",
       "      <td>770</td>\n",
       "      <td>0</td>\n",
       "      <td>1933</td>\n",
       "      <td>0</td>\n",
       "      <td>98028</td>\n",
       "      <td>47.7379</td>\n",
       "      <td>-122.233</td>\n",
       "      <td>2720</td>\n",
       "      <td>8062</td>\n",
       "    </tr>\n",
       "    <tr>\n",
       "      <th>3</th>\n",
       "      <td>3</td>\n",
       "      <td>2487200875</td>\n",
       "      <td>20141209T000000</td>\n",
       "      <td>604000.0</td>\n",
       "      <td>4.0</td>\n",
       "      <td>3.00</td>\n",
       "      <td>1960</td>\n",
       "      <td>5000</td>\n",
       "      <td>1.0</td>\n",
       "      <td>0</td>\n",
       "      <td>...</td>\n",
       "      <td>7</td>\n",
       "      <td>1050</td>\n",
       "      <td>910</td>\n",
       "      <td>1965</td>\n",
       "      <td>0</td>\n",
       "      <td>98136</td>\n",
       "      <td>47.5208</td>\n",
       "      <td>-122.393</td>\n",
       "      <td>1360</td>\n",
       "      <td>5000</td>\n",
       "    </tr>\n",
       "    <tr>\n",
       "      <th>4</th>\n",
       "      <td>4</td>\n",
       "      <td>1954400510</td>\n",
       "      <td>20150218T000000</td>\n",
       "      <td>510000.0</td>\n",
       "      <td>3.0</td>\n",
       "      <td>2.00</td>\n",
       "      <td>1680</td>\n",
       "      <td>8080</td>\n",
       "      <td>1.0</td>\n",
       "      <td>0</td>\n",
       "      <td>...</td>\n",
       "      <td>8</td>\n",
       "      <td>1680</td>\n",
       "      <td>0</td>\n",
       "      <td>1987</td>\n",
       "      <td>0</td>\n",
       "      <td>98074</td>\n",
       "      <td>47.6168</td>\n",
       "      <td>-122.045</td>\n",
       "      <td>1800</td>\n",
       "      <td>7503</td>\n",
       "    </tr>\n",
       "  </tbody>\n",
       "</table>\n",
       "<p>5 rows × 22 columns</p>\n",
       "</div>"
      ],
      "text/plain": [
       "   Unnamed: 0          id             date     price  bedrooms  bathrooms  \\\n",
       "0           0  7129300520  20141013T000000  221900.0       3.0       1.00   \n",
       "1           1  6414100192  20141209T000000  538000.0       3.0       2.25   \n",
       "2           2  5631500400  20150225T000000  180000.0       2.0       1.00   \n",
       "3           3  2487200875  20141209T000000  604000.0       4.0       3.00   \n",
       "4           4  1954400510  20150218T000000  510000.0       3.0       2.00   \n",
       "\n",
       "   sqft_living  sqft_lot  floors  waterfront  ...  grade  sqft_above  \\\n",
       "0         1180      5650     1.0           0  ...      7        1180   \n",
       "1         2570      7242     2.0           0  ...      7        2170   \n",
       "2          770     10000     1.0           0  ...      6         770   \n",
       "3         1960      5000     1.0           0  ...      7        1050   \n",
       "4         1680      8080     1.0           0  ...      8        1680   \n",
       "\n",
       "   sqft_basement  yr_built  yr_renovated  zipcode      lat     long  \\\n",
       "0              0      1955             0    98178  47.5112 -122.257   \n",
       "1            400      1951          1991    98125  47.7210 -122.319   \n",
       "2              0      1933             0    98028  47.7379 -122.233   \n",
       "3            910      1965             0    98136  47.5208 -122.393   \n",
       "4              0      1987             0    98074  47.6168 -122.045   \n",
       "\n",
       "   sqft_living15  sqft_lot15  \n",
       "0           1340        5650  \n",
       "1           1690        7639  \n",
       "2           2720        8062  \n",
       "3           1360        5000  \n",
       "4           1800        7503  \n",
       "\n",
       "[5 rows x 22 columns]"
      ]
     },
     "execution_count": 56,
     "metadata": {},
     "output_type": "execute_result"
    }
   ],
   "source": [
    "df.head()"
   ]
  },
  {
   "cell_type": "code",
   "execution_count": 57,
   "id": "a068224a",
   "metadata": {},
   "outputs": [
    {
     "data": {
      "text/plain": [
       "Unnamed: 0         int64\n",
       "id                 int64\n",
       "date              object\n",
       "price            float64\n",
       "bedrooms         float64\n",
       "bathrooms        float64\n",
       "sqft_living        int64\n",
       "sqft_lot           int64\n",
       "floors           float64\n",
       "waterfront         int64\n",
       "view               int64\n",
       "condition          int64\n",
       "grade              int64\n",
       "sqft_above         int64\n",
       "sqft_basement      int64\n",
       "yr_built           int64\n",
       "yr_renovated       int64\n",
       "zipcode            int64\n",
       "lat              float64\n",
       "long             float64\n",
       "sqft_living15      int64\n",
       "sqft_lot15         int64\n",
       "dtype: object"
      ]
     },
     "execution_count": 57,
     "metadata": {},
     "output_type": "execute_result"
    }
   ],
   "source": [
    "df.dtypes"
   ]
  },
  {
   "cell_type": "code",
   "execution_count": 58,
   "id": "b8d8b7d7",
   "metadata": {},
   "outputs": [
    {
     "data": {
      "text/html": [
       "<div>\n",
       "<style scoped>\n",
       "    .dataframe tbody tr th:only-of-type {\n",
       "        vertical-align: middle;\n",
       "    }\n",
       "\n",
       "    .dataframe tbody tr th {\n",
       "        vertical-align: top;\n",
       "    }\n",
       "\n",
       "    .dataframe thead th {\n",
       "        text-align: right;\n",
       "    }\n",
       "</style>\n",
       "<table border=\"1\" class=\"dataframe\">\n",
       "  <thead>\n",
       "    <tr style=\"text-align: right;\">\n",
       "      <th></th>\n",
       "      <th>Unnamed: 0</th>\n",
       "      <th>id</th>\n",
       "      <th>price</th>\n",
       "      <th>bedrooms</th>\n",
       "      <th>bathrooms</th>\n",
       "      <th>sqft_living</th>\n",
       "      <th>sqft_lot</th>\n",
       "      <th>floors</th>\n",
       "      <th>waterfront</th>\n",
       "      <th>view</th>\n",
       "      <th>...</th>\n",
       "      <th>grade</th>\n",
       "      <th>sqft_above</th>\n",
       "      <th>sqft_basement</th>\n",
       "      <th>yr_built</th>\n",
       "      <th>yr_renovated</th>\n",
       "      <th>zipcode</th>\n",
       "      <th>lat</th>\n",
       "      <th>long</th>\n",
       "      <th>sqft_living15</th>\n",
       "      <th>sqft_lot15</th>\n",
       "    </tr>\n",
       "  </thead>\n",
       "  <tbody>\n",
       "    <tr>\n",
       "      <th>count</th>\n",
       "      <td>21613.00000</td>\n",
       "      <td>2.161300e+04</td>\n",
       "      <td>2.161300e+04</td>\n",
       "      <td>21600.000000</td>\n",
       "      <td>21603.000000</td>\n",
       "      <td>21613.000000</td>\n",
       "      <td>2.161300e+04</td>\n",
       "      <td>21613.000000</td>\n",
       "      <td>21613.000000</td>\n",
       "      <td>21613.000000</td>\n",
       "      <td>...</td>\n",
       "      <td>21613.000000</td>\n",
       "      <td>21613.000000</td>\n",
       "      <td>21613.000000</td>\n",
       "      <td>21613.000000</td>\n",
       "      <td>21613.000000</td>\n",
       "      <td>21613.000000</td>\n",
       "      <td>21613.000000</td>\n",
       "      <td>21613.000000</td>\n",
       "      <td>21613.000000</td>\n",
       "      <td>21613.000000</td>\n",
       "    </tr>\n",
       "    <tr>\n",
       "      <th>mean</th>\n",
       "      <td>10806.00000</td>\n",
       "      <td>4.580302e+09</td>\n",
       "      <td>5.400881e+05</td>\n",
       "      <td>3.372870</td>\n",
       "      <td>2.115736</td>\n",
       "      <td>2079.899736</td>\n",
       "      <td>1.510697e+04</td>\n",
       "      <td>1.494309</td>\n",
       "      <td>0.007542</td>\n",
       "      <td>0.234303</td>\n",
       "      <td>...</td>\n",
       "      <td>7.656873</td>\n",
       "      <td>1788.390691</td>\n",
       "      <td>291.509045</td>\n",
       "      <td>1971.005136</td>\n",
       "      <td>84.402258</td>\n",
       "      <td>98077.939805</td>\n",
       "      <td>47.560053</td>\n",
       "      <td>-122.213896</td>\n",
       "      <td>1986.552492</td>\n",
       "      <td>12768.455652</td>\n",
       "    </tr>\n",
       "    <tr>\n",
       "      <th>std</th>\n",
       "      <td>6239.28002</td>\n",
       "      <td>2.876566e+09</td>\n",
       "      <td>3.671272e+05</td>\n",
       "      <td>0.926657</td>\n",
       "      <td>0.768996</td>\n",
       "      <td>918.440897</td>\n",
       "      <td>4.142051e+04</td>\n",
       "      <td>0.539989</td>\n",
       "      <td>0.086517</td>\n",
       "      <td>0.766318</td>\n",
       "      <td>...</td>\n",
       "      <td>1.175459</td>\n",
       "      <td>828.090978</td>\n",
       "      <td>442.575043</td>\n",
       "      <td>29.373411</td>\n",
       "      <td>401.679240</td>\n",
       "      <td>53.505026</td>\n",
       "      <td>0.138564</td>\n",
       "      <td>0.140828</td>\n",
       "      <td>685.391304</td>\n",
       "      <td>27304.179631</td>\n",
       "    </tr>\n",
       "    <tr>\n",
       "      <th>min</th>\n",
       "      <td>0.00000</td>\n",
       "      <td>1.000102e+06</td>\n",
       "      <td>7.500000e+04</td>\n",
       "      <td>1.000000</td>\n",
       "      <td>0.500000</td>\n",
       "      <td>290.000000</td>\n",
       "      <td>5.200000e+02</td>\n",
       "      <td>1.000000</td>\n",
       "      <td>0.000000</td>\n",
       "      <td>0.000000</td>\n",
       "      <td>...</td>\n",
       "      <td>1.000000</td>\n",
       "      <td>290.000000</td>\n",
       "      <td>0.000000</td>\n",
       "      <td>1900.000000</td>\n",
       "      <td>0.000000</td>\n",
       "      <td>98001.000000</td>\n",
       "      <td>47.155900</td>\n",
       "      <td>-122.519000</td>\n",
       "      <td>399.000000</td>\n",
       "      <td>651.000000</td>\n",
       "    </tr>\n",
       "    <tr>\n",
       "      <th>25%</th>\n",
       "      <td>5403.00000</td>\n",
       "      <td>2.123049e+09</td>\n",
       "      <td>3.219500e+05</td>\n",
       "      <td>3.000000</td>\n",
       "      <td>1.750000</td>\n",
       "      <td>1427.000000</td>\n",
       "      <td>5.040000e+03</td>\n",
       "      <td>1.000000</td>\n",
       "      <td>0.000000</td>\n",
       "      <td>0.000000</td>\n",
       "      <td>...</td>\n",
       "      <td>7.000000</td>\n",
       "      <td>1190.000000</td>\n",
       "      <td>0.000000</td>\n",
       "      <td>1951.000000</td>\n",
       "      <td>0.000000</td>\n",
       "      <td>98033.000000</td>\n",
       "      <td>47.471000</td>\n",
       "      <td>-122.328000</td>\n",
       "      <td>1490.000000</td>\n",
       "      <td>5100.000000</td>\n",
       "    </tr>\n",
       "    <tr>\n",
       "      <th>50%</th>\n",
       "      <td>10806.00000</td>\n",
       "      <td>3.904930e+09</td>\n",
       "      <td>4.500000e+05</td>\n",
       "      <td>3.000000</td>\n",
       "      <td>2.250000</td>\n",
       "      <td>1910.000000</td>\n",
       "      <td>7.618000e+03</td>\n",
       "      <td>1.500000</td>\n",
       "      <td>0.000000</td>\n",
       "      <td>0.000000</td>\n",
       "      <td>...</td>\n",
       "      <td>7.000000</td>\n",
       "      <td>1560.000000</td>\n",
       "      <td>0.000000</td>\n",
       "      <td>1975.000000</td>\n",
       "      <td>0.000000</td>\n",
       "      <td>98065.000000</td>\n",
       "      <td>47.571800</td>\n",
       "      <td>-122.230000</td>\n",
       "      <td>1840.000000</td>\n",
       "      <td>7620.000000</td>\n",
       "    </tr>\n",
       "    <tr>\n",
       "      <th>75%</th>\n",
       "      <td>16209.00000</td>\n",
       "      <td>7.308900e+09</td>\n",
       "      <td>6.450000e+05</td>\n",
       "      <td>4.000000</td>\n",
       "      <td>2.500000</td>\n",
       "      <td>2550.000000</td>\n",
       "      <td>1.068800e+04</td>\n",
       "      <td>2.000000</td>\n",
       "      <td>0.000000</td>\n",
       "      <td>0.000000</td>\n",
       "      <td>...</td>\n",
       "      <td>8.000000</td>\n",
       "      <td>2210.000000</td>\n",
       "      <td>560.000000</td>\n",
       "      <td>1997.000000</td>\n",
       "      <td>0.000000</td>\n",
       "      <td>98118.000000</td>\n",
       "      <td>47.678000</td>\n",
       "      <td>-122.125000</td>\n",
       "      <td>2360.000000</td>\n",
       "      <td>10083.000000</td>\n",
       "    </tr>\n",
       "    <tr>\n",
       "      <th>max</th>\n",
       "      <td>21612.00000</td>\n",
       "      <td>9.900000e+09</td>\n",
       "      <td>7.700000e+06</td>\n",
       "      <td>33.000000</td>\n",
       "      <td>8.000000</td>\n",
       "      <td>13540.000000</td>\n",
       "      <td>1.651359e+06</td>\n",
       "      <td>3.500000</td>\n",
       "      <td>1.000000</td>\n",
       "      <td>4.000000</td>\n",
       "      <td>...</td>\n",
       "      <td>13.000000</td>\n",
       "      <td>9410.000000</td>\n",
       "      <td>4820.000000</td>\n",
       "      <td>2015.000000</td>\n",
       "      <td>2015.000000</td>\n",
       "      <td>98199.000000</td>\n",
       "      <td>47.777600</td>\n",
       "      <td>-121.315000</td>\n",
       "      <td>6210.000000</td>\n",
       "      <td>871200.000000</td>\n",
       "    </tr>\n",
       "  </tbody>\n",
       "</table>\n",
       "<p>8 rows × 21 columns</p>\n",
       "</div>"
      ],
      "text/plain": [
       "        Unnamed: 0            id         price      bedrooms     bathrooms  \\\n",
       "count  21613.00000  2.161300e+04  2.161300e+04  21600.000000  21603.000000   \n",
       "mean   10806.00000  4.580302e+09  5.400881e+05      3.372870      2.115736   \n",
       "std     6239.28002  2.876566e+09  3.671272e+05      0.926657      0.768996   \n",
       "min        0.00000  1.000102e+06  7.500000e+04      1.000000      0.500000   \n",
       "25%     5403.00000  2.123049e+09  3.219500e+05      3.000000      1.750000   \n",
       "50%    10806.00000  3.904930e+09  4.500000e+05      3.000000      2.250000   \n",
       "75%    16209.00000  7.308900e+09  6.450000e+05      4.000000      2.500000   \n",
       "max    21612.00000  9.900000e+09  7.700000e+06     33.000000      8.000000   \n",
       "\n",
       "        sqft_living      sqft_lot        floors    waterfront          view  \\\n",
       "count  21613.000000  2.161300e+04  21613.000000  21613.000000  21613.000000   \n",
       "mean    2079.899736  1.510697e+04      1.494309      0.007542      0.234303   \n",
       "std      918.440897  4.142051e+04      0.539989      0.086517      0.766318   \n",
       "min      290.000000  5.200000e+02      1.000000      0.000000      0.000000   \n",
       "25%     1427.000000  5.040000e+03      1.000000      0.000000      0.000000   \n",
       "50%     1910.000000  7.618000e+03      1.500000      0.000000      0.000000   \n",
       "75%     2550.000000  1.068800e+04      2.000000      0.000000      0.000000   \n",
       "max    13540.000000  1.651359e+06      3.500000      1.000000      4.000000   \n",
       "\n",
       "       ...         grade    sqft_above  sqft_basement      yr_built  \\\n",
       "count  ...  21613.000000  21613.000000   21613.000000  21613.000000   \n",
       "mean   ...      7.656873   1788.390691     291.509045   1971.005136   \n",
       "std    ...      1.175459    828.090978     442.575043     29.373411   \n",
       "min    ...      1.000000    290.000000       0.000000   1900.000000   \n",
       "25%    ...      7.000000   1190.000000       0.000000   1951.000000   \n",
       "50%    ...      7.000000   1560.000000       0.000000   1975.000000   \n",
       "75%    ...      8.000000   2210.000000     560.000000   1997.000000   \n",
       "max    ...     13.000000   9410.000000    4820.000000   2015.000000   \n",
       "\n",
       "       yr_renovated       zipcode           lat          long  sqft_living15  \\\n",
       "count  21613.000000  21613.000000  21613.000000  21613.000000   21613.000000   \n",
       "mean      84.402258  98077.939805     47.560053   -122.213896    1986.552492   \n",
       "std      401.679240     53.505026      0.138564      0.140828     685.391304   \n",
       "min        0.000000  98001.000000     47.155900   -122.519000     399.000000   \n",
       "25%        0.000000  98033.000000     47.471000   -122.328000    1490.000000   \n",
       "50%        0.000000  98065.000000     47.571800   -122.230000    1840.000000   \n",
       "75%        0.000000  98118.000000     47.678000   -122.125000    2360.000000   \n",
       "max     2015.000000  98199.000000     47.777600   -121.315000    6210.000000   \n",
       "\n",
       "          sqft_lot15  \n",
       "count   21613.000000  \n",
       "mean    12768.455652  \n",
       "std     27304.179631  \n",
       "min       651.000000  \n",
       "25%      5100.000000  \n",
       "50%      7620.000000  \n",
       "75%     10083.000000  \n",
       "max    871200.000000  \n",
       "\n",
       "[8 rows x 21 columns]"
      ]
     },
     "execution_count": 58,
     "metadata": {},
     "output_type": "execute_result"
    }
   ],
   "source": [
    "df.describe()"
   ]
  },
  {
   "cell_type": "markdown",
   "id": "29ba756b",
   "metadata": {},
   "source": [
    "## Module 2: Data Wrangling"
   ]
  },
  {
   "cell_type": "code",
   "execution_count": 61,
   "id": "81e3c7a6",
   "metadata": {},
   "outputs": [],
   "source": [
    "# drop Unnamed: 0 and id by using `drop()`\n",
    "\n",
    "df.drop(['id','Unnamed: 0'], axis=1, inplace=True)"
   ]
  },
  {
   "cell_type": "code",
   "execution_count": 62,
   "id": "9568a7cb",
   "metadata": {},
   "outputs": [
    {
     "data": {
      "text/html": [
       "<div>\n",
       "<style scoped>\n",
       "    .dataframe tbody tr th:only-of-type {\n",
       "        vertical-align: middle;\n",
       "    }\n",
       "\n",
       "    .dataframe tbody tr th {\n",
       "        vertical-align: top;\n",
       "    }\n",
       "\n",
       "    .dataframe thead th {\n",
       "        text-align: right;\n",
       "    }\n",
       "</style>\n",
       "<table border=\"1\" class=\"dataframe\">\n",
       "  <thead>\n",
       "    <tr style=\"text-align: right;\">\n",
       "      <th></th>\n",
       "      <th>price</th>\n",
       "      <th>bedrooms</th>\n",
       "      <th>bathrooms</th>\n",
       "      <th>sqft_living</th>\n",
       "      <th>sqft_lot</th>\n",
       "      <th>floors</th>\n",
       "      <th>waterfront</th>\n",
       "      <th>view</th>\n",
       "      <th>condition</th>\n",
       "      <th>grade</th>\n",
       "      <th>sqft_above</th>\n",
       "      <th>sqft_basement</th>\n",
       "      <th>yr_built</th>\n",
       "      <th>yr_renovated</th>\n",
       "      <th>zipcode</th>\n",
       "      <th>lat</th>\n",
       "      <th>long</th>\n",
       "      <th>sqft_living15</th>\n",
       "      <th>sqft_lot15</th>\n",
       "    </tr>\n",
       "  </thead>\n",
       "  <tbody>\n",
       "    <tr>\n",
       "      <th>count</th>\n",
       "      <td>2.161300e+04</td>\n",
       "      <td>21600.000000</td>\n",
       "      <td>21603.000000</td>\n",
       "      <td>21613.000000</td>\n",
       "      <td>2.161300e+04</td>\n",
       "      <td>21613.000000</td>\n",
       "      <td>21613.000000</td>\n",
       "      <td>21613.000000</td>\n",
       "      <td>21613.000000</td>\n",
       "      <td>21613.000000</td>\n",
       "      <td>21613.000000</td>\n",
       "      <td>21613.000000</td>\n",
       "      <td>21613.000000</td>\n",
       "      <td>21613.000000</td>\n",
       "      <td>21613.000000</td>\n",
       "      <td>21613.000000</td>\n",
       "      <td>21613.000000</td>\n",
       "      <td>21613.000000</td>\n",
       "      <td>21613.000000</td>\n",
       "    </tr>\n",
       "    <tr>\n",
       "      <th>mean</th>\n",
       "      <td>5.400881e+05</td>\n",
       "      <td>3.372870</td>\n",
       "      <td>2.115736</td>\n",
       "      <td>2079.899736</td>\n",
       "      <td>1.510697e+04</td>\n",
       "      <td>1.494309</td>\n",
       "      <td>0.007542</td>\n",
       "      <td>0.234303</td>\n",
       "      <td>3.409430</td>\n",
       "      <td>7.656873</td>\n",
       "      <td>1788.390691</td>\n",
       "      <td>291.509045</td>\n",
       "      <td>1971.005136</td>\n",
       "      <td>84.402258</td>\n",
       "      <td>98077.939805</td>\n",
       "      <td>47.560053</td>\n",
       "      <td>-122.213896</td>\n",
       "      <td>1986.552492</td>\n",
       "      <td>12768.455652</td>\n",
       "    </tr>\n",
       "    <tr>\n",
       "      <th>std</th>\n",
       "      <td>3.671272e+05</td>\n",
       "      <td>0.926657</td>\n",
       "      <td>0.768996</td>\n",
       "      <td>918.440897</td>\n",
       "      <td>4.142051e+04</td>\n",
       "      <td>0.539989</td>\n",
       "      <td>0.086517</td>\n",
       "      <td>0.766318</td>\n",
       "      <td>0.650743</td>\n",
       "      <td>1.175459</td>\n",
       "      <td>828.090978</td>\n",
       "      <td>442.575043</td>\n",
       "      <td>29.373411</td>\n",
       "      <td>401.679240</td>\n",
       "      <td>53.505026</td>\n",
       "      <td>0.138564</td>\n",
       "      <td>0.140828</td>\n",
       "      <td>685.391304</td>\n",
       "      <td>27304.179631</td>\n",
       "    </tr>\n",
       "    <tr>\n",
       "      <th>min</th>\n",
       "      <td>7.500000e+04</td>\n",
       "      <td>1.000000</td>\n",
       "      <td>0.500000</td>\n",
       "      <td>290.000000</td>\n",
       "      <td>5.200000e+02</td>\n",
       "      <td>1.000000</td>\n",
       "      <td>0.000000</td>\n",
       "      <td>0.000000</td>\n",
       "      <td>1.000000</td>\n",
       "      <td>1.000000</td>\n",
       "      <td>290.000000</td>\n",
       "      <td>0.000000</td>\n",
       "      <td>1900.000000</td>\n",
       "      <td>0.000000</td>\n",
       "      <td>98001.000000</td>\n",
       "      <td>47.155900</td>\n",
       "      <td>-122.519000</td>\n",
       "      <td>399.000000</td>\n",
       "      <td>651.000000</td>\n",
       "    </tr>\n",
       "    <tr>\n",
       "      <th>25%</th>\n",
       "      <td>3.219500e+05</td>\n",
       "      <td>3.000000</td>\n",
       "      <td>1.750000</td>\n",
       "      <td>1427.000000</td>\n",
       "      <td>5.040000e+03</td>\n",
       "      <td>1.000000</td>\n",
       "      <td>0.000000</td>\n",
       "      <td>0.000000</td>\n",
       "      <td>3.000000</td>\n",
       "      <td>7.000000</td>\n",
       "      <td>1190.000000</td>\n",
       "      <td>0.000000</td>\n",
       "      <td>1951.000000</td>\n",
       "      <td>0.000000</td>\n",
       "      <td>98033.000000</td>\n",
       "      <td>47.471000</td>\n",
       "      <td>-122.328000</td>\n",
       "      <td>1490.000000</td>\n",
       "      <td>5100.000000</td>\n",
       "    </tr>\n",
       "    <tr>\n",
       "      <th>50%</th>\n",
       "      <td>4.500000e+05</td>\n",
       "      <td>3.000000</td>\n",
       "      <td>2.250000</td>\n",
       "      <td>1910.000000</td>\n",
       "      <td>7.618000e+03</td>\n",
       "      <td>1.500000</td>\n",
       "      <td>0.000000</td>\n",
       "      <td>0.000000</td>\n",
       "      <td>3.000000</td>\n",
       "      <td>7.000000</td>\n",
       "      <td>1560.000000</td>\n",
       "      <td>0.000000</td>\n",
       "      <td>1975.000000</td>\n",
       "      <td>0.000000</td>\n",
       "      <td>98065.000000</td>\n",
       "      <td>47.571800</td>\n",
       "      <td>-122.230000</td>\n",
       "      <td>1840.000000</td>\n",
       "      <td>7620.000000</td>\n",
       "    </tr>\n",
       "    <tr>\n",
       "      <th>75%</th>\n",
       "      <td>6.450000e+05</td>\n",
       "      <td>4.000000</td>\n",
       "      <td>2.500000</td>\n",
       "      <td>2550.000000</td>\n",
       "      <td>1.068800e+04</td>\n",
       "      <td>2.000000</td>\n",
       "      <td>0.000000</td>\n",
       "      <td>0.000000</td>\n",
       "      <td>4.000000</td>\n",
       "      <td>8.000000</td>\n",
       "      <td>2210.000000</td>\n",
       "      <td>560.000000</td>\n",
       "      <td>1997.000000</td>\n",
       "      <td>0.000000</td>\n",
       "      <td>98118.000000</td>\n",
       "      <td>47.678000</td>\n",
       "      <td>-122.125000</td>\n",
       "      <td>2360.000000</td>\n",
       "      <td>10083.000000</td>\n",
       "    </tr>\n",
       "    <tr>\n",
       "      <th>max</th>\n",
       "      <td>7.700000e+06</td>\n",
       "      <td>33.000000</td>\n",
       "      <td>8.000000</td>\n",
       "      <td>13540.000000</td>\n",
       "      <td>1.651359e+06</td>\n",
       "      <td>3.500000</td>\n",
       "      <td>1.000000</td>\n",
       "      <td>4.000000</td>\n",
       "      <td>5.000000</td>\n",
       "      <td>13.000000</td>\n",
       "      <td>9410.000000</td>\n",
       "      <td>4820.000000</td>\n",
       "      <td>2015.000000</td>\n",
       "      <td>2015.000000</td>\n",
       "      <td>98199.000000</td>\n",
       "      <td>47.777600</td>\n",
       "      <td>-121.315000</td>\n",
       "      <td>6210.000000</td>\n",
       "      <td>871200.000000</td>\n",
       "    </tr>\n",
       "  </tbody>\n",
       "</table>\n",
       "</div>"
      ],
      "text/plain": [
       "              price      bedrooms     bathrooms   sqft_living      sqft_lot  \\\n",
       "count  2.161300e+04  21600.000000  21603.000000  21613.000000  2.161300e+04   \n",
       "mean   5.400881e+05      3.372870      2.115736   2079.899736  1.510697e+04   \n",
       "std    3.671272e+05      0.926657      0.768996    918.440897  4.142051e+04   \n",
       "min    7.500000e+04      1.000000      0.500000    290.000000  5.200000e+02   \n",
       "25%    3.219500e+05      3.000000      1.750000   1427.000000  5.040000e+03   \n",
       "50%    4.500000e+05      3.000000      2.250000   1910.000000  7.618000e+03   \n",
       "75%    6.450000e+05      4.000000      2.500000   2550.000000  1.068800e+04   \n",
       "max    7.700000e+06     33.000000      8.000000  13540.000000  1.651359e+06   \n",
       "\n",
       "             floors    waterfront          view     condition         grade  \\\n",
       "count  21613.000000  21613.000000  21613.000000  21613.000000  21613.000000   \n",
       "mean       1.494309      0.007542      0.234303      3.409430      7.656873   \n",
       "std        0.539989      0.086517      0.766318      0.650743      1.175459   \n",
       "min        1.000000      0.000000      0.000000      1.000000      1.000000   \n",
       "25%        1.000000      0.000000      0.000000      3.000000      7.000000   \n",
       "50%        1.500000      0.000000      0.000000      3.000000      7.000000   \n",
       "75%        2.000000      0.000000      0.000000      4.000000      8.000000   \n",
       "max        3.500000      1.000000      4.000000      5.000000     13.000000   \n",
       "\n",
       "         sqft_above  sqft_basement      yr_built  yr_renovated       zipcode  \\\n",
       "count  21613.000000   21613.000000  21613.000000  21613.000000  21613.000000   \n",
       "mean    1788.390691     291.509045   1971.005136     84.402258  98077.939805   \n",
       "std      828.090978     442.575043     29.373411    401.679240     53.505026   \n",
       "min      290.000000       0.000000   1900.000000      0.000000  98001.000000   \n",
       "25%     1190.000000       0.000000   1951.000000      0.000000  98033.000000   \n",
       "50%     1560.000000       0.000000   1975.000000      0.000000  98065.000000   \n",
       "75%     2210.000000     560.000000   1997.000000      0.000000  98118.000000   \n",
       "max     9410.000000    4820.000000   2015.000000   2015.000000  98199.000000   \n",
       "\n",
       "                lat          long  sqft_living15     sqft_lot15  \n",
       "count  21613.000000  21613.000000   21613.000000   21613.000000  \n",
       "mean      47.560053   -122.213896    1986.552492   12768.455652  \n",
       "std        0.138564      0.140828     685.391304   27304.179631  \n",
       "min       47.155900   -122.519000     399.000000     651.000000  \n",
       "25%       47.471000   -122.328000    1490.000000    5100.000000  \n",
       "50%       47.571800   -122.230000    1840.000000    7620.000000  \n",
       "75%       47.678000   -122.125000    2360.000000   10083.000000  \n",
       "max       47.777600   -121.315000    6210.000000  871200.000000  "
      ]
     },
     "execution_count": 62,
     "metadata": {},
     "output_type": "execute_result"
    }
   ],
   "source": [
    "df.describe()"
   ]
  },
  {
   "cell_type": "code",
   "execution_count": 63,
   "id": "1f8e8836",
   "metadata": {},
   "outputs": [
    {
     "name": "stdout",
     "output_type": "stream",
     "text": [
      "number of NaN values for the column bedrooms : 13\n",
      "number of NaN values for the column bathrooms : 10\n"
     ]
    }
   ],
   "source": [
    "print(\"number of NaN values for the column bedrooms :\", df['bedrooms'].isnull().sum())\n",
    "print(\"number of NaN values for the column bathrooms :\", df['bathrooms'].isnull().sum())"
   ]
  },
  {
   "cell_type": "code",
   "execution_count": 64,
   "id": "e49a2d8b",
   "metadata": {},
   "outputs": [],
   "source": [
    "mean=df['bedrooms'].mean()\n",
    "df['bedrooms'].replace(np.nan,mean, inplace=True)"
   ]
  },
  {
   "cell_type": "code",
   "execution_count": 65,
   "id": "000fdd64",
   "metadata": {},
   "outputs": [],
   "source": [
    "mean=df['bathrooms'].mean()\n",
    "df['bathrooms'].replace(np.nan,mean, inplace=True)"
   ]
  },
  {
   "cell_type": "code",
   "execution_count": 66,
   "id": "18e9afef",
   "metadata": {},
   "outputs": [
    {
     "name": "stdout",
     "output_type": "stream",
     "text": [
      "number of NaN values for the column bedrooms : 0\n",
      "number of NaN values for the column bathrooms : 0\n"
     ]
    }
   ],
   "source": [
    "print(\"number of NaN values for the column bedrooms :\", df['bedrooms'].isnull().sum())\n",
    "print(\"number of NaN values for the column bathrooms :\", df['bathrooms'].isnull().sum())"
   ]
  },
  {
   "cell_type": "markdown",
   "id": "21a20687",
   "metadata": {},
   "source": [
    "## Module 3: Exploratory Data Analysis"
   ]
  },
  {
   "cell_type": "code",
   "execution_count": 75,
   "id": "e59f1e54",
   "metadata": {},
   "outputs": [
    {
     "data": {
      "text/html": [
       "<div>\n",
       "<style scoped>\n",
       "    .dataframe tbody tr th:only-of-type {\n",
       "        vertical-align: middle;\n",
       "    }\n",
       "\n",
       "    .dataframe tbody tr th {\n",
       "        vertical-align: top;\n",
       "    }\n",
       "\n",
       "    .dataframe thead th {\n",
       "        text-align: right;\n",
       "    }\n",
       "</style>\n",
       "<table border=\"1\" class=\"dataframe\">\n",
       "  <thead>\n",
       "    <tr style=\"text-align: right;\">\n",
       "      <th></th>\n",
       "      <th>unique_floor</th>\n",
       "      <th>counts</th>\n",
       "    </tr>\n",
       "  </thead>\n",
       "  <tbody>\n",
       "    <tr>\n",
       "      <th>0</th>\n",
       "      <td>1.0</td>\n",
       "      <td>10680</td>\n",
       "    </tr>\n",
       "    <tr>\n",
       "      <th>1</th>\n",
       "      <td>2.0</td>\n",
       "      <td>8241</td>\n",
       "    </tr>\n",
       "    <tr>\n",
       "      <th>2</th>\n",
       "      <td>1.5</td>\n",
       "      <td>1910</td>\n",
       "    </tr>\n",
       "    <tr>\n",
       "      <th>3</th>\n",
       "      <td>3.0</td>\n",
       "      <td>613</td>\n",
       "    </tr>\n",
       "    <tr>\n",
       "      <th>4</th>\n",
       "      <td>2.5</td>\n",
       "      <td>161</td>\n",
       "    </tr>\n",
       "    <tr>\n",
       "      <th>5</th>\n",
       "      <td>3.5</td>\n",
       "      <td>8</td>\n",
       "    </tr>\n",
       "  </tbody>\n",
       "</table>\n",
       "</div>"
      ],
      "text/plain": [
       "   unique_floor  counts\n",
       "0           1.0   10680\n",
       "1           2.0    8241\n",
       "2           1.5    1910\n",
       "3           3.0     613\n",
       "4           2.5     161\n",
       "5           3.5       8"
      ]
     },
     "execution_count": 75,
     "metadata": {},
     "output_type": "execute_result"
    }
   ],
   "source": [
    "unique_floors = df['floors'].value_counts().to_frame()\n",
    "unique_floors.reset_index(inplace=True)\n",
    "unique_floors.rename(columns={'index':'unique_floor','floors':'counts'}, inplace=True)\n",
    "unique_floors"
   ]
  },
  {
   "cell_type": "code",
   "execution_count": 77,
   "id": "3d8b750d",
   "metadata": {},
   "outputs": [
    {
     "data": {
      "image/png": "[encoded data removed]",
      "text/plain": [
       "<Figure size 432x288 with 1 Axes>"
      ]
     },
     "metadata": {
      "needs_background": "light"
     },
     "output_type": "display_data"
    }
   ],
   "source": [
    "sns.boxplot(x='waterfront', y='price', data=df);"
   ]
  },
  {
   "cell_type": "code",
   "execution_count": 82,
   "id": "4b7801db",
   "metadata": {},
   "outputs": [
    {
     "data": {
      "image/png": "[encoded data removed]",
      "text/plain": [
       "<Figure size 432x288 with 1 Axes>"
      ]
     },
     "metadata": {
      "needs_background": "light"
     },
     "output_type": "display_data"
    }
   ],
   "source": [
    "sns.regplot(x='sqft_above', y='price', data=df, line_kws={'color':'red'})\n",
    "plt.ylim(0,);"
   ]
  },
  {
   "cell_type": "code",
   "execution_count": 83,
   "id": "f97a0393",
   "metadata": {},
   "outputs": [
    {
     "data": {
      "text/plain": [
       "zipcode         -0.053203\n",
       "long             0.021626\n",
       "condition        0.036362\n",
       "yr_built         0.054012\n",
       "sqft_lot15       0.082447\n",
       "sqft_lot         0.089661\n",
       "yr_renovated     0.126434\n",
       "floors           0.256794\n",
       "waterfront       0.266369\n",
       "lat              0.307003\n",
       "bedrooms         0.308797\n",
       "sqft_basement    0.323816\n",
       "view             0.397293\n",
       "bathrooms        0.525738\n",
       "sqft_living15    0.585379\n",
       "sqft_above       0.605567\n",
       "grade            0.667434\n",
       "sqft_living      0.702035\n",
       "price            1.000000\n",
       "Name: price, dtype: float64"
      ]
     },
     "execution_count": 83,
     "metadata": {},
     "output_type": "execute_result"
    }
   ],
   "source": [
    "df.corr()['price'].sort_values()"
   ]
  },
  {
   "cell_type": "markdown",
   "id": "bc64910d",
   "metadata": {},
   "source": [
    "## Module 4: Model Development"
   ]
  },
  {
   "cell_type": "markdown",
   "id": "cd33c7f2",
   "metadata": {},
   "source": [
    "**경도(`long`)**를 사용하여 **선형 회귀 모델**을 적합(fit)하고 **R² 점수**를 계산하세요.  \n",
    "\n",
    "✅ **해야 할 작업:**  \n",
    "1. **독립 변수(X)**: `long`  \n",
    "2. **종속 변수(Y)**: `price`  \n",
    "3. **선형 회귀 모델 훈련**  \n",
    "4. **테스트 데이터에서 R² 점수 출력**  \n",
    "\n",
    "📌 **결과 해석:**  \n",
    "- R² 값이 1에 가까울수록 `long`이 `price`를 잘 예측하는 것!  \n",
    "- 값이 낮다면 `long`은 `price`와 상관관계가 적음 🚀"
   ]
  },
  {
   "cell_type": "code",
   "execution_count": 85,
   "id": "819b480a",
   "metadata": {},
   "outputs": [
    {
     "data": {
      "text/plain": [
       "0.00046769430149007363"
      ]
     },
     "execution_count": 85,
     "metadata": {},
     "output_type": "execute_result"
    }
   ],
   "source": [
    "X = df[['long']]\n",
    "Y = df['price']\n",
    "lm = LinearRegression()\n",
    "lm.fit(X, Y)\n",
    "lm.score(X, Y)"
   ]
  },
  {
   "cell_type": "markdown",
   "id": "18becf3f",
   "metadata": {},
   "source": [
    "✅ **선형 회귀 모델을 적합(fit)**  \n",
    "- **독립 변수(X)**: `sqft_living` (거주 면적)  \n",
    "- **종속 변수(Y)**: `price` (주택 가격)  \n",
    "\n",
    "✅ **R² 점수 계산 및 출력**  \n"
   ]
  },
  {
   "cell_type": "code",
   "execution_count": 86,
   "id": "7dcb34d1",
   "metadata": {},
   "outputs": [
    {
     "data": {
      "text/plain": [
       "0.4928532179037931"
      ]
     },
     "execution_count": 86,
     "metadata": {},
     "output_type": "execute_result"
    }
   ],
   "source": [
    "X = df[['sqft_living']]\n",
    "Y = df['price']\n",
    "lr = LinearRegression()\n",
    "lr.fit(X, Y)\n",
    "lr.score(X, Y)"
   ]
  },
  {
   "cell_type": "markdown",
   "id": "f78f2483",
   "metadata": {},
   "source": [
    "리스트에 있는 특성을 사용하여 `price`를 예측하는 선형 회귀 모델을 적합하세요."
   ]
  },
  {
   "cell_type": "code",
   "execution_count": 89,
   "id": "53580598",
   "metadata": {},
   "outputs": [],
   "source": [
    "features =[\"floors\", \"waterfront\",\"lat\" ,\"bedrooms\" ,\"sqft_basement\" ,\"view\" ,\"bathrooms\",\"sqft_living15\",\"sqft_above\",\"grade\",\"sqft_living\"]     "
   ]
  },
  {
   "cell_type": "markdown",
   "id": "e61aeffa",
   "metadata": {},
   "source": [
    "그런 다음 R² 값을 계산하세요.  \n",
    "코드와 R² 값을 스크린샷으로 저장한 후 최종 프로젝트에 제출하세요."
   ]
  },
  {
   "cell_type": "code",
   "execution_count": 90,
   "id": "c979f3e9",
   "metadata": {},
   "outputs": [
    {
     "data": {
      "text/plain": [
       "0.6576372970735713"
      ]
     },
     "execution_count": 90,
     "metadata": {},
     "output_type": "execute_result"
    }
   ],
   "source": [
    "Z = df[features]\n",
    "Y = df['price']\n",
    "lr = LinearRegression()\n",
    "lr.fit(Z, Y)\n",
    "lr.score(Z, Y)"
   ]
  },
  {
   "cell_type": "markdown",
   "id": "d667a142",
   "metadata": {},
   "source": [
    "다음과 같이 튜플 목록을 생성하세요:  \n",
    "\n",
    "\n",
    "\n",
    "✅ **설명:**  \n",
    "- `'scale'`: `StandardScaler()` - 데이터 표준화  \n",
    "- `'polynomial'`: `PolynomialFeatures(include_bias=False)` - 다항 특성 변환  \n",
    "- `'model'`: `LinearRegression()` - 선형 회귀 모델  \n",
    " "
   ]
  },
  {
   "cell_type": "code",
   "execution_count": 91,
   "id": "906ec2b9",
   "metadata": {},
   "outputs": [],
   "source": [
    "Input=[('scale',StandardScaler()),\n",
    "       ('polynomial', PolynomialFeatures(include_bias=False)),\n",
    "       ('model',LinearRegression())]"
   ]
  },
  {
   "cell_type": "markdown",
   "id": "e9684c3e",
   "metadata": {},
   "source": [
    "✅ **해야 할 작업:**  \n",
    "1. **튜플 리스트**를 사용하여 **파이프라인(Pipeline) 객체** 생성  \n",
    "2. `features` 리스트의 특성을 사용하여 `price` 예측 모델 학습  \n",
    "3. **R² 값 계산 및 출력**  \n",
    "4. **코드 및 출력 결과 스크린샷 제출**  \n"
   ]
  },
  {
   "cell_type": "code",
   "execution_count": 92,
   "id": "bb6ea5f0",
   "metadata": {},
   "outputs": [
    {
     "data": {
      "text/plain": [
       "0.7508598253545078"
      ]
     },
     "execution_count": 92,
     "metadata": {},
     "output_type": "execute_result"
    }
   ],
   "source": [
    "pipe = Pipeline(Input)\n",
    "\n",
    "X = df[features]\n",
    "Y = df['price']\n",
    "\n",
    "pipe.fit(X, Y)\n",
    "\n",
    "r2 = pipe.score(X, Y)\n",
    "\n",
    "r2"
   ]
  },
  {
   "cell_type": "markdown",
   "id": "11aeffcc",
   "metadata": {},
   "source": [
    "## Module 5: Model Evaluation and Refinement"
   ]
  },
  {
   "cell_type": "code",
   "execution_count": 93,
   "id": "6880d642",
   "metadata": {},
   "outputs": [
    {
     "name": "stdout",
     "output_type": "stream",
     "text": [
      "done\n"
     ]
    }
   ],
   "source": [
    "from sklearn.model_selection import cross_val_score\n",
    "from sklearn.model_selection import train_test_split\n",
    "print(\"done\")"
   ]
  },
  {
   "cell_type": "markdown",
   "id": "6ac5520e",
   "metadata": {},
   "source": [
    "우리는 데이터를 **훈련 세트**와 **테스트 세트**로 분할할 것입니다."
   ]
  },
  {
   "cell_type": "code",
   "execution_count": 94,
   "id": "1c17cc56",
   "metadata": {},
   "outputs": [
    {
     "name": "stdout",
     "output_type": "stream",
     "text": [
      "number of test samples: 3242\n",
      "number of training samples: 18371\n"
     ]
    }
   ],
   "source": [
    "features =[\"floors\", \"waterfront\",\"lat\" ,\"bedrooms\" ,\"sqft_basement\" ,\"view\" ,\"bathrooms\",\"sqft_living15\",\"sqft_above\",\"grade\",\"sqft_living\"]    \n",
    "X = df[features]\n",
    "Y = df['price']\n",
    "\n",
    "x_train, x_test, y_train, y_test = train_test_split(X, Y, test_size=0.15, random_state=1)\n",
    "\n",
    "\n",
    "print(\"number of test samples:\", x_test.shape[0])\n",
    "print(\"number of training samples:\",x_train.shape[0])"
   ]
  },
  {
   "cell_type": "markdown",
   "id": "4255cea0",
   "metadata": {},
   "source": [
    "---\n",
    "\n",
    "✅ **해야 할 작업:**  \n",
    "1. **Ridge 회귀 모델 생성** (`alpha=0.1` 설정)  \n",
    "2. **훈련 데이터에 적합(fit)**  \n",
    "3. **테스트 데이터에서 R² 값 계산 및 출력**  \n",
    "4. **코드 및 출력 결과 스크린샷 제출**  \n"
   ]
  },
  {
   "cell_type": "code",
   "execution_count": 97,
   "id": "a47dee37",
   "metadata": {},
   "outputs": [
    {
     "data": {
      "text/plain": [
       "0.6459152254891418"
      ]
     },
     "execution_count": 97,
     "metadata": {},
     "output_type": "execute_result"
    }
   ],
   "source": [
    "from sklearn.linear_model import Ridge\n",
    "\n",
    "X_train, X_test, Y_train, Y_test = train_test_split(X, Y, test_size=0.2, random_state=1)\n",
    "\n",
    "ridge_model = Ridge(alpha=0.1)\n",
    "\n",
    "ridge_model.fit(X_train, Y_train)\n",
    "\n",
    "r2 = ridge_model.score(X_test, Y_test)\n",
    "\n",
    "r2"
   ]
  },
  {
   "cell_type": "markdown",
   "id": "98e15972",
   "metadata": {},
   "source": [
    "---\n",
    "\n",
    "✅ **해야 할 작업:**  \n",
    "1. **2차 다항 변환(Polynomial Transformation) 적용**  \n",
    "   - 훈련 데이터 & 테스트 데이터에 대해 `degree=2` 설정  \n",
    "2. **Ridge 회귀 모델 생성 및 학습** (`alpha=0.1`)  \n",
    "3. **테스트 데이터에서 R² 점수 계산 및 출력**  \n",
    "4. **코드 및 출력 결과 스크린샷 제출**  \n"
   ]
  },
  {
   "cell_type": "code",
   "execution_count": 98,
   "id": "0c3f96a1",
   "metadata": {},
   "outputs": [
    {
     "data": {
      "text/plain": [
       "0.754363374075094"
      ]
     },
     "execution_count": 98,
     "metadata": {},
     "output_type": "execute_result"
    }
   ],
   "source": [
    "pr = PolynomialFeatures(degree=2, include_bias=False)\n",
    "X_train_pr = pr.fit_transform(X_train)\n",
    "X_test_pr = pr.transform(X_test)\n",
    "\n",
    "ridge_model = Ridge(alpha=0.1)\n",
    "\n",
    "ridge_model.fit(X_train_pr, Y_train)\n",
    "\n",
    "r2 = ridge_model.score(X_test_pr, Y_test)\n",
    "\n",
    "r2"
   ]
  },
  {
   "cell_type": "code",
   "execution_count": null,
   "id": "ce3736bd",
   "metadata": {},
   "outputs": [],
   "source": []
  }
 ],
 "metadata": {
  "kernelspec": {
   "display_name": "Python 3 (ipykernel)",
   "language": "python",
   "name": "python3"
  },
  "language_info": {
   "codemirror_mode": {
    "name": "ipython",
    "version": 3
   },
   "file_extension": ".py",
   "mimetype": "text/x-python",
   "name": "python",
   "nbconvert_exporter": "python",
   "pygments_lexer": "ipython3",
   "version": "3.9.12"
  }
 },
 "nbformat": 4,
 "nbformat_minor": 5
}
