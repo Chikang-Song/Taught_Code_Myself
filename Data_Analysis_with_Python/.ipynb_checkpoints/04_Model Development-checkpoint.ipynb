{
 "cells": [
  {
   "cell_type": "markdown",
   "id": "e4021d69",
   "metadata": {},
   "source": [
    "### 📊 강의 전체 핵심 요약: 데이터 모델링과 평가의 A부터 Z까지\n",
    "\n",
    "이 강의는 데이터 모델링의 핵심 개념부터 평가 방법까지 폭넓게 다룹니다. 아래는 주요 개념과 관련된 간단한 설명 및 예시를 포함한 요약입니다.\n",
    "\n",
    "---\n",
    "\n",
    "#### 1️⃣ **선형 회귀 (Linear Regression)**  \n",
    "**핵심 내용**: 하나의 독립 변수를 사용하여 종속 변수의 값을 예측하는 방법입니다.  \n",
    "- **수식**: $ y = b_0 + b_1x $\n",
    "- **예시**: 자동차의 고속도로 연비(독립 변수)로 가격(종속 변수)을 예측.  \n",
    "  예: 연비가 20이라면 가격은 $22,000."
   ]
  },
  {
   "cell_type": "markdown",
   "id": "e286a8d0",
   "metadata": {},
   "source": [
    "#### 2️⃣ **다중 선형 회귀 (Multiple Linear Regression)**  \n",
    "**핵심 내용**: 여러 독립 변수를 사용하여 하나의 종속 변수를 설명하거나 예측합니다.  \n",
    "- **수식**: $y = b_0 + b_1x_1 + b_2x_2 + \\dots + b_nx_n$\n",
    "- **예시**: 자동차의 연비, 연식, 제조사 등을 사용하여 자동차 가격을 예측.  \n",
    "  예: \\( \\text{Price} = 50,000 - 2,000(\\text{Age}) + 3,000(\\text{Fuel Efficiency}) \\)."
   ]
  },
  {
   "cell_type": "markdown",
   "id": "e7057fb4",
   "metadata": {},
   "source": [
    "----\n",
    "#### 3️⃣ **잔차 플롯과 모델 평가 (Residual Plots & Model Evaluation)**  \n",
    "**핵심 내용**:  \n",
    "- 잔차(residual)가 0을 중심으로 고르게 분포한다면 모델이 적절함.  \n",
    "- 잔차 플롯에서 패턴이 보이면 비선형 모델이 더 적합할 수 있음.  \n",
    "- **예시**: 잔차가 곡선 형태로 나타날 경우, 다항 회귀(Polynomial Regression) 시도.  "
   ]
  },
  {
   "cell_type": "markdown",
   "id": "1c452100",
   "metadata": {},
   "source": [
    "----\n",
    "#### 4️⃣ **다항 회귀 (Polynomial Regression)**  \n",
    "**핵심 내용**: 선형 모델이 데이터에 적합하지 않을 경우 데이터를 다항식으로 변환하여 모델링.  \n",
    "- **수식**: $ y = b_0 + b_1x + b_2x^2 + \\dots $\n",
    "- **예시**:  \n",
    "  - 2차: $ y = -1.5x^2 + 5x + 3 $\n",
    "  - 3차: $ y = 2x^3 - 4x^2 + 7x + 1 $  \n",
    "- Python 활용: `sklearn.preprocessing.PolynomialFeatures`로 다항식 생성.  "
   ]
  },
  {
   "cell_type": "markdown",
   "id": "92649491",
   "metadata": {},
   "source": [
    "----\n",
    "#### 5️⃣ **평가 지표 (Evaluation Metrics)**  \n",
    "- **평균 제곱 오차 (MSE)**: 예측값과 실제값의 차이를 제곱한 평균값.  \n",
    "  - Python: `mean_squared_error(actual, predicted)`  \n",
    "  - MSE가 작을수록 모델의 예측 정확도가 높음.  \n",
    "- **결정 계수 (R²)**: 독립 변수가 종속 변수의 변동을 얼마나 설명하는지.  \n",
    "  - 값 범위: 0~1 (1에 가까울수록 적합).  \n",
    "  - Python: `model.score(X, y)`"
   ]
  },
  {
   "cell_type": "markdown",
   "id": "09903a4d",
   "metadata": {},
   "source": [
    "\n",
    "\n",
    "---\n",
    "\n",
    "#### 6️⃣ **데이터 파이프라인 (Data Pipelines)**  \n",
    "**핵심 내용**: 데이터 변환 및 예측 과정을 간소화하기 위한 일련의 처리 흐름.  \n",
    "- **예시**:  \n",
    "  - 데이터 정규화 → 다항 변환 → 예측 순으로 파이프라인 작성.  \n",
    "  - Python: `sklearn.pipeline.Pipeline`.  \n",
    "- **장점**: 복잡한 과정을 하나의 객체로 처리 가능.\n",
    "\n"
   ]
  },
  {
   "cell_type": "markdown",
   "id": "75ce60cf",
   "metadata": {},
   "source": [
    "\n",
    "---\n",
    "\n",
    "#### 7️⃣ **시각화를 활용한 모델 평가 (Visualization)**  \n",
    "**핵심 내용**:  \n",
    "- **회귀 플롯**: 독립 변수와 종속 변수 간 관계 시각화.  \n",
    "- **분포 플롯**: 예측값과 실제값의 분포 비교.  \n",
    "- **잔차 플롯**: 잔차의 분포와 패턴 확인.  \n",
    "- Python: Seaborn의 `regplot`, `residplot`, `distplot` 활용.  \n",
    "- **예시**: 가격 예측 모델에서 특정 가격 범위(예: $40,000~$50,000)에서 큰 오차가 발생하면 추가 데이터가 필요하거나 모델 수정 필요.\n",
    "\n"
   ]
  },
  {
   "cell_type": "markdown",
   "id": "21e94edc",
   "metadata": {},
   "source": [
    "----\n",
    "#### 8️⃣ **의사결정 및 예측 (Prediction & Decision Making)**  \n",
    "**핵심 내용**:  \n",
    "- 모델이 예측한 값이 현실적인지 판단.  \n",
    "- Python의 `predict` 메서드로 예측 수행.  \n",
    "- 예측 결과가 너무 크거나 작다면 모델 재검토.\n",
    "\n",
    "\n"
   ]
  },
  {
   "cell_type": "code",
   "execution_count": null,
   "id": "0fd50158",
   "metadata": {},
   "outputs": [],
   "source": []
  }
 ],
 "metadata": {
  "kernelspec": {
   "display_name": "Python 3 (ipykernel)",
   "language": "python",
   "name": "python3"
  },
  "language_info": {
   "codemirror_mode": {
    "name": "ipython",
    "version": 3
   },
   "file_extension": ".py",
   "mimetype": "text/x-python",
   "name": "python",
   "nbconvert_exporter": "python",
   "pygments_lexer": "ipython3",
   "version": "3.9.12"
  }
 },
 "nbformat": 4,
 "nbformat_minor": 5
}
